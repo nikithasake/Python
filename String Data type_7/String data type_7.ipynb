{
 "cells": [
  {
   "cell_type": "markdown",
   "metadata": {},
   "source": [
    "# Programs"
   ]
  },
  {
   "cell_type": "markdown",
   "metadata": {},
   "source": [
    "### Example 4\n",
    "Q4)**Wap to print characters at odd position and even position for the given string**<br>\n",
    "**input**:Nikitha<br>\n",
    "**output**:even==Nkta,odd===iih"
   ]
  },
  {
   "cell_type": "code",
   "execution_count": 2,
   "metadata": {},
   "outputs": [
    {
     "name": "stdout",
     "output_type": "stream",
     "text": [
      "Enter a string:Nikitha\n",
      "Characters at even position: Nkta\n",
      "Characters at even position: iih\n"
     ]
    }
   ],
   "source": [
    "# wap print characters at odd position and even position for the given string\n",
    "s=input(\"Enter a string:\")\n",
    "print(\"Characters at even position:\",s[::2])\n",
    "print(\"Characters at even position:\",s[1::2])"
   ]
  },
  {
   "cell_type": "code",
   "execution_count": 7,
   "metadata": {},
   "outputs": [
    {
     "name": "stdout",
     "output_type": "stream",
     "text": [
      "Enter a string:Nikitha\n",
      "Even characters:\n",
      "N,k,t,a,\n",
      "odd characters:\n",
      "i,i,h,\n"
     ]
    }
   ],
   "source": [
    "# wap print characters at odd position and even position for the given string\n",
    "s=input(\"Enter a string:\")\n",
    "i=0\n",
    "print(\"Even characters:\")\n",
    "while i<len(s):\n",
    "    print(s[i],end=\",\")\n",
    "    i=i+2\n",
    "print()\n",
    "i=1\n",
    "print(\"odd characters:\")\n",
    "while i<len(s):\n",
    "    print(s[i],end=\",\")\n",
    "    i=i+2\n",
    "print()"
   ]
  },
  {
   "cell_type": "code",
   "execution_count": 10,
   "metadata": {},
   "outputs": [
    {
     "name": "stdout",
     "output_type": "stream",
     "text": [
      "Enter a string:Nikitha\n",
      "Even characters:\n",
      "N,k,t,a,\n",
      "odd characters:\n",
      "i,i,h,"
     ]
    }
   ],
   "source": [
    "#using for loop\n",
    "s=input(\"Enter a string:\")\n",
    "print(\"Even characters:\")\n",
    "for x in s[::2]:\n",
    "    print(x,end=\",\")\n",
    "print()\n",
    "print(\"odd characters:\")\n",
    "for x in s[1::2]:\n",
    "    print(x,end=\",\")"
   ]
  },
  {
   "cell_type": "markdown",
   "metadata": {},
   "source": [
    "### Example 5\n",
    "Q5)**Wap to to sort the characters of the string and first alphabet symbols followed by numeric values **<br>\n",
    "**input**:B4A1D3<br>\n",
    "**output**:ABD134"
   ]
  },
  {
   "cell_type": "code",
   "execution_count": 9,
   "metadata": {},
   "outputs": [
    {
     "name": "stdout",
     "output_type": "stream",
     "text": [
      "Enter string:B4A1D3\n",
      "ABD134\n"
     ]
    }
   ],
   "source": [
    "#Wap to to sort the characters of the string and first alphabet symbols followed by numeric values.\n",
    "s=input(\"Enter string:\")\n",
    "s1=s2=output=\"\"\n",
    "for x in s:\n",
    "    if x.isalpha():\n",
    "        s1=s1+x\n",
    "    else:\n",
    "        s2=s2+x\n",
    "for x1 in sorted(s1):\n",
    "    output=output+x1\n",
    "for x1 in sorted(s2):\n",
    "    output=output+x1\n",
    "print(output)"
   ]
  },
  {
   "cell_type": "code",
   "execution_count": 12,
   "metadata": {},
   "outputs": [
    {
     "name": "stdout",
     "output_type": "stream",
     "text": [
      "Enter string:B4@A1D3\n",
      "ABD134@\n"
     ]
    }
   ],
   "source": [
    "#\n",
    "s=input(\"Enter string:\")\n",
    "s1=s2=output=\"\"\n",
    "for x in s:\n",
    "    if x.isalpha():\n",
    "        s1=s1+x\n",
    "    else:\n",
    "        s2=s2+x\n",
    "for x1 in sorted(s1):\n",
    "    output=output+x1\n",
    "for x1 in sorted(s2):\n",
    "    output=output+x1\n",
    "print(output)"
   ]
  },
  {
   "cell_type": "code",
   "execution_count": 7,
   "metadata": {},
   "outputs": [
    {
     "name": "stdout",
     "output_type": "stream",
     "text": [
      "Enter string:BA41D3\n",
      "ABD134\n"
     ]
    }
   ],
   "source": [
    "#special character ignore...it consider only alphabets and digit\n",
    "s=input(\"Enter string:\")\n",
    "s1=s2=output=\"\"\n",
    "for x in s:\n",
    "    if x.isalpha():\n",
    "        s1=s1+x\n",
    "    elif x.isdigit():\n",
    "        s2=s2+x\n",
    "for x1 in sorted(s1):\n",
    "    output=output+x1\n",
    "for x1 in sorted(s2):\n",
    "    output=output+x1\n",
    "print(output)"
   ]
  },
  {
   "cell_type": "markdown",
   "metadata": {},
   "source": [
    "### Example 6\n",
    "Q6)Alphabets followed by digits only<br>\n",
    "**input**:a4b3c2<br>\n",
    "**output**:aaaabbbcc"
   ]
  },
  {
   "cell_type": "code",
   "execution_count": 18,
   "metadata": {},
   "outputs": [
    {
     "name": "stdout",
     "output_type": "stream",
     "text": [
      "Enter string:a4b3c2\n",
      "aaaabbbcc\n"
     ]
    }
   ],
   "source": [
    "s=input(\"Enter string:\")\n",
    "output=\"\"\n",
    "for x in s:\n",
    "    if x.isalpha():\n",
    "        output=output+x\n",
    "        previous=x\n",
    "    else:\n",
    "        output=output+previous*(int(x)-1)\n",
    "print(output)"
   ]
  },
  {
   "cell_type": "code",
   "execution_count": 19,
   "metadata": {},
   "outputs": [
    {
     "name": "stdout",
     "output_type": "stream",
     "text": [
      "Enter string:a0\n",
      "a\n"
     ]
    }
   ],
   "source": [
    "s=input(\"Enter string:\")\n",
    "output=\"\"\n",
    "for x in s:\n",
    "    if x.isalpha():\n",
    "        output=output+x\n",
    "        previous=x\n",
    "    else:\n",
    "        output=output+previous*(int(x)-1)#a*-1==>ntg # output=x+0 #output=x\n",
    "print(output)"
   ]
  },
  {
   "cell_type": "markdown",
   "metadata": {},
   "source": [
    "### Example 7\n",
    "Q7)\n",
    "**input**:a4k3b2<br>\n",
    "**output**:aeknbd"
   ]
  },
  {
   "cell_type": "markdown",
   "metadata": {},
   "source": [
    "- chr(unicode)===>The corresponding character\n",
    "- ord(unicode)===>The corresponding unicode value. "
   ]
  },
  {
   "cell_type": "code",
   "execution_count": 28,
   "metadata": {},
   "outputs": [
    {
     "name": "stdout",
     "output_type": "stream",
     "text": [
      "Enter string:a4k3b2\n",
      "aeknbd\n"
     ]
    }
   ],
   "source": [
    "s=input(\"Enter string:\")\n",
    "output=\"\"\n",
    "for x in s:\n",
    "    if x.isalpha():\n",
    "        output=output+x\n",
    "        previous=x\n",
    "    else:\n",
    "        output=output+chr(ord(previous)+int(x))#97+3==101==101 corresponding char is e\n",
    "print(output)"
   ]
  },
  {
   "cell_type": "code",
   "execution_count": 29,
   "metadata": {},
   "outputs": [
    {
     "name": "stdout",
     "output_type": "stream",
     "text": [
      "Enter string:f134\n",
      "fgij\n"
     ]
    }
   ],
   "source": [
    "s=input(\"Enter string:\")\n",
    "output=\"\"\n",
    "for x in s:\n",
    "    if x.isalpha():\n",
    "        output=output+x\n",
    "        previous=x\n",
    "    else:\n",
    "        output=output+chr(ord(previous)+int(x))\n",
    "print(output)"
   ]
  },
  {
   "cell_type": "markdown",
   "metadata": {},
   "source": [
    "### Example 8\n",
    "Q8)**Wap to merge characters of 2 strings into a single string by taking characters alternatively.**<br>\n",
    "**input**:RAVI<br>\n",
    "          TEJA<br>\n",
    "**output**:RTAEVJIA"
   ]
  },
  {
   "cell_type": "code",
   "execution_count": 3,
   "metadata": {},
   "outputs": [
    {
     "name": "stdout",
     "output_type": "stream",
     "text": [
      "Enter first string:RAVI\n",
      "Enter second string:TEJA\n",
      "RTAEVJIA\n"
     ]
    }
   ],
   "source": [
    "s1=input(\"Enter first string:\")\n",
    "s2=input(\"Enter second string:\")\n",
    "output=\"\"\n",
    "i=j=0\n",
    "while i<len(s1) or j<len(s2):#atleast one condition is true\n",
    "    output=output+s1[i]+s2[j]\n",
    "    i=i+1\n",
    "    j=j+1\n",
    "print(output)"
   ]
  },
  {
   "cell_type": "code",
   "execution_count": 4,
   "metadata": {},
   "outputs": [
    {
     "name": "stdout",
     "output_type": "stream",
     "text": [
      "Enter first string:Ravi\n",
      "Enter second string:Teja sai\n"
     ]
    },
    {
     "ename": "IndexError",
     "evalue": "string index out of range",
     "output_type": "error",
     "traceback": [
      "\u001b[0;31m---------------------------------------------------------------------------\u001b[0m",
      "\u001b[0;31mIndexError\u001b[0m                                Traceback (most recent call last)",
      "\u001b[0;32m<ipython-input-4-2492b8e090ef>\u001b[0m in \u001b[0;36m<module>\u001b[0;34m()\u001b[0m\n\u001b[1;32m      4\u001b[0m \u001b[0mi\u001b[0m\u001b[0;34m=\u001b[0m\u001b[0mj\u001b[0m\u001b[0;34m=\u001b[0m\u001b[0;36m0\u001b[0m\u001b[0;34m\u001b[0m\u001b[0;34m\u001b[0m\u001b[0m\n\u001b[1;32m      5\u001b[0m \u001b[0;32mwhile\u001b[0m \u001b[0mi\u001b[0m\u001b[0;34m<\u001b[0m\u001b[0mlen\u001b[0m\u001b[0;34m(\u001b[0m\u001b[0ms1\u001b[0m\u001b[0;34m)\u001b[0m \u001b[0;32mor\u001b[0m \u001b[0mj\u001b[0m\u001b[0;34m<\u001b[0m\u001b[0mlen\u001b[0m\u001b[0;34m(\u001b[0m\u001b[0ms2\u001b[0m\u001b[0;34m)\u001b[0m\u001b[0;34m:\u001b[0m\u001b[0;34m\u001b[0m\u001b[0;34m\u001b[0m\u001b[0m\n\u001b[0;32m----> 6\u001b[0;31m     \u001b[0moutput\u001b[0m\u001b[0;34m=\u001b[0m\u001b[0moutput\u001b[0m\u001b[0;34m+\u001b[0m\u001b[0ms1\u001b[0m\u001b[0;34m[\u001b[0m\u001b[0mi\u001b[0m\u001b[0;34m]\u001b[0m\u001b[0;34m+\u001b[0m\u001b[0ms2\u001b[0m\u001b[0;34m[\u001b[0m\u001b[0mj\u001b[0m\u001b[0;34m]\u001b[0m\u001b[0;34m\u001b[0m\u001b[0;34m\u001b[0m\u001b[0m\n\u001b[0m\u001b[1;32m      7\u001b[0m     \u001b[0mi\u001b[0m\u001b[0;34m=\u001b[0m\u001b[0mi\u001b[0m\u001b[0;34m+\u001b[0m\u001b[0;36m1\u001b[0m\u001b[0;34m\u001b[0m\u001b[0;34m\u001b[0m\u001b[0m\n\u001b[1;32m      8\u001b[0m     \u001b[0mj\u001b[0m\u001b[0;34m=\u001b[0m\u001b[0mj\u001b[0m\u001b[0;34m+\u001b[0m\u001b[0;36m1\u001b[0m\u001b[0;34m\u001b[0m\u001b[0;34m\u001b[0m\u001b[0m\n",
      "\u001b[0;31mIndexError\u001b[0m: string index out of range"
     ]
    }
   ],
   "source": [
    "#Two strings are different length then we will get error\n",
    "s1=input(\"Enter first string:\")\n",
    "s2=input(\"Enter second string:\")\n",
    "output=\"\"\n",
    "i=j=0\n",
    "while i<len(s1) or j<len(s2):\n",
    "    output=output+s1[i]+s2[j]\n",
    "    i=i+1\n",
    "    j=j+1\n",
    "print(output)"
   ]
  },
  {
   "cell_type": "code",
   "execution_count": 5,
   "metadata": {},
   "outputs": [
    {
     "name": "stdout",
     "output_type": "stream",
     "text": [
      "Enter first string:RAVI\n",
      "Enter second string:TEJA SAI\n",
      "RTAEVJIA SAI\n"
     ]
    }
   ],
   "source": [
    "#two strings having diiferent length\n",
    "s1=input(\"Enter first string:\")\n",
    "s2=input(\"Enter second string:\")\n",
    "output=\"\"\n",
    "i=j=0\n",
    "while i<len(s1) or j<len(s2):\n",
    "    if i<len(s1):\n",
    "        output=output+s1[i]\n",
    "        i=i+1\n",
    "    if j<len(s2):\n",
    "        output=output+s2[j]\n",
    "        j=j+1\n",
    "print(output)"
   ]
  },
  {
   "cell_type": "markdown",
   "metadata": {},
   "source": [
    "### Example 9\n",
    "Q9)**Write a program to remove duplicate characters from the given input string?.**<br>\n",
    "**input**:ABCDABBCDABBBCCCDDEEEF<br>\n",
    "**output**:ABCDEF"
   ]
  },
  {
   "cell_type": "code",
   "execution_count": 3,
   "metadata": {},
   "outputs": [
    {
     "name": "stdout",
     "output_type": "stream",
     "text": [
      "Enter string:ABCDABBCDABBBCCCDDEEEF\n",
      "ABCDEF\n"
     ]
    }
   ],
   "source": [
    "#\n",
    "s=input(\"Enter string:\")\n",
    "l=[]\n",
    "for x in s:\n",
    "    if x not in l:\n",
    "        l.append(x)\n",
    "output=\"\".join(l)\n",
    "print(output)"
   ]
  },
  {
   "cell_type": "code",
   "execution_count": 7,
   "metadata": {},
   "outputs": [
    {
     "name": "stdout",
     "output_type": "stream",
     "text": [
      "Enter string:ABDABDBBBDD\n",
      "DBA\n"
     ]
    }
   ],
   "source": [
    "#by using set we can remove duplicates but it returns the output not in order\n",
    "s=input(\"Enter string:\")\n",
    "print(\"\".join(set(s)))"
   ]
  },
  {
   "cell_type": "markdown",
   "metadata": {},
   "source": [
    "### Example 10\n",
    "Q10)**Write a program to find the number of occurrences of each character present in the\n",
    "given String?.**<br>\n",
    "**input**:ABCABCABBCDE<br>\n",
    "**output**:A-3,B-4,C-3,D-1,E-1"
   ]
  },
  {
   "cell_type": "code",
   "execution_count": 10,
   "metadata": {},
   "outputs": [
    {
     "name": "stdout",
     "output_type": "stream",
     "text": [
      "Enter string:ABCABCABBCDE\n",
      "A occurs 3 Times\n",
      "B occurs 4 Times\n",
      "C occurs 3 Times\n",
      "D occurs 1 Times\n",
      "E occurs 1 Times\n"
     ]
    }
   ],
   "source": [
    "#\n",
    "s=input(\"Enter string:\")\n",
    "d={}\n",
    "for x in s:\n",
    "    if x not in d.keys():\n",
    "        d[x]=1\n",
    "    else:\n",
    "        d[x]=d[x]+1\n",
    "for k,v in d.items():\n",
    "    print(\"{} occurs {} Times\".format(k,v))"
   ]
  },
  {
   "cell_type": "code",
   "execution_count": null,
   "metadata": {},
   "outputs": [],
   "source": []
  },
  {
   "cell_type": "code",
   "execution_count": null,
   "metadata": {},
   "outputs": [],
   "source": []
  }
 ],
 "metadata": {
  "kernelspec": {
   "display_name": "Python 3",
   "language": "python",
   "name": "python3"
  },
  "language_info": {
   "codemirror_mode": {
    "name": "ipython",
    "version": 3
   },
   "file_extension": ".py",
   "mimetype": "text/x-python",
   "name": "python",
   "nbconvert_exporter": "python",
   "pygments_lexer": "ipython3",
   "version": "3.6.9"
  }
 },
 "nbformat": 4,
 "nbformat_minor": 2
}
