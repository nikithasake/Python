{
 "cells": [
  {
   "cell_type": "markdown",
   "metadata": {},
   "source": [
    "# Changing case of a string:\n",
    "- We can change case of a string by using the following 4 methods\n",
    " 1. upper()====>To convert all characters to upper case\n",
    " 2. lower()====>To convert all characters to lower case\n",
    " 3. swapcase()===>converts all lower case characters to upper case and all upper case     characters to lower case.\n",
    " 4. title() ====>To convert all character to title case.i.e first character in every word should be upper case and all remaining characters should be in lower case.\n",
    " 5. capitalize() ===> Only first character will be converted to uppercase and all remaining characters can be converted to lower case."
   ]
  },
  {
   "cell_type": "code",
   "execution_count": 1,
   "metadata": {},
   "outputs": [
    {
     "name": "stdout",
     "output_type": "stream",
     "text": [
      "LEARNING PYTHON IS VERY EASY\n",
      "learning python is very easy\n",
      "LEARNING PYTHON IS VERY EASY\n",
      "Learning Python Is Very Easy\n",
      "Learning python is very easy\n",
      "LEARNINGPYTHONISVERYEASY\n"
     ]
    }
   ],
   "source": [
    "s=\"learning python is very easy\"\n",
    "print(s.upper())\n",
    "print(s.lower())\n",
    "print(s.swapcase())\n",
    "print(s.title())\n",
    "print(s.capitalize())"
   ]
  },
  {
   "cell_type": "code",
   "execution_count": 3,
   "metadata": {},
   "outputs": [
    {
     "name": "stdout",
     "output_type": "stream",
     "text": [
      "LEARNINGPYTHONISVERYEASY\n"
     ]
    }
   ],
   "source": [
    "s=\"learning python is very easy\"\n",
    "print(s.upper().replace(\" \",\"\"))"
   ]
  },
  {
   "cell_type": "code",
   "execution_count": 1,
   "metadata": {},
   "outputs": [
    {
     "name": "stdout",
     "output_type": "stream",
     "text": [
      "['LEARNING', 'PYTHON', 'IS', 'VERY', 'EASY']\n",
      "LEARNINGPYTHONISVERYEASY\n"
     ]
    }
   ],
   "source": [
    "#Another way\n",
    "s=\"learning python is very easy\"\n",
    "l=s.upper().split()\n",
    "print(l)\n",
    "s=\"\".join(l)\n",
    "print(s)"
   ]
  },
  {
   "cell_type": "code",
   "execution_count": 1,
   "metadata": {},
   "outputs": [
    {
     "name": "stdout",
     "output_type": "stream",
     "text": [
      "Enter user name:NIKKI\n",
      "Enter password:python\n",
      "Valid user\n"
     ]
    }
   ],
   "source": [
    "## username is in any form but pwd must be in same form(python)\n",
    "name=input(\"Enter user name:\")\n",
    "pwd=input(\"Enter password:\")\n",
    "if name.lower() == \"nikki\" and pwd == \"python\":\n",
    "    print(\"Valid user\")\n",
    "else:\n",
    "    print(\"Invalid user..pls try agin\")"
   ]
  },
  {
   "cell_type": "code",
   "execution_count": 17,
   "metadata": {},
   "outputs": [
    {
     "name": "stdout",
     "output_type": "stream",
     "text": [
      "Enter user name:nikki\n",
      "Enter password:PYTHON\n",
      "Invalid user..pls try agin\n"
     ]
    }
   ],
   "source": [
    "## username is in any form but pwd must be in same form(python)\n",
    "name=input(\"Enter user name:\")\n",
    "pwd=input(\"Enter password:\")\n",
    "if name.lower() == \"nikki\" and pwd == \"python\":\n",
    "    print(\"Valid user\")\n",
    "else:\n",
    "    print(\"Invalid user..pls try agin\")"
   ]
  },
  {
   "cell_type": "markdown",
   "metadata": {},
   "source": [
    "## Checking starting and ending part of the string:\n",
    "- python contains the following methods for this purpose.\n",
    " 1. s.startswith(substring)\n",
    " 2. s.endswith(substring)"
   ]
  },
  {
   "cell_type": "code",
   "execution_count": 7,
   "metadata": {},
   "outputs": [
    {
     "name": "stdout",
     "output_type": "stream",
     "text": [
      "True\n",
      "False\n",
      "True\n",
      "False\n"
     ]
    }
   ],
   "source": [
    "s=\"learning python is very easy\"\n",
    "print(s.startswith(\"learning\"))\n",
    "print(s.startswith(\"Learning\"))\n",
    "print(s.endswith(\"easy\"))\n",
    "print(s.endswith(\"is\"))"
   ]
  },
  {
   "cell_type": "markdown",
   "metadata": {},
   "source": [
    "### To check type of characters present in a string:\n",
    "1. isalnum()==>Returns True if all characters are alphanumeric(a to z,A to Z,0 to 9)\n",
    "2. isalpha()==>Returns True if all characters are only alphabet symbols(a to z,A to Z)\n",
    "3. isdigit()==>Returns True if all characters are digits only(0 to 9)\n",
    "4. islower()==>Returns True if all characters are lower case alphabet symbols.\n",
    "5. isupper()==>Returns True if all characters are upper case alphabet symbols\n",
    "6. istitle()==>Returns True if string is in title case\n",
    "7. isspace()==>Returns True if string contains only spaces"
   ]
  },
  {
   "cell_type": "code",
   "execution_count": 3,
   "metadata": {},
   "outputs": [
    {
     "name": "stdout",
     "output_type": "stream",
     "text": [
      "True\n",
      "True\n",
      "False\n",
      "True\n",
      "False\n",
      "True\n",
      "True\n",
      "False\n",
      "False\n",
      "False\n",
      "True\n"
     ]
    }
   ],
   "source": [
    "print(\"nikitha\".isalnum())\n",
    "print(\"nikitha12345\".isalnum())\n",
    "print(\"nikitha12345\".isalpha())\n",
    "print(\"nikitha\".isalpha())\n",
    "print(\"nikitha\".isdigit())\n",
    "print(\"01234510\".isalnum())\n",
    "print(\"nikitha\".islower())\n",
    "print(\"nikitha\".isupper())\n",
    "print(\"nikitha\".istitle())\n",
    "print(\"nikitha   \".isspace())\n",
    "print(\" \".isspace())"
   ]
  },
  {
   "cell_type": "code",
   "execution_count": 4,
   "metadata": {},
   "outputs": [
    {
     "name": "stdout",
     "output_type": "stream",
     "text": [
      "Enter any character:D\n",
      "Alpha Numeric character\n",
      "Alphabet character\n",
      "upper case character\n"
     ]
    }
   ],
   "source": [
    "#This code is for only single character as  giving input by enduser\n",
    "s=input(\"Enter any character:\")\n",
    "if s.isalnum():\n",
    "    print(\"Alpha Numeric character\")\n",
    "    if s.isalpha():\n",
    "        print(\"Alphabet character\")\n",
    "        if s.islower():\n",
    "            print(\"Lower case character\")\n",
    "        else:\n",
    "            print(\"upper case character\")\n",
    "    else:\n",
    "        print(\"It is digit\")\n",
    "elif s.space():\n",
    "    print(\"it is space character\")\n",
    "else:\n",
    "    print(\"It is special character\")"
   ]
  },
  {
   "cell_type": "code",
   "execution_count": 22,
   "metadata": {},
   "outputs": [
    {
     "name": "stdout",
     "output_type": "stream",
     "text": [
      "Enter any character:3\n",
      "Alpha Numeric character\n",
      "It is digit\n"
     ]
    }
   ],
   "source": [
    "#This code is for only single character as  giving input by enduser\n",
    "s=input(\"Enter any character:\")\n",
    "if s.isalnum():\n",
    "    print(\"Alpha Numeric character\")\n",
    "    if s.isalpha():\n",
    "        print(\"Alphabet character\")\n",
    "        if s.islower():\n",
    "            print(\"Lower case character\")\n",
    "        else:\n",
    "            print(\"upper case character\")\n",
    "    else:\n",
    "        print(\"It is digit\")\n",
    "elif s.isspace():\n",
    "    print(\"it is space character\")\n",
    "else:\n",
    "    print(\"It is special character\")"
   ]
  },
  {
   "cell_type": "code",
   "execution_count": 8,
   "metadata": {},
   "outputs": [
    {
     "name": "stdout",
     "output_type": "stream",
     "text": [
      "Enter any character: \n",
      "it is space character\n"
     ]
    }
   ],
   "source": [
    "#This code is for only single character as  giving input by enduser\n",
    "s=input(\"Enter any character:\")\n",
    "if s.isalnum():\n",
    "    print(\"Alpha Numeric character\")\n",
    "    if s.isalpha():\n",
    "        print(\"Alphabet character\")\n",
    "        if s.islower():\n",
    "            print(\"Lower case character\")\n",
    "        else:\n",
    "            print(\"upper case character\")\n",
    "    else:\n",
    "        print(\"It is digit\")\n",
    "elif s.isspace():\n",
    "    print(\"it is space character\")\n",
    "else:\n",
    "    print(\"It is special character\")"
   ]
  },
  {
   "cell_type": "code",
   "execution_count": 9,
   "metadata": {},
   "outputs": [
    {
     "name": "stdout",
     "output_type": "stream",
     "text": [
      "Enter any character:@\n",
      "It is special character\n"
     ]
    }
   ],
   "source": [
    "#This code is for only single character as  giving input by enduser\n",
    "s=input(\"Enter any character:\")\n",
    "if s.isalnum():\n",
    "    print(\"Alpha Numeric character\")\n",
    "    if s.isalpha():\n",
    "        print(\"Alphabet character\")\n",
    "        if s.islower():\n",
    "            print(\"Lower case character\")\n",
    "        else:\n",
    "            print(\"upper case character\")\n",
    "    else:\n",
    "        print(\"It is digit\")\n",
    "elif s.isspace():\n",
    "    print(\"it is space character\")\n",
    "else:\n",
    "    print(\"It is special character\")"
   ]
  },
  {
   "cell_type": "code",
   "execution_count": 10,
   "metadata": {},
   "outputs": [
    {
     "name": "stdout",
     "output_type": "stream",
     "text": [
      "Enter any character:nikitha123\n",
      "Alpha Numeric character\n",
      "It is digit\n"
     ]
    }
   ],
   "source": [
    "#This code is for only single character as  giving input by enduser\n",
    "s=input(\"Enter any character:\") \n",
    "if s.isalnum():\n",
    "    print(\"Alpha Numeric character\")\n",
    "    if s.isalpha():\n",
    "        print(\"Alphabet character\")\n",
    "        if s.islower():\n",
    "            print(\"Lower case character\")\n",
    "        else:\n",
    "            print(\"upper case character\")\n",
    "    else:\n",
    "        print(\"It is digit\")\n",
    "elif s.isspace():\n",
    "    print(\"it is space character\")\n",
    "else:\n",
    "    print(\"It is special character\")"
   ]
  },
  {
   "cell_type": "code",
   "execution_count": null,
   "metadata": {},
   "outputs": [],
   "source": []
  },
  {
   "cell_type": "code",
   "execution_count": null,
   "metadata": {},
   "outputs": [],
   "source": []
  }
 ],
 "metadata": {
  "kernelspec": {
   "display_name": "Python 3",
   "language": "python",
   "name": "python3"
  },
  "language_info": {
   "codemirror_mode": {
    "name": "ipython",
    "version": 3
   },
   "file_extension": ".py",
   "mimetype": "text/x-python",
   "name": "python",
   "nbconvert_exporter": "python",
   "pygments_lexer": "ipython3",
   "version": "3.6.9"
  }
 },
 "nbformat": 4,
 "nbformat_minor": 2
}
