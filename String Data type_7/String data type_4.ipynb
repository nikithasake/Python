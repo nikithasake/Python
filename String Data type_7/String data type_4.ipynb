{
 "cells": [
  {
   "cell_type": "markdown",
   "metadata": {},
   "source": [
    "## Replacing a string with another string\n",
    "- s.replace(oldstring.newstring)\n",
    "  - inside s,every occurence of old string will be replaced with newstring."
   ]
  },
  {
   "cell_type": "code",
   "execution_count": 1,
   "metadata": {},
   "outputs": [
    {
     "name": "stdout",
     "output_type": "stream",
     "text": [
      "Learning python is very difficult\n",
      "Learning python is very easy\n"
     ]
    }
   ],
   "source": [
    "s=\"Learning python is very difficult\"\n",
    "print(s)\n",
    "s1=s.replace(\"difficult\",\"easy\")\n",
    "print(s1)"
   ]
  },
  {
   "cell_type": "code",
   "execution_count": 4,
   "metadata": {},
   "outputs": [
    {
     "name": "stdout",
     "output_type": "stream",
     "text": [
      "ababababababab\n",
      "bbbbbbbbbbbbbb\n"
     ]
    }
   ],
   "source": [
    "#new reference variable\n",
    "s=\"ababababababab\"\n",
    "print(s)\n",
    "s1=s.replace(\"a\",\"b\")\n",
    "print(s1)"
   ]
  },
  {
   "cell_type": "code",
   "execution_count": 2,
   "metadata": {},
   "outputs": [
    {
     "name": "stdout",
     "output_type": "stream",
     "text": [
      "bbbbbbbbbb\n",
      "ababababab\n"
     ]
    }
   ],
   "source": [
    "#not using reference variable\n",
    "s=\"ababababab\"\n",
    "print(s.replace('a','b'))# afer printing this stmt it is eligible for GC bcse second objects doent has reference variable...bbbbbbbb doesnt has reference variable so after printing this print stmt we have original object\n",
    "print(s)"
   ]
  },
  {
   "cell_type": "code",
   "execution_count": 4,
   "metadata": {},
   "outputs": [
    {
     "name": "stdout",
     "output_type": "stream",
     "text": [
      "bbbbbbbbbb\n"
     ]
    }
   ],
   "source": [
    "#using same or exisiting reference variable\n",
    "s=\"ababababab\"\n",
    "s=s.replace('a','b')\n",
    "print(s)"
   ]
  },
  {
   "cell_type": "code",
   "execution_count": 4,
   "metadata": {},
   "outputs": [
    {
     "name": "stdout",
     "output_type": "stream",
     "text": [
      "python is difficult but java is easy\n"
     ]
    }
   ],
   "source": [
    "s1=\"python is easy but java is difficult\"\n",
    "s1=s1.replace(\"difficult\",\"a1\")\n",
    "s1=s1.replace(\"easy\",\"a2\")\n",
    "s1=s1.replace(\"a1\",\"easy\")\n",
    "s1=s1.replace(\"a2\",\"difficult\")\n",
    "print(s1)"
   ]
  },
  {
   "cell_type": "markdown",
   "metadata": {},
   "source": [
    "### (Imp) String objects are immutable then how we can change the content by using replace() method.\n",
    "- Once we create an object we cannot change the content.This non changeable nature is called immutability.If we are trying to change the content by using any method,then with those changes a new object will be created and new changes wont happened in existing object.\n",
    "- Hence with replace() method also a new object got created but exisiting object wont be changed."
   ]
  },
  {
   "cell_type": "code",
   "execution_count": 7,
   "metadata": {},
   "outputs": [
    {
     "name": "stdout",
     "output_type": "stream",
     "text": [
      "ababab Address is: 139647579413896\n",
      "bbbbbb Address is: 139647579566408\n"
     ]
    }
   ],
   "source": [
    "s=\"ababab\"\n",
    "s1=s.replace(\"a\",\"b\")\n",
    "print(s,\"Address is:\",id(s))\n",
    "print(s1,\"Address is:\",id(s1))"
   ]
  },
  {
   "cell_type": "code",
   "execution_count": 10,
   "metadata": {},
   "outputs": [
    {
     "name": "stdout",
     "output_type": "stream",
     "text": [
      "ababab 139647579412552\n",
      "bbbbbb 139647579567248\n"
     ]
    }
   ],
   "source": [
    "# In this example ..old object is eligible for Garbage Collection(s=\"ababab\") whenever we are calling replace method with same variable..bcse string is immutable so s(new variable) will create a new object and previous s is refering the new object and previous object is eligible for GC\n",
    "s=\"ababab\"\n",
    "print(s,id(s))\n",
    "s=s.replace(\"a\",\"b\")\n",
    "print(s,id(s))"
   ]
  },
  {
   "cell_type": "markdown",
   "metadata": {},
   "source": [
    "## Splitting of Strings:\n",
    "- We can split the given string according to specified seperator by using split() method.\n",
    "- l=split(seperator)\n",
    "  - The default seperator is space.The return type of split() method is List."
   ]
  },
  {
   "cell_type": "code",
   "execution_count": 14,
   "metadata": {},
   "outputs": [
    {
     "name": "stdout",
     "output_type": "stream",
     "text": [
      "<class 'list'>\n",
      "['Nikitha', 'Harish', 'Nimbu']\n",
      "Nikitha\n",
      "Harish\n",
      "Nimbu\n"
     ]
    }
   ],
   "source": [
    "s=\"Nikitha Harish Nimbu\"\n",
    "l=s.split()\n",
    "print(type(l))\n",
    "print(l)\n",
    "for x in l:\n",
    "    print(x)"
   ]
  },
  {
   "cell_type": "code",
   "execution_count": 1,
   "metadata": {},
   "outputs": [
    {
     "name": "stdout",
     "output_type": "stream",
     "text": [
      "<class 'list'>\n",
      "['5', '06', '2021']\n",
      "5\n",
      "06\n",
      "2021\n"
     ]
    }
   ],
   "source": [
    "s=\"5-06-2021\"\n",
    "l=s.split(\"-\")\n",
    "print(type(l))\n",
    "print(l)\n",
    "for x in l:\n",
    "    print(x)"
   ]
  },
  {
   "cell_type": "markdown",
   "metadata": {},
   "source": [
    "## Diff b/w Sep=' 'and s.split():\n",
    "- sep='' ==> is used in print stmt.\n",
    "- s.split() ==> is applicable for string concept."
   ]
  },
  {
   "cell_type": "markdown",
   "metadata": {},
   "source": [
    "## Diff b/w split() and rsplit()"
   ]
  },
  {
   "cell_type": "code",
   "execution_count": 3,
   "metadata": {},
   "outputs": [
    {
     "name": "stdout",
     "output_type": "stream",
     "text": [
      "Nikitha\n",
      "Neelima\n",
      "Harish\n",
      "Nani\n",
      "Nimbu\n"
     ]
    }
   ],
   "source": [
    "#Total string we will get \n",
    "# considered from L to R\n",
    "s=\"Nikitha Neelima Harish Nani Nimbu\"\n",
    "l=s.split()\n",
    "for x in l:\n",
    "    print(x)"
   ]
  },
  {
   "cell_type": "code",
   "execution_count": 7,
   "metadata": {},
   "outputs": [
    {
     "name": "stdout",
     "output_type": "stream",
     "text": [
      "Nikitha\n",
      "Neelima\n",
      "Harish\n",
      "Nani Nimbu\n"
     ]
    }
   ],
   "source": [
    "s=\"Nikitha Neelima Harish Nani Nimbu\"\n",
    "l=s.split(\" \",3)\n",
    "for x in l:\n",
    "    print(x)"
   ]
  },
  {
   "cell_type": "code",
   "execution_count": 8,
   "metadata": {},
   "outputs": [
    {
     "name": "stdout",
     "output_type": "stream",
     "text": [
      "Nikitha Neelima\n",
      "Harish\n",
      "Nani\n",
      "Nimbu\n"
     ]
    }
   ],
   "source": [
    "#reverse split\n",
    "#considered from R to L\n",
    "s=\"Nikitha Neelima Harish Nani Nimbu\"\n",
    "l=s.rsplit(\" \",3)\n",
    "for x in l:\n",
    "    print(x)"
   ]
  },
  {
   "cell_type": "code",
   "execution_count": 4,
   "metadata": {},
   "outputs": [
    {
     "name": "stdout",
     "output_type": "stream",
     "text": [
      "10\n",
      "20\n",
      "30\n",
      "40,50,60,70,80\n"
     ]
    }
   ],
   "source": [
    "m=\"10,20,30,40,50,60,70,80\"\n",
    "n=m.split(\",\",3)\n",
    "for x in n:\n",
    "    print(x)"
   ]
  },
  {
   "cell_type": "code",
   "execution_count": 5,
   "metadata": {},
   "outputs": [
    {
     "name": "stdout",
     "output_type": "stream",
     "text": [
      "10\n",
      "20\n",
      "30\n",
      "40\n",
      "50\n",
      "60\n",
      "70\n",
      "80\n"
     ]
    }
   ],
   "source": [
    "#default for rsplit is -1.\n",
    "m=\"10,20,30,40,50,60,70,80\"\n",
    "n=m.rsplit(\",\")\n",
    "for x in n:\n",
    "    print(x)"
   ]
  },
  {
   "cell_type": "code",
   "execution_count": 2,
   "metadata": {},
   "outputs": [
    {
     "name": "stdout",
     "output_type": "stream",
     "text": [
      "10,20,30,40,50\n",
      "60\n",
      "70\n",
      "80\n"
     ]
    }
   ],
   "source": [
    "m=\"10,20,30,40,50,60,70,80\"\n",
    "n=m.rsplit(\",\",3)\n",
    "for x in n:\n",
    "    print(x)"
   ]
  },
  {
   "cell_type": "markdown",
   "metadata": {},
   "source": [
    "## Joining of Strings:\n",
    "- We can join a group of strings(list or tuple) with respect to the given seperator.\n",
    "- s=seperator.join(group of strings)\n",
    "- default seperator is not there.\n",
    "- Mandatory we should give seperator."
   ]
  },
  {
   "cell_type": "code",
   "execution_count": 14,
   "metadata": {},
   "outputs": [
    {
     "name": "stdout",
     "output_type": "stream",
     "text": [
      "Nimbu-Nikki-Harish\n"
     ]
    }
   ],
   "source": [
    "l=[\"Nimbu\",\"Nikki\",\"Harish\"]\n",
    "s='-'.join(l)\n",
    "print(s)"
   ]
  },
  {
   "cell_type": "code",
   "execution_count": 16,
   "metadata": {},
   "outputs": [
    {
     "name": "stdout",
     "output_type": "stream",
     "text": [
      "Nimbu:Nikki:Harish\n"
     ]
    }
   ],
   "source": [
    "l=(\"Nimbu\",\"Nikki\",\"Harish\")\n",
    "s=':'.join(l)\n",
    "print(s)"
   ]
  },
  {
   "cell_type": "code",
   "execution_count": 17,
   "metadata": {},
   "outputs": [
    {
     "name": "stdout",
     "output_type": "stream",
     "text": [
      "Nimbu Nikki Harish\n"
     ]
    }
   ],
   "source": [
    "l=(\"Nimbu\",\"Nikki\",\"Harish\")\n",
    "s=' '.join(l)\n",
    "print(s)"
   ]
  },
  {
   "cell_type": "code",
   "execution_count": null,
   "metadata": {},
   "outputs": [],
   "source": []
  }
 ],
 "metadata": {
  "kernelspec": {
   "display_name": "Python 3",
   "language": "python",
   "name": "python3"
  },
  "language_info": {
   "codemirror_mode": {
    "name": "ipython",
    "version": 3
   },
   "file_extension": ".py",
   "mimetype": "text/x-python",
   "name": "python",
   "nbconvert_exporter": "python",
   "pygments_lexer": "ipython3",
   "version": "3.6.9"
  }
 },
 "nbformat": 4,
 "nbformat_minor": 2
}
