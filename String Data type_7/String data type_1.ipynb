{
 "cells": [
  {
   "cell_type": "markdown",
   "metadata": {},
   "source": [
    "# String Data type\n",
    "- The most commonly used object in any programming lang is string  only.\n",
    "- Any sequence of characters within either single quotes or double quotes is considered as string."
   ]
  },
  {
   "cell_type": "code",
   "execution_count": 2,
   "metadata": {},
   "outputs": [
    {
     "name": "stdout",
     "output_type": "stream",
     "text": [
      "<class 'str'>\n"
     ]
    }
   ],
   "source": [
    "s=\"harish\"\n",
    "print(type(s))"
   ]
  },
  {
   "cell_type": "markdown",
   "metadata": {},
   "source": [
    "## Note\n",
    "- In most of other languages like c,c++,java, a single character with in single quotes is treated as char type only.But in python we are not having char data type.Hence it is treated as string only."
   ]
  },
  {
   "cell_type": "code",
   "execution_count": 3,
   "metadata": {},
   "outputs": [
    {
     "name": "stdout",
     "output_type": "stream",
     "text": [
      "<class 'str'>\n"
     ]
    }
   ],
   "source": [
    "ch='a'\n",
    "print(type(ch))"
   ]
  },
  {
   "cell_type": "markdown",
   "metadata": {},
   "source": [
    "### How to define multi-line string literals(literals means value):\n",
    "- We can define multi-line string literals by using triple single or double quotes."
   ]
  },
  {
   "cell_type": "code",
   "execution_count": 4,
   "metadata": {},
   "outputs": [
    {
     "name": "stdout",
     "output_type": "stream",
     "text": [
      "Sake\n",
      "    Harish\n"
     ]
    }
   ],
   "source": [
    "s=\"\"\"Sake\n",
    "    Harish\"\"\"\n",
    "print(s)"
   ]
  },
  {
   "cell_type": "code",
   "execution_count": 8,
   "metadata": {},
   "outputs": [
    {
     "name": "stdout",
     "output_type": "stream",
     "text": [
      "This is 'single quote symbol\n"
     ]
    }
   ],
   "source": [
    "#single quote as a symbol\n",
    "s='This is \\'single quote symbol'#backslash\n",
    "print(s)"
   ]
  },
  {
   "cell_type": "code",
   "execution_count": 6,
   "metadata": {},
   "outputs": [
    {
     "name": "stdout",
     "output_type": "stream",
     "text": [
      "This is 'single quote symbol\n"
     ]
    }
   ],
   "source": [
    "s=\"This is 'single quote symbol\"\n",
    "print(s)"
   ]
  },
  {
   "cell_type": "code",
   "execution_count": 7,
   "metadata": {},
   "outputs": [
    {
     "name": "stdout",
     "output_type": "stream",
     "text": [
      "This is \"single quote symbol\n"
     ]
    }
   ],
   "source": [
    "#double as a symbol\n",
    "s=\"This is \\\"double quote symbol\"\n",
    "print(s)"
   ]
  },
  {
   "cell_type": "code",
   "execution_count": 9,
   "metadata": {},
   "outputs": [
    {
     "name": "stdout",
     "output_type": "stream",
     "text": [
      "This is \"double quote symbol\n"
     ]
    }
   ],
   "source": [
    "s='This is \"double quote symbol'\n",
    "print(s)"
   ]
  },
  {
   "cell_type": "code",
   "execution_count": 12,
   "metadata": {},
   "outputs": [
    {
     "name": "stdout",
     "output_type": "stream",
     "text": [
      "This are 'single and \"double quote symbols\n"
     ]
    }
   ],
   "source": [
    "#Both single and double quotes as symbol we can use triple quotes\n",
    "s=\"\"\"This are 'single and \"double quote symbols\"\"\"\n",
    "print(s)"
   ]
  },
  {
   "cell_type": "code",
   "execution_count": 11,
   "metadata": {},
   "outputs": [
    {
     "name": "stdout",
     "output_type": "stream",
     "text": [
      "This are 'single and \"double quote symbols\n"
     ]
    }
   ],
   "source": [
    "s=\"This are \\'single and \\\"double quote symbols\"\n",
    "print(s)"
   ]
  },
  {
   "cell_type": "markdown",
   "metadata": {},
   "source": [
    "## How to access characters of a string:\n",
    "- indexes always int values only\n",
    "- There are two ways are available to access string\n",
    "   1. By using index\n",
    "   2. By using slicing operator"
   ]
  },
  {
   "cell_type": "markdown",
   "metadata": {},
   "source": [
    "### 1)By using index\n",
    "- Python supports both +ve and -ve index\n",
    "- +ve means left to right(Forward direction)\n",
    "- -ve means right to left(Backward direction)"
   ]
  },
  {
   "cell_type": "code",
   "execution_count": 15,
   "metadata": {},
   "outputs": [
    {
     "name": "stdout",
     "output_type": "stream",
     "text": [
      "N\n",
      "a\n"
     ]
    },
    {
     "ename": "IndexError",
     "evalue": "string index out of range",
     "output_type": "error",
     "traceback": [
      "\u001b[0;31m---------------------------------------------------------------------------\u001b[0m",
      "\u001b[0;31mIndexError\u001b[0m                                Traceback (most recent call last)",
      "\u001b[0;32m<ipython-input-15-fb4045091a20>\u001b[0m in \u001b[0;36m<module>\u001b[0;34m()\u001b[0m\n\u001b[1;32m      2\u001b[0m \u001b[0mprint\u001b[0m\u001b[0;34m(\u001b[0m\u001b[0ms\u001b[0m\u001b[0;34m[\u001b[0m\u001b[0;36m0\u001b[0m\u001b[0;34m]\u001b[0m\u001b[0;34m)\u001b[0m\u001b[0;34m\u001b[0m\u001b[0;34m\u001b[0m\u001b[0m\n\u001b[1;32m      3\u001b[0m \u001b[0mprint\u001b[0m\u001b[0;34m(\u001b[0m\u001b[0ms\u001b[0m\u001b[0;34m[\u001b[0m\u001b[0;34m-\u001b[0m\u001b[0;36m1\u001b[0m\u001b[0;34m]\u001b[0m\u001b[0;34m)\u001b[0m\u001b[0;34m\u001b[0m\u001b[0;34m\u001b[0m\u001b[0m\n\u001b[0;32m----> 4\u001b[0;31m \u001b[0mprint\u001b[0m\u001b[0;34m(\u001b[0m\u001b[0ms\u001b[0m\u001b[0;34m[\u001b[0m\u001b[0;36m7\u001b[0m\u001b[0;34m]\u001b[0m\u001b[0;34m)\u001b[0m\u001b[0;34m\u001b[0m\u001b[0;34m\u001b[0m\u001b[0m\n\u001b[0m",
      "\u001b[0;31mIndexError\u001b[0m: string index out of range"
     ]
    }
   ],
   "source": [
    "s=\"Nikitha\"\n",
    "print(s[0])\n",
    "print(s[-1])\n",
    "print(s[7])"
   ]
  },
  {
   "cell_type": "markdown",
   "metadata": {},
   "source": [
    "###  Note:\n",
    "- If we are trying to access characters of a string with out of range index then we will get error indexError"
   ]
  },
  {
   "cell_type": "code",
   "execution_count": 11,
   "metadata": {},
   "outputs": [
    {
     "name": "stdout",
     "output_type": "stream",
     "text": [
      "Enter a string:\"Nimbu\"\n",
      "The character present at positive index:0 and at negative index:-5 is:N\n",
      "The character present at positive index:1 and at negative index:-4 is:i\n",
      "The character present at positive index:2 and at negative index:-3 is:m\n",
      "The character present at positive index:3 and at negative index:-2 is:b\n",
      "The character present at positive index:4 and at negative index:-1 is:u\n"
     ]
    }
   ],
   "source": [
    "#wap to accept some string from the keyboard and display its characters by index wise(both +ve and -ve index)\n",
    "n=eval(input(\"Enter a string:\"))\n",
    "i=0\n",
    "for x in n:\n",
    "    print(\"The character present at positive index:{} and at negative index:{} is:{}\".format(i,i-len(n),x))\n",
    "    i=i+1"
   ]
  },
  {
   "cell_type": "markdown",
   "metadata": {},
   "source": [
    "## 2)By using Slice operators\n",
    "**syntax:**\n",
    "s[beginindex:endindex:step]\n",
    "- beginindex:from where we have to consider substring or slice.\n",
    "- endindex:we have to terminate the substring or slice at endindex-1.\n",
    "- The default value for step is 1."
   ]
  },
  {
   "cell_type": "markdown",
   "metadata": {},
   "source": [
    "## Note:\n",
    "- If we are not specifying begin index then it will consider from beginning of the string.If we are not specifying end index then it will consider up to end of the string.The default value for step is 1."
   ]
  },
  {
   "cell_type": "code",
   "execution_count": 13,
   "metadata": {},
   "outputs": [
    {
     "name": "stdout",
     "output_type": "stream",
     "text": [
      "0123456\n",
      "0246\n",
      "0123456\n",
      "0123456789\n",
      "0123456789\n",
      "9876543210\n"
     ]
    }
   ],
   "source": [
    "s=\"0123456789\"\n",
    "print(s[0:7:1])\n",
    "print(s[0:7:2])\n",
    "print(s[0:7])\n",
    "print(s[0:])\n",
    "print(s[::])\n",
    "print(s[::-1])#left to right"
   ]
  },
  {
   "cell_type": "markdown",
   "metadata": {},
   "source": [
    "## Behaviour of slice operator:\n",
    "- step valu can be either +ve or -ve.\n",
    "  - if +ve then it should be forward direction(Left to Right)\n",
    "  - if -ve then it should be backward direction(Right to left).\n",
    "  - If +ve forward direction from begin to end-1.\n",
    "  - if -ve backward direction from begin to end+1."
   ]
  },
  {
   "cell_type": "markdown",
   "metadata": {},
   "source": [
    "### In forward direction:\n",
    "- default value for begin index:0\n",
    "- default value for end index: length of string\n",
    "- default value for step:+1"
   ]
  },
  {
   "cell_type": "markdown",
   "metadata": {},
   "source": [
    "### In backward direction:\n",
    "- default value for begin index:-1\n",
    "- default value for end index:-(length of string+1)"
   ]
  },
  {
   "cell_type": "code",
   "execution_count": 17,
   "metadata": {},
   "outputs": [
    {
     "name": "stdout",
     "output_type": "stream",
     "text": [
      "234567\n",
      "\n"
     ]
    },
    {
     "ename": "ValueError",
     "evalue": "slice step cannot be zero",
     "output_type": "error",
     "traceback": [
      "\u001b[0;31m---------------------------------------------------------------------------\u001b[0m",
      "\u001b[0;31mValueError\u001b[0m                                Traceback (most recent call last)",
      "\u001b[0;32m<ipython-input-17-ede0f9f8b697>\u001b[0m in \u001b[0;36m<module>\u001b[0;34m()\u001b[0m\n\u001b[1;32m      2\u001b[0m \u001b[0mprint\u001b[0m\u001b[0;34m(\u001b[0m\u001b[0ms\u001b[0m\u001b[0;34m[\u001b[0m\u001b[0;36m2\u001b[0m\u001b[0;34m:\u001b[0m\u001b[0;36m8\u001b[0m\u001b[0;34m:\u001b[0m\u001b[0;36m1\u001b[0m\u001b[0;34m]\u001b[0m\u001b[0;34m)\u001b[0m\u001b[0;34m\u001b[0m\u001b[0;34m\u001b[0m\u001b[0m\n\u001b[1;32m      3\u001b[0m \u001b[0mprint\u001b[0m\u001b[0;34m(\u001b[0m\u001b[0ms\u001b[0m\u001b[0;34m[\u001b[0m\u001b[0;36m2\u001b[0m\u001b[0;34m:\u001b[0m\u001b[0;36m8\u001b[0m\u001b[0;34m:\u001b[0m\u001b[0;34m-\u001b[0m\u001b[0;36m1\u001b[0m\u001b[0;34m]\u001b[0m\u001b[0;34m)\u001b[0m\u001b[0;31m#2 to 9 ..if i move backward directio i never get 9..so the output is ''\u001b[0m\u001b[0;34m\u001b[0m\u001b[0;34m\u001b[0m\u001b[0m\n\u001b[0;32m----> 4\u001b[0;31m \u001b[0mprint\u001b[0m\u001b[0;34m(\u001b[0m\u001b[0ms\u001b[0m\u001b[0;34m[\u001b[0m\u001b[0;36m2\u001b[0m\u001b[0;34m:\u001b[0m\u001b[0;36m8\u001b[0m\u001b[0;34m:\u001b[0m\u001b[0;36m0\u001b[0m\u001b[0;34m]\u001b[0m\u001b[0;34m)\u001b[0m\u001b[0;34m\u001b[0m\u001b[0;34m\u001b[0m\u001b[0m\n\u001b[0m",
      "\u001b[0;31mValueError\u001b[0m: slice step cannot be zero"
     ]
    }
   ],
   "source": [
    "s=\"0123456789\"\n",
    "print(s[2:8:1])\n",
    "print(s[2:8:-1])#2 to 9 ..if i move backward directio i never get 9..so the output is ''\n",
    "print(s[2:8:0])"
   ]
  },
  {
   "cell_type": "markdown",
   "metadata": {},
   "source": [
    "## Note:\n",
    "- In the backward direction if end value is -1 then result is always empty.\n",
    "- In the forward direction if end value is 0 then result is always empty."
   ]
  },
  {
   "cell_type": "code",
   "execution_count": 6,
   "metadata": {},
   "outputs": [
    {
     "name": "stdout",
     "output_type": "stream",
     "text": [
      "98765\n",
      "234\n",
      "\n",
      "1234\n",
      "\n",
      "987654321\n",
      "5\n",
      "\n"
     ]
    }
   ],
   "source": [
    "s=\"0123456789\"\n",
    "print(s[-1:-6:-1])\n",
    "print(s[2:-5:1])\n",
    "print(s[1:6:-2])#0 to 7\n",
    "print(s[1:5:1])\n",
    "print(s[0:-5:-5])# 0 to 4\n",
    "print(s[:0:-1])#default value for begin is -1\n",
    "print(s[-5:0:-9])\n",
    "print(s[2:-1:-1])#2 to 0 ===>if end index is 0 then result is empty"
   ]
  },
  {
   "cell_type": "markdown",
   "metadata": {},
   "source": [
    "-  In the backward direction if end value is -1 and end+1 is 0  then result is always empty."
   ]
  },
  {
   "cell_type": "code",
   "execution_count": 3,
   "metadata": {},
   "outputs": [
    {
     "name": "stdout",
     "output_type": "stream",
     "text": [
      "\n",
      "\n",
      "8\n",
      "\n"
     ]
    }
   ],
   "source": [
    "s=\"0123456789\"\n",
    "print(s[4:-1:-1])#end+1 is 0\n",
    "print(s[-7:-2:-1])\n",
    "print(s[-2:-3:-2])\n",
    "print(s[0:0:-1])"
   ]
  },
  {
   "cell_type": "code",
   "execution_count": 1,
   "metadata": {},
   "outputs": [
    {
     "name": "stdout",
     "output_type": "stream",
     "text": [
      "ikkiN\n",
      "ikki\n"
     ]
    }
   ],
   "source": [
    "# backward direction\n",
    "# begin to end+1==>-1 to -(5+1)=-6==>-1 to -6\n",
    "s=\"Nikki\"\n",
    "print(s[-1::-1])# -1 to -5\n",
    "print(s[:0:-1])# -1 to 1"
   ]
  },
  {
   "cell_type": "code",
   "execution_count": null,
   "metadata": {},
   "outputs": [],
   "source": []
  },
  {
   "cell_type": "code",
   "execution_count": null,
   "metadata": {},
   "outputs": [],
   "source": []
  }
 ],
 "metadata": {
  "kernelspec": {
   "display_name": "Python 3",
   "language": "python",
   "name": "python3"
  },
  "language_info": {
   "codemirror_mode": {
    "name": "ipython",
    "version": 3
   },
   "file_extension": ".py",
   "mimetype": "text/x-python",
   "name": "python",
   "nbconvert_exporter": "python",
   "pygments_lexer": "ipython3",
   "version": "3.6.9"
  }
 },
 "nbformat": 4,
 "nbformat_minor": 2
}
