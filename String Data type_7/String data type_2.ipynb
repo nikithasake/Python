{
 "cells": [
  {
   "cell_type": "markdown",
   "metadata": {},
   "source": [
    "## Mathematical Operators for String:\n",
    "- We can apply the following mathematical operators for strings\n",
    "   1. +operator for concatenation\n",
    "   2. *operator for repetition"
   ]
  },
  {
   "cell_type": "markdown",
   "metadata": {},
   "source": [
    "### Note\n",
    "- To use + operator for strings,compulsory both arguments should be str type.\n",
    "- To use * operator for strings,compulsory one argument should be str and other argument should be int."
   ]
  },
  {
   "cell_type": "code",
   "execution_count": 9,
   "metadata": {},
   "outputs": [
    {
     "name": "stdout",
     "output_type": "stream",
     "text": [
      "nikkineelu\n",
      "harishharishharish\n",
      "harishharishharishharishharish\n"
     ]
    }
   ],
   "source": [
    "#\n",
    "print(\"nikki\"+\"neelu\")\n",
    "print(\"harish\"*3)\n",
    "print(5*\"harish\")"
   ]
  },
  {
   "cell_type": "markdown",
   "metadata": {},
   "source": [
    "### len() in-built function:\n",
    "- We can use len() function to find number of characters present in the string."
   ]
  },
  {
   "cell_type": "code",
   "execution_count": 11,
   "metadata": {},
   "outputs": [
    {
     "name": "stdout",
     "output_type": "stream",
     "text": [
      "length of string: 5\n"
     ]
    }
   ],
   "source": [
    "s=\"Nikki\"\n",
    "print(\"length of string:\",len(s))"
   ]
  },
  {
   "cell_type": "code",
   "execution_count": 8,
   "metadata": {},
   "outputs": [
    {
     "name": "stdout",
     "output_type": "stream",
     "text": [
      "Enter a string:\"nikitha\"\n",
      "Data in Forward Direction\n",
      "\"nikitha\"\n",
      "Data in Backward Direction\n",
      "\"ahtikin\""
     ]
    }
   ],
   "source": [
    "#wap to access each character of string in forward direction and backward direction by using while loop\n",
    "s=input(\"Enter a string:\")\n",
    "n=len(s)\n",
    "i=0\n",
    "print(\"Data in Forward Direction\")\n",
    "while i<n:\n",
    "    print(s[i],end=\"\")\n",
    "    i+=1 \n",
    "print()\n",
    "print(\"Data in Backward Direction\")\n",
    "i=n-1\n",
    "while i>=0:\n",
    "    print(s[i],end=\"\")\n",
    "    i-=1"
   ]
  },
  {
   "cell_type": "code",
   "execution_count": 15,
   "metadata": {},
   "outputs": [
    {
     "name": "stdout",
     "output_type": "stream",
     "text": [
      "Enter a string:\"Harish\"\n",
      "Forward direction\n",
      "\"Harish\"\n",
      "Backward direction\n",
      "\"hsiraH\""
     ]
    }
   ],
   "source": [
    "#wap to acces each character of string in forward direction and backward direction by using for loop\n",
    "s=input(\"Enter a string:\")\n",
    "print(\"Forward direction\")\n",
    "for x in s[::1]:\n",
    "    print(x,end=\"\")\n",
    "print()\n",
    "print(\"Backward direction\")\n",
    "for x in s[::-1]:\n",
    "    print(x,end=\"\")"
   ]
  },
  {
   "cell_type": "code",
   "execution_count": 4,
   "metadata": {},
   "outputs": [
    {
     "name": "stdout",
     "output_type": "stream",
     "text": [
      "Enter a string:\"Nikitha\"\n",
      "\"Nikitha\""
     ]
    }
   ],
   "source": [
    "#Ex\n",
    "s=input(\"Enter a string:\")\n",
    "i=0\n",
    "while i<len(s):\n",
    "    print(s[i],end=\"\")\n",
    "    i+=1"
   ]
  },
  {
   "cell_type": "code",
   "execution_count": null,
   "metadata": {},
   "outputs": [],
   "source": [
    "#imp\n",
    "# program remove duplicate characters from the string\n",
    "i/p:mississippi\n",
    "o/p:misp\n",
    "# each character how many times it is present\n",
    "m==>1  p==>2\n",
    "i==>4  s==>4\n",
    "# i/p: Sake Nikitha \n",
    "o/p:ekaS ahtikiN(Word wise reverse)"
   ]
  },
  {
   "cell_type": "markdown",
   "metadata": {},
   "source": [
    "## Checking Membership:\n",
    "- We can check whether the character or string is the member of another string or not by using in and not in operators."
   ]
  },
  {
   "cell_type": "code",
   "execution_count": 16,
   "metadata": {},
   "outputs": [
    {
     "name": "stdout",
     "output_type": "stream",
     "text": [
      "True\n",
      "True\n"
     ]
    }
   ],
   "source": [
    "s=\"harish\"\n",
    "print(\"i\" in s)\n",
    "print(\"x\" not in s)"
   ]
  },
  {
   "cell_type": "code",
   "execution_count": 23,
   "metadata": {},
   "outputs": [
    {
     "name": "stdout",
     "output_type": "stream",
     "text": [
      "Enter Main string:harish\n",
      "Enter substring to search:i\n",
      "i is found in  Main string\n"
     ]
    }
   ],
   "source": [
    "s=input(\"Enter Main string:\")\n",
    "sub=input(\"Enter substring to search:\")\n",
    "if sub in s:\n",
    "    print(sub,\"is found in  Main string\")\n",
    "else:\n",
    "    print(sub,\"is not found in Main string\")"
   ]
  },
  {
   "cell_type": "markdown",
   "metadata": {},
   "source": [
    "## Comparision of Strings:\n",
    "- We can use comparision operators(<,<=,>=,>) and equality operators(==,!=) for strings.\n",
    "- Comparision will be performed based on alphabetical order."
   ]
  },
  {
   "cell_type": "code",
   "execution_count": 28,
   "metadata": {},
   "outputs": [
    {
     "name": "stdout",
     "output_type": "stream",
     "text": [
      "Enter first string:\"Harish\"\n",
      "Enter second string:\"harish\"\n",
      "\"Harish\" is smaller than \"harish\"\n"
     ]
    }
   ],
   "source": [
    "#A==>65 and a==>95(unicode.org)\n",
    "s1=input(\"Enter first string:\")\n",
    "s2=input(\"Enter second string:\")\n",
    "if s1==s2:\n",
    "    print(\"Both strings are equal\")\n",
    "elif s1>s2:\n",
    "    print(s1,\"is bigger than\",s2)\n",
    "else:nikitha\"\n",
    "    print(s1,\"is smaller than\",s2)"
   ]
  },
  {
   "cell_type": "code",
   "execution_count": 29,
   "metadata": {},
   "outputs": [
    {
     "name": "stdout",
     "output_type": "stream",
     "text": [
      "Enter first string:\"9arish\"\n",
      "Enter second string:\"harish\"\n",
      "\"9arish\" is smaller than \"harish\"\n"
     ]
    }
   ],
   "source": [
    "s1=input(\"Enter first string:\")\n",
    "s2=input(\"Enter second string:\")\n",
    "if s1==s2:\n",
    "    print(\"Both strings are equal\")\n",
    "elif s1>s2:\n",
    "    print(s1,\"is bigger than\",s2)\n",
    "else:\n",
    "    print(s1,\"is smaller than\",s2)"
   ]
  },
  {
   "cell_type": "code",
   "execution_count": 32,
   "metadata": {},
   "outputs": [
    {
     "name": "stdout",
     "output_type": "stream",
     "text": [
      "Enter first string:\"niki\"\n",
      "Enter second string:\"nikitha\"\n",
      "\"niki\" is smaller than \"nikitha\"\n"
     ]
    }
   ],
   "source": [
    "s1=input(\"Enter first string:\")\n",
    "s2=input(\"Enter second string:\")\n",
    "if s1==s2:\n",
    "    print(\"Both strings are equal\")\n",
    "elif s1>s2:\n",
    "    print(s1,\"is bigger than\",s2)\n",
    "else:\n",
    "    print(s1,\"is smaller than\",s2)"
   ]
  },
  {
   "cell_type": "markdown",
   "metadata": {},
   "source": [
    "### (imp)Difference b/w == and is operator\n",
    "- a==b : content comparison...whether a and b are same object or diff object they are checking only content b/w them.\n",
    "- a is b: address comparision..if both a and b  references  pointing to the same object then the result is True otherwise false.."
   ]
  },
  {
   "cell_type": "code",
   "execution_count": 34,
   "metadata": {},
   "outputs": [
    {
     "name": "stdout",
     "output_type": "stream",
     "text": [
      "139898438661320 139898509855560\n",
      "False\n",
      "True\n"
     ]
    }
   ],
   "source": [
    "l1=[\"A\",\"B\",\"C\"]\n",
    "l2=[\"A\",\"B\",\"C\"]\n",
    "print(id(l1),id(l2))\n",
    "print(l1 is l2)#even content is same but diff objects\n",
    "print(l1==l2)"
   ]
  },
  {
   "cell_type": "code",
   "execution_count": 35,
   "metadata": {},
   "outputs": [
    {
     "name": "stdout",
     "output_type": "stream",
     "text": [
      "139898438652424 139898438573320 139898438573320\n",
      "False\n",
      "True\n",
      "True\n"
     ]
    }
   ],
   "source": [
    "l1=[\"A\",\"B\",\"C\"]\n",
    "l2=[\"A\",\"B\",\"C\"]\n",
    "l3=l2\n",
    "print(id(l1),id(l2),id(l3))\n",
    "print(l1 is l2)\n",
    "print(l2 is l3)\n",
    "print(l1==l2)"
   ]
  },
  {
   "cell_type": "code",
   "execution_count": null,
   "metadata": {},
   "outputs": [],
   "source": []
  }
 ],
 "metadata": {
  "kernelspec": {
   "display_name": "Python 3",
   "language": "python",
   "name": "python3"
  },
  "language_info": {
   "codemirror_mode": {
    "name": "ipython",
    "version": 3
   },
   "file_extension": ".py",
   "mimetype": "text/x-python",
   "name": "python",
   "nbconvert_exporter": "python",
   "pygments_lexer": "ipython3",
   "version": "3.6.9"
  }
 },
 "nbformat": 4,
 "nbformat_minor": 2
}
