{
 "cells": [
  {
   "cell_type": "markdown",
   "metadata": {},
   "source": [
    "# Removing spaces from the String:\n",
    "- We can use the following 3 methods\n",
    " 1. rstrip()==>To remove space at right hand side.\n",
    " 2. lstrip()==>To remove spaces at left hand side.\n",
    " 3.  strip()==>To remove spaces both(right and left) sides."
   ]
  },
  {
   "cell_type": "code",
   "execution_count": 4,
   "metadata": {},
   "outputs": [
    {
     "name": "stdout",
     "output_type": "stream",
     "text": [
      "Enter city name:  Hyderabad\n",
      "  Hyderabad city not available..plz enter city name\n"
     ]
    }
   ],
   "source": [
    "city=input(\"Enter city name:\")\n",
    "list=[\"Hyderabad\",\"Delhi\",\"Mumbai\",\"Bangalore\"]\n",
    "if city in list:\n",
    "    print(city,\"Your city is available\")\n",
    "else:\n",
    "    print(city,\"city not available..plz enter city name\")"
   ]
  },
  {
   "cell_type": "code",
   "execution_count": 5,
   "metadata": {},
   "outputs": [
    {
     "name": "stdout",
     "output_type": "stream",
     "text": [
      "Enter city name:  Hyderabad\n",
      "  Hyderabad Your city is available\n"
     ]
    }
   ],
   "source": [
    "city=input(\"Enter city name:\")\n",
    "list=[\"Hyderabad\",\"Delhi\",\"Mumbai\",\"Bangalore\"]\n",
    "if city.strip() in list:\n",
    "    print(city,\"Your city is available\")\n",
    "else:\n",
    "    print(city,\"city not available..plz enter city name\")"
   ]
  },
  {
   "cell_type": "markdown",
   "metadata": {},
   "source": [
    "## Finding Substrings:\n",
    "- We can use the following 4 methods\n",
    "#### For forward direction:\n",
    "- find()\n",
    "- index()\n",
    "#### For backward direction\n",
    "- rfind()\n",
    "- rindex()"
   ]
  },
  {
   "cell_type": "markdown",
   "metadata": {},
   "source": [
    "### 1) find()\n",
    "- s.find(substring)\n",
    "- returns index of first occurence of the given substring.If it is not available then we will get -1."
   ]
  },
  {
   "cell_type": "code",
   "execution_count": 2,
   "metadata": {},
   "outputs": [
    {
     "name": "stdout",
     "output_type": "stream",
     "text": [
      "7\n",
      "5\n",
      "9\n",
      "-1\n"
     ]
    }
   ],
   "source": [
    "s=\"Learning python is very easy\"\n",
    "print(s.find(\"g\"))\n",
    "print(s.find(\"i\"))\n",
    "print(s.find(\"python\"))\n",
    "print(s.find(\"k\"))"
   ]
  },
  {
   "cell_type": "markdown",
   "metadata": {},
   "source": [
    "## Note:\n",
    "- By default find() method can search total string.We can also specify the boundaries to search\n",
    "- s.find(substring,begin,end)\n",
    "- It will always search from begin to end-1 index.\n",
    "- If it is not available in specified boundaries then it will return -1"
   ]
  },
  {
   "cell_type": "code",
   "execution_count": 8,
   "metadata": {},
   "outputs": [
    {
     "name": "stdout",
     "output_type": "stream",
     "text": [
      "16\n",
      "-1\n"
     ]
    }
   ],
   "source": [
    "s=\"Learning python is very easy\"\n",
    "print(s.find(\"i\",10,20))\n",
    "print(s.find(\"n\",15,20))"
   ]
  },
  {
   "cell_type": "markdown",
   "metadata": {},
   "source": [
    "### 2) rfind()\n",
    "- In reverse direction the first occurence of the given substring..If it is not available then we will get -1"
   ]
  },
  {
   "cell_type": "code",
   "execution_count": 17,
   "metadata": {},
   "outputs": [
    {
     "name": "stdout",
     "output_type": "stream",
     "text": [
      "7\n",
      "16\n",
      "9\n",
      "-1\n"
     ]
    }
   ],
   "source": [
    "s=\"Learning python is very easy\"\n",
    "print(s.rfind(\"g\"))\n",
    "print(s.rfind(\"i\"))\n",
    "print(s.rfind(\"python\"))\n",
    "print(s.rfind(\"k\"))"
   ]
  },
  {
   "cell_type": "markdown",
   "metadata": {},
   "source": [
    "### 3)index()\n",
    "- index(substring)\n",
    "- index() method is exactly same as find() method except that if the specified substring is not available then we will get ValueError."
   ]
  },
  {
   "cell_type": "code",
   "execution_count": 5,
   "metadata": {},
   "outputs": [
    {
     "name": "stdout",
     "output_type": "stream",
     "text": [
      "7\n",
      "5\n",
      "9\n"
     ]
    },
    {
     "ename": "ValueError",
     "evalue": "substring not found",
     "output_type": "error",
     "traceback": [
      "\u001b[0;31m---------------------------------------------------------------------------\u001b[0m",
      "\u001b[0;31mValueError\u001b[0m                                Traceback (most recent call last)",
      "\u001b[0;32m<ipython-input-5-fd3686bc8c96>\u001b[0m in \u001b[0;36m<module>\u001b[0;34m()\u001b[0m\n\u001b[1;32m      3\u001b[0m \u001b[0mprint\u001b[0m\u001b[0;34m(\u001b[0m\u001b[0ms\u001b[0m\u001b[0;34m.\u001b[0m\u001b[0mindex\u001b[0m\u001b[0;34m(\u001b[0m\u001b[0;34m\"i\"\u001b[0m\u001b[0;34m)\u001b[0m\u001b[0;34m)\u001b[0m\u001b[0;34m\u001b[0m\u001b[0;34m\u001b[0m\u001b[0m\n\u001b[1;32m      4\u001b[0m \u001b[0mprint\u001b[0m\u001b[0;34m(\u001b[0m\u001b[0ms\u001b[0m\u001b[0;34m.\u001b[0m\u001b[0mindex\u001b[0m\u001b[0;34m(\u001b[0m\u001b[0;34m\"python\"\u001b[0m\u001b[0;34m)\u001b[0m\u001b[0;34m)\u001b[0m\u001b[0;34m\u001b[0m\u001b[0;34m\u001b[0m\u001b[0m\n\u001b[0;32m----> 5\u001b[0;31m \u001b[0mprint\u001b[0m\u001b[0;34m(\u001b[0m\u001b[0ms\u001b[0m\u001b[0;34m.\u001b[0m\u001b[0mindex\u001b[0m\u001b[0;34m(\u001b[0m\u001b[0;34m\"k\"\u001b[0m\u001b[0;34m)\u001b[0m\u001b[0;34m)\u001b[0m\u001b[0;34m\u001b[0m\u001b[0;34m\u001b[0m\u001b[0m\n\u001b[0m",
      "\u001b[0;31mValueError\u001b[0m: substring not found"
     ]
    }
   ],
   "source": [
    "s=\"Learning python is very easy\"\n",
    "print(s.index(\"g\"))\n",
    "print(s.index(\"i\"))\n",
    "print(s.index(\"python\"))\n",
    "print(s.index(\"k\"))"
   ]
  },
  {
   "cell_type": "markdown",
   "metadata": {},
   "source": [
    "## Note:\n",
    "- By default index() method can search total string.We can also specify the boundaries to search\n",
    "- s.index(substring,begin,end)\n",
    "- It will always search from begin to end-1 index.\n",
    "- If it is not available in specified boundaries then it will return ValueError"
   ]
  },
  {
   "cell_type": "code",
   "execution_count": 10,
   "metadata": {},
   "outputs": [
    {
     "name": "stdout",
     "output_type": "stream",
     "text": [
      "16\n"
     ]
    },
    {
     "ename": "ValueError",
     "evalue": "substring not found",
     "output_type": "error",
     "traceback": [
      "\u001b[0;31m---------------------------------------------------------------------------\u001b[0m",
      "\u001b[0;31mValueError\u001b[0m                                Traceback (most recent call last)",
      "\u001b[0;32m<ipython-input-10-721765a2ce06>\u001b[0m in \u001b[0;36m<module>\u001b[0;34m()\u001b[0m\n\u001b[1;32m      1\u001b[0m \u001b[0ms\u001b[0m\u001b[0;34m=\u001b[0m\u001b[0;34m\"Learning python is very easy\"\u001b[0m\u001b[0;34m\u001b[0m\u001b[0;34m\u001b[0m\u001b[0m\n\u001b[1;32m      2\u001b[0m \u001b[0mprint\u001b[0m\u001b[0;34m(\u001b[0m\u001b[0ms\u001b[0m\u001b[0;34m.\u001b[0m\u001b[0mindex\u001b[0m\u001b[0;34m(\u001b[0m\u001b[0;34m\"i\"\u001b[0m\u001b[0;34m,\u001b[0m\u001b[0;36m10\u001b[0m\u001b[0;34m,\u001b[0m\u001b[0;36m20\u001b[0m\u001b[0;34m)\u001b[0m\u001b[0;34m)\u001b[0m\u001b[0;34m\u001b[0m\u001b[0;34m\u001b[0m\u001b[0m\n\u001b[0;32m----> 3\u001b[0;31m \u001b[0mprint\u001b[0m\u001b[0;34m(\u001b[0m\u001b[0ms\u001b[0m\u001b[0;34m.\u001b[0m\u001b[0mindex\u001b[0m\u001b[0;34m(\u001b[0m\u001b[0;34m\"n\"\u001b[0m\u001b[0;34m,\u001b[0m\u001b[0;36m15\u001b[0m\u001b[0;34m,\u001b[0m\u001b[0;36m20\u001b[0m\u001b[0;34m)\u001b[0m\u001b[0;34m)\u001b[0m\u001b[0;34m\u001b[0m\u001b[0;34m\u001b[0m\u001b[0m\n\u001b[0m",
      "\u001b[0;31mValueError\u001b[0m: substring not found"
     ]
    }
   ],
   "source": [
    "s=\"Learning python is very easy\"\n",
    "print(s.index(\"i\",10,20))\n",
    "print(s.index(\"n\",15,20))"
   ]
  },
  {
   "cell_type": "markdown",
   "metadata": {},
   "source": [
    "### 4)rindex()\n",
    "-  rindex(substring)\n",
    "-  In reverse direction the first occurence of the given substring..If it is not available then we will get ValueError"
   ]
  },
  {
   "cell_type": "code",
   "execution_count": 18,
   "metadata": {},
   "outputs": [
    {
     "name": "stdout",
     "output_type": "stream",
     "text": [
      "7\n",
      "16\n",
      "9\n"
     ]
    },
    {
     "ename": "ValueError",
     "evalue": "substring not found",
     "output_type": "error",
     "traceback": [
      "\u001b[0;31m---------------------------------------------------------------------------\u001b[0m",
      "\u001b[0;31mValueError\u001b[0m                                Traceback (most recent call last)",
      "\u001b[0;32m<ipython-input-18-90015de6200b>\u001b[0m in \u001b[0;36m<module>\u001b[0;34m()\u001b[0m\n\u001b[1;32m      3\u001b[0m \u001b[0mprint\u001b[0m\u001b[0;34m(\u001b[0m\u001b[0ms\u001b[0m\u001b[0;34m.\u001b[0m\u001b[0mrindex\u001b[0m\u001b[0;34m(\u001b[0m\u001b[0;34m\"i\"\u001b[0m\u001b[0;34m)\u001b[0m\u001b[0;34m)\u001b[0m\u001b[0;34m\u001b[0m\u001b[0;34m\u001b[0m\u001b[0m\n\u001b[1;32m      4\u001b[0m \u001b[0mprint\u001b[0m\u001b[0;34m(\u001b[0m\u001b[0ms\u001b[0m\u001b[0;34m.\u001b[0m\u001b[0mrindex\u001b[0m\u001b[0;34m(\u001b[0m\u001b[0;34m\"python\"\u001b[0m\u001b[0;34m)\u001b[0m\u001b[0;34m)\u001b[0m\u001b[0;34m\u001b[0m\u001b[0;34m\u001b[0m\u001b[0m\n\u001b[0;32m----> 5\u001b[0;31m \u001b[0mprint\u001b[0m\u001b[0;34m(\u001b[0m\u001b[0ms\u001b[0m\u001b[0;34m.\u001b[0m\u001b[0mrindex\u001b[0m\u001b[0;34m(\u001b[0m\u001b[0;34m\"k\"\u001b[0m\u001b[0;34m)\u001b[0m\u001b[0;34m)\u001b[0m\u001b[0;34m\u001b[0m\u001b[0;34m\u001b[0m\u001b[0m\n\u001b[0m",
      "\u001b[0;31mValueError\u001b[0m: substring not found"
     ]
    }
   ],
   "source": [
    "s=\"Learning python is very easy\"\n",
    "print(s.rindex(\"g\"))\n",
    "print(s.rindex(\"i\"))\n",
    "print(s.rindex(\"python\"))\n",
    "print(s.rindex(\"k\"))"
   ]
  },
  {
   "cell_type": "code",
   "execution_count": 1,
   "metadata": {},
   "outputs": [
    {
     "name": "stdout",
     "output_type": "stream",
     "text": [
      "Enter main string:bababaabbbab\n",
      "Enter sub string:ab\n",
      "ab present at index: 1\n",
      "ab present at index: 3\n",
      "ab present at index: 6\n",
      "ab present at index: 10\n",
      "The number of occurences: 4\n"
     ]
    }
   ],
   "source": [
    "#program to display all positions of substring in a given main string\n",
    "s=input(\"Enter main string:\")\n",
    "sub=input(\"Enter sub string:\")\n",
    "l=len(s)\n",
    "i=s.find(sub)\n",
    "if i==-1:\n",
    "    print(sub,\"not found in the given string\")\n",
    "count=0\n",
    "while i!=-1:\n",
    "    count=count+1\n",
    "    print(sub,\"present at index:\",i)\n",
    "    i=s.find(sub,i+len(sub),l)\n",
    "print(\"The number of occurences:\",count)# we can use s.count(sub)"
   ]
  },
  {
   "cell_type": "code",
   "execution_count": 2,
   "metadata": {},
   "outputs": [
    {
     "name": "stdout",
     "output_type": "stream",
     "text": [
      "Enter main string:bababababab\n",
      "Enter sub string:k\n",
      "k not found in the given string\n",
      "The number of occurences: 0\n"
     ]
    }
   ],
   "source": [
    "#program to display all positions of substring in a given main string\n",
    "s=input(\"Enter main string:\")\n",
    "sub=input(\"Enter sub string:\")\n",
    "l=len(s)\n",
    "i=s.find(sub)\n",
    "if i==-1:\n",
    "    print(sub,\"not found in the given string\")\n",
    "count=0\n",
    "while i!=-1:\n",
    "    count=count+1\n",
    "    print(sub,\"present at index:\",i)\n",
    "    i=s.find(sub,i+len(sub),l)\n",
    "print(\"The number of occurences:\",count)"
   ]
  },
  {
   "cell_type": "markdown",
   "metadata": {},
   "source": [
    "### Counting substring in the given string:\n",
    "- We can find the number of occurences of substring present in the given string by using count() method.\n",
    "  1. s.count(substring)==>It will search through out the string.\n",
    "  2. s.count(substring,begin,end)==>It will search from begin to end-1 index."
   ]
  },
  {
   "cell_type": "code",
   "execution_count": 9,
   "metadata": {},
   "outputs": [
    {
     "name": "stdout",
     "output_type": "stream",
     "text": [
      "3\n",
      "2\n"
     ]
    }
   ],
   "source": [
    "s=\"abcdabcdab\"\n",
    "print(s.count(\"ab\"))\n",
    "print(s.count(\"ab\",0,7))"
   ]
  },
  {
   "cell_type": "code",
   "execution_count": 19,
   "metadata": {},
   "outputs": [
    {
     "name": "stdout",
     "output_type": "stream",
     "text": [
      "1\n"
     ]
    }
   ],
   "source": [
    "#it treats first CDC after then DC so occurence of CDC is 1\n",
    "s=\"ABCDCDCONCE\"\n",
    "print(s.count(\"CDC\"))"
   ]
  },
  {
   "cell_type": "code",
   "execution_count": null,
   "metadata": {},
   "outputs": [],
   "source": []
  }
 ],
 "metadata": {
  "kernelspec": {
   "display_name": "Python 3",
   "language": "python",
   "name": "python3"
  },
  "language_info": {
   "codemirror_mode": {
    "name": "ipython",
    "version": 3
   },
   "file_extension": ".py",
   "mimetype": "text/x-python",
   "name": "python",
   "nbconvert_exporter": "python",
   "pygments_lexer": "ipython3",
   "version": "3.6.9"
  }
 },
 "nbformat": 4,
 "nbformat_minor": 2
}
