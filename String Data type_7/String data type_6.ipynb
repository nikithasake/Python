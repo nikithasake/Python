{
 "cells": [
  {
   "cell_type": "markdown",
   "metadata": {},
   "source": [
    "# Formatting the strings:\n",
    "- We can format the strings with variable values by using replacement operator {} and format{} method."
   ]
  },
  {
   "cell_type": "code",
   "execution_count": 13,
   "metadata": {},
   "outputs": [
    {
     "name": "stdout",
     "output_type": "stream",
     "text": [
      "harish's salary is 40000 and his age is 23\n",
      "harish's salary is 40000 and his age is 23\n",
      "harish's salary is 40000 and his age is 23\n"
     ]
    }
   ],
   "source": [
    "#\n",
    "name=\"harish\"\n",
    "salary=40000\n",
    "age=23\n",
    "print(\"{}'s salary is {} and his age is {}\".format(name,salary,age))\n",
    "print(\"{2}'s salary is {0} and his age is {1}\".format(salary,age,name))#by using index\n",
    "print(\"{x}'s salary is {y} and his age is {z}\".format(y=salary,x=name,z=age))"
   ]
  },
  {
   "cell_type": "markdown",
   "metadata": {},
   "source": [
    "## Programs:"
   ]
  },
  {
   "cell_type": "markdown",
   "metadata": {},
   "source": [
    "### Example 1\n",
    "Q1)**Wap to reverse a string**<br>\n",
    "**input:** Nikitha<br>\n",
    "**output:** ahtikiN"
   ]
  },
  {
   "cell_type": "code",
   "execution_count": 14,
   "metadata": {},
   "outputs": [
    {
     "name": "stdout",
     "output_type": "stream",
     "text": [
      "Enter some string:Nikitha\n",
      "ahtikiN\n"
     ]
    }
   ],
   "source": [
    "#Wap to reverse a string\n",
    "s=input(\"Enter some string:\")\n",
    "print(s[::-1])"
   ]
  },
  {
   "cell_type": "code",
   "execution_count": 27,
   "metadata": {},
   "outputs": [
    {
     "name": "stdout",
     "output_type": "stream",
     "text": [
      "Enter some string:Nikitha\n",
      "ahtikiN\n"
     ]
    }
   ],
   "source": [
    "#Wap to reverse a string\n",
    "s=input(\"Enter some string:\")\n",
    "print(''.join(reversed(s)))"
   ]
  },
  {
   "cell_type": "code",
   "execution_count": 29,
   "metadata": {},
   "outputs": [
    {
     "name": "stdout",
     "output_type": "stream",
     "text": [
      "Enter a string:Nikitha\n",
      "ahtikiN"
     ]
    }
   ],
   "source": [
    "#Wap to reverse a string\n",
    "s=input(\"Enter a string:\")\n",
    "i=len(s)-1\n",
    "while i>=0:\n",
    "    print(s[i],end=\"\")\n",
    "    i-=1"
   ]
  },
  {
   "cell_type": "code",
   "execution_count": 11,
   "metadata": {},
   "outputs": [
    {
     "name": "stdout",
     "output_type": "stream",
     "text": [
      "Enter a string:Nikitha sake\n",
      "ekas ahtikiN\n"
     ]
    }
   ],
   "source": [
    "#Wap to reverse a string\n",
    "s=input(\"Enter a string:\")\n",
    "i=len(s)-1\n",
    "output=\"\"\n",
    "while i>=0:\n",
    "    output=output+s[i]\n",
    "    i-=1\n",
    "print(output)"
   ]
  },
  {
   "cell_type": "code",
   "execution_count": 5,
   "metadata": {},
   "outputs": [
    {
     "name": "stdout",
     "output_type": "stream",
     "text": [
      "Enter a string:nikitha sake\n",
      "ekas ahtikin\n"
     ]
    }
   ],
   "source": [
    "#using for loop\n",
    "s=input(\"Enter a string:\")\n",
    "l=s.split()\n",
    "i=len(s)-1\n",
    "l1=[]\n",
    "for x in l[::-1]:\n",
    "    l1.append(x[::-1])\n",
    "output=\" \".join(l1)\n",
    "print(output) "
   ]
  },
  {
   "cell_type": "markdown",
   "metadata": {},
   "source": [
    "### Example 2\n",
    "Q2)**Wap to reverse of words**<br>\n",
    "**input:** Learning python is very easy<br>\n",
    "**output: **easy very is python Learning"
   ]
  },
  {
   "cell_type": "code",
   "execution_count": 9,
   "metadata": {},
   "outputs": [
    {
     "name": "stdout",
     "output_type": "stream",
     "text": [
      "Enter string:Learning python is very easy\n",
      "easy very is python Learning\n"
     ]
    }
   ],
   "source": [
    "#Wap to reverse of words\n",
    "s=input(\"Enter string:\")\n",
    "l=s.split()\n",
    "l1=[]#creation of empty list to hold words in reverse order\n",
    "i=len(l)-1\n",
    "while i>=0:\n",
    "    l1.append(l[i])\n",
    "    i=i-1\n",
    "o=\" \".join(l1)\n",
    "print(o)"
   ]
  },
  {
   "cell_type": "code",
   "execution_count": 5,
   "metadata": {},
   "outputs": [
    {
     "name": "stdout",
     "output_type": "stream",
     "text": [
      "Enter some string:Learning python is very easy\n",
      "easy very is python Learning\n"
     ]
    }
   ],
   "source": [
    "# using for loop\n",
    "s=input(\"Enter some string:\")\n",
    "l=s.split()\n",
    "l1=[]\n",
    "i=len(l)-1\n",
    "for i in l[::-1]:\n",
    "    l1.append(i)\n",
    "output=\" \".join(l1)\n",
    "print(output)"
   ]
  },
  {
   "cell_type": "markdown",
   "metadata": {},
   "source": [
    "### Example 3\n",
    "Q3)**Program to reverse internal content of each word.**<br>\n",
    "**input:** Learning python is very easy<br>\n",
    "**output: **gninraeL nohtyp si ytev yase"
   ]
  },
  {
   "cell_type": "code",
   "execution_count": 3,
   "metadata": {},
   "outputs": [
    {
     "name": "stdout",
     "output_type": "stream",
     "text": [
      "Enter string:Learning python is very easy\n",
      "gninraeL nohtyp si yrev ysae\n"
     ]
    }
   ],
   "source": [
    "#Program to reverse internal content of each word using for loop.\n",
    "s=input(\"Enter string:\")\n",
    "l=s.split()\n",
    "l1=[]\n",
    "for word in l:\n",
    "    l1.append(word[::-1])\n",
    "output=\" \".join(l1)\n",
    "print(output)"
   ]
  },
  {
   "cell_type": "code",
   "execution_count": 10,
   "metadata": {},
   "outputs": [
    {
     "name": "stdout",
     "output_type": "stream",
     "text": [
      "Enter string:Learning python is very easy\n",
      "gninraeL nohtyp si yrev ysae\n"
     ]
    }
   ],
   "source": [
    "#program to reverse internal content of each word using while loop\n",
    "s=input(\"Enter string:\")\n",
    "l=s.split()\n",
    "l1=[]\n",
    "i=0\n",
    "while i<len(l):\n",
    "    l1.append(l[i][::-1])\n",
    "    i=i+1\n",
    "output=\" \".join(l1)\n",
    "print(output)"
   ]
  },
  {
   "cell_type": "code",
   "execution_count": null,
   "metadata": {},
   "outputs": [],
   "source": []
  }
 ],
 "metadata": {
  "kernelspec": {
   "display_name": "Python 3",
   "language": "python",
   "name": "python3"
  },
  "language_info": {
   "codemirror_mode": {
    "name": "ipython",
    "version": 3
   },
   "file_extension": ".py",
   "mimetype": "text/x-python",
   "name": "python",
   "nbconvert_exporter": "python",
   "pygments_lexer": "ipython3",
   "version": "3.6.9"
  }
 },
 "nbformat": 4,
 "nbformat_minor": 2
}
