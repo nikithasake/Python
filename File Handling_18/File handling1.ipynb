{
 "cells": [
  {
   "cell_type": "markdown",
   "metadata": {},
   "source": [
    "###  Writing data to text files:\n",
    "- write(str)\n",
    "- writelines(list of lines)"
   ]
  },
  {
   "cell_type": "code",
   "execution_count": 1,
   "metadata": {},
   "outputs": [
    {
     "name": "stdout",
     "output_type": "stream",
     "text": [
      "Data written to file successfully\n"
     ]
    }
   ],
   "source": [
    "#if we want display data after write mode you can use type abc.txt on terminal\n",
    "#write(str)\n",
    "f=open('abc2.txt','w')\n",
    "f.write('nikitha\\n')\n",
    "f.write('neelu\\n')\n",
    "f.write('harish\\n')\n",
    "print('Data written to file successfully')\n",
    "f.close()"
   ]
  },
  {
   "cell_type": "code",
   "execution_count": 8,
   "metadata": {},
   "outputs": [
    {
     "name": "stdout",
     "output_type": "stream",
     "text": [
      "All lines from the list written to the file\n"
     ]
    }
   ],
   "source": [
    "#writelines(list of lines)\n",
    "f=open('abc3.txt','w')\n",
    "list=['sunny\\n','bunny\\n','vinny\\n','chinny\\n']\n",
    "f.writelines(list)\n",
    "print('All lines from the list written to the file')\n",
    "f.close()"
   ]
  },
  {
   "cell_type": "code",
   "execution_count": 14,
   "metadata": {},
   "outputs": [
    {
     "name": "stdout",
     "output_type": "stream",
     "text": [
      "All lines from the list written to the file\n"
     ]
    }
   ],
   "source": [
    "#only keys are added\n",
    "f=open('abc4.txt','w')\n",
    "list={'sunny\\n':'23','bunny':345}\n",
    "f.writelines(list)\n",
    "print('All lines from the list written to the file')\n",
    "f.close()"
   ]
  },
  {
   "cell_type": "code",
   "execution_count": 15,
   "metadata": {},
   "outputs": [
    {
     "ename": "TypeError",
     "evalue": "write() argument must be str, not int",
     "output_type": "error",
     "traceback": [
      "\u001b[0;31m---------------------------------------------------------------------------\u001b[0m",
      "\u001b[0;31mTypeError\u001b[0m                                 Traceback (most recent call last)",
      "\u001b[0;32m<ipython-input-15-aec582bc97b4>\u001b[0m in \u001b[0;36m<module>\u001b[0;34m()\u001b[0m\n\u001b[1;32m      2\u001b[0m \u001b[0mf\u001b[0m\u001b[0;34m=\u001b[0m\u001b[0mopen\u001b[0m\u001b[0;34m(\u001b[0m\u001b[0;34m'abc5.txt'\u001b[0m\u001b[0;34m,\u001b[0m\u001b[0;34m'w'\u001b[0m\u001b[0;34m)\u001b[0m\u001b[0;34m\u001b[0m\u001b[0;34m\u001b[0m\u001b[0m\n\u001b[1;32m      3\u001b[0m \u001b[0mlist\u001b[0m\u001b[0;34m=\u001b[0m\u001b[0;34m{\u001b[0m\u001b[0;36m12\u001b[0m\u001b[0;34m:\u001b[0m\u001b[0;34m\"12345\"\u001b[0m\u001b[0;34m,\u001b[0m\u001b[0;36m345\u001b[0m\u001b[0;34m:\u001b[0m\u001b[0;34m\"niki\"\u001b[0m\u001b[0;34m}\u001b[0m\u001b[0;34m\u001b[0m\u001b[0;34m\u001b[0m\u001b[0m\n\u001b[0;32m----> 4\u001b[0;31m \u001b[0mf\u001b[0m\u001b[0;34m.\u001b[0m\u001b[0mwritelines\u001b[0m\u001b[0;34m(\u001b[0m\u001b[0mlist\u001b[0m\u001b[0;34m)\u001b[0m\u001b[0;34m\u001b[0m\u001b[0;34m\u001b[0m\u001b[0m\n\u001b[0m\u001b[1;32m      5\u001b[0m \u001b[0mprint\u001b[0m\u001b[0;34m(\u001b[0m\u001b[0;34m'All lines from the list written to the file'\u001b[0m\u001b[0;34m)\u001b[0m\u001b[0;34m\u001b[0m\u001b[0;34m\u001b[0m\u001b[0m\n\u001b[1;32m      6\u001b[0m \u001b[0mf\u001b[0m\u001b[0;34m.\u001b[0m\u001b[0mclose\u001b[0m\u001b[0;34m(\u001b[0m\u001b[0;34m)\u001b[0m\u001b[0;34m\u001b[0m\u001b[0;34m\u001b[0m\u001b[0m\n",
      "\u001b[0;31mTypeError\u001b[0m: write() argument must be str, not int"
     ]
    }
   ],
   "source": [
    "# keys are string type only\n",
    "f=open('abc5.txt','w')\n",
    "list={12:\"12345\",345:\"niki\"}\n",
    "f.writelines(list)\n",
    "print('All lines from the list written to the file')\n",
    "f.close()"
   ]
  },
  {
   "cell_type": "markdown",
   "metadata": {},
   "source": [
    "### Reading Character Data from text files:\n",
    "- read()--> To read total data from the file\n",
    "- read(n)--->To read 'n' characters from the file\n",
    "- readline()--> To read only one line\n",
    "- readlines()---> To read all lines into a list"
   ]
  },
  {
   "cell_type": "code",
   "execution_count": 17,
   "metadata": {},
   "outputs": [
    {
     "name": "stdout",
     "output_type": "stream",
     "text": [
      "<class 'str'>\n",
      "sunny\n",
      "bunny\n",
      "vinny\n",
      "chinny\n"
     ]
    }
   ],
   "source": [
    "#To read total data from the file\n",
    "f=open(\"abc6.txt\")\n",
    "data=f.read()\n",
    "print(type(data))\n",
    "print(data)\n",
    "f.close()"
   ]
  },
  {
   "cell_type": "code",
   "execution_count": 24,
   "metadata": {},
   "outputs": [
    {
     "name": "stdout",
     "output_type": "stream",
     "text": [
      "<class 'str'>\n",
      "sunny\n",
      "bunn\n"
     ]
    }
   ],
   "source": [
    "#To read only first 10 characters:\n",
    "# it will count \\n also and space\n",
    "f=open(\"abc6.txt\")\n",
    "data=f.read(10)\n",
    "print(type(data))\n",
    "print(data)\n",
    "f.close()"
   ]
  },
  {
   "cell_type": "code",
   "execution_count": 25,
   "metadata": {},
   "outputs": [
    {
     "name": "stdout",
     "output_type": "stream",
     "text": [
      "sunny\n",
      "\n",
      "<class 'str'>\n",
      "bunny\n",
      "\n"
     ]
    }
   ],
   "source": [
    "#To read data line by line:\n",
    "# In the file already /n character is there bcse of that space is came and print() has add space by default thats why two times spaces are came\n",
    "f=open(\"abc6.txt\")\n",
    "line1=f.readline()\n",
    "print(line1)\n",
    "print(type(line1))\n",
    "line2=f.readline()\n",
    "print(line2)"
   ]
  },
  {
   "cell_type": "code",
   "execution_count": 22,
   "metadata": {},
   "outputs": [
    {
     "name": "stdout",
     "output_type": "stream",
     "text": [
      "sunny\n",
      "bunny\n",
      "\n"
     ]
    }
   ],
   "source": [
    "# to override the space we can use end attribute\n",
    "f=open(\"abc6.txt\")\n",
    "line1=f.readline()\n",
    "print(line1,end='')\n",
    "line2=f.readline()\n",
    "print(line2)"
   ]
  },
  {
   "cell_type": "code",
   "execution_count": 27,
   "metadata": {},
   "outputs": [
    {
     "name": "stdout",
     "output_type": "stream",
     "text": [
      "['sunny\\n', 'bunny\\n', 'vinny\\n', 'chinny']\n",
      "<class 'list'>\n",
      "sunny\n",
      "bunny\n",
      "vinny\n",
      "chinny"
     ]
    }
   ],
   "source": [
    "# To read all lines into list:\n",
    "f=open(\"abc6.txt\")\n",
    "line1=f.readlines()\n",
    "print(line1)\n",
    "print(type(line1))\n",
    "for line in line1:\n",
    "    print(line,end='')"
   ]
  },
  {
   "cell_type": "markdown",
   "metadata": {},
   "source": [
    "### read() is same as readlines() then why we should go readlines()?\n",
    "- f.read()--->total data \n",
    "- f.readlines()---->one by one read\n",
    "- ex:we can send msg to every mobile numbers\n"
   ]
  },
  {
   "cell_type": "code",
   "execution_count": 34,
   "metadata": {},
   "outputs": [
    {
     "name": "stdout",
     "output_type": "stream",
     "text": [
      "Data copied successfully\n"
     ]
    }
   ],
   "source": [
    "#Data copied one file to another file\n",
    "f1=open('abc.txt','r')\n",
    "f2=open('output.txt','w')\n",
    "f2.write(f1.read())\n",
    "f1.close()\n",
    "f2.close()\n",
    "print(\"Data copied successfully\")"
   ]
  },
  {
   "cell_type": "code",
   "execution_count": null,
   "metadata": {},
   "outputs": [],
   "source": []
  },
  {
   "cell_type": "code",
   "execution_count": null,
   "metadata": {},
   "outputs": [],
   "source": []
  }
 ],
 "metadata": {
  "kernelspec": {
   "display_name": "Python 3",
   "language": "python",
   "name": "python3"
  },
  "language_info": {
   "codemirror_mode": {
    "name": "ipython",
    "version": 3
   },
   "file_extension": ".py",
   "mimetype": "text/x-python",
   "name": "python",
   "nbconvert_exporter": "python",
   "pygments_lexer": "ipython3",
   "version": "3.6.9"
  }
 },
 "nbformat": 4,
 "nbformat_minor": 2
}
