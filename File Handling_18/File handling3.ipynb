{
 "cells": [
  {
   "cell_type": "markdown",
   "metadata": {},
   "source": [
    "## Handling binary Data\n",
    "- It is very common requirement to read or write binary data like images,video files,audio files etc."
   ]
  },
  {
   "cell_type": "code",
   "execution_count": 4,
   "metadata": {},
   "outputs": [
    {
     "name": "stdout",
     "output_type": "stream",
     "text": [
      "New Image is available with the name: newpic.jpg\n"
     ]
    }
   ],
   "source": [
    "#wap to read image file and write to a new image file\n",
    "f1=open(\"rossum.jpg\",\"rb\")\n",
    "f2=open(\"newpic.jpg\",\"wb\")\n",
    "bytes=f1.read()\n",
    "f2.write(bytes)\n",
    "print(\"New Image is available with the name: newpic.jpg\")"
   ]
  },
  {
   "cell_type": "markdown",
   "metadata": {},
   "source": [
    "# Handling CSV Files\n",
    "- csv:comma seperated values\n",
    "- As a part of programming,it is very common requirement to write and read data with respective to csv files .Python provides csv module to handle csv files"
   ]
  },
  {
   "cell_type": "code",
   "execution_count": 2,
   "metadata": {},
   "outputs": [
    {
     "name": "stdout",
     "output_type": "stream",
     "text": [
      "<class '_csv.writer'>\n",
      "Enter Employee Number:200\n",
      "Enter Employee Name:nikki\n",
      "Enter Employee salary:20000\n",
      "Enter Employee address:dmm\n",
      "do u want to insert one more record[yes/no]:yes\n",
      "Enter Employee Number:300\n",
      "Enter Employee Name:nimbu\n",
      "Enter Employee salary:30000\n",
      "Enter Employee address:hyf\n",
      "do u want to insert one more record[yes/no]:no\n",
      "Total employees data written to csv files successfully\n"
     ]
    }
   ],
   "source": [
    "# Writing data to csv file:\n",
    "import csv\n",
    "with open('emp.csv','w',newline='')as f:\n",
    "    w=csv.writer(f)#returns csv writer object pointg to f.\n",
    "    print(type(w))\n",
    "    w.writerow([\"ENO\",\"ENAME\",\"ESAL\",\"EADDR\"])\n",
    "    while True:\n",
    "        eno=int(input(\"Enter Employee Number:\"))\n",
    "        ename=input(\"Enter Employee Name:\")\n",
    "        esal=float(input(\"Enter Employee salary:\"))\n",
    "        eaddr=input(\"Enter Employee address:\")\n",
    "        w.writerow([eno,ename,esal,eaddr])\n",
    "        option=input(\"do u want to insert one more record[yes/no]:\")\n",
    "        if option.lower()=='no':\n",
    "            break\n",
    "print(\"Total employees data written to csv files successfully\")"
   ]
  },
  {
   "cell_type": "code",
   "execution_count": 4,
   "metadata": {},
   "outputs": [
    {
     "name": "stdout",
     "output_type": "stream",
     "text": [
      "<class '_csv.writer'>\n",
      "Enter number of employees:2\n",
      "Enter Employee Number:200\n",
      "Enter Employee Name:nani\n",
      "Enter Employee salary:2000\n",
      "Enter Employee address:dmm\n",
      "Enter Employee Number:300\n",
      "Enter Employee Name:nimbu\n",
      "Enter Employee salary:3000\n",
      "Enter Employee address:dmm\n"
     ]
    }
   ],
   "source": [
    "import csv\n",
    "with open('emp1.csv','w',newline=\"\")as f:\n",
    "    w=csv.writer(f)#returns csv writer object pointing to f.\n",
    "    print(type(w))\n",
    "    w.writerow([\"ENO\",\"ENAME\",\"ESAL\",\"EADDR\"])\n",
    "    n=int(input(\"Enter number of employees:\"))\n",
    "    for i in range(n):\n",
    "        eno=int(input(\"Enter Employee Number:\"))\n",
    "        ename=input(\"Enter Employee Name:\")\n",
    "        esal=float(input(\"Enter Employee salary:\"))\n",
    "        eaddr=input(\"Enter Employee address:\")\n",
    "        w.writerow([eno,ename,esal,eaddr])"
   ]
  },
  {
   "cell_type": "markdown",
   "metadata": {},
   "source": [
    "### Note\n",
    "- with open(\"emp.csv\",\"w\",newline=\"\")as f:\n",
    "- with open(\"emp.csv\",\"w\")as f:\n",
    "    - If we are not using newline attribute then in the csv file blank lines will be included b/w data.To prevent these blank lines,newline attribute is required in python3,but in python2 just we can specify mode as 'wb' and we are not required to use newline attribute."
   ]
  },
  {
   "cell_type": "code",
   "execution_count": 9,
   "metadata": {},
   "outputs": [
    {
     "name": "stdout",
     "output_type": "stream",
     "text": [
      "<class '_csv.reader'>\n",
      "<class 'list'>\n",
      "[['ENO', 'ENAME', 'ESAL', 'EADDR'], ['200', 'nani', '2000.0', 'atp'], ['300', 'nimbu', '3000.0', 'dmm']]\n",
      "ENO \tENAME \tESAL \tEADDR \t\n",
      "200 \tnani \t2000.0 \tatp \t\n",
      "300 \tnimbu \t3000.0 \tdmm \t\n"
     ]
    }
   ],
   "source": [
    "#Reading Data from csv file\n",
    "import csv\n",
    "with open('emp1.csv','r')as f:\n",
    "    r=csv.reader(f)#returns reader object pointing to f \n",
    "    print(type(r))\n",
    "    data=list(r)\n",
    "    print(type(data))\n",
    "    print(data)\n",
    "    for row in data:\n",
    "        for column in row:\n",
    "            print(column,'\\t',end=\"\")\n",
    "        print()"
   ]
  },
  {
   "cell_type": "markdown",
   "metadata": {},
   "source": [
    "## Zipping and Unzipping files:\n",
    "- To perform zip and unzip operations, Python contains one in-bulit module zip file(all small letters).\n",
    "- This module contains a class : ZipFile(Z and F are in capital).\n",
    "### To create Zip file:\n",
    "- we have to create ZipFile object with name of the zip file,mode and constant ZIP_DEFLATED.This constant represents we are creating zipfile\n",
    "***f=ZipFile('files.zip','w',ZIP_DEFLATED)***\n",
    "- Once we create ZipFile object,we can add files by using write() method.<br>\n",
    "***f.write(filename)***\n",
    "### To create Unzip file:\n",
    "- f=ZipFile('files.zip','r',ZIP_STORED)\n",
    "- ZIP_STORED represents unzip operation.This is default value and hence we are not required to specify.\n",
    "- Once we created ZipFile object for unzip operation,we can get all file names present in that zip file by using namelist() method.\n",
    "   - names=f.namelist()"
   ]
  },
  {
   "cell_type": "code",
   "execution_count": 3,
   "metadata": {},
   "outputs": [
    {
     "name": "stdout",
     "output_type": "stream",
     "text": [
      "Zipfile.zip file created succesfully\n"
     ]
    }
   ],
   "source": [
    "#Example for zip operation\n",
    "from zipfile import *\n",
    "f=ZipFile('Zipfile.zip','w',ZIP_DEFLATED)\n",
    "f.write('Zip1.txt')\n",
    "f.write('zip2.txt')\n",
    "f.close()\n",
    "print('Zipfile.zip file created succesfully')"
   ]
  },
  {
   "cell_type": "code",
   "execution_count": 7,
   "metadata": {},
   "outputs": [
    {
     "name": "stdout",
     "output_type": "stream",
     "text": [
      "file name: Zip1.txt\n",
      "the content of this file:\n",
      "sunny\n",
      "bunny\n",
      "vinny\n",
      "chinny\n",
      "\n",
      "*********************************************\n",
      "file name: zip2.txt\n",
      "the content of this file:\n",
      "Harish\n",
      "Nikki\n",
      "*********************************************\n"
     ]
    }
   ],
   "source": [
    "#Example for unzip operation:\n",
    "from zipfile import *\n",
    "f=ZipFile(\"Zipfile.zip\",'r',ZIP_STORED)\n",
    "names=f.namelist()\n",
    "for name in names:\n",
    "    print(\"file name:\",name)\n",
    "    print(\"the content of this file:\")\n",
    "    f1=open(name,'r')\n",
    "    print(f1.read())\n",
    "    print(\"*\"*45)"
   ]
  },
  {
   "cell_type": "code",
   "execution_count": null,
   "metadata": {},
   "outputs": [],
   "source": []
  },
  {
   "cell_type": "code",
   "execution_count": null,
   "metadata": {},
   "outputs": [],
   "source": []
  }
 ],
 "metadata": {
  "kernelspec": {
   "display_name": "Python 3",
   "language": "python",
   "name": "python3"
  },
  "language_info": {
   "codemirror_mode": {
    "name": "ipython",
    "version": 3
   },
   "file_extension": ".py",
   "mimetype": "text/x-python",
   "name": "python",
   "nbconvert_exporter": "python",
   "pygments_lexer": "ipython3",
   "version": "3.6.9"
  }
 },
 "nbformat": 4,
 "nbformat_minor": 2
}
