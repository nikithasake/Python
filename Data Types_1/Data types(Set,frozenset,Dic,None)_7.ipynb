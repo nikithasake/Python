{
 "cells": [
  {
   "cell_type": "markdown",
   "metadata": {},
   "source": [
    "# Set Data type\n",
    "- If we want to represent a group of values without duplicates where order is not important then we should go for set Data Type.\n",
    "    - insertion order is not preserved \n",
    "    - duplicates are not allowed.\n",
    "    - Set is mutable\n",
    "    - heterogenous objects are allowed\n",
    "    - index and slicing concepts is not applicable\n",
    "    - Growable in nature"
   ]
  },
  {
   "cell_type": "code",
   "execution_count": 6,
   "metadata": {},
   "outputs": [
    {
     "name": "stdout",
     "output_type": "stream",
     "text": [
      "<class 'set'>\n",
      "{10, 20, 30}\n"
     ]
    },
    {
     "ename": "TypeError",
     "evalue": "'set' object does not support indexing",
     "output_type": "error",
     "traceback": [
      "\u001b[0;31m---------------------------------------------------------------------------\u001b[0m",
      "\u001b[0;31mTypeError\u001b[0m                                 Traceback (most recent call last)",
      "\u001b[0;32m<ipython-input-6-ca4844213d18>\u001b[0m in \u001b[0;36m<module>\u001b[0;34m()\u001b[0m\n\u001b[1;32m      2\u001b[0m \u001b[0mprint\u001b[0m\u001b[0;34m(\u001b[0m\u001b[0mtype\u001b[0m\u001b[0;34m(\u001b[0m\u001b[0ms\u001b[0m\u001b[0;34m)\u001b[0m\u001b[0;34m)\u001b[0m\u001b[0;34m\u001b[0m\u001b[0;34m\u001b[0m\u001b[0m\n\u001b[1;32m      3\u001b[0m \u001b[0mprint\u001b[0m\u001b[0;34m(\u001b[0m\u001b[0ms\u001b[0m\u001b[0;34m)\u001b[0m\u001b[0;34m\u001b[0m\u001b[0;34m\u001b[0m\u001b[0m\n\u001b[0;32m----> 4\u001b[0;31m \u001b[0mprint\u001b[0m\u001b[0;34m(\u001b[0m\u001b[0ms\u001b[0m\u001b[0;34m[\u001b[0m\u001b[0;36m0\u001b[0m\u001b[0;34m]\u001b[0m\u001b[0;34m)\u001b[0m\u001b[0;34m\u001b[0m\u001b[0;34m\u001b[0m\u001b[0m\n\u001b[0m",
      "\u001b[0;31mTypeError\u001b[0m: 'set' object does not support indexing"
     ]
    }
   ],
   "source": [
    "s={10,20,30,10,20,30}\n",
    "print(type(s))\n",
    "print(s)\n",
    "print(s[0])#index and slicing is not applicable bcse internally order is not there"
   ]
  },
  {
   "cell_type": "code",
   "execution_count": 7,
   "metadata": {},
   "outputs": [
    {
     "ename": "TypeError",
     "evalue": "'set' object is not subscriptable",
     "output_type": "error",
     "traceback": [
      "\u001b[0;31m---------------------------------------------------------------------------\u001b[0m",
      "\u001b[0;31mTypeError\u001b[0m                                 Traceback (most recent call last)",
      "\u001b[0;32m<ipython-input-7-50738704db02>\u001b[0m in \u001b[0;36m<module>\u001b[0;34m()\u001b[0m\n\u001b[0;32m----> 1\u001b[0;31m \u001b[0ms\u001b[0m\u001b[0;34m[\u001b[0m\u001b[0;36m1\u001b[0m\u001b[0;34m:\u001b[0m\u001b[0;34m]\u001b[0m\u001b[0;34m\u001b[0m\u001b[0;34m\u001b[0m\u001b[0m\n\u001b[0m",
      "\u001b[0;31mTypeError\u001b[0m: 'set' object is not subscriptable"
     ]
    }
   ],
   "source": [
    "s[1:]#subscriptable means subset/slice"
   ]
  },
  {
   "cell_type": "code",
   "execution_count": 1,
   "metadata": {},
   "outputs": [
    {
     "name": "stdout",
     "output_type": "stream",
     "text": [
      "140020156210088\n",
      "{10, 20, 50, 30}\n",
      "{10, 50, 30}\n",
      "140020156210088\n"
     ]
    }
   ],
   "source": [
    "#append method is  applicable for list only but not for set\n",
    "f={10,20,30}\n",
    "print(id(f))\n",
    "f.add(50)\n",
    "print(f)\n",
    "f.remove(20)\n",
    "print(f)\n",
    "print(id(f))"
   ]
  },
  {
   "cell_type": "code",
   "execution_count": 25,
   "metadata": {},
   "outputs": [
    {
     "name": "stdout",
     "output_type": "stream",
     "text": [
      "{0, 1, 2, 3, 4, 5, 6, 7, 8, 9}\n"
     ]
    }
   ],
   "source": [
    "s=set()\n",
    "for i in range(10):\n",
    "    s.add(i)\n",
    "print(s)"
   ]
  },
  {
   "cell_type": "code",
   "execution_count": 2,
   "metadata": {},
   "outputs": [
    {
     "name": "stdout",
     "output_type": "stream",
     "text": [
      "{'Nimbu', 'Harish', 10, 'Nikki'}\n"
     ]
    }
   ],
   "source": [
    "#order is not important in set\n",
    "b={\"Nimbu\",\"Harish\",\"Nikki\",10}\n",
    "print(b)"
   ]
  },
  {
   "cell_type": "markdown",
   "metadata": {},
   "source": [
    "# frozenset Data type\n",
    "- It is exactly same as set that is immutable"
   ]
  },
  {
   "cell_type": "code",
   "execution_count": 28,
   "metadata": {},
   "outputs": [
    {
     "name": "stdout",
     "output_type": "stream",
     "text": [
      "<class 'frozenset'>\n",
      "frozenset({40, 10, 20, 50})\n"
     ]
    },
    {
     "ename": "AttributeError",
     "evalue": "'frozenset' object has no attribute 'add'",
     "output_type": "error",
     "traceback": [
      "\u001b[0;31m---------------------------------------------------------------------------\u001b[0m",
      "\u001b[0;31mAttributeError\u001b[0m                            Traceback (most recent call last)",
      "\u001b[0;32m<ipython-input-28-78030e9d3c42>\u001b[0m in \u001b[0;36m<module>\u001b[0;34m()\u001b[0m\n\u001b[1;32m      3\u001b[0m \u001b[0mprint\u001b[0m\u001b[0;34m(\u001b[0m\u001b[0mtype\u001b[0m\u001b[0;34m(\u001b[0m\u001b[0mfs\u001b[0m\u001b[0;34m)\u001b[0m\u001b[0;34m)\u001b[0m\u001b[0;34m\u001b[0m\u001b[0;34m\u001b[0m\u001b[0m\n\u001b[1;32m      4\u001b[0m \u001b[0mprint\u001b[0m\u001b[0;34m(\u001b[0m\u001b[0mfs\u001b[0m\u001b[0;34m)\u001b[0m\u001b[0;34m\u001b[0m\u001b[0;34m\u001b[0m\u001b[0m\n\u001b[0;32m----> 5\u001b[0;31m \u001b[0mfs\u001b[0m\u001b[0;34m.\u001b[0m\u001b[0madd\u001b[0m\u001b[0;34m(\u001b[0m\u001b[0;36m30\u001b[0m\u001b[0;34m)\u001b[0m\u001b[0;34m\u001b[0m\u001b[0;34m\u001b[0m\u001b[0m\n\u001b[0m",
      "\u001b[0;31mAttributeError\u001b[0m: 'frozenset' object has no attribute 'add'"
     ]
    }
   ],
   "source": [
    "# order is not important\n",
    "# add and remove is not applicable for frozenset\n",
    "c={10,20,40,50}\n",
    "fs=frozenset(c)\n",
    "print(type(fs))\n",
    "print(fs)\n",
    "fs.add(30)"
   ]
  },
  {
   "cell_type": "code",
   "execution_count": 30,
   "metadata": {},
   "outputs": [
    {
     "ename": "AttributeError",
     "evalue": "'frozenset' object has no attribute 'remove'",
     "output_type": "error",
     "traceback": [
      "\u001b[0;31m---------------------------------------------------------------------------\u001b[0m",
      "\u001b[0;31mAttributeError\u001b[0m                            Traceback (most recent call last)",
      "\u001b[0;32m<ipython-input-30-b658f8c94e09>\u001b[0m in \u001b[0;36m<module>\u001b[0;34m()\u001b[0m\n\u001b[0;32m----> 1\u001b[0;31m \u001b[0mfs\u001b[0m\u001b[0;34m.\u001b[0m\u001b[0mremove\u001b[0m\u001b[0;34m(\u001b[0m\u001b[0;36m10\u001b[0m\u001b[0;34m)\u001b[0m\u001b[0;34m\u001b[0m\u001b[0;34m\u001b[0m\u001b[0m\n\u001b[0m",
      "\u001b[0;31mAttributeError\u001b[0m: 'frozenset' object has no attribute 'remove'"
     ]
    }
   ],
   "source": [
    "fs.remove(10)"
   ]
  },
  {
   "cell_type": "markdown",
   "metadata": {},
   "source": [
    "# Dict Data type\n",
    "- If we want to represent a group of values as key-value pairs then we should go for dict data type.\n",
    "- It is mutable but order is not important.\n",
    "- Duplicates keys are not allowed but values can be duplicated..If we are trying with duplicate key then old value will be replaced with new value."
   ]
  },
  {
   "cell_type": "code",
   "execution_count": 2,
   "metadata": {},
   "outputs": [
    {
     "name": "stdout",
     "output_type": "stream",
     "text": [
      "<class 'dict'>\n",
      "{100: 'Nimbu', 200: 'Harish', 300: 'Nikki'}\n",
      "{100: 'nani', 200: 'Harish', 300: 'Nikki'}\n"
     ]
    }
   ],
   "source": [
    "d={100:\"Nimbu\",200:\"Harish\",300:\"Nikki\"}\n",
    "print(type(d))\n",
    "print(d)\n",
    "d[100]=\"nani\"\n",
    "print(d)"
   ]
  },
  {
   "cell_type": "code",
   "execution_count": 3,
   "metadata": {},
   "outputs": [
    {
     "data": {
      "text/plain": [
       "dict"
      ]
     },
     "execution_count": 3,
     "metadata": {},
     "output_type": "execute_result"
    }
   ],
   "source": [
    "#If we take jst  curly braces it is  always treat as empty dictionary \n",
    "#Why it treats as dictionary by default dict is most commomnly used\n",
    "d1={}\n",
    "type(d1)"
   ]
  },
  {
   "cell_type": "code",
   "execution_count": 5,
   "metadata": {},
   "outputs": [
    {
     "data": {
      "text/plain": [
       "set"
      ]
     },
     "execution_count": 5,
     "metadata": {},
     "output_type": "execute_result"
    }
   ],
   "source": [
    "#If we want to create empty set\n",
    "d2=set()\n",
    "type(d2)"
   ]
  },
  {
   "cell_type": "markdown",
   "metadata": {},
   "source": [
    "## Difference b/w Dict and list,tuple,set,frozenset,range,bytes,bytearray\n",
    "- In dict we can represents the value as key-value pairs.... list is represents the values individually where order is prserved and duplicates are allowed,it is mutable .....tuple is immutable.....set  is not allowed duplicates and order is not important ,set is mutable..frozenset is immutable...... range represents the sequence of values..It is immutable"
   ]
  },
  {
   "cell_type": "markdown",
   "metadata": {},
   "source": [
    "# Difference b/w list and set\n",
    "- In the case of list insertion order are preserved..In the case of set insertion order are  not preserved\n",
    "- In the case of list duplicates are allowed....In the case of set duplicates are not allowed.\n",
    "- list can be represented within square braces..Set can be represented within curly braces."
   ]
  },
  {
   "cell_type": "markdown",
   "metadata": {},
   "source": [
    "## Note:\n",
    "- We can use bytes and bytearry datatypessss to represent binary information like images,video files etc\n",
    "- In python2 long data type is available.But in python3 it is not available and we can represnt long values also by using int type only.\n",
    "- In python2 there is no char data type.Hence we can represent char values also by using str type."
   ]
  },
  {
   "cell_type": "markdown",
   "metadata": {},
   "source": [
    "# None Data type\n",
    "- None means ntg or no value associated.\n",
    "- If the value is not available,then to handle such type of cases None introduced.It is smtg like null value in Java."
   ]
  },
  {
   "cell_type": "code",
   "execution_count": 4,
   "metadata": {},
   "outputs": [
    {
     "name": "stdout",
     "output_type": "stream",
     "text": [
      "None\n"
     ]
    }
   ],
   "source": [
    "#Inside jst declare  a variable(a=10) but it is not returning that anything..so it is not returned value.to handle this we use None  \n",
    "def m1():\n",
    "    a=10\n",
    "print(m1())"
   ]
  },
  {
   "cell_type": "code",
   "execution_count": 17,
   "metadata": {},
   "outputs": [
    {
     "name": "stdout",
     "output_type": "stream",
     "text": [
      "Hello Don't be like None\n",
      "Hello Don't be like None\n"
     ]
    }
   ],
   "source": [
    "def f1():\n",
    "    print(\"Hello Don't be like None\")\n",
    "f1()\n",
    "f1()"
   ]
  },
  {
   "cell_type": "code",
   "execution_count": 25,
   "metadata": {},
   "outputs": [
    {
     "ename": "SyntaxError",
     "evalue": "unexpected EOF while parsing (<ipython-input-25-a1149d54e52e>, line 1)",
     "output_type": "error",
     "traceback": [
      "\u001b[0;36m  File \u001b[0;32m\"<ipython-input-25-a1149d54e52e>\"\u001b[0;36m, line \u001b[0;32m1\u001b[0m\n\u001b[0;31m    def f2():\u001b[0m\n\u001b[0m             ^\u001b[0m\n\u001b[0;31mSyntaxError\u001b[0m\u001b[0;31m:\u001b[0m unexpected EOF while parsing\n"
     ]
    }
   ],
   "source": [
    "def f2():"
   ]
  },
  {
   "cell_type": "code",
   "execution_count": 26,
   "metadata": {},
   "outputs": [],
   "source": [
    "#This function is not doing anything-use pass\n",
    "#No value-use None  \n",
    "def f2():\n",
    "    pass"
   ]
  },
  {
   "cell_type": "markdown",
   "metadata": {},
   "source": [
    "## Escape Characters\n",
    "- In string literals we can use escape characters to associate a special meaning.\n",
    " - \\n ==>Newline \n",
    " - \\t ==>Horizontal tab\n",
    " - \\r ==>Carriage Return\n",
    " - \\b ==>Back space\n",
    " - \\f ==>Form Feed\n",
    " - \\v ==>Vertical tab\n",
    " - \\' ==>Single quote\n",
    " - \\\" ==>Double quote\n",
    " - \\\\ ==>back slash symbol"
   ]
  },
  {
   "cell_type": "code",
   "execution_count": 30,
   "metadata": {},
   "outputs": [
    {
     "name": "stdout",
     "output_type": "stream",
     "text": [
      "Nikitha\n",
      "Sake\n",
      "Neelima\tSake\n",
      "Harish'Sake\n"
     ]
    }
   ],
   "source": [
    "s=\"Nikitha\\nSake\"\n",
    "print(s)\n",
    "s=\"Neelima\\tSake\"\n",
    "print(s)\n",
    "s=\"Harish\\'Sake\"\n",
    "print(s)"
   ]
  },
  {
   "cell_type": "code",
   "execution_count": 36,
   "metadata": {},
   "outputs": [
    {
     "ename": "SyntaxError",
     "evalue": "invalid syntax (<ipython-input-36-654c14c74bc2>, line 1)",
     "output_type": "error",
     "traceback": [
      "\u001b[0;36m  File \u001b[0;32m\"<ipython-input-36-654c14c74bc2>\"\u001b[0;36m, line \u001b[0;32m1\u001b[0m\n\u001b[0;31m    s=\"Python is \"very\" easy\"\u001b[0m\n\u001b[0m                     ^\u001b[0m\n\u001b[0;31mSyntaxError\u001b[0m\u001b[0;31m:\u001b[0m invalid syntax\n"
     ]
    }
   ],
   "source": [
    "s=\"Python is \"very\" easy\"\n",
    "print(s)"
   ]
  },
  {
   "cell_type": "code",
   "execution_count": 33,
   "metadata": {},
   "outputs": [
    {
     "name": "stdout",
     "output_type": "stream",
     "text": [
      "Python is \"very\" easy\n"
     ]
    }
   ],
   "source": [
    "s=\"Python is \\\"very\\\" easy\"\n",
    "print(s)"
   ]
  },
  {
   "cell_type": "code",
   "execution_count": 37,
   "metadata": {},
   "outputs": [
    {
     "name": "stdout",
     "output_type": "stream",
     "text": [
      "Python is \"very\" easy\n"
     ]
    }
   ],
   "source": [
    "s='Python is \"very\" easy'\n",
    "print(s)"
   ]
  },
  {
   "cell_type": "code",
   "execution_count": 42,
   "metadata": {},
   "outputs": [
    {
     "name": "stdout",
     "output_type": "stream",
     "text": [
      "fundamental 'data types' are \"five\" in python\n",
      "fundamental 'data types' are \"five\" in python\n",
      "fundamental 'data types' are \"five\" in python\n",
      "fundamental 'data types' are \"five\" in python\n"
     ]
    }
   ],
   "source": [
    "l='''fundamental 'data types' are \"five\" in python'''\n",
    "print(l)\n",
    "l=\"\"\"fundamental 'data types' are \"five\" in python\"\"\"\n",
    "print(l)\n",
    "l='fundamental \\'data types\\' are \\\"five\\\" in python'\n",
    "print(l)\n",
    "l=\"fundamental \\'data types\\' are \\\"five\\\" in python\"\n",
    "print(l)"
   ]
  },
  {
   "cell_type": "markdown",
   "metadata": {},
   "source": [
    "## Constants\n",
    "- Constants means value never change..\n",
    "- Constants concepts is not applicable in python.There is no way to specify the constant.. But it is convention to use only uppercase characters if we dont want to change value\n",
    "- MAX_VALUE=10\n",
    "- It is jst convention but we can change the value..But in java final keyword is there to represents constants.\n",
    "-"
   ]
  },
  {
   "cell_type": "code",
   "execution_count": null,
   "metadata": {},
   "outputs": [],
   "source": []
  }
 ],
 "metadata": {
  "kernelspec": {
   "display_name": "Python 3",
   "language": "python",
   "name": "python3"
  },
  "language_info": {
   "codemirror_mode": {
    "name": "ipython",
    "version": 3
   },
   "file_extension": ".py",
   "mimetype": "text/x-python",
   "name": "python",
   "nbconvert_exporter": "python",
   "pygments_lexer": "ipython3",
   "version": "3.6.9"
  }
 },
 "nbformat": 4,
 "nbformat_minor": 2
}
