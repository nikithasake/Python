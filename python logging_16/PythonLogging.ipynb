{
 "cells": [
  {
   "cell_type": "markdown",
   "metadata": {},
   "source": [
    "# python Logging:\n",
    "- It is highly recommended to store complete application flow and exceptions information to a file.This process is called logging.\n",
    "- lab exams-there is one log book...we have to write which system and what time you entered lab...\n",
    "- internet centre--at what time you entered...if something goes hpn on one system we can identified easily that person which person is used that system...\n",
    "- At what time we birth(DOB)...\n",
    "- videos are recording then we have to listen in future also...\n",
    "#### Adv:\n",
    "- By using log files we can debugging..\n",
    "- like number of rqst came from some state\n",
    "- To implement logging python contain one inbuilt module called logging..\n",
    "## what is the difference b/w logging and database?\n",
    "- our application data we can store in data base like customer info..\n",
    "- application imp events will be recorded in logging.."
   ]
  },
  {
   "cell_type": "markdown",
   "metadata": {},
   "source": [
    "### Logging levels\n",
    "- Depending on type of information,logging data is divided according to the following 6 levels in python.<br>\n",
    "1.CRITICAL:(50)==> Represents a very serious problem that needs high attention.<br>\n",
    "2.ERROR:(40) ==> Represents a serious error.<br>\n",
    "3.WARNING:(30) ==> Represents a warning message,some caution needed.it is alert to the programmer.<br>\n",
    "4.INFO:(20) ==> Represents a message with some important information.<br>\n",
    "5.DEBUG:(10) ==> Represnts a message with Debugging information.<br>\n",
    "6.NOTSET:(0) ==> Represents that the level is not set.<br>\n",
    "- By default while executing python program only WARNING and higher level messages(ERROR AND CRITICAL) will be displayed."
   ]
  },
  {
   "cell_type": "markdown",
   "metadata": {},
   "source": [
    "# How to implement logging?\n",
    "- To perform logging first we required to create a file to store msg and we have to specify which level of msgs we have to store.<br>\n",
    "Two types of information we have to specify\n",
    "- we have to specify name of the file.\n",
    "- in which level msgs we have to store.\n",
    "- we can do this by using basicConfig() of logging module.<br>\n",
    "logging.basicConfig(filename='log.txt',level=logging.WARNING)# to which file we have to write-log.txt<br>\n",
    "- if the log.txt is not there..this log file will be create automatically...levels are in uppercase(WARNING)<br>\n",
    "- after creating log file we can write msgs to that file by using following methods<br>\n",
    "1 logging.debug(msg)<br>\n",
    "2 logging.info(msg)<br>\n",
    "3 logging.warning(msg)<br>\n",
    "4 logging.error(msg)<br>\n",
    "5 logging.critical(msg)<br>"
   ]
  },
  {
   "cell_type": "code",
   "execution_count": 1,
   "metadata": {},
   "outputs": [
    {
     "name": "stdout",
     "output_type": "stream",
     "text": [
      "python logging demo\n"
     ]
    }
   ],
   "source": [
    "#Write a Python program to create a log file and write WARNING and higher level messages(CRITICAL,ERROR)?\n",
    "#root is main part of the program..\n",
    "import logging\n",
    "logging.basicConfig(filename='logggg.txt',level=logging.WARNING)\n",
    "print(\"python logging demo\")\n",
    "logging.debug(\"debug msg\")\n",
    "logging.info(\"info msg\")\n",
    "logging.warning(\"warning msg\")\n",
    "logging.error(\"error msg\")\n",
    "logging.critical(\"critical msg\")"
   ]
  },
  {
   "cell_type": "code",
   "execution_count": 2,
   "metadata": {},
   "outputs": [
    {
     "name": "stdout",
     "output_type": "stream",
     "text": [
      "python logging demo\n"
     ]
    }
   ],
   "source": [
    "import logging\n",
    "logging.basicConfig(filename='logggg.txt')\n",
    "print(\"python logging demo\")\n",
    "logging.debug(\"debug msg\")\n",
    "logging.info(\"info msg\")\n",
    "logging.warning(\"warning msg by default\")\n",
    "logging.error(\"error msg\")\n",
    "logging.critical(\"critical msg\")"
   ]
  },
  {
   "cell_type": "code",
   "execution_count": 7,
   "metadata": {},
   "outputs": [
    {
     "name": "stdout",
     "output_type": "stream",
     "text": [
      "python logging demo\n"
     ]
    }
   ],
   "source": [
    "import logging\n",
    "logging.basicConfig(filename='logggg1.txt',level=logging.DEBUG)\n",
    "print(\"python logging demo\")\n",
    "logging.debug(\"debug msg\")\n",
    "logging.info(\"info msg\")\n",
    "logging.warning(\"warning msg\")\n",
    "logging.error(\"error msg\")\n",
    "logging.critical(\"critical msg\")"
   ]
  },
  {
   "cell_type": "markdown",
   "metadata": {},
   "source": [
    "### How to write Python program exceptions to the log file:\n",
    "- By using the following function we can write exceptions information to the log file.\n",
    "   - logging.execption(msg)"
   ]
  },
  {
   "cell_type": "code",
   "execution_count": 14,
   "metadata": {},
   "outputs": [
    {
     "name": "stdout",
     "output_type": "stream",
     "text": [
      "Enter first number:10\n",
      "Enter second number:5\n",
      "2.0\n"
     ]
    }
   ],
   "source": [
    "import logging\n",
    "logging.basicConfig(filename='logggg1.txt',level=logging.INFO)\n",
    "logging.info(\"A new request came\")\n",
    "try:\n",
    "    x=int(input(\"Enter first number:\"))\n",
    "    y=int(input(\"Enter second number:\"))\n",
    "    print(x/y)\n",
    "except ZeroDivisionError as msg:\n",
    "    print(\"cannot divide with zero\")\n",
    "    logging.exception(msg)\n",
    "except ValueError as msg:\n",
    "    print(\"enter only int value\")\n",
    "    logging.exception(msg)\n",
    "logging.info(\"Request processing completed\")"
   ]
  },
  {
   "cell_type": "code",
   "execution_count": 15,
   "metadata": {},
   "outputs": [
    {
     "name": "stdout",
     "output_type": "stream",
     "text": [
      "Enter first number:10\n",
      "Enter second number:0\n",
      "cannot divide with zero\n"
     ]
    }
   ],
   "source": [
    "import logging\n",
    "logging.basicConfig(filename='logggg1.txt',level=logging.INFO)\n",
    "logging.info(\"A new request came\")\n",
    "try:\n",
    "    x=int(input(\"Enter first number:\"))\n",
    "    y=int(input(\"Enter second number:\"))\n",
    "    print(x/y)\n",
    "except ZeroDivisionError as msg:\n",
    "    print(\"cannot divide with zero\")\n",
    "    logging.exception(msg)\n",
    "except ValueError as msg:\n",
    "    print(\"enter only int value\")\n",
    "    logging.exception(msg)\n",
    "logging.info(\"Request processing completed\")"
   ]
  },
  {
   "cell_type": "code",
   "execution_count": 16,
   "metadata": {},
   "outputs": [
    {
     "name": "stdout",
     "output_type": "stream",
     "text": [
      "Enter first number:10\n",
      "Enter second number:ten\n",
      "enter only int value\n"
     ]
    }
   ],
   "source": [
    "import logging\n",
    "logging.basicConfig(filename='logggg1.txt',level=logging.INFO)\n",
    "logging.info(\"A new request came\")\n",
    "try:\n",
    "    x=int(input(\"Enter first number:\"))\n",
    "    y=int(input(\"Enter second number:\"))\n",
    "    print(x/y)\n",
    "except ZeroDivisionError as msg:\n",
    "    print(\"cannot divide with zero\")\n",
    "    logging.exception(msg)\n",
    "except ValueError as msg:\n",
    "    print(\"enter only int value\")\n",
    "    logging.exception(msg)\n",
    "logging.info(\"Request processing completed\")"
   ]
  },
  {
   "cell_type": "markdown",
   "metadata": {},
   "source": [
    "### wt is the difference b/w logging and exception handling\n",
    "- logging: every activity is recorded even something goes wrong this information will be helpful\n",
    "- exception handling:if something goes wrong our program shouldn't go Abnormally we have to define alternative way.."
   ]
  },
  {
   "cell_type": "markdown",
   "metadata": {},
   "source": []
  }
 ],
 "metadata": {
  "kernelspec": {
   "display_name": "Python 3",
   "language": "python",
   "name": "python3"
  },
  "language_info": {
   "codemirror_mode": {
    "name": "ipython",
    "version": 3
   },
   "file_extension": ".py",
   "mimetype": "text/x-python",
   "name": "python",
   "nbconvert_exporter": "python",
   "pygments_lexer": "ipython3",
   "version": "3.9.6"
  }
 },
 "nbformat": 4,
 "nbformat_minor": 2
}
