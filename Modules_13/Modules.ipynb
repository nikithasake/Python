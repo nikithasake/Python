{
 "cells": [
  {
   "cell_type": "markdown",
   "metadata": {},
   "source": [
    "# Modules\n",
    "- Group of functions and variables,classes saved to a file.\n",
    "- Every python file(.py) acts as a module.\n",
    "#### Adv:\n",
    "- code reusability\n",
    "- length of the code will be reduced and readability improved.\n",
    "- maintanability\n"
   ]
  },
  {
   "cell_type": "code",
   "execution_count": 5,
   "metadata": {},
   "outputs": [],
   "source": [
    "#durgamath.py \n",
    "#durgamath module contains one variable and 2 functions.\n",
    "x=888\n",
    "y=999\n",
    "def add(a,b):\n",
    "    print(\"Sum:\",(a+b))\n",
    "def product(a,b):\n",
    "    print(\"product:\",(a*b))"
   ]
  },
  {
   "cell_type": "code",
   "execution_count": null,
   "metadata": {},
   "outputs": [],
   "source": [
    "import durgamath\n",
    "print(durgamath.x)\n",
    "print(durgamath.y)\n",
    "durgamath.add(10,20)\n",
    "durgamath.product(10,20)\n",
    "#o/p:\n",
    "888\n",
    "999\n",
    "sum:30\n",
    "product:200"
   ]
  },
  {
   "cell_type": "markdown",
   "metadata": {},
   "source": [
    "### important \n",
    "* for every module PYC(python compiled file) will be generated and it will be saved in _pycache"
   ]
  },
  {
   "cell_type": "markdown",
   "metadata": {},
   "source": [
    "### Renaming a module at the time of import(module aliasing)\n",
    "**Eg**:import durgamath as m\n",
    "- Here durgamath is original module name and m is alias name.\n",
    "- We can access members by using alias name m."
   ]
  },
  {
   "cell_type": "code",
   "execution_count": null,
   "metadata": {},
   "outputs": [],
   "source": [
    "import durgamath as m\n",
    "print(m.x)\n",
    "print(m.y)\n",
    "m.add(10,20)\n",
    "m.product(10,20)\n",
    "#888\n",
    "999\n",
    "sum:30\n",
    "product:200"
   ]
  },
  {
   "cell_type": "markdown",
   "metadata": {},
   "source": [
    "## from...import\n",
    "- We can import particular members of module by using from....import.\n",
    "- The main advantages of this is we can access members directly without using module name."
   ]
  },
  {
   "cell_type": "code",
   "execution_count": null,
   "metadata": {},
   "outputs": [],
   "source": [
    "from durgamath import x,add\n",
    "print(x)\n",
    "add(10,20)\n",
    "product(10,20)\n",
    "#o/p:\n",
    "NameError:name 'product' is not defined"
   ]
  },
  {
   "cell_type": "code",
   "execution_count": null,
   "metadata": {},
   "outputs": [],
   "source": [
    "from durgamath import *\n",
    "print(x)\n",
    "add(10,20)\n",
    "product(10,20)\n",
    "#o/p:\n",
    "888\n",
    "30\n",
    "200"
   ]
  },
  {
   "cell_type": "markdown",
   "metadata": {},
   "source": [
    "## Various possibilities of import\n",
    "- import modulename\n",
    "- import module1,module2,module3\n",
    "- import module1 as m\n",
    "- import module1 as m1,module2 as m2,module3 as m3\n",
    "- from module import member\n",
    "- from module import member1,member2,member3\n",
    "- from module import member1 as x\n",
    "- from module import *"
   ]
  },
  {
   "cell_type": "markdown",
   "metadata": {},
   "source": [
    "## member aliasing\n",
    "- Once we defined as alias name,we should use alias name only and we should not use original name."
   ]
  },
  {
   "cell_type": "code",
   "execution_count": null,
   "metadata": {},
   "outputs": [],
   "source": [
    "from durgamath import x as a,y as b,add as c,product as d\n",
    "print(a)\n",
    "c(10,20)\n",
    "d(10,20)\n",
    "print(b)\n",
    "o/p:888\n",
    "30\n",
    "200\n",
    "999"
   ]
  },
  {
   "cell_type": "code",
   "execution_count": null,
   "metadata": {},
   "outputs": [],
   "source": [
    "from durgamath as m import x\n",
    "print(x)\n",
    "#o/p:\n",
    "SyntaxError:invalid syntax"
   ]
  },
  {
   "cell_type": "code",
   "execution_count": null,
   "metadata": {},
   "outputs": [],
   "source": [
    "#durgamath is one module and random as a is one module..but member 'b' is which module\n",
    "import durgamath,random as a,b\n",
    "print(x)\n",
    "#o/p:ModuleFoundError:No module named 'b'"
   ]
  },
  {
   "cell_type": "markdown",
   "metadata": {},
   "source": [
    "## Reloading a module:\n",
    "- By default module will be loaded only once eventhough we are importing multiple multiple times.\n",
    "## adv:\n",
    "- less memory\n",
    "- performance is improved.\n",
    "## disadv\n",
    "- Once the module loaded  if it modified outside that updated version is not available.\n",
    "- To overcome this problem..we can reload by using reload() function of imp module."
   ]
  },
  {
   "cell_type": "code",
   "execution_count": null,
   "metadata": {},
   "outputs": [],
   "source": [
    "import Module1\n",
    "from Module1 import *\n",
    "print(\"This is text module\")\n",
    "#o/p:this is from module1#module1.py\n",
    "    #this is text module"
   ]
  },
  {
   "cell_type": "code",
   "execution_count": null,
   "metadata": {},
   "outputs": [],
   "source": [
    "# Once the module loaded if it is outside modified that updated version not available\n",
    "import Module1\n",
    "import Module1\n",
    "import Module1\n",
    "after 10hrs module1 modified\n",
    "import Module1\n",
    "import Module1\n",
    "print(\"This is text module\")"
   ]
  },
  {
   "cell_type": "code",
   "execution_count": null,
   "metadata": {},
   "outputs": [],
   "source": [
    "#\n",
    "import time\n",
    "import module1\n",
    "print(\"program entering into sleeping state\")#after execute this stmt we are modified last stmt in module1.ipynb\n",
    "time.sleep(30)\n",
    "import module1\n",
    "print(\"this is last line of progress\")\n",
    "#o/p:this is from module1\n",
    "# program entering into sleeping state\n",
    "#this is last line of progress"
   ]
  },
  {
   "cell_type": "markdown",
   "metadata": {},
   "source": [
    "- In the below program module1 will be loaded 2 times in that 1 time by default and 2nd time explicitly."
   ]
  },
  {
   "cell_type": "code",
   "execution_count": null,
   "metadata": {},
   "outputs": [],
   "source": [
    "#we can overcome above program problem we can use reduce() of imp module\n",
    "import time\n",
    "from imp import reload\n",
    "import module1\n",
    "print(\"program entering into sleeping state\")#after execute this stmt we are modified last stmt in module1.ipynb\n",
    "time.sleep(30)\n",
    "reload(module1)\n",
    "import module1\n",
    "print(\"this is last line of progress\")\n",
    "#o/p:this is from module1\n",
    "# program entering into sleeping state\n",
    "    #this is modified stmt\n",
    "    #this is last line of progress"
   ]
  },
  {
   "cell_type": "markdown",
   "metadata": {},
   "source": [
    "## Finding members of module by using dir() function\n",
    "- python provides inbuilt function dir() to list out all members of current module or a specified module.\n",
    "- dir()==>To list out all members of current module.\n",
    "- dir(moduleName)==>To list out all members of specified module."
   ]
  },
  {
   "cell_type": "code",
   "execution_count": 1,
   "metadata": {},
   "outputs": [
    {
     "name": "stdout",
     "output_type": "stream",
     "text": [
      "['In', 'Out', '_', '__', '___', '__builtin__', '__builtins__', '__doc__', '__loader__', '__name__', '__package__', '__spec__', '_dh', '_i', '_i1', '_ih', '_ii', '_iii', '_oh', '_sh', 'exit', 'f1', 'get_ipython', 'quit', 'x', 'y']\n"
     ]
    }
   ],
   "source": [
    "x=10\n",
    "y=20\n",
    "def f1():\n",
    "    print(\"Hello\")\n",
    "print(dir())"
   ]
  },
  {
   "cell_type": "code",
   "execution_count": null,
   "metadata": {},
   "outputs": [],
   "source": [
    "#durgamath.py\n",
    "x=888\n",
    "y=999\n",
    "def add(a,b):\n",
    "    print(\"sum:\",a+b)\n",
    "def product(a,b):\n",
    "    print(\"product:\",a*b)"
   ]
  },
  {
   "cell_type": "code",
   "execution_count": null,
   "metadata": {},
   "outputs": [],
   "source": [
    "#test.py\n",
    "import durgamath\n",
    "print(dir(durgamath))\n",
    "o/p:['__builtins__', '__cached__', '__doc__', '__file__', '__loader__', '__name__',\n",
    "'__package__', '__spec__', 'add', 'product', 'x']"
   ]
  },
  {
   "cell_type": "markdown",
   "metadata": {},
   "source": [
    "## Note:\n",
    "- For every module at the time of execution python interpreter will add some special properties automatically for internal use.\n",
    "- Eg: __builtins__,__cached__,'__doc__,__file__, __loader__, __name__,__package__,__spec__\n",
    "- Based on our requirement we can access these properties also in our program."
   ]
  },
  {
   "cell_type": "code",
   "execution_count": null,
   "metadata": {},
   "outputs": [],
   "source": [
    "#test.py\n",
    "print(__builtins__)\n",
    "print(__cached__)\n",
    "print(__doc__)\n",
    "print(__file__)\n",
    "print(__loader__)\n",
    "print(__name__)\n",
    "print(__package__)\n",
    "#o/p:\n",
    "<module 'builtins' (built-in)>\n",
    "None\n",
    "None\n",
    "test.py\n",
    "<_frozen_importlib_external.SourceFileLoader object at 0x00572170>\n",
    "__main__\n",
    "None"
   ]
  },
  {
   "cell_type": "markdown",
   "metadata": {},
   "source": [
    "### The Special variable __name__:"
   ]
  },
  {
   "cell_type": "markdown",
   "metadata": {},
   "source": [
    "- For every Python program , a special variable __name__ will be added internally.\n",
    "- If the program executed as an individual program then the value of this variable is __main__\n",
    "- If the program executed as a module from some other program then the value of this variable is the name of module where it is defined.\n",
    "- Hence by using this __name__ variable we can identify whether the program executed directly or as a module."
   ]
  },
  {
   "cell_type": "code",
   "execution_count": 5,
   "metadata": {},
   "outputs": [
    {
     "name": "stdout",
     "output_type": "stream",
     "text": [
      "The code executed direcly as a program\n",
      "The value of __name__: __main__\n"
     ]
    }
   ],
   "source": [
    "#module1.py\n",
    "def f1():\n",
    "    if __name__==\"__main__\":\n",
    "        print(\"The code executed direcly as a program\")\n",
    "        print(\"The value of __name__:\",__name__)\n",
    "    else:\n",
    "        print(\"The code executed indirectly as a module from some other program\")\n",
    "        print(\"The value of __name__:\",__name__)\n",
    "f1()"
   ]
  },
  {
   "cell_type": "code",
   "execution_count": null,
   "metadata": {},
   "outputs": [],
   "source": [
    "#test.py\n",
    "import module1\n",
    "print(\"from test we are executing module f1()\")\n",
    "module1.f1()\n",
    "o/p:\n",
    "The code executed indirectly as a module from some other program\n",
    "The value of __name__: __module1__\n",
    "from test we are executing module f1()\n",
    "The code executed indirectly as a module from some other program\n",
    "The value of __name__: __module1__"
   ]
  },
  {
   "cell_type": "code",
   "execution_count": null,
   "metadata": {},
   "outputs": [],
   "source": []
  },
  {
   "cell_type": "code",
   "execution_count": null,
   "metadata": {},
   "outputs": [],
   "source": []
  },
  {
   "cell_type": "code",
   "execution_count": null,
   "metadata": {},
   "outputs": [],
   "source": []
  },
  {
   "cell_type": "code",
   "execution_count": null,
   "metadata": {},
   "outputs": [],
   "source": []
  }
 ],
 "metadata": {
  "kernelspec": {
   "display_name": "Python 3",
   "language": "python",
   "name": "python3"
  },
  "language_info": {
   "codemirror_mode": {
    "name": "ipython",
    "version": 3
   },
   "file_extension": ".py",
   "mimetype": "text/x-python",
   "name": "python",
   "nbconvert_exporter": "python",
   "pygments_lexer": "ipython3",
   "version": "3.6.9"
  }
 },
 "nbformat": 4,
 "nbformat_minor": 2
}
