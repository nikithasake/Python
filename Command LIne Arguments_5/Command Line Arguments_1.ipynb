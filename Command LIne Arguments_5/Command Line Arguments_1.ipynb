{
 "cells": [
  {
   "cell_type": "markdown",
   "metadata": {},
   "source": [
    "# Command Line Arguments\n",
    "- The argument which are passing at the time of execution are called Command Line Arguments.\n",
    "- by using argv(predefined variable) we are get arguments what we are passed from command prompt.\n",
    "- argv is not Array it is a list type..it is available in sys Module."
   ]
  },
  {
   "cell_type": "code",
   "execution_count": 4,
   "metadata": {},
   "outputs": [
    {
     "name": "stdout",
     "output_type": "stream",
     "text": [
      "<class 'list'>\n"
     ]
    }
   ],
   "source": [
    "from sys import argv\n",
    "print(type(argv))"
   ]
  },
  {
   "cell_type": "code",
   "execution_count": 6,
   "metadata": {},
   "outputs": [
    {
     "name": "stdout",
     "output_type": "stream",
     "text": [
      "<class 'list'>\n"
     ]
    }
   ],
   "source": [
    "import sys\n",
    "print(type(sys.argv))"
   ]
  },
  {
   "cell_type": "code",
   "execution_count": null,
   "metadata": {},
   "outputs": [],
   "source": [
    "from sys import argv\n",
    "print(argv)\n",
    "print(argv[1:])\n",
    "print(argv[0])\n",
    "# terminal: filename.py 10 20 30\n",
    "# o/p:['filename.py','10','20','30'] ==> argv\n",
    "#      ['10','20','30'] ===> argv[1:]\n",
    "#      filename.py    ====> argv[0]"
   ]
  },
  {
   "cell_type": "markdown",
   "metadata": {},
   "source": [
    " - argv[begin:end:step]....by default begin is start with 0...default value for end is length of list.."
   ]
  },
  {
   "cell_type": "code",
   "execution_count": null,
   "metadata": {},
   "outputs": [],
   "source": [
    "# \n",
    "from sys import argv\n",
    "print(\"The number of command line arguments:\",len(argv))\n",
    "print(\"The list of command line arguments\",argv)\n",
    "print(\"command line arguments one by one:\")\n",
    "for x in argv:\n",
    "    print(x)\n",
    "# terminal:filename.py A B C D\n",
    "# The number of command line arguments:5\n",
    "# The list of command line arguments:['filename.py','A','B','C','D']\n",
    "# command line arguments one by one:\n",
    "# filename.py\n",
    "# A\n",
    "# B\n",
    "# C\n",
    "# D"
   ]
  },
  {
   "cell_type": "code",
   "execution_count": null,
   "metadata": {},
   "outputs": [],
   "source": [
    "from sys import argv\n",
    "sum=0\n",
    "args=argv[1:]\n",
    "for x in args:\n",
    "    n=int(x)\n",
    "    sum=sum+n\n",
    "print(\"sum:\",sum)\n",
    "\n",
    "# terminal:filename.py 10 20 30 40 \n",
    "# o/p sum:100\n",
    "# terminal:filename.py  #if args is 0 then for loop is not executed\n",
    "# o/p sum:0"
   ]
  },
  {
   "cell_type": "markdown",
   "metadata": {},
   "source": [
    "### Note:\n",
    "- Usually space is seperator b/w command line arguments.if our command line argument itself contains space then we should enclose within double quotes(but not single quotes)."
   ]
  },
  {
   "cell_type": "code",
   "execution_count": null,
   "metadata": {},
   "outputs": [],
   "source": [
    "from sys import argv\n",
    "print(argv[1])\n",
    "\n",
    "# terminal:filename.py sunny leone\n",
    "# o/p  sunny\n",
    "\n",
    "# terminal:filename.py \"sunny leone\"\n",
    "# o/p sunny leone\n",
    "\n",
    "# terminal:filename.py 'sunny leone'\n",
    "# o/p 'sunny\n",
    "\n",
    "# terminal:filename.py \"\"\"sunny leone\"\"\"\n",
    "# o/p \"sunny leone\"\n",
    "\n",
    "# terminal:filename.py '''sunny leone'''\n",
    "# o/p '''sunny leone(my o/p) but sir o/p is '''sunny"
   ]
  },
  {
   "cell_type": "markdown",
   "metadata": {},
   "source": [
    "## Note:\n",
    "- within the python program command line arguments are available in the string form.Based on our requirement,we can convert into corresponding type by using type casting methods."
   ]
  },
  {
   "cell_type": "code",
   "execution_count": null,
   "metadata": {},
   "outputs": [],
   "source": [
    "from sys import argv\n",
    "print(argv[1]+argv[2])\n",
    "\n",
    "# terminal:filename.py 10 20\n",
    "# o/p 1020"
   ]
  },
  {
   "cell_type": "code",
   "execution_count": null,
   "metadata": {},
   "outputs": [],
   "source": [
    "from sys import argv\n",
    "print(int(argv[1])+int(argv[2])) # or use eval()\n",
    "\n",
    "# terminal:filename.py 10 20\n",
    "# o/p 30"
   ]
  },
  {
   "cell_type": "markdown",
   "metadata": {},
   "source": [
    "## Note\n",
    "- If we are trying to access command line arguments with out of range index then we will get Error"
   ]
  },
  {
   "cell_type": "code",
   "execution_count": null,
   "metadata": {},
   "outputs": [],
   "source": [
    "from sys import argv\n",
    "print(argv[100])\n",
    "\n",
    "# terminal:filename.py 10 20\n",
    "# o/p: IndexError:list index out of range"
   ]
  },
  {
   "cell_type": "code",
   "execution_count": null,
   "metadata": {},
   "outputs": [],
   "source": [
    "#in slicing we never get error when we give out of range\n",
    "from sys import argv\n",
    "print(argv[1:100])\n",
    "\n",
    "# terminal:filename.py 10 20\n",
    "# o/p: 10 20"
   ]
  },
  {
   "cell_type": "code",
   "execution_count": null,
   "metadata": {},
   "outputs": [],
   "source": []
  }
 ],
 "metadata": {
  "kernelspec": {
   "display_name": "Python 3",
   "language": "python",
   "name": "python3"
  },
  "language_info": {
   "codemirror_mode": {
    "name": "ipython",
    "version": 3
   },
   "file_extension": ".py",
   "mimetype": "text/x-python",
   "name": "python",
   "nbconvert_exporter": "python",
   "pygments_lexer": "ipython3",
   "version": "3.6.9"
  }
 },
 "nbformat": 4,
 "nbformat_minor": 2
}
