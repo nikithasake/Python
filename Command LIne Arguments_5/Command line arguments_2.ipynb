{
 "cells": [
  {
   "cell_type": "markdown",
   "metadata": {},
   "source": [
    "# Output Statements\n",
    "- We can use print() to display output."
   ]
  },
  {
   "cell_type": "markdown",
   "metadata": {},
   "source": [
    "### Form-1:\n",
    "- print() without any argument\n",
    "- just it prints new line character."
   ]
  },
  {
   "cell_type": "code",
   "execution_count": 2,
   "metadata": {},
   "outputs": [
    {
     "name": "stdout",
     "output_type": "stream",
     "text": [
      "Hello\n",
      "\n",
      "Good evng\n"
     ]
    }
   ],
   "source": [
    "print(\"Hello\")\n",
    "print()\n",
    "print(\"Good evng\")"
   ]
  },
  {
   "cell_type": "markdown",
   "metadata": {},
   "source": [
    "### Form-2:\n",
    "- print() with string argument\n",
    "- print(string)"
   ]
  },
  {
   "cell_type": "code",
   "execution_count": 5,
   "metadata": {},
   "outputs": [
    {
     "name": "stdout",
     "output_type": "stream",
     "text": [
      "Hello Nikitha\n",
      "Hello \n",
      " Nikki\n",
      "Hello \t Neelu\n"
     ]
    }
   ],
   "source": [
    "print(\"Hello Nikitha\")\n",
    "print(\"Hello \\n Nikki\")# escape characters\n",
    "print(\"Hello \\t Neelu\")"
   ]
  },
  {
   "cell_type": "markdown",
   "metadata": {},
   "source": [
    "- We can use * repetition operator in the string"
   ]
  },
  {
   "cell_type": "code",
   "execution_count": 7,
   "metadata": {},
   "outputs": [
    {
     "name": "stdout",
     "output_type": "stream",
     "text": [
      "naninaninani\n"
     ]
    }
   ],
   "source": [
    "print(\"nani\"*3)"
   ]
  },
  {
   "cell_type": "markdown",
   "metadata": {},
   "source": [
    "- We can use + operator also"
   ]
  },
  {
   "cell_type": "code",
   "execution_count": 9,
   "metadata": {},
   "outputs": [
    {
     "name": "stdout",
     "output_type": "stream",
     "text": [
      "NikkiNimbu\n"
     ]
    }
   ],
   "source": [
    "print(\"Nikki\"+\"Nimbu\")"
   ]
  },
  {
   "cell_type": "markdown",
   "metadata": {},
   "source": [
    "## Note:\n",
    "- If both arguments are string type then + operator acts as concatenation operator.\n",
    "- If one argument is string type and second is any other type like int then we will get Error.\n",
    "- If both arguments are number type then + operator acts as arthimetic addition operator.\n",
    "- If one argument is string type and other should be int type then * operator acts as Repetition operator."
   ]
  },
  {
   "cell_type": "code",
   "execution_count": 2,
   "metadata": {},
   "outputs": [
    {
     "name": "stdout",
     "output_type": "stream",
     "text": [
      "Helloworld\n",
      "Hello World\n"
     ]
    }
   ],
   "source": [
    "### Note:\n",
    "print(\"Hello\"+\"world\")#no space in middle\n",
    "print(\"Hello\",\"World\")#space will be added in middle"
   ]
  },
  {
   "cell_type": "markdown",
   "metadata": {},
   "source": [
    "### Form-3:\n",
    "- print() with variable number of arguments."
   ]
  },
  {
   "cell_type": "code",
   "execution_count": 12,
   "metadata": {},
   "outputs": [
    {
     "name": "stdout",
     "output_type": "stream",
     "text": [
      "The values are: 10 20 30\n"
     ]
    }
   ],
   "source": [
    "a,b,c=10,20,30\n",
    "print(\"The values are:\",a,b,c)"
   ]
  },
  {
   "cell_type": "markdown",
   "metadata": {},
   "source": [
    "- By default output values are seperated by space.if we want we can specify seperator by using \"sep\" attribute."
   ]
  },
  {
   "cell_type": "code",
   "execution_count": 2,
   "metadata": {},
   "outputs": [
    {
     "name": "stdout",
     "output_type": "stream",
     "text": [
      "10 20 30\n",
      "10,20,30\n"
     ]
    }
   ],
   "source": [
    "a,b,c=10,20,30\n",
    "print(a,b,c)\n",
    "print(a,b,c,sep=\",\")"
   ]
  },
  {
   "cell_type": "markdown",
   "metadata": {},
   "source": [
    "## Form-4:\n",
    "- print() with end attribute."
   ]
  },
  {
   "cell_type": "code",
   "execution_count": 4,
   "metadata": {},
   "outputs": [
    {
     "name": "stdout",
     "output_type": "stream",
     "text": [
      "Hello\n",
      "Nikitha\n"
     ]
    }
   ],
   "source": [
    "print(\"Hello\")\n",
    "print(\"Nikitha\")"
   ]
  },
  {
   "cell_type": "markdown",
   "metadata": {},
   "source": [
    "- If we want output in the same line with space."
   ]
  },
  {
   "cell_type": "code",
   "execution_count": 2,
   "metadata": {},
   "outputs": [
    {
     "name": "stdout",
     "output_type": "stream",
     "text": [
      "Hello Nikitha\n"
     ]
    }
   ],
   "source": [
    "print(\"Hello\",end=' ')\n",
    "print(\"Nikitha\")"
   ]
  },
  {
   "cell_type": "code",
   "execution_count": 9,
   "metadata": {},
   "outputs": [
    {
     "name": "stdout",
     "output_type": "stream",
     "text": [
      "10:20:30:40.....50-60-70\n"
     ]
    }
   ],
   "source": [
    "print(10,20,30,40,sep=\":\",end=\".....\")\n",
    "print(50,60,70,sep=\"-\")"
   ]
  },
  {
   "cell_type": "markdown",
   "metadata": {},
   "source": [
    "## Note:\n",
    "- The default value for end attribute is \\n,Which is ntg but new line character.\n",
    "- The default value for sep attribute is space."
   ]
  },
  {
   "cell_type": "markdown",
   "metadata": {},
   "source": [
    "## Form-5:\n",
    "- print(object) statements:\n",
    "    - We can pass any object(like list,tuple,set etc)as argument to the print() statement."
   ]
  },
  {
   "cell_type": "code",
   "execution_count": 11,
   "metadata": {},
   "outputs": [
    {
     "name": "stdout",
     "output_type": "stream",
     "text": [
      "[10, 20, 30]\n",
      "(10, 20, 30)\n",
      "{10, 20, 30}\n"
     ]
    }
   ],
   "source": [
    "l=[10,20,30]\n",
    "t=(10,20,30)\n",
    "s={10,20,30}\n",
    "print(l)\n",
    "print(t)\n",
    "print(s)"
   ]
  },
  {
   "cell_type": "markdown",
   "metadata": {},
   "source": [
    "## Form-6 \n",
    "- print(string,variable list)\n",
    "    - We can use print() statement with string and any number of arguments"
   ]
  },
  {
   "cell_type": "code",
   "execution_count": 3,
   "metadata": {},
   "outputs": [
    {
     "name": "stdout",
     "output_type": "stream",
     "text": [
      "Hello Harish Your age is 25\n"
     ]
    }
   ],
   "source": [
    "s=\"Harish\"\n",
    "a=25\n",
    "s1=\"java\"\n",
    "s2=\"python\"\n",
    "print(\"Hello\",s,\"Your age is\",a)"
   ]
  },
  {
   "cell_type": "markdown",
   "metadata": {},
   "source": [
    "## Form-7:\n",
    "- Print(formatted string):\n",
    "    - %i==>int\n",
    "    - %d===>int\n",
    "    - %f==>float\n",
    "    - %s==>string type\n",
    "- **Syntax:**\n",
    "  - print(\"formatted string\" %(variable lis))"
   ]
  },
  {
   "cell_type": "code",
   "execution_count": 4,
   "metadata": {},
   "outputs": [
    {
     "name": "stdout",
     "output_type": "stream",
     "text": [
      "a value is 10\n",
      "b value is 20 and c value is 30\n"
     ]
    }
   ],
   "source": [
    "a=10\n",
    "b=20\n",
    "c=30\n",
    "print(\"a value is %i\" %a)\n",
    "print(\"b value is %i and c value is %i\" %(b,c))"
   ]
  },
  {
   "cell_type": "code",
   "execution_count": 18,
   "metadata": {},
   "outputs": [
    {
     "name": "stdout",
     "output_type": "stream",
     "text": [
      "Hello nikki the list is:[10, 20, 30]\n"
     ]
    }
   ],
   "source": [
    "s=\"nikki\"\n",
    "l=[10,20,30]\n",
    "print(\"Hello %s the list is:%s\" %(s,l))"
   ]
  },
  {
   "cell_type": "markdown",
   "metadata": {},
   "source": [
    "## Form-8 \n",
    "- print() with replacement operator{}"
   ]
  },
  {
   "cell_type": "code",
   "execution_count": 24,
   "metadata": {},
   "outputs": [
    {
     "name": "stdout",
     "output_type": "stream",
     "text": [
      "Hello Nikki your salary is 50000 and your Nimbu is waiting for you\n",
      "Hello Nikki Your salary is 50000 and your Nimbu is waiting for you\n",
      "Hello Nikki Your salary is 50000 and your Nimbu is waiting for you\n"
     ]
    }
   ],
   "source": [
    "n=\"Nikki\"\n",
    "s=\"50000\"\n",
    "frnd=\"Nimbu\"\n",
    "print(\"Hello {0} your salary is {1} and your {2} is waiting for you\".format(n,s,frnd))\n",
    "print(\"Hello {} Your salary is {} and your {} is waiting for you\".format(n,s,frnd))\n",
    "print(\"Hello {x} Your salary is {y} and your {z} is waiting for you\".format(x=n,z=frnd,y=s))"
   ]
  },
  {
   "cell_type": "code",
   "execution_count": null,
   "metadata": {},
   "outputs": [],
   "source": []
  }
 ],
 "metadata": {
  "kernelspec": {
   "display_name": "Python 3",
   "language": "python",
   "name": "python3"
  },
  "language_info": {
   "codemirror_mode": {
    "name": "ipython",
    "version": 3
   },
   "file_extension": ".py",
   "mimetype": "text/x-python",
   "name": "python",
   "nbconvert_exporter": "python",
   "pygments_lexer": "ipython3",
   "version": "3.6.9"
  }
 },
 "nbformat": 4,
 "nbformat_minor": 2
}
