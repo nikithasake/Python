{
 "cells": [
  {
   "cell_type": "markdown",
   "metadata": {},
   "source": [
    "# Packages"
   ]
  },
  {
   "cell_type": "markdown",
   "metadata": {},
   "source": [
    "- It is an encapsulation mechanism to group related modules into a single unit.\n",
    "- packages is ntg but folder or directory which represents collection of python modules.\n",
    "- Any folder or directory contains __init__.py file,is considered as python packages.\n",
    "- A package can contains sub packages also.\n",
    "### Adv:\n",
    "- we can resolve naming conflicts.\n",
    "- we can identify our components uniquely.\n",
    "- it improves modularity of the application."
   ]
  },
  {
   "cell_type": "code",
   "execution_count": null,
   "metadata": {},
   "outputs": [],
   "source": [
    "#eg\n",
    "|-test.py\n",
    "|-pack1\n",
    "   |-module1.py\n",
    "   |- __init__.py"
   ]
  },
  {
   "cell_type": "code",
   "execution_count": null,
   "metadata": {},
   "outputs": [],
   "source": [
    "#module1.py\n",
    "def f1():\n",
    "    print(\"Hello this is from module1 present in pack1\")"
   ]
  },
  {
   "cell_type": "code",
   "execution_count": null,
   "metadata": {},
   "outputs": [],
   "source": [
    "#test.py\n",
    "import pack1.module1\n",
    "pack1.module1.f1()\n",
    "      (or)\n",
    "from pack1.module1 import f1()\n",
    "f1()\n",
    "o/p:Hello this is from module1 present in pack1"
   ]
  },
  {
   "cell_type": "code",
   "execution_count": null,
   "metadata": {},
   "outputs": [],
   "source": [
    "#eg\n",
    "|-test.py\n",
    "|-com\n",
    "   |-module1.py\n",
    "   |- __init__.py\n",
    "   |- durgasoft\n",
    "      |-module2.py\n",
    "      |- __init__.py"
   ]
  },
  {
   "cell_type": "code",
   "execution_count": null,
   "metadata": {},
   "outputs": [],
   "source": [
    "#module1.py\n",
    "def f1():\n",
    "    print(\"Hello this is from module1 present in com package\")"
   ]
  },
  {
   "cell_type": "code",
   "execution_count": null,
   "metadata": {},
   "outputs": [],
   "source": [
    "#module2.py\n",
    "def f2():\n",
    "    print(\"Hello this is from module2 present in com.durgasoft package\")"
   ]
  },
  {
   "cell_type": "code",
   "execution_count": null,
   "metadata": {},
   "outputs": [],
   "source": [
    "#test.py\n",
    "from com.module1 import f1\n",
    "from com.durgasoft.module2 import f2\n",
    "f1()\n",
    "f2()\n",
    "o/p:\n",
    "Hello this is from module1 present in com package\n",
    "Hello this is from module2 present in com.durgasoft package"
   ]
  },
  {
   "cell_type": "code",
   "execution_count": null,
   "metadata": {},
   "outputs": [],
   "source": []
  },
  {
   "cell_type": "code",
   "execution_count": null,
   "metadata": {},
   "outputs": [],
   "source": []
  }
 ],
 "metadata": {
  "kernelspec": {
   "display_name": "Python 3",
   "language": "python",
   "name": "python3"
  },
  "language_info": {
   "codemirror_mode": {
    "name": "ipython",
    "version": 3
   },
   "file_extension": ".py",
   "mimetype": "text/x-python",
   "name": "python",
   "nbconvert_exporter": "python",
   "pygments_lexer": "ipython3",
   "version": "3.6.9"
  }
 },
 "nbformat": 4,
 "nbformat_minor": 2
}
