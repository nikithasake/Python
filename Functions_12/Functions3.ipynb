{
 "cells": [
  {
   "cell_type": "markdown",
   "metadata": {},
   "source": [
    "# Function Decorators\n",
    "- Decorator is a function which can take a function as input and it perform something and returns output function with extended functionality.  \n",
    "        (or)\n",
    "- without modifying existing functionality we can extended functionality\n",
    "- The main objective of decorator functions is we can extend the functionality without modifies that function.\n",
    "- Decorators help to make our code shorter and more pythonic(more facilities we get...more shorter)."
   ]
  },
  {
   "cell_type": "code",
   "execution_count": 1,
   "metadata": {},
   "outputs": [
    {
     "name": "stdout",
     "output_type": "stream",
     "text": [
      "Hello nimbu gud evng\n",
      "Hello harish gud evng\n",
      "Hello nikkulu gud evng\n"
     ]
    }
   ],
   "source": [
    "def wish(name):\n",
    "    print(\"Hello\",name,\"gud evng\")\n",
    "wish(\"nimbu\")\n",
    "wish(\"harish\")\n",
    "wish(\"nikkulu\")"
   ]
  },
  {
   "cell_type": "markdown",
   "metadata": {},
   "source": [
    "- The above example always print same output for any name..\n",
    "- But we want to modify this function to provide different message if name is sunny.We can do this without touching wish() function by using decorator.\n",
    "- The below example..whenever we call wish() function automatically decor function will be executed."
   ]
  },
  {
   "cell_type": "code",
   "execution_count": 2,
   "metadata": {},
   "outputs": [
    {
     "name": "stdout",
     "output_type": "stream",
     "text": [
      "Hello nimbu gud evng\n",
      "Hello harish gud evng\n",
      "Hello nikkulu bad mrng\n"
     ]
    }
   ],
   "source": [
    "def decor(func):\n",
    "    def inner(name):\n",
    "        if name==\"nikkulu\":\n",
    "            print(\"Hello nikkulu bad mrng\")\n",
    "        else:\n",
    "            func(name) \n",
    "    return inner\n",
    "@decor\n",
    "def wish(name):\n",
    "    print(\"Hello\",name,\"gud evng\")\n",
    "wish(\"nimbu\")\n",
    "wish(\"harish\")\n",
    "wish(\"nikkulu\")"
   ]
  },
  {
   "cell_type": "code",
   "execution_count": 2,
   "metadata": {},
   "outputs": [
    {
     "name": "stdout",
     "output_type": "stream",
     "text": [
      "Hello nimbu gud evng\n",
      "Hello harish gud evng...\n",
      "Hello nikkulu gud evng\n"
     ]
    }
   ],
   "source": [
    "#Example for decor func\n",
    "#whenever we call wish method the inner function(decor) automatically executed\n",
    "def decor(func):\n",
    "    def inner(name):\n",
    "        if name==\"harish\":\n",
    "            print(\"Hello harish gud evng...\")\n",
    "        else:\n",
    "            func(name)\n",
    "    return inner\n",
    "@decor\n",
    "def wish(name):\n",
    "    print(\"Hello\",name,\"gud evng\")\n",
    "wish(\"nimbu\")\n",
    "wish(\"harish\")\n",
    "wish(\"nikkulu\")"
   ]
  },
  {
   "cell_type": "code",
   "execution_count": 7,
   "metadata": {},
   "outputs": [
    {
     "name": "stdout",
     "output_type": "stream",
     "text": [
      "Hello harish gud evng\n",
      "Hello harish bad evng...\n",
      "Hello nikki gud evng\n",
      "Hello nikki gud evng\n"
     ]
    }
   ],
   "source": [
    "#how to call function with decorator and without decorator\n",
    "def decor(func):\n",
    "    def inner(name):\n",
    "        if name==\"harish\":\n",
    "            print(\"Hello harish bad evng...\")\n",
    "        else:\n",
    "            func(name)\n",
    "    return inner\n",
    "\n",
    "def wish(name):\n",
    "    print(\"Hello\",name,\"gud evng\")\n",
    "decorfunction=decor(wish)\n",
    "wish(\"harish\")\n",
    "decorfunction(\"harish\")#decorator will be executed\n",
    "\n",
    "wish(\"nikki\")\n",
    "decorfunction(\"nikki\")"
   ]
  },
  {
   "cell_type": "code",
   "execution_count": 8,
   "metadata": {},
   "outputs": [
    {
     "name": "stdout",
     "output_type": "stream",
     "text": [
      "5.0\n",
      "can't divide with zero\n",
      "None\n"
     ]
    }
   ],
   "source": [
    "#example for decor\n",
    "def smartdivision(func):\n",
    "    def inner(a,b):\n",
    "        if b==0:\n",
    "            print(\"can't divide with zero\")\n",
    "            return\n",
    "        else:\n",
    "            return func(a,b)\n",
    "    return inner\n",
    "@smartdivision\n",
    "def division(a,b):\n",
    "    return a/b\n",
    "print(division(10,2))\n",
    "print(division(10,0))"
   ]
  },
  {
   "cell_type": "code",
   "execution_count": 11,
   "metadata": {},
   "outputs": [
    {
     "name": "stdout",
     "output_type": "stream",
     "text": [
      "5.0\n",
      "can't divide with zero\n"
     ]
    }
   ],
   "source": [
    "def smartdivision(func):\n",
    "    def inner(a,b):\n",
    "        if b==0:\n",
    "            print(\"can't divide with zero\")\n",
    "        else:\n",
    "            func(a,b)\n",
    "    return inner\n",
    "@smartdivision\n",
    "def division(a,b):\n",
    "    print(a/b)\n",
    "division(10,2)\n",
    "division(10,0)"
   ]
  },
  {
   "cell_type": "code",
   "execution_count": 1,
   "metadata": {},
   "outputs": [
    {
     "name": "stdout",
     "output_type": "stream",
     "text": [
      "Decor function execution\n",
      "Hello nimbu Gud mrng\n"
     ]
    }
   ],
   "source": [
    "def decor(func):\n",
    "    def inner(name):\n",
    "        print(\"Decor function execution\")\n",
    "        func(name)\n",
    "    return inner\n",
    "@decor\n",
    "def wish(name):\n",
    "    print(\"Hello\",name,\"Gud mrng\")\n",
    "wish(\"nimbu\")"
   ]
  },
  {
   "cell_type": "code",
   "execution_count": 5,
   "metadata": {},
   "outputs": [
    {
     "name": "stdout",
     "output_type": "stream",
     "text": [
      "##############################\n",
      "sum:30\n",
      "##############################\n"
     ]
    }
   ],
   "source": [
    "#example for decor\n",
    "#if u use @decor origial function is not available but always decor will be executed \n",
    "def decor_for_add(func):\n",
    "    def inner(x,y):\n",
    "        print(\"#\"*30)\n",
    "        print(\"sum:\",end=\"\")\n",
    "        func(x,y)#print(a+b)\n",
    "        print(\"#\"*30)\n",
    "    return inner\n",
    "@decor_for_add        \n",
    "def add(a,b):\n",
    "    print(a+b)\n",
    "add(10,20)"
   ]
  },
  {
   "cell_type": "code",
   "execution_count": 6,
   "metadata": {},
   "outputs": [
    {
     "name": "stdout",
     "output_type": "stream",
     "text": [
      "##############################\n",
      "sum:30\n",
      "##############################\n"
     ]
    }
   ],
   "source": [
    "#we should not change the order\n",
    "@decor_for_add        \n",
    "def add(a,b):\n",
    "    print(a+b)\n",
    "\n",
    "    \n",
    "def decor_for_add(func):\n",
    "    def inner(x,y):\n",
    "        print(\"#\"*30)\n",
    "        print(\"sum:\",end=\"\")\n",
    "        func(x,y)#print(a+b)\n",
    "        print(\"#\"*30)\n",
    "    return inner\n",
    "add(10,20)\n",
    "#o/p:Name Error: name 'decor_for_add' is not defined\n"
   ]
  },
  {
   "cell_type": "code",
   "execution_count": 7,
   "metadata": {},
   "outputs": [
    {
     "name": "stdout",
     "output_type": "stream",
     "text": [
      "gud mrng: durga\n",
      "gud mrng: sunny\n",
      "gud mrng: durga\n",
      "##################################################\n",
      "hello sunny,you are very important for us!!!\n",
      "very very good mrng!!!\n",
      "##################################################\n"
     ]
    }
   ],
   "source": [
    "#based on our requierement we can call original and decorated function simultaneously\n",
    "def decor(func):\n",
    "    def inner(name):\n",
    "        if name=='sunny':\n",
    "            print('#'*50)\n",
    "            print(\"hello sunny,you are very important for us!!!\")\n",
    "            print(\"very very good mrng!!!\")\n",
    "            print(\"#\"*50)\n",
    "        else:\n",
    "            func(name)\n",
    "    return inner\n",
    "def wish(name):\n",
    "    print(\"gud mrng:\",name)\n",
    "decorated_wish=decor(wish)\n",
    "wish(\"durga\")\n",
    "wish(\"sunny\")\n",
    "\n",
    "decorated_wish(\"durga\")\n",
    "decorated_wish(\"sunny\")"
   ]
  },
  {
   "cell_type": "markdown",
   "metadata": {},
   "source": [
    "### Decorator chaining\n",
    "- we can define multiple decorators for the same function and all these decorators will form decorator chaining.\n",
    "- In the below example f() function we are applying 2 decorators functions.First inner decorator will work then outer decorator."
   ]
  },
  {
   "cell_type": "code",
   "execution_count": 13,
   "metadata": {},
   "outputs": [
    {
     "name": "stdout",
     "output_type": "stream",
     "text": [
      "decor1 function\n"
     ]
    }
   ],
   "source": [
    "#Example for decorator chaining\n",
    "def decor1(fun):\n",
    "    def inner1():\n",
    "        print(\"decor1 function\")\n",
    "    return inner1\n",
    "def decor2(fun):\n",
    "    def inner2():\n",
    "        print(\"decor2 function\")\n",
    "    return inner2\n",
    "@decor1\n",
    "def f():\n",
    "    print(\"original function\")\n",
    "f()"
   ]
  },
  {
   "cell_type": "code",
   "execution_count": 10,
   "metadata": {},
   "outputs": [],
   "source": [
    "def decor1(fun):\n",
    "    def inner1():\n",
    "        print(\"decor1 function\")\n",
    "    return inner1\n",
    "def decor2(fun):\n",
    "    def inner2():\n",
    "        print(\"decor2 function\")\n",
    "    return inner2\n",
    "@decor2\n",
    "def f():\n",
    "    print(\"original function\")\n",
    "f()"
   ]
  },
  {
   "cell_type": "code",
   "execution_count": 14,
   "metadata": {},
   "outputs": [
    {
     "name": "stdout",
     "output_type": "stream",
     "text": [
      "decor2 function\n"
     ]
    }
   ],
   "source": [
    "#process of this program:f()[f1 is i/p to decor1]-->decor1-->[o/p of decor1 is inner1]inner1-->\n",
    "#inner1[inner1 is i/p to decor2]-->decor2--->inner2[o/p of decor2 is inner2]\n",
    "def decor1(fun):\n",
    "    def inner1():\n",
    "        print(\"decor1 function\")\n",
    "    return inner1\n",
    "def decor2(fun):\n",
    "    def inner2():\n",
    "        print(\"decor2 function\")\n",
    "    return inner2\n",
    "@decor2\n",
    "@decor1\n",
    "def f():\n",
    "    print(\"original function\")\n",
    "f()"
   ]
  },
  {
   "cell_type": "code",
   "execution_count": 12,
   "metadata": {},
   "outputs": [
    {
     "name": "stdout",
     "output_type": "stream",
     "text": [
      "decor2 function\n",
      "decor1 function\n"
     ]
    }
   ],
   "source": [
    "def decor1(fun):\n",
    "    def inner1():\n",
    "        print(\"decor1 function\")\n",
    "    return inner1\n",
    "def decor2(fun):\n",
    "    def inner2():\n",
    "        print(\"decor2 function\")\n",
    "        fun()#whenever you are calling this ,inner1 will be executed\n",
    "    return inner2\n",
    "@decor2\n",
    "@decor1\n",
    "def f():\n",
    "    print(\"original function\")\n",
    "f()"
   ]
  },
  {
   "cell_type": "code",
   "execution_count": 13,
   "metadata": {},
   "outputs": [
    {
     "name": "stdout",
     "output_type": "stream",
     "text": [
      "decor2 function\n",
      "decor1 function\n",
      "original function\n"
     ]
    }
   ],
   "source": [
    "#we are executing both decor1 and decor2 functions\n",
    "#TOP TO BOTTOM\n",
    "def decor1(fun):\n",
    "    def inner1():\n",
    "        print(\"decor1 function\")\n",
    "        fun()#whenever you are calling this ,f() will be executed\n",
    "    return inner1\n",
    "def decor2(fun):\n",
    "    def inner2():\n",
    "        print(\"decor2 function\")\n",
    "        fun()#whenever you are calling this ,inner1 will be executed\n",
    "    return inner2\n",
    "@decor2\n",
    "@decor1\n",
    "def f():\n",
    "    print(\"original function\")\n",
    "f()"
   ]
  },
  {
   "cell_type": "code",
   "execution_count": null,
   "metadata": {},
   "outputs": [],
   "source": [
    "#by decorator2 we are calling original function\n",
    "def decor1(fun):\n",
    "    def inner1():\n",
    "        print(\"decor1 function\")\n",
    "        #fun()#whenever you are calling this ,f() will be executed\n",
    "    return inner1\n",
    "def decor2(fun):\n",
    "    def inner2():\n",
    "        print(\"decor2 function\")\n",
    "        f()#whenever you are calling this ,inner1 will be executed\n",
    "    return inner2\n",
    "@decor2\n",
    "@decor1\n",
    "def f():\n",
    "    print(\"original function\")\n",
    "f()\n",
    "# #o/p:\n",
    "# decor2 function\n",
    "# decor2 function\n",
    "# decor2 function\n",
    "# decor2 function\n",
    "# decor2 function\n",
    "# decor2 function\n",
    "# decor2 function......."
   ]
  },
  {
   "cell_type": "code",
   "execution_count": 16,
   "metadata": {},
   "outputs": [
    {
     "name": "stdout",
     "output_type": "stream",
     "text": [
      "20\n"
     ]
    }
   ],
   "source": [
    "#\n",
    "def num():\n",
    "    return 20\n",
    "print(num())"
   ]
  },
  {
   "cell_type": "code",
   "execution_count": 15,
   "metadata": {},
   "outputs": [
    {
     "name": "stdout",
     "output_type": "stream",
     "text": [
      "400\n"
     ]
    }
   ],
   "source": [
    "#num()is i/p to decor1 and inner1 is o/p..\n",
    "def decor1(func):\n",
    "    def inner1():\n",
    "        x=func()#num() will be called and consider return value\n",
    "        return x*x\n",
    "    return inner1\n",
    "@decor1\n",
    "def num():\n",
    "    return 20\n",
    "print(num())"
   ]
  },
  {
   "cell_type": "code",
   "execution_count": 16,
   "metadata": {},
   "outputs": [
    {
     "name": "stdout",
     "output_type": "stream",
     "text": [
      "40\n"
     ]
    }
   ],
   "source": [
    "#num()is i/p to decor2 and inner2 is o/p..\n",
    "def decor1(func):\n",
    "    def inner1():\n",
    "        x=func()#num() will be called and consider return value\n",
    "        return x*x\n",
    "    return inner1\n",
    "def decor2(func):\n",
    "    def inner2():\n",
    "        x=func()#num() will be called and consider return value\n",
    "        return 2*x\n",
    "    return inner2\n",
    "\n",
    "@decor2\n",
    "def num():\n",
    "    return 20\n",
    "print(num())"
   ]
  },
  {
   "cell_type": "code",
   "execution_count": 17,
   "metadata": {},
   "outputs": [
    {
     "name": "stdout",
     "output_type": "stream",
     "text": [
      "800\n"
     ]
    }
   ],
   "source": [
    "def decor1(func):\n",
    "    def inner1():\n",
    "        x=func()#num return value will be consider\n",
    "        return x*x\n",
    "    return inner1\n",
    "def decor2(func):\n",
    "    def inner2():\n",
    "        x=func()#inner1 return value will be consider\n",
    "        return 2*x\n",
    "    return inner2\n",
    "\n",
    "@decor2\n",
    "@decor1\n",
    "def num():\n",
    "    return 20\n",
    "print(num())"
   ]
  },
  {
   "cell_type": "code",
   "execution_count": 18,
   "metadata": {},
   "outputs": [
    {
     "name": "stdout",
     "output_type": "stream",
     "text": [
      "1600\n"
     ]
    }
   ],
   "source": [
    "def decor1(func):\n",
    "    def inner1():\n",
    "        x=func()#inner2 return value will be consider\n",
    "        return x*x\n",
    "    return inner1\n",
    "def decor2(func):\n",
    "    def inner2():\n",
    "        x=func()#num return value will be consider\n",
    "        return 2*x\n",
    "    return inner2\n",
    "\n",
    "@decor1\n",
    "@decor2\n",
    "def num():\n",
    "    return 20\n",
    "print(num())"
   ]
  },
  {
   "cell_type": "code",
   "execution_count": null,
   "metadata": {},
   "outputs": [],
   "source": []
  },
  {
   "cell_type": "code",
   "execution_count": null,
   "metadata": {},
   "outputs": [],
   "source": []
  },
  {
   "cell_type": "code",
   "execution_count": null,
   "metadata": {},
   "outputs": [],
   "source": []
  },
  {
   "cell_type": "code",
   "execution_count": null,
   "metadata": {},
   "outputs": [],
   "source": []
  },
  {
   "cell_type": "code",
   "execution_count": null,
   "metadata": {},
   "outputs": [],
   "source": []
  }
 ],
 "metadata": {
  "kernelspec": {
   "display_name": "Python 3",
   "language": "python",
   "name": "python3"
  },
  "language_info": {
   "codemirror_mode": {
    "name": "ipython",
    "version": 3
   },
   "file_extension": ".py",
   "mimetype": "text/x-python",
   "name": "python",
   "nbconvert_exporter": "python",
   "pygments_lexer": "ipython3",
   "version": "3.6.9"
  }
 },
 "nbformat": 4,
 "nbformat_minor": 2
}
