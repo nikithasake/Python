{
 "cells": [
  {
   "cell_type": "markdown",
   "metadata": {},
   "source": [
    "# Functions\n",
    "- A grp of stmts repeatedly required\n",
    "###### Advantages:\n",
    "*code reusability*"
   ]
  },
  {
   "cell_type": "code",
   "execution_count": 1,
   "metadata": {},
   "outputs": [
    {
     "name": "stdout",
     "output_type": "stream",
     "text": [
      "hello nikki\n",
      "hello harish\n",
      "hello nimbu\n"
     ]
    }
   ],
   "source": [
    "def wish(name):#defining\n",
    "    print(\"hello\",name)\n",
    "wish(\"nikki\")#calling\n",
    "wish(\"harish\")\n",
    "wish(\"nimbu\")"
   ]
  },
  {
   "cell_type": "markdown",
   "metadata": {},
   "source": [
    "######  There are two types of functions:\n",
    "1.Built in function:\n",
    "\n",
    " * python will provide built in functions.\n",
    "\n",
    "eg: id()\n",
    "   len()\n",
    "   eval()\n",
    "   sum()\n",
    "   type()\n",
    "   \n",
    "2.user defined function:\n",
    "\n",
    "  * based on my program requirement i defined the functions"
   ]
  },
  {
   "cell_type": "markdown",
   "metadata": {},
   "source": [
    "### Difference btwn method and function\n",
    "- if any function is defined inside a class is called method.\n",
    "- if any function is defied outside a class is called function."
   ]
  },
  {
   "cell_type": "markdown",
   "metadata": {},
   "source": [
    "#### Return stmt\n",
    "- In other language the return stmt returns one value but in python it returns multiple value.\n",
    "- if you are not taking any return type it will return default value is None"
   ]
  },
  {
   "cell_type": "code",
   "execution_count": 15,
   "metadata": {},
   "outputs": [
    {
     "name": "stdout",
     "output_type": "stream",
     "text": [
      "hi\n",
      "None\n"
     ]
    }
   ],
   "source": [
    "#example fro return stmt\n",
    "def wish():\n",
    "    print(\"hi\")\n",
    "print(wish())"
   ]
  },
  {
   "cell_type": "code",
   "execution_count": 2,
   "metadata": {},
   "outputs": [
    {
     "name": "stdout",
     "output_type": "stream",
     "text": [
      "nimbu\n",
      "dimbu\n"
     ]
    }
   ],
   "source": [
    "def f1():\n",
    "    return \"nimbu\"\n",
    "def f2():\n",
    "    print(\"dimbu\")\n",
    "print(f1())\n",
    "f2()"
   ]
  },
  {
   "cell_type": "markdown",
   "metadata": {},
   "source": [
    "### Returning multiple values from a function\n",
    "- In other langs like c,c++,java ,finction can return atmost one value.But in python ,a function can  return any number of values."
   ]
  },
  {
   "cell_type": "code",
   "execution_count": 6,
   "metadata": {},
   "outputs": [
    {
     "name": "stdout",
     "output_type": "stream",
     "text": [
      "15\n",
      "-5\n",
      "50\n",
      "0.5\n"
     ]
    }
   ],
   "source": [
    "#example for return stmt\n",
    "def calc(a,b):\n",
    "    sum=a+b\n",
    "    sub=a-b\n",
    "    mul=a*b\n",
    "    div=a/b\n",
    "    return sum,sub,mul,div\n",
    "t=calc(5,10)\n",
    "for x in t:\n",
    "    print(x)"
   ]
  },
  {
   "cell_type": "markdown",
   "metadata": {},
   "source": [
    "### Types of arguments:\n",
    "1. positional arguments\n",
    "2. keyword arguments\n",
    "3. default arguments\n",
    "4. variable length arguments"
   ]
  },
  {
   "cell_type": "markdown",
   "metadata": {},
   "source": [
    "##### positional arguments\n",
    "- order is imp and no.of arguments must be matched."
   ]
  },
  {
   "cell_type": "code",
   "execution_count": 7,
   "metadata": {},
   "outputs": [
    {
     "name": "stdout",
     "output_type": "stream",
     "text": [
      "12\n",
      "20\n"
     ]
    }
   ],
   "source": [
    "#Example for postional arguments\n",
    "#a,b are formal arguments where as 5,10 is actual arguments.\n",
    "def calc(a,b):\n",
    "    sum=a+b\n",
    "    mul=a*b\n",
    "    return sum,mul\n",
    "t=calc(2,10)\n",
    "for x in t:\n",
    "    print(x)"
   ]
  },
  {
   "cell_type": "markdown",
   "metadata": {},
   "source": [
    "#####  keyword argument\n",
    "- order is not  imp but no.of arguments must be matched"
   ]
  },
  {
   "cell_type": "code",
   "execution_count": 4,
   "metadata": {},
   "outputs": [
    {
     "data": {
      "text/plain": [
       "(15, 50)"
      ]
     },
     "execution_count": 4,
     "metadata": {},
     "output_type": "execute_result"
    }
   ],
   "source": [
    "#example for keyword argument\n",
    "def calc(a,b):\n",
    "    sum=a+b\n",
    "    mul=a*b\n",
    "    return sum,mul\n",
    "calc(b=5,a=10)"
   ]
  },
  {
   "cell_type": "markdown",
   "metadata": {},
   "source": [
    "## Note :\n",
    "- We can use both positional and keyword arguments simultaneously.But first we have to take positional arguments and then keyword arguments,otherwise we will get ssyntaxerror."
   ]
  },
  {
   "cell_type": "code",
   "execution_count": 2,
   "metadata": {},
   "outputs": [
    {
     "name": "stdout",
     "output_type": "stream",
     "text": [
      "Hello Nikki Good mrng\n"
     ]
    }
   ],
   "source": [
    "def wish(name,arg):\n",
    "    print(\"Hello\",name,arg)\n",
    "wish(\"Nikki\",arg=\"Good mrng\")"
   ]
  },
  {
   "cell_type": "code",
   "execution_count": 3,
   "metadata": {},
   "outputs": [
    {
     "ename": "SyntaxError",
     "evalue": "positional argument follows keyword argument (<ipython-input-3-820e0617aec1>, line 3)",
     "output_type": "error",
     "traceback": [
      "\u001b[0;36m  File \u001b[0;32m\"<ipython-input-3-820e0617aec1>\"\u001b[0;36m, line \u001b[0;32m3\u001b[0m\n\u001b[0;31m    wish(arg=\"Good mrng\",\"Nikki\")\u001b[0m\n\u001b[0m                        ^\u001b[0m\n\u001b[0;31mSyntaxError\u001b[0m\u001b[0;31m:\u001b[0m positional argument follows keyword argument\n"
     ]
    }
   ],
   "source": [
    "def wish(name,arg):\n",
    "    print(\"Hello\",name,arg)\n",
    "wish(arg=\"Good mrng\",\"Nikki\")"
   ]
  },
  {
   "cell_type": "markdown",
   "metadata": {},
   "source": [
    "#### Default argument\n",
    "- If we are not passing any name then only default value will be considered.\n",
    "- Default arguments should be last."
   ]
  },
  {
   "cell_type": "code",
   "execution_count": 5,
   "metadata": {},
   "outputs": [],
   "source": [
    "#example for default argument\n",
    "def wish(msg,name=\"guest\"):\n",
    "    pass"
   ]
  },
  {
   "cell_type": "code",
   "execution_count": 10,
   "metadata": {},
   "outputs": [
    {
     "ename": "SyntaxError",
     "evalue": "non-default argument follows default argument (<ipython-input-10-c0794672ff63>, line 1)",
     "output_type": "error",
     "traceback": [
      "\u001b[0;36m  File \u001b[0;32m\"<ipython-input-10-c0794672ff63>\"\u001b[0;36m, line \u001b[0;32m1\u001b[0m\n\u001b[0;31m    def wish(name=\"nikki\",msg):\u001b[0m\n\u001b[0m            ^\u001b[0m\n\u001b[0;31mSyntaxError\u001b[0m\u001b[0;31m:\u001b[0m non-default argument follows default argument\n"
     ]
    }
   ],
   "source": [
    "#After default arguments we should not take non default arguments\n",
    "def wish(name=\"nikki\",msg):\n",
    "      print(\"Hello\",name,msg)\n",
    "wish(msg=\"Good mrng\")"
   ]
  },
  {
   "cell_type": "code",
   "execution_count": 9,
   "metadata": {},
   "outputs": [
    {
     "name": "stdout",
     "output_type": "stream",
     "text": [
      "Hello nikki Good mrng\n"
     ]
    }
   ],
   "source": [
    "#Default argument should be last.\n",
    "def wish(msg,name=\"nikki\"):\n",
    "      print(\"Hello\",name,msg)\n",
    "wish(msg=\"Good mrng\")"
   ]
  },
  {
   "cell_type": "code",
   "execution_count": 6,
   "metadata": {},
   "outputs": [
    {
     "ename": "SyntaxError",
     "evalue": "positional argument follows keyword argument (<ipython-input-6-31cbd1fec512>, line 6)",
     "output_type": "error",
     "traceback": [
      "\u001b[0;36m  File \u001b[0;32m\"<ipython-input-6-31cbd1fec512>\"\u001b[0;36m, line \u001b[0;32m6\u001b[0m\n\u001b[0;31m    calc(a=10,5)\u001b[0m\n\u001b[0m             ^\u001b[0m\n\u001b[0;31mSyntaxError\u001b[0m\u001b[0;31m:\u001b[0m positional argument follows keyword argument\n"
     ]
    }
   ],
   "source": [
    "#after keyword dont take postional arguments\n",
    "def calc(a,b):\n",
    "    sum=a+b\n",
    "    mul=a*b\n",
    "    return sum,mul\n",
    "calc(a=10,5)"
   ]
  },
  {
   "cell_type": "code",
   "execution_count": 2,
   "metadata": {},
   "outputs": [
    {
     "ename": "TypeError",
     "evalue": "calc() got multiple values for argument 'a'",
     "output_type": "error",
     "traceback": [
      "\u001b[0;31m---------------------------------------------------------------------------\u001b[0m",
      "\u001b[0;31mTypeError\u001b[0m                                 Traceback (most recent call last)",
      "\u001b[0;32m<ipython-input-2-a780942157d5>\u001b[0m in \u001b[0;36m<module>\u001b[0;34m()\u001b[0m\n\u001b[1;32m      4\u001b[0m     \u001b[0mmul\u001b[0m\u001b[0;34m=\u001b[0m\u001b[0ma\u001b[0m\u001b[0;34m*\u001b[0m\u001b[0mb\u001b[0m\u001b[0;34m\u001b[0m\u001b[0;34m\u001b[0m\u001b[0m\n\u001b[1;32m      5\u001b[0m     \u001b[0;32mreturn\u001b[0m \u001b[0msum\u001b[0m\u001b[0;34m,\u001b[0m\u001b[0mmul\u001b[0m\u001b[0;34m\u001b[0m\u001b[0;34m\u001b[0m\u001b[0m\n\u001b[0;32m----> 6\u001b[0;31m \u001b[0mcalc\u001b[0m\u001b[0;34m(\u001b[0m\u001b[0;36m5\u001b[0m\u001b[0;34m,\u001b[0m\u001b[0ma\u001b[0m\u001b[0;34m=\u001b[0m\u001b[0;36m10\u001b[0m\u001b[0;34m)\u001b[0m\u001b[0;34m\u001b[0m\u001b[0;34m\u001b[0m\u001b[0m\n\u001b[0m",
      "\u001b[0;31mTypeError\u001b[0m: calc() got multiple values for argument 'a'"
     ]
    }
   ],
   "source": [
    "#dont take multiple values for argument a\n",
    "def calc(a,b):\n",
    "    sum=a+b\n",
    "    mul=a*b\n",
    "    return sum,mul\n",
    "calc(5,a=10)"
   ]
  },
  {
   "cell_type": "markdown",
   "metadata": {},
   "source": [
    "#### variable length arguments:\n",
    "    "
   ]
  },
  {
   "cell_type": "code",
   "execution_count": 1,
   "metadata": {},
   "outputs": [
    {
     "name": "stdout",
     "output_type": "stream",
     "text": [
      "30\n"
     ]
    },
    {
     "ename": "TypeError",
     "evalue": "sum() takes 2 positional arguments but 3 were given",
     "output_type": "error",
     "traceback": [
      "\u001b[0;31m---------------------------------------------------------------------------\u001b[0m",
      "\u001b[0;31mTypeError\u001b[0m                                 Traceback (most recent call last)",
      "\u001b[0;32m<ipython-input-1-7671a120778a>\u001b[0m in \u001b[0;36m<module>\u001b[0;34m()\u001b[0m\n\u001b[1;32m      4\u001b[0m     \u001b[0mprint\u001b[0m\u001b[0;34m(\u001b[0m\u001b[0ma\u001b[0m\u001b[0;34m+\u001b[0m\u001b[0mb\u001b[0m\u001b[0;34m)\u001b[0m\u001b[0;34m\u001b[0m\u001b[0;34m\u001b[0m\u001b[0m\n\u001b[1;32m      5\u001b[0m \u001b[0msum\u001b[0m\u001b[0;34m(\u001b[0m\u001b[0;36m10\u001b[0m\u001b[0;34m,\u001b[0m\u001b[0;36m20\u001b[0m\u001b[0;34m)\u001b[0m\u001b[0;34m\u001b[0m\u001b[0;34m\u001b[0m\u001b[0m\n\u001b[0;32m----> 6\u001b[0;31m \u001b[0msum\u001b[0m\u001b[0;34m(\u001b[0m\u001b[0;36m10\u001b[0m\u001b[0;34m,\u001b[0m\u001b[0;36m20\u001b[0m\u001b[0;34m,\u001b[0m\u001b[0;36m30\u001b[0m\u001b[0;34m)\u001b[0m\u001b[0;34m\u001b[0m\u001b[0;34m\u001b[0m\u001b[0m\n\u001b[0m\u001b[1;32m      7\u001b[0m \u001b[0msum\u001b[0m\u001b[0;34m(\u001b[0m\u001b[0;36m10\u001b[0m\u001b[0;34m,\u001b[0m\u001b[0;36m20\u001b[0m\u001b[0;34m,\u001b[0m\u001b[0;36m30\u001b[0m\u001b[0;34m,\u001b[0m\u001b[0;36m40\u001b[0m\u001b[0;34m,\u001b[0m\u001b[0;36m50\u001b[0m\u001b[0;34m)\u001b[0m\u001b[0;34m\u001b[0m\u001b[0;34m\u001b[0m\u001b[0m\n",
      "\u001b[0;31mTypeError\u001b[0m: sum() takes 2 positional arguments but 3 were given"
     ]
    }
   ],
   "source": [
    "#if you change number of arguments so for every change we have to write new method..\n",
    "#unnecessary length of code is increse so we overcome this problem we should go for variable length argument\n",
    "def sum(a,b):\n",
    "    print(a+b)\n",
    "sum(10,20)\n",
    "sum(10,20,30)\n",
    "sum(10,20,30,40,50)"
   ]
  },
  {
   "cell_type": "code",
   "execution_count": 7,
   "metadata": {},
   "outputs": [
    {
     "name": "stdout",
     "output_type": "stream",
     "text": [
      "var-arg function\n",
      "var-arg function\n",
      "var-arg function\n",
      "var-arg function\n",
      "var-arg function\n"
     ]
    }
   ],
   "source": [
    "#Example for var length arg\n",
    "# * means any no.of arguments we can take\n",
    "# a means tuple..internaly it is tuple\n",
    "def f1(*a):\n",
    "    print(\"var-arg function\")\n",
    "f1()\n",
    "f1(10)\n",
    "f1(10,20)\n",
    "f1(10,20,30)\n",
    "f1(10,20,30,40)"
   ]
  },
  {
   "cell_type": "code",
   "execution_count": 8,
   "metadata": {},
   "outputs": [
    {
     "name": "stdout",
     "output_type": "stream",
     "text": [
      "the sum: 0\n",
      "the sum: 10\n",
      "the sum: 30\n",
      "the sum: 60\n",
      "the sum: 100\n"
     ]
    }
   ],
   "source": [
    "#wap tp print sum of given numbers.i dont know how many numbers i am passing\n",
    "def sum(*n):\n",
    "    result=0\n",
    "    for x in n:\n",
    "        result=result+x\n",
    "    print(\"the sum:\",result)\n",
    "sum()\n",
    "sum(10)\n",
    "sum(10,20)\n",
    "sum(10,20,30)\n",
    "sum(10,20,30,40)"
   ]
  },
  {
   "cell_type": "code",
   "execution_count": 9,
   "metadata": {},
   "outputs": [
    {
     "name": "stdout",
     "output_type": "stream",
     "text": [
      "the sum by nikki : 0\n",
      "the sum by nani : 10\n",
      "the sum by harish : 30\n",
      "the sum by nimbu : 60\n",
      "the sum by cat : 100\n"
     ]
    }
   ],
   "source": [
    "#simultaneosly take positional and var-length arg\n",
    "#here we are taking var arg is in second arguments so the order is not imp\n",
    "def sum(name,*n):\n",
    "    result=0\n",
    "    for x in n:\n",
    "        result=result+x\n",
    "    print(\"the sum by\",name,\":\",result)\n",
    "sum(\"nikki\")\n",
    "sum(\"nani\",10)\n",
    "sum(\"harish\",10,20)\n",
    "sum(\"nimbu\",10,20,30)\n",
    "sum(\"cat\",10,20,30,40)"
   ]
  },
  {
   "cell_type": "code",
   "execution_count": 10,
   "metadata": {},
   "outputs": [
    {
     "name": "stdout",
     "output_type": "stream",
     "text": [
      "the sum by nikki : 0\n",
      "the sum by nani : 10\n",
      "the sum by harish : 30\n",
      "the sum by nimbu : 60\n",
      "the sum by cat : 100\n"
     ]
    }
   ],
   "source": [
    "#here we are taking first arguments is var-arg so we should take keyword arg after var-arg ....\n",
    "def sum(*n,name):\n",
    "    result=0\n",
    "    for x in n:\n",
    "        result=result+x\n",
    "    print(\"the sum by\",name,\":\",result)\n",
    "sum(name=\"nikki\")\n",
    "sum(10,name=\"nani\")\n",
    "sum(10,20,name=\"harish\")\n",
    "sum(10,20,30,name=\"nimbu\",)\n",
    "sum(10,20,30,40,name=\"cat\",)"
   ]
  },
  {
   "cell_type": "markdown",
   "metadata": {},
   "source": [
    "#### keyword variable length argument"
   ]
  },
  {
   "cell_type": "code",
   "execution_count": 11,
   "metadata": {},
   "outputs": [
    {
     "name": "stdout",
     "output_type": "stream",
     "text": [
      "<class 'dict'>\n",
      "Information\n",
      "name : nikki\n",
      "marks : 100\n",
      "age : 19\n",
      "\n",
      "<class 'dict'>\n",
      "Information\n",
      "name : nimbu\n",
      "brand1 : RC\n",
      "brand2 : KF\n",
      "brand3 : FO\n",
      "\n",
      "<class 'dict'>\n",
      "Information\n",
      "name : harish\n",
      "color1 : red\n",
      "color2 : green\n",
      "color3 : blue\n",
      "\n"
     ]
    }
   ],
   "source": [
    "# keyword variable length argument---Internally these keyword arguments will be stored inside a dictionary.\n",
    "def display(**kwargs):\n",
    "    print(type(kwargs))\n",
    "    print(\"Information\")\n",
    "    for x,y in kwargs.items():\n",
    "        print(x,\":\",y)\n",
    "    print()\n",
    "display(name=\"nikki\",marks=100,age=19)\n",
    "display(name=\"nimbu\",brand1=\"RC\",brand2=\"KF\",brand3=\"FO\")\n",
    "display(name=\"harish\",color1=\"red\",color2=\"green\",color3=\"blue\")"
   ]
  },
  {
   "cell_type": "markdown",
   "metadata": {},
   "source": [
    " ### Difference b/w function,module,package,library\n",
    "-   Function: group of stmnts\n",
    "-   module: group of functions or it is a file which contain a grp of functions.\n",
    "-   package: group of modules keep inside a folder.<br>\n",
    "**eg**:op,customer,order\n",
    "-   library: group of packages "
   ]
  },
  {
   "cell_type": "code",
   "execution_count": null,
   "metadata": {},
   "outputs": [],
   "source": [
    "#Module Ex\n",
    "#lets take file name op.py...here op is file which contains add,sub,mul functions\n",
    "def add(a,b):\n",
    "    print(a+b)\n",
    "def sub(a,b):\n",
    "    print(a-b)\n",
    "def mul(a,b):\n",
    "    print(a*b)"
   ]
  },
  {
   "cell_type": "markdown",
   "metadata": {},
   "source": [
    "###  Types  of variables:\n",
    "- python supports two types of variables\n",
    "   - 1.Global variable \n",
    "   - 2.local variable\n",
    "- Global variable: The variable which are declared outside of the function.\n",
    "- Local variable: The variable which are declared inside the function. "
   ]
  },
  {
   "cell_type": "markdown",
   "metadata": {},
   "source": [
    "#### 1. Global variable:\n",
    "- The variable which are declared outside of the function.\n",
    "- These variables can be accessed in all functions of that module."
   ]
  },
  {
   "cell_type": "code",
   "execution_count": 5,
   "metadata": {},
   "outputs": [
    {
     "name": "stdout",
     "output_type": "stream",
     "text": [
      "10\n",
      "10\n"
     ]
    }
   ],
   "source": [
    "#Example for Global Variable\n",
    "a=10\n",
    "def m1():\n",
    "    print(a)\n",
    "def m2():\n",
    "    print(a)\n",
    "m1()\n",
    "m2()"
   ]
  },
  {
   "cell_type": "code",
   "execution_count": 9,
   "metadata": {},
   "outputs": [
    {
     "name": "stdout",
     "output_type": "stream",
     "text": [
      "10\n"
     ]
    },
    {
     "ename": "NameError",
     "evalue": "name 'b' is not defined",
     "output_type": "error",
     "traceback": [
      "\u001b[0;31m---------------------------------------------------------------------------\u001b[0m",
      "\u001b[0;31mNameError\u001b[0m                                 Traceback (most recent call last)",
      "\u001b[0;32m<ipython-input-9-744b8bd50c87>\u001b[0m in \u001b[0;36m<module>\u001b[0;34m()\u001b[0m\n\u001b[1;32m      5\u001b[0m     \u001b[0mprint\u001b[0m\u001b[0;34m(\u001b[0m\u001b[0mb\u001b[0m\u001b[0;34m)\u001b[0m\u001b[0;34m\u001b[0m\u001b[0;34m\u001b[0m\u001b[0m\n\u001b[1;32m      6\u001b[0m \u001b[0mm3\u001b[0m\u001b[0;34m(\u001b[0m\u001b[0;34m)\u001b[0m\u001b[0;34m\u001b[0m\u001b[0;34m\u001b[0m\u001b[0m\n\u001b[0;32m----> 7\u001b[0;31m \u001b[0mm4\u001b[0m\u001b[0;34m(\u001b[0m\u001b[0;34m)\u001b[0m\u001b[0;34m\u001b[0m\u001b[0;34m\u001b[0m\u001b[0m\n\u001b[0m",
      "\u001b[0;32m<ipython-input-9-744b8bd50c87>\u001b[0m in \u001b[0;36mm4\u001b[0;34m()\u001b[0m\n\u001b[1;32m      3\u001b[0m     \u001b[0mprint\u001b[0m\u001b[0;34m(\u001b[0m\u001b[0mb\u001b[0m\u001b[0;34m)\u001b[0m\u001b[0;34m\u001b[0m\u001b[0;34m\u001b[0m\u001b[0m\n\u001b[1;32m      4\u001b[0m \u001b[0;32mdef\u001b[0m \u001b[0mm4\u001b[0m\u001b[0;34m(\u001b[0m\u001b[0;34m)\u001b[0m\u001b[0;34m:\u001b[0m\u001b[0;34m\u001b[0m\u001b[0;34m\u001b[0m\u001b[0m\n\u001b[0;32m----> 5\u001b[0;31m     \u001b[0mprint\u001b[0m\u001b[0;34m(\u001b[0m\u001b[0mb\u001b[0m\u001b[0;34m)\u001b[0m\u001b[0;34m\u001b[0m\u001b[0;34m\u001b[0m\u001b[0m\n\u001b[0m\u001b[1;32m      6\u001b[0m \u001b[0mm3\u001b[0m\u001b[0;34m(\u001b[0m\u001b[0;34m)\u001b[0m\u001b[0;34m\u001b[0m\u001b[0;34m\u001b[0m\u001b[0m\n\u001b[1;32m      7\u001b[0m \u001b[0mm4\u001b[0m\u001b[0;34m(\u001b[0m\u001b[0;34m)\u001b[0m\u001b[0;34m\u001b[0m\u001b[0;34m\u001b[0m\u001b[0m\n",
      "\u001b[0;31mNameError\u001b[0m: name 'b' is not defined"
     ]
    }
   ],
   "source": [
    "def m3():\n",
    "    b=10\n",
    "    print(b)\n",
    "def m4():\n",
    "    print(b)\n",
    "m3()\n",
    "m4()"
   ]
  },
  {
   "cell_type": "markdown",
   "metadata": {},
   "source": [
    "### 2.Local Variables:\n",
    "- The variable which are declared inside the function.\n",
    "- Local variables are available only for the function in which we decalred it..i.e from outside of function we cannot access."
   ]
  },
  {
   "cell_type": "code",
   "execution_count": 11,
   "metadata": {},
   "outputs": [
    {
     "name": "stdout",
     "output_type": "stream",
     "text": [
      "40\n"
     ]
    }
   ],
   "source": [
    "a=60\n",
    "def f1():\n",
    "    a=40\n",
    "    print(a)\n",
    "f1()"
   ]
  },
  {
   "cell_type": "code",
   "execution_count": 12,
   "metadata": {},
   "outputs": [
    {
     "name": "stdout",
     "output_type": "stream",
     "text": [
      "40\n",
      "60\n"
     ]
    }
   ],
   "source": [
    "a=60\n",
    "def f1():\n",
    "    a=40\n",
    "    print(a)\n",
    "def f2():\n",
    "    print(a)\n",
    "f1()\n",
    "f2()"
   ]
  },
  {
   "cell_type": "markdown",
   "metadata": {},
   "source": [
    "### Global Keyword\n",
    "- We can use global keyboard for the following 2 purposes:\n",
    "    - To declare global variable inside function\n",
    "    - To make global variable available to the function so that we can perform required modifications."
   ]
  },
  {
   "cell_type": "code",
   "execution_count": 14,
   "metadata": {},
   "outputs": [
    {
     "name": "stdout",
     "output_type": "stream",
     "text": [
      "f1: 777\n",
      "f2: 777\n"
     ]
    }
   ],
   "source": [
    "#Global keyword example\n",
    "a=10\n",
    "def f1():\n",
    "    global a\n",
    "    a=777\n",
    "    print(\"f1:\",a)\n",
    "def f2():\n",
    "    print(\"f2:\",a)\n",
    "f1()\n",
    "f2()"
   ]
  },
  {
   "cell_type": "code",
   "execution_count": 15,
   "metadata": {},
   "outputs": [
    {
     "name": "stdout",
     "output_type": "stream",
     "text": [
      "f2: 10\n",
      "f1: 777\n"
     ]
    }
   ],
   "source": [
    "#Global keyword example\n",
    "a=10\n",
    "def f1():\n",
    "    global a\n",
    "    a=777\n",
    "    print(\"f1:\",a)\n",
    "def f2():\n",
    "    print(\"f2:\",a)\n",
    "f2()\n",
    "f1()"
   ]
  },
  {
   "cell_type": "code",
   "execution_count": 19,
   "metadata": {},
   "outputs": [
    {
     "name": "stdout",
     "output_type": "stream",
     "text": [
      "f1: 999\n"
     ]
    },
    {
     "ename": "NameError",
     "evalue": "name 'd' is not defined",
     "output_type": "error",
     "traceback": [
      "\u001b[0;31m---------------------------------------------------------------------------\u001b[0m",
      "\u001b[0;31mNameError\u001b[0m                                 Traceback (most recent call last)",
      "\u001b[0;32m<ipython-input-19-21b548c44a84>\u001b[0m in \u001b[0;36m<module>\u001b[0;34m()\u001b[0m\n\u001b[1;32m      5\u001b[0m     \u001b[0mprint\u001b[0m\u001b[0;34m(\u001b[0m\u001b[0;34m\"f2:\"\u001b[0m\u001b[0;34m,\u001b[0m\u001b[0md\u001b[0m\u001b[0;34m)\u001b[0m\u001b[0;34m\u001b[0m\u001b[0;34m\u001b[0m\u001b[0m\n\u001b[1;32m      6\u001b[0m \u001b[0mf3\u001b[0m\u001b[0;34m(\u001b[0m\u001b[0;34m)\u001b[0m\u001b[0;34m\u001b[0m\u001b[0;34m\u001b[0m\u001b[0m\n\u001b[0;32m----> 7\u001b[0;31m \u001b[0mf4\u001b[0m\u001b[0;34m(\u001b[0m\u001b[0;34m)\u001b[0m\u001b[0;34m\u001b[0m\u001b[0;34m\u001b[0m\u001b[0m\n\u001b[0m",
      "\u001b[0;32m<ipython-input-19-21b548c44a84>\u001b[0m in \u001b[0;36mf4\u001b[0;34m()\u001b[0m\n\u001b[1;32m      3\u001b[0m     \u001b[0mprint\u001b[0m\u001b[0;34m(\u001b[0m\u001b[0;34m\"f1:\"\u001b[0m\u001b[0;34m,\u001b[0m\u001b[0md\u001b[0m\u001b[0;34m)\u001b[0m\u001b[0;34m\u001b[0m\u001b[0;34m\u001b[0m\u001b[0m\n\u001b[1;32m      4\u001b[0m \u001b[0;32mdef\u001b[0m \u001b[0mf4\u001b[0m\u001b[0;34m(\u001b[0m\u001b[0;34m)\u001b[0m\u001b[0;34m:\u001b[0m\u001b[0;34m\u001b[0m\u001b[0;34m\u001b[0m\u001b[0m\n\u001b[0;32m----> 5\u001b[0;31m     \u001b[0mprint\u001b[0m\u001b[0;34m(\u001b[0m\u001b[0;34m\"f2:\"\u001b[0m\u001b[0;34m,\u001b[0m\u001b[0md\u001b[0m\u001b[0;34m)\u001b[0m\u001b[0;34m\u001b[0m\u001b[0;34m\u001b[0m\u001b[0m\n\u001b[0m\u001b[1;32m      6\u001b[0m \u001b[0mf3\u001b[0m\u001b[0;34m(\u001b[0m\u001b[0;34m)\u001b[0m\u001b[0;34m\u001b[0m\u001b[0;34m\u001b[0m\u001b[0m\n\u001b[1;32m      7\u001b[0m \u001b[0mf4\u001b[0m\u001b[0;34m(\u001b[0m\u001b[0;34m)\u001b[0m\u001b[0;34m\u001b[0m\u001b[0;34m\u001b[0m\u001b[0m\n",
      "\u001b[0;31mNameError\u001b[0m: name 'd' is not defined"
     ]
    }
   ],
   "source": [
    "def f3():\n",
    "    d=999\n",
    "    print(\"f1:\",d)\n",
    "def f4():\n",
    "    print(\"f2:\",d)\n",
    "f3()\n",
    "f4()"
   ]
  },
  {
   "cell_type": "code",
   "execution_count": 8,
   "metadata": {},
   "outputs": [
    {
     "name": "stdout",
     "output_type": "stream",
     "text": [
      "f1: 999\n",
      "f2: 999\n"
     ]
    }
   ],
   "source": [
    "def f3():\n",
    "    global d\n",
    "    d=999\n",
    "    print(\"f1:\",d)\n",
    "def f4():\n",
    "    print(\"f2:\",d)\n",
    "f3()\n",
    "f4()"
   ]
  },
  {
   "cell_type": "code",
   "execution_count": 26,
   "metadata": {},
   "outputs": [
    {
     "ename": "NameError",
     "evalue": "name 'h' is not defined",
     "output_type": "error",
     "traceback": [
      "\u001b[0;31m---------------------------------------------------------------------------\u001b[0m",
      "\u001b[0;31mNameError\u001b[0m                                 Traceback (most recent call last)",
      "\u001b[0;32m<ipython-input-26-8dc97886482f>\u001b[0m in \u001b[0;36m<module>\u001b[0;34m()\u001b[0m\n\u001b[1;32m      5\u001b[0m \u001b[0;32mdef\u001b[0m \u001b[0mf6\u001b[0m\u001b[0;34m(\u001b[0m\u001b[0;34m)\u001b[0m\u001b[0;34m:\u001b[0m\u001b[0;34m\u001b[0m\u001b[0;34m\u001b[0m\u001b[0m\n\u001b[1;32m      6\u001b[0m     \u001b[0mprint\u001b[0m\u001b[0;34m(\u001b[0m\u001b[0;34m\"f6:\"\u001b[0m\u001b[0;34m,\u001b[0m\u001b[0mh\u001b[0m\u001b[0;34m)\u001b[0m\u001b[0;34m\u001b[0m\u001b[0;34m\u001b[0m\u001b[0m\n\u001b[0;32m----> 7\u001b[0;31m \u001b[0mf6\u001b[0m\u001b[0;34m(\u001b[0m\u001b[0;34m)\u001b[0m\u001b[0;34m\u001b[0m\u001b[0;34m\u001b[0m\u001b[0m\n\u001b[0m\u001b[1;32m      8\u001b[0m \u001b[0mf5\u001b[0m\u001b[0;34m(\u001b[0m\u001b[0;34m)\u001b[0m\u001b[0;34m\u001b[0m\u001b[0;34m\u001b[0m\u001b[0m\n",
      "\u001b[0;32m<ipython-input-26-8dc97886482f>\u001b[0m in \u001b[0;36mf6\u001b[0;34m()\u001b[0m\n\u001b[1;32m      4\u001b[0m     \u001b[0mprint\u001b[0m\u001b[0;34m(\u001b[0m\u001b[0;34m\"f5:\"\u001b[0m\u001b[0;34m,\u001b[0m\u001b[0mh\u001b[0m\u001b[0;34m)\u001b[0m\u001b[0;34m\u001b[0m\u001b[0;34m\u001b[0m\u001b[0m\n\u001b[1;32m      5\u001b[0m \u001b[0;32mdef\u001b[0m \u001b[0mf6\u001b[0m\u001b[0;34m(\u001b[0m\u001b[0;34m)\u001b[0m\u001b[0;34m:\u001b[0m\u001b[0;34m\u001b[0m\u001b[0;34m\u001b[0m\u001b[0m\n\u001b[0;32m----> 6\u001b[0;31m     \u001b[0mprint\u001b[0m\u001b[0;34m(\u001b[0m\u001b[0;34m\"f6:\"\u001b[0m\u001b[0;34m,\u001b[0m\u001b[0mh\u001b[0m\u001b[0;34m)\u001b[0m\u001b[0;34m\u001b[0m\u001b[0;34m\u001b[0m\u001b[0m\n\u001b[0m\u001b[1;32m      7\u001b[0m \u001b[0mf6\u001b[0m\u001b[0;34m(\u001b[0m\u001b[0;34m)\u001b[0m\u001b[0;34m\u001b[0m\u001b[0;34m\u001b[0m\u001b[0m\n\u001b[1;32m      8\u001b[0m \u001b[0mf5\u001b[0m\u001b[0;34m(\u001b[0m\u001b[0;34m)\u001b[0m\u001b[0;34m\u001b[0m\u001b[0;34m\u001b[0m\u001b[0m\n",
      "\u001b[0;31mNameError\u001b[0m: name 'h' is not defined"
     ]
    }
   ],
   "source": [
    "def f5():\n",
    "    global h\n",
    "    h=222\n",
    "    print(\"f5:\",h)\n",
    "def f6():\n",
    "    print(\"f6:\",h)\n",
    "f6()\n",
    "f5()"
   ]
  },
  {
   "cell_type": "code",
   "execution_count": 27,
   "metadata": {},
   "outputs": [
    {
     "name": "stdout",
     "output_type": "stream",
     "text": [
      "m1: 222\n",
      "m2: 333\n"
     ]
    }
   ],
   "source": [
    "#when we call m1() the value of h is 222..but whenever we are calling m2() the value of h is 333 bcse the old value(222) is override and new value is assign(333)\n",
    "def m1():\n",
    "    global h\n",
    "    h=222\n",
    "    print(\"m1:\",h)\n",
    "def m2():\n",
    "    global h \n",
    "    h=333\n",
    "    print(\"m2:\",h)\n",
    "m1()\n",
    "m2()"
   ]
  },
  {
   "cell_type": "code",
   "execution_count": 29,
   "metadata": {},
   "outputs": [
    {
     "name": "stdout",
     "output_type": "stream",
     "text": [
      "m1: 222\n",
      "m2: 333\n",
      "m3: 333\n"
     ]
    }
   ],
   "source": [
    "#Based on the calling order it will execute\n",
    "def m1():\n",
    "    global h\n",
    "    h=222\n",
    "    print(\"m1:\",h)\n",
    "def m2():\n",
    "    global h \n",
    "    h=333\n",
    "    print(\"m2:\",h)\n",
    "def m3():\n",
    "    print(\"m3:\",h)\n",
    "m1()\n",
    "m2()\n",
    "m3()"
   ]
  },
  {
   "cell_type": "code",
   "execution_count": 30,
   "metadata": {},
   "outputs": [
    {
     "name": "stdout",
     "output_type": "stream",
     "text": [
      "m1: 222\n",
      "m2: 333\n",
      "m3: 10000\n"
     ]
    }
   ],
   "source": [
    "#local variable is highest priority\n",
    "def m1():\n",
    "    global h\n",
    "    h=222\n",
    "    print(\"m1:\",h)\n",
    "def m2():\n",
    "    global h \n",
    "    h=333\n",
    "    print(\"m2:\",h)\n",
    "def m3():\n",
    "    h=10000\n",
    "    print(\"m3:\",h)\n",
    "m1()\n",
    "m2()\n",
    "m3()"
   ]
  },
  {
   "cell_type": "code",
   "execution_count": 12,
   "metadata": {},
   "outputs": [
    {
     "name": "stdout",
     "output_type": "stream",
     "text": [
      "777\n",
      "10\n"
     ]
    }
   ],
   "source": [
    "#If global variable and local variable having the same name then we can access global variable inside a function as follows\n",
    "a=10 #global variable\n",
    "def f1():\n",
    "    a=777 #local variable\n",
    "    print(a)\n",
    "    print(globals()['a'])#globals() make all global members available ...it is dictionary\n",
    "f1()"
   ]
  },
  {
   "cell_type": "code",
   "execution_count": 33,
   "metadata": {},
   "outputs": [
    {
     "ename": "SyntaxError",
     "evalue": "name 'a' is assigned to before global declaration (<ipython-input-33-9188817f1637>, line 3)",
     "output_type": "error",
     "traceback": [
      "\u001b[0;36m  File \u001b[0;32m\"<ipython-input-33-9188817f1637>\"\u001b[0;36m, line \u001b[0;32m3\u001b[0m\n\u001b[0;31m    global a\u001b[0m\n\u001b[0m    ^\u001b[0m\n\u001b[0;31mSyntaxError\u001b[0m\u001b[0;31m:\u001b[0m name 'a' is assigned to before global declaration\n"
     ]
    }
   ],
   "source": [
    "def f1():\n",
    "    a=50\n",
    "    global a\n",
    "    a=80\n",
    "    print(a)\n",
    "f1()"
   ]
  },
  {
   "cell_type": "code",
   "execution_count": null,
   "metadata": {},
   "outputs": [],
   "source": []
  }
 ],
 "metadata": {
  "kernelspec": {
   "display_name": "Python 3",
   "language": "python",
   "name": "python3"
  },
  "language_info": {
   "codemirror_mode": {
    "name": "ipython",
    "version": 3
   },
   "file_extension": ".py",
   "mimetype": "text/x-python",
   "name": "python",
   "nbconvert_exporter": "python",
   "pygments_lexer": "ipython3",
   "version": "3.6.9"
  }
 },
 "nbformat": 4,
 "nbformat_minor": 2
}
