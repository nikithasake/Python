{
 "cells": [
  {
   "cell_type": "markdown",
   "metadata": {},
   "source": [
    "## Function aliasing\n",
    "- For the existing function we can give another name this is ntng but function aliasing."
   ]
  },
  {
   "cell_type": "markdown",
   "metadata": {},
   "source": [
    "- In the below example only one function is available but we can call that function by using either wish name or greeting name."
   ]
  },
  {
   "cell_type": "code",
   "execution_count": 1,
   "metadata": {},
   "outputs": [
    {
     "name": "stdout",
     "output_type": "stream",
     "text": [
      "Good mrng nimbu\n",
      "Good mrng harish\n",
      "140048015030472\n",
      "140048015030472\n"
     ]
    }
   ],
   "source": [
    "#Example for function aliasing\n",
    "#only one function but two function names\n",
    "def wish(name):\n",
    "    print(\"Good mrng\",name)\n",
    "greeting=wish\n",
    "wish(\"nimbu\")\n",
    "greeting(\"harish\")\n",
    "print(id(wish))\n",
    "print(id(greeting))"
   ]
  },
  {
   "cell_type": "markdown",
   "metadata": {},
   "source": [
    "- if we del one name still we can access that function by using alias name"
   ]
  },
  {
   "cell_type": "code",
   "execution_count": 2,
   "metadata": {},
   "outputs": [
    {
     "name": "stdout",
     "output_type": "stream",
     "text": [
      "Good mrng harish\n",
      "140048015031152\n"
     ]
    }
   ],
   "source": [
    "# \n",
    "def wish(name):\n",
    "    print(\"Good mrng\",name)\n",
    "greeting=wish\n",
    "del wish\n",
    "#wish(\"nimbu\")\n",
    "greeting(\"harish\")\n",
    "#print(id(wish))\n",
    "print(id(greeting))"
   ]
  },
  {
   "cell_type": "code",
   "execution_count": 3,
   "metadata": {},
   "outputs": [
    {
     "name": "stdout",
     "output_type": "stream",
     "text": [
      "Good mrng nimbu\n",
      "140040790134160\n"
     ]
    }
   ],
   "source": [
    "def wish(name):\n",
    "    print(\"Good mrng\",name)\n",
    "greeting=wish\n",
    "del greeting\n",
    "wish(\"nimbu\")\n",
    "print(id(wish))"
   ]
  },
  {
   "cell_type": "markdown",
   "metadata": {},
   "source": [
    "# Nested function:\n",
    "- we can declare function inside the function.\n",
    "- to define function specific repeatedly required functionality.<br>\n",
    "**purpose**:\n",
    "- A grp of stmts inside  a function repeatedly required these grp of stmts define as inner function and i can call inner function directly without writing these lines."
   ]
  },
  {
   "cell_type": "code",
   "execution_count": 5,
   "metadata": {},
   "outputs": [
    {
     "name": "stdout",
     "output_type": "stream",
     "text": [
      "outer function started\n",
      "outer function completed\n",
      "inner function started\n"
     ]
    }
   ],
   "source": [
    "def outer():\n",
    "    print(\"outer function started\")\n",
    "    def inner():#inner function\n",
    "        print(\"inner function started\")#declaration \n",
    "    print(\"outer function completed\")\n",
    "    inner()\n",
    "outer()"
   ]
  },
  {
   "cell_type": "code",
   "execution_count": 6,
   "metadata": {},
   "outputs": [
    {
     "name": "stdout",
     "output_type": "stream",
     "text": [
      "outer function started\n",
      "outer function returning inner function\n"
     ]
    }
   ],
   "source": [
    "def outer():\n",
    "    print(\"outer function started\")\n",
    "    def inner():#inner function\n",
    "        print(\"inner function started\")#declaration \n",
    "    print(\"outer function returning inner function\")\n",
    "outer()"
   ]
  },
  {
   "cell_type": "code",
   "execution_count": 5,
   "metadata": {},
   "outputs": [
    {
     "name": "stdout",
     "output_type": "stream",
     "text": [
      "the sum: 30\n",
      "the average: 15.0\n",
      "the sum: 50\n",
      "the average: 25.0\n",
      "the sum: 90\n",
      "the average: 45.0\n"
     ]
    }
   ],
   "source": [
    "#\n",
    "def f1():#outer function\n",
    "    def inner(a,b):#inner function\n",
    "        print(\"the sum:\",a+b)\n",
    "        print(\"the average:\",(a+b)/2)\n",
    "    inner(10,20)\n",
    "    inner(20,30)\n",
    "    inner(40,50)\n",
    "f1()"
   ]
  },
  {
   "cell_type": "markdown",
   "metadata": {},
   "source": [
    "- In the below example inner() function is local to outer() function and hence it is not possible to call directly from outside of outside() function."
   ]
  },
  {
   "cell_type": "code",
   "execution_count": 6,
   "metadata": {},
   "outputs": [
    {
     "name": "stdout",
     "output_type": "stream",
     "text": [
      "the sum: 30\n",
      "the average: 15.0\n",
      "the sum: 50\n",
      "the average: 25.0\n",
      "the sum: 90\n",
      "the average: 45.0\n"
     ]
    },
    {
     "ename": "NameError",
     "evalue": "name 'inner' is not defined",
     "output_type": "error",
     "traceback": [
      "\u001b[0;31m---------------------------------------------------------------------------\u001b[0m",
      "\u001b[0;31mNameError\u001b[0m                                 Traceback (most recent call last)",
      "\u001b[0;32m<ipython-input-6-9029dc6d5f08>\u001b[0m in \u001b[0;36m<module>\u001b[0;34m()\u001b[0m\n\u001b[1;32m      8\u001b[0m     \u001b[0minner\u001b[0m\u001b[0;34m(\u001b[0m\u001b[0;36m40\u001b[0m\u001b[0;34m,\u001b[0m\u001b[0;36m50\u001b[0m\u001b[0;34m)\u001b[0m\u001b[0;34m\u001b[0m\u001b[0;34m\u001b[0m\u001b[0m\n\u001b[1;32m      9\u001b[0m \u001b[0mf1\u001b[0m\u001b[0;34m(\u001b[0m\u001b[0;34m)\u001b[0m\u001b[0;34m\u001b[0m\u001b[0;34m\u001b[0m\u001b[0m\n\u001b[0;32m---> 10\u001b[0;31m \u001b[0minner\u001b[0m\u001b[0;34m(\u001b[0m\u001b[0;36m40\u001b[0m\u001b[0;34m,\u001b[0m\u001b[0;36m60\u001b[0m\u001b[0;34m)\u001b[0m\u001b[0;34m\u001b[0m\u001b[0;34m\u001b[0m\u001b[0m\n\u001b[0m",
      "\u001b[0;31mNameError\u001b[0m: name 'inner' is not defined"
     ]
    }
   ],
   "source": [
    "#\n",
    "def f1():#outer function\n",
    "    def inner(a,b):#inner function\n",
    "        print(\"the sum:\",a+b)\n",
    "        print(\"the average:\",(a+b)/2)\n",
    "    inner(10,20)\n",
    "    inner(20,30)\n",
    "    inner(40,50)\n",
    "f1()\n",
    "inner(40,60)"
   ]
  },
  {
   "cell_type": "code",
   "execution_count": 5,
   "metadata": {},
   "outputs": [
    {
     "name": "stdout",
     "output_type": "stream",
     "text": [
      "outer function started\n",
      "outer function returning inner function\n",
      "inner function started\n",
      "<class 'function'>\n"
     ]
    }
   ],
   "source": [
    "#A function can return another function\n",
    "def outer():\n",
    "    print(\"outer function started\")\n",
    "    def inner():#inner function\n",
    "        print(\"inner function started\")#declaration \n",
    "    print(\"outer function returning inner function\")\n",
    "    return inner#f1 is pointing inner or inner is assign to f1\n",
    "f1=outer()#outer() function will be executed and returns inner function object.for that inner object we are using f1 to refer \n",
    "f1()\n",
    "print(type(f1))"
   ]
  },
  {
   "cell_type": "code",
   "execution_count": 3,
   "metadata": {},
   "outputs": [
    {
     "name": "stdout",
     "output_type": "stream",
     "text": [
      "outer function started\n",
      "outer function returning inner function\n",
      "inner function started\n",
      "None\n"
     ]
    }
   ],
   "source": [
    "def outer():\n",
    "    print(\"outer function started\")\n",
    "    def inner():#inner function\n",
    "        print(\"inner function started\")#declaration \n",
    "    print(\"outer function returning inner function\")\n",
    "    return inner()\n",
    "f1=outer() \n",
    "print(f1)"
   ]
  },
  {
   "cell_type": "code",
   "execution_count": 9,
   "metadata": {},
   "outputs": [
    {
     "name": "stdout",
     "output_type": "stream",
     "text": [
      "outer function started\n",
      "outer function returning inner function\n",
      "inner function started\n",
      "inner function started\n"
     ]
    }
   ],
   "source": [
    "#my example\n",
    "def outer():\n",
    "    print(\"outer function started\")\n",
    "    def inner(name):#inner function\n",
    "        print(\"inner function started\")#declaration \n",
    "    print(\"outer function returning inner function\")\n",
    "    inner(\"nikki\")\n",
    "    inner(\"nimbu\")\n",
    "outer()"
   ]
  },
  {
   "cell_type": "markdown",
   "metadata": {},
   "source": [
    "## differnce b/w outer() and outer\n",
    "- f1=outer():\n",
    "    function call\n",
    "- f1=outer:\n",
    "    for outer function we are giving another name"
   ]
  },
  {
   "cell_type": "code",
   "execution_count": 12,
   "metadata": {},
   "outputs": [
    {
     "name": "stdout",
     "output_type": "stream",
     "text": [
      "outer function started\n",
      "outer function returning inner function\n",
      "inner function started\n",
      "<class 'NoneType'>\n",
      "None\n"
     ]
    }
   ],
   "source": [
    "def outer():\n",
    "    print(\"outer function started\")\n",
    "    def inner():\n",
    "        print(\"inner function started\")\n",
    "    print(\"outer function returning inner function\")\n",
    "    return inner()\n",
    "f1=outer()\n",
    "print(type(f1))\n",
    "print(f1)"
   ]
  },
  {
   "cell_type": "code",
   "execution_count": 1,
   "metadata": {},
   "outputs": [
    {
     "name": "stdout",
     "output_type": "stream",
     "text": [
      "200\n",
      "300\n"
     ]
    }
   ],
   "source": [
    "#\n",
    "def multi(a):\n",
    "    def mul(b):\n",
    "        return a*b\n",
    "    return mul\n",
    "y=multi(10)\n",
    "print(y(20))\n",
    "y=multi(10)(30)\n",
    "print(y)"
   ]
  },
  {
   "cell_type": "code",
   "execution_count": 14,
   "metadata": {},
   "outputs": [
    {
     "name": "stdout",
     "output_type": "stream",
     "text": [
      "400\n",
      "400\n"
     ]
    }
   ],
   "source": [
    "def multi(a):\n",
    "    def mul(b):\n",
    "        def mu(c):\n",
    "            return a*b*c\n",
    "        return mu\n",
    "    return mul\n",
    "y=multi(10)\n",
    "print(y(20)(2))\n",
    "y=multi(10)(20)(2)\n",
    "print(y)"
   ]
  },
  {
   "cell_type": "code",
   "execution_count": 2,
   "metadata": {},
   "outputs": [
    {
     "name": "stdout",
     "output_type": "stream",
     "text": [
      "f2 function\n"
     ]
    }
   ],
   "source": [
    "#We can pass function as argument to another function\n",
    "def f1(func):\n",
    "    func()\n",
    "def f2():\n",
    "    print(\"f2 function\")\n",
    "f1(f2)"
   ]
  },
  {
   "cell_type": "code",
   "execution_count": null,
   "metadata": {},
   "outputs": [],
   "source": []
  },
  {
   "cell_type": "code",
   "execution_count": null,
   "metadata": {},
   "outputs": [],
   "source": []
  },
  {
   "cell_type": "code",
   "execution_count": null,
   "metadata": {},
   "outputs": [],
   "source": []
  }
 ],
 "metadata": {
  "kernelspec": {
   "display_name": "Python 3",
   "language": "python",
   "name": "python3"
  },
  "language_info": {
   "codemirror_mode": {
    "name": "ipython",
    "version": 3
   },
   "file_extension": ".py",
   "mimetype": "text/x-python",
   "name": "python",
   "nbconvert_exporter": "python",
   "pygments_lexer": "ipython3",
   "version": "3.6.9"
  }
 },
 "nbformat": 4,
 "nbformat_minor": 2
}
