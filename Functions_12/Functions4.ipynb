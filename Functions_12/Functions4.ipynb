{
 "cells": [
  {
   "cell_type": "markdown",
   "metadata": {},
   "source": [
    "# Generator\n",
    "- Generator is a special type of function which is responsible to generate a sequence of values,but it uses yield keyword to return value."
   ]
  },
  {
   "cell_type": "markdown",
   "metadata": {},
   "source": [
    "## Traditional collections vs Generators"
   ]
  },
  {
   "cell_type": "code",
   "execution_count": 2,
   "metadata": {},
   "outputs": [
    {
     "name": "stdout",
     "output_type": "stream",
     "text": [
      "[0, 1, 4, 9, 16, 25, 36, 49, 64, 81]\n",
      "0\n"
     ]
    }
   ],
   "source": [
    "#Normal collections\n",
    "l=[x*x for x in range(10)]\n",
    "print(l)\n",
    "print(l[0])"
   ]
  },
  {
   "cell_type": "code",
   "execution_count": null,
   "metadata": {},
   "outputs": [],
   "source": [
    "#in this case we will get memory utilization problem\n",
    "#here all the values are created and storing at begining only.\n",
    "l=[x*x for x in range(10000000)]\n",
    "print(l)\n",
    "print(l[0])\n",
    "#o/p:memory problem"
   ]
  },
  {
   "cell_type": "code",
   "execution_count": 3,
   "metadata": {},
   "outputs": [
    {
     "name": "stdout",
     "output_type": "stream",
     "text": [
      "0\n",
      "1\n",
      "4\n"
     ]
    }
   ],
   "source": [
    "l=(x*x for x in range(10000000))\n",
    "print(next(l))\n",
    "print(next(l))\n",
    "print(next(l))"
   ]
  },
  {
   "cell_type": "markdown",
   "metadata": {},
   "source": [
    "### Diff b/w l=[x*x for x in range(10000000)] and l=(x*x for x in range(10000000))\n",
    "- In first approach the objects will be stored in the memory.\n",
    "- In second approach tuple no objects are stored in the memory."
   ]
  },
  {
   "cell_type": "code",
   "execution_count": null,
   "metadata": {},
   "outputs": [],
   "source": [
    "#generator wont store any objects.\n",
    "g=(x*x for x in range(10000000))\n",
    "print(type(g))\n",
    "while True:\n",
    "    print(next(g))\n",
    "#it will print o/p upto 10000000-1"
   ]
  },
  {
   "cell_type": "code",
   "execution_count": 4,
   "metadata": {},
   "outputs": [
    {
     "name": "stdout",
     "output_type": "stream",
     "text": [
      "<class 'generator'>\n",
      "A\n",
      "B\n",
      "C\n"
     ]
    }
   ],
   "source": [
    "#Write a generator function to generate 3 values 'A','B','C'\n",
    "def mygen():\n",
    "    yield 'A'\n",
    "    yield 'B'\n",
    "    yield 'C'\n",
    "g=mygen()\n",
    "print(type(g))\n",
    "print(next(g))\n",
    "print(next(g))\n",
    "print(next(g))"
   ]
  },
  {
   "cell_type": "code",
   "execution_count": 5,
   "metadata": {},
   "outputs": [
    {
     "name": "stdout",
     "output_type": "stream",
     "text": [
      "<class 'generator'>\n",
      "A\n",
      "B\n",
      "C\n"
     ]
    },
    {
     "ename": "StopIteration",
     "evalue": "",
     "output_type": "error",
     "traceback": [
      "\u001b[0;31m---------------------------------------------------------------------------\u001b[0m",
      "\u001b[0;31mStopIteration\u001b[0m                             Traceback (most recent call last)",
      "\u001b[0;32m<ipython-input-5-f10a71df951a>\u001b[0m in \u001b[0;36m<module>\u001b[0;34m()\u001b[0m\n\u001b[1;32m      8\u001b[0m \u001b[0mprint\u001b[0m\u001b[0;34m(\u001b[0m\u001b[0mnext\u001b[0m\u001b[0;34m(\u001b[0m\u001b[0mg\u001b[0m\u001b[0;34m)\u001b[0m\u001b[0;34m)\u001b[0m\u001b[0;34m\u001b[0m\u001b[0;34m\u001b[0m\u001b[0m\n\u001b[1;32m      9\u001b[0m \u001b[0mprint\u001b[0m\u001b[0;34m(\u001b[0m\u001b[0mnext\u001b[0m\u001b[0;34m(\u001b[0m\u001b[0mg\u001b[0m\u001b[0;34m)\u001b[0m\u001b[0;34m)\u001b[0m\u001b[0;34m\u001b[0m\u001b[0;34m\u001b[0m\u001b[0m\n\u001b[0;32m---> 10\u001b[0;31m \u001b[0mprint\u001b[0m\u001b[0;34m(\u001b[0m\u001b[0mnext\u001b[0m\u001b[0;34m(\u001b[0m\u001b[0mg\u001b[0m\u001b[0;34m)\u001b[0m\u001b[0;34m)\u001b[0m\u001b[0;34m\u001b[0m\u001b[0;34m\u001b[0m\u001b[0m\n\u001b[0m",
      "\u001b[0;31mStopIteration\u001b[0m: "
     ]
    }
   ],
   "source": [
    "def mygen():\n",
    "    yield 'A'\n",
    "    yield 'B'\n",
    "    yield 'C'\n",
    "g=mygen()\n",
    "print(type(g))\n",
    "print(next(g))\n",
    "print(next(g))\n",
    "print(next(g))\n",
    "print(next(g))"
   ]
  },
  {
   "cell_type": "code",
   "execution_count": 2,
   "metadata": {},
   "outputs": [
    {
     "name": "stdout",
     "output_type": "stream",
     "text": [
      "A\n",
      "B\n",
      "C\n"
     ]
    }
   ],
   "source": [
    "def mygen():\n",
    "    yield 'A'\n",
    "    yield 'B'\n",
    "    yield 'C'\n",
    "g=mygen()\n",
    "for x in g:\n",
    "    print(x)"
   ]
  },
  {
   "cell_type": "code",
   "execution_count": 3,
   "metadata": {},
   "outputs": [
    {
     "name": "stdout",
     "output_type": "stream",
     "text": [
      "1\n",
      "2\n",
      "3\n",
      "4\n",
      "5\n",
      "6\n",
      "7\n",
      "8\n",
      "9\n",
      "10\n"
     ]
    }
   ],
   "source": [
    "#write a generator function to generate first n value\n",
    "def first_n_value_generator(n):\n",
    "    i=1\n",
    "    while i<=n:\n",
    "        yield i\n",
    "        i=i+1\n",
    "g=first_n_value_generator(10)\n",
    "for x in g:\n",
    "    print(x)"
   ]
  },
  {
   "cell_type": "code",
   "execution_count": 1,
   "metadata": {},
   "outputs": [
    {
     "name": "stdout",
     "output_type": "stream",
     "text": [
      "5\n",
      "4\n",
      "3\n",
      "2\n",
      "1\n"
     ]
    }
   ],
   "source": [
    "#write a generator function to generate the values for countdown with provided max value\n",
    "def countdown_generator(num):\n",
    "    while num>0:\n",
    "        yield num\n",
    "        num=num-1\n",
    "g=countdown_generator(5)\n",
    "import time\n",
    "for x in g:\n",
    "    print(x)\n",
    "    time.sleep(1)"
   ]
  },
  {
   "cell_type": "code",
   "execution_count": 6,
   "metadata": {},
   "outputs": [
    {
     "name": "stdout",
     "output_type": "stream",
     "text": [
      "0\n",
      "1\n",
      "1\n",
      "2\n",
      "3\n",
      "5\n",
      "8\n"
     ]
    }
   ],
   "source": [
    "#write a generator function to generate fibonacci numbers\n",
    "def fiboaccci_sequence_generator():\n",
    "    a,b=0,1\n",
    "    while True:\n",
    "        yield a\n",
    "        a,b=b,a+b\n",
    "g=fiboaccci_sequence_generator()\n",
    "for x in g:\n",
    "    if x<=10:\n",
    "        print(x)\n",
    "    else:\n",
    "        break\n",
    "#Tracing\n",
    "a,b=0,1\n",
    "a,b=1,1\n",
    "\n",
    "a,b=1,2\n",
    "a,b=2,3\n",
    "a,b=3,5\n",
    "a,b=5,8"
   ]
  },
  {
   "cell_type": "code",
   "execution_count": 22,
   "metadata": {},
   "outputs": [
    {
     "name": "stdout",
     "output_type": "stream",
     "text": [
      "Time taken for list:0.02709299999999981\n",
      "Time taken for generator:0.0017280000000001738\n"
     ]
    }
   ],
   "source": [
    "# Generators vs Normal Collection wrt performance\n",
    "import random\n",
    "import time\n",
    "names=[\"Harish\",\"Nikki\",\"Nimbu\"]\n",
    "subjects=[\"Java\",\"python\",\"C\"]\n",
    "def people_list(num_people):\n",
    "    results=[]\n",
    "    for i in range(num_people):\n",
    "        person={\n",
    "            \"id\":i,\n",
    "            \"name\":random.choice(names),\n",
    "            \"subject\":random.choice(subjects),\n",
    "            }\n",
    "        results.append(person)\n",
    "    return results\n",
    "def people_generator(num_people):\n",
    "    for i in range(num_people):\n",
    "        person={\n",
    "            \"id\":i,\n",
    "            \"name\":random.choice(names),\n",
    "            \"subject\":random.choice(subjects),\n",
    "            }\n",
    "        yield person\n",
    "t1=time.clock()\n",
    "people=people_list(10000)\n",
    "t2=time.clock()\n",
    "print(\"Time taken for list:{}\".format(t2-t1))\n",
    "\n",
    "t1=time.clock()\n",
    "people=people_generator(10000)\n",
    "t2=time.clock()\n",
    "print(\"Time taken for generator:{}\".format(t2-t1))"
   ]
  },
  {
   "cell_type": "markdown",
   "metadata": {},
   "source": [
    "## Advantages of Generator Functions\n",
    "- When compared with class level iterators,generators are very easy to use.\n",
    "- Improves memory utilization and performance.\n",
    "- Generators are best suitable for reading data from large number of large files.\n",
    "- Generators work great for web scraping and crawling."
   ]
  },
  {
   "cell_type": "markdown",
   "metadata": {},
   "source": [
    "## Generators vs Normal Collections wrt Memory Utilization:"
   ]
  },
  {
   "cell_type": "markdown",
   "metadata": {},
   "source": [
    "### Normal Collection:\n",
    "- l=[x*x for x in range(10000000000000000)]\n",
    "   print(l[0])\n",
    "- We will get MemoryError in this case because all these values are required to store in the memory.\n",
    "### Generators\n",
    "- l=(x*x for x in range(10000000000000000))\n",
    "   print(next(l)\n",
    "- We wont get MemoryError in this case because the values wont be stored in the memory."
   ]
  },
  {
   "cell_type": "code",
   "execution_count": null,
   "metadata": {},
   "outputs": [],
   "source": []
  }
 ],
 "metadata": {
  "kernelspec": {
   "display_name": "Python 3",
   "language": "python",
   "name": "python3"
  },
  "language_info": {
   "codemirror_mode": {
    "name": "ipython",
    "version": 3
   },
   "file_extension": ".py",
   "mimetype": "text/x-python",
   "name": "python",
   "nbconvert_exporter": "python",
   "pygments_lexer": "ipython3",
   "version": "3.6.9"
  }
 },
 "nbformat": 4,
 "nbformat_minor": 2
}
