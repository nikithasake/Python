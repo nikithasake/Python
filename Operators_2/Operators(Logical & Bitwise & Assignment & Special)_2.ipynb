{
 "cells": [
  {
   "cell_type": "markdown",
   "metadata": {},
   "source": [
    "# 3.Logical Operators\n",
    "- and,or,not \n",
    "- We can apply for all types.\n",
    "### For boolean types behaviour:\n",
    "- and ==> If both arguments are True then only result is True.\n",
    "- or  ==> If atleast one argument is True then result is True.\n",
    "- not ==> complement"
   ]
  },
  {
   "cell_type": "code",
   "execution_count": 1,
   "metadata": {},
   "outputs": [
    {
     "name": "stdout",
     "output_type": "stream",
     "text": [
      "False\n",
      "True\n",
      "False\n"
     ]
    }
   ],
   "source": [
    "print(True and False)\n",
    "print(True or False)\n",
    "print(not True)"
   ]
  },
  {
   "cell_type": "markdown",
   "metadata": {},
   "source": [
    "### For non-boolean types behaviour:\n",
    "- 0 means False\n",
    "- non-zero means True\n",
    "- empty string is always treated as False"
   ]
  },
  {
   "cell_type": "markdown",
   "metadata": {},
   "source": [
    "### x and y:\n",
    "- If x evaluates to false then result is x otherwise returns y"
   ]
  },
  {
   "cell_type": "code",
   "execution_count": 4,
   "metadata": {},
   "outputs": [
    {
     "name": "stdout",
     "output_type": "stream",
     "text": [
      "20\n",
      "0\n",
      "nikki\n",
      "0\n",
      "0\n"
     ]
    }
   ],
   "source": [
    "print(12 and 20 )\n",
    "print(0 and 20)\n",
    "print(1 and \"nikki\")\n",
    "print(0 and \"nimbu\")\n",
    "print(0 and 0)"
   ]
  },
  {
   "cell_type": "markdown",
   "metadata": {},
   "source": [
    "## x or y:\n",
    "- If x evaluates to True then result is x otherwise result is y"
   ]
  },
  {
   "cell_type": "code",
   "execution_count": 14,
   "metadata": {},
   "outputs": [
    {
     "name": "stdout",
     "output_type": "stream",
     "text": [
      "10\n",
      "20\n",
      "1\n",
      "nimbu\n",
      "0\n",
      "True\n",
      "10\n"
     ]
    },
    {
     "ename": "ZeroDivisionError",
     "evalue": "division by zero",
     "output_type": "error",
     "traceback": [
      "\u001b[0;31m---------------------------------------------------------------------------\u001b[0m",
      "\u001b[0;31mZeroDivisionError\u001b[0m                         Traceback (most recent call last)",
      "\u001b[0;32m<ipython-input-14-6b447026afad>\u001b[0m in \u001b[0;36m<module>\u001b[0;34m()\u001b[0m\n\u001b[1;32m      6\u001b[0m \u001b[0mprint\u001b[0m\u001b[0;34m(\u001b[0m\u001b[0;36m0\u001b[0m \u001b[0;32mor\u001b[0m \u001b[0;32mTrue\u001b[0m\u001b[0;34m)\u001b[0m\u001b[0;34m\u001b[0m\u001b[0;34m\u001b[0m\u001b[0m\n\u001b[1;32m      7\u001b[0m \u001b[0mprint\u001b[0m\u001b[0;34m(\u001b[0m\u001b[0;36m10\u001b[0m \u001b[0;32mor\u001b[0m \u001b[0;36m10\u001b[0m\u001b[0;34m/\u001b[0m\u001b[0;36m0\u001b[0m\u001b[0;34m)\u001b[0m\u001b[0;34m\u001b[0m\u001b[0;34m\u001b[0m\u001b[0m\n\u001b[0;32m----> 8\u001b[0;31m \u001b[0mprint\u001b[0m\u001b[0;34m(\u001b[0m\u001b[0;36m0\u001b[0m \u001b[0;32mor\u001b[0m \u001b[0;36m10\u001b[0m\u001b[0;34m/\u001b[0m\u001b[0;36m0\u001b[0m\u001b[0;34m)\u001b[0m\u001b[0;34m\u001b[0m\u001b[0;34m\u001b[0m\u001b[0m\n\u001b[0m",
      "\u001b[0;31mZeroDivisionError\u001b[0m: division by zero"
     ]
    }
   ],
   "source": [
    "print(10 or 20 )\n",
    "print(0 or 20)\n",
    "print(1 or \"nikki\")\n",
    "print(0 or \"nimbu\")\n",
    "print(0 or 0)\n",
    "print(0 or True)\n",
    "print(10 or 10/0)\n",
    "print(0 or 10/0)"
   ]
  },
  {
   "cell_type": "markdown",
   "metadata": {},
   "source": [
    "## not x:\n",
    "- If x is evaluates to False then result is True otherwise False."
   ]
  },
  {
   "cell_type": "code",
   "execution_count": 9,
   "metadata": {},
   "outputs": [
    {
     "name": "stdout",
     "output_type": "stream",
     "text": [
      "False\n",
      "True\n",
      "False\n",
      "True\n"
     ]
    }
   ],
   "source": [
    "print(not True)\n",
    "print(not 0)\n",
    "print(not 1)\n",
    "print(not '')"
   ]
  },
  {
   "cell_type": "markdown",
   "metadata": {},
   "source": [
    "# 4.Bitwise Operators\n",
    "- We can apply these opeartors bitwise(bit by bit)\n",
    "- These operators are applicable only for int and boolean types.By mistake if we are trying to apply for any other type then we will get Error.\n",
    "- &,|,^,~,<<,>>"
   ]
  },
  {
   "cell_type": "code",
   "execution_count": null,
   "metadata": {},
   "outputs": [],
   "source": [
    "& ==> if both bits are 1 then only result is 1 otherwise result is 0\n",
    "| ==> if atleast one bit is 1 then only result is 1 otherwise result is 0\n",
    "^ ==> if bits are different then only result is 1 otherwise result is 0\n",
    "~ ==> bitwise complement operator \n",
    "    - 1 will be ==>0 and 0 will be ==>1\n",
    "<< ==>Bitwise Left shift\n",
    ">> ==>Bitwise Right shift"
   ]
  },
  {
   "cell_type": "code",
   "execution_count": 17,
   "metadata": {},
   "outputs": [
    {
     "name": "stdout",
     "output_type": "stream",
     "text": [
      "4\n",
      "5\n"
     ]
    }
   ],
   "source": [
    "print(4 & 5)#100 & 101 ==> 100 ==> 4\n",
    "print(4 | 5)#100 | 101 ==> 101 ==> 5\n",
    "print(4 ^ 5)#100 ^ 101 ==> 001 ==> 1"
   ]
  },
  {
   "cell_type": "markdown",
   "metadata": {},
   "source": [
    "#### bitwise complement operator(~):\n",
    "- We have to apply complement for total bits."
   ]
  },
  {
   "cell_type": "markdown",
   "metadata": {},
   "source": [
    "####\n",
    "- for 4 ==> 00000000000000000000000000000100(32 bit) ==> for ~4 ==>11111111111111111111111111111011(32bit) (Msb)first bit consider as sign bit if first bit is 0 then positive number ..if first bit 1 means negative number..Positive numbers will be represent directly in the memory..negative number will be represented in 2's compliment form...\n",
    "-  4 =  00000000000000000000000000000100\n",
    "  ~4 =  11111111111111111111111111111011 # Msb is 1 then negative so find 2's complement\n",
    "  ====================\n",
    "         000000000000000..........100\n",
    "                                    1(1's compliment)\n",
    "  ======================================\n",
    "                                   101(2's compliment)\n",
    "                                   =-5"
   ]
  },
  {
   "cell_type": "code",
   "execution_count": 2,
   "metadata": {},
   "outputs": [
    {
     "name": "stdout",
     "output_type": "stream",
     "text": [
      "-5\n",
      "-2\n"
     ]
    }
   ],
   "source": [
    "print(~4)\n",
    "print(~True)"
   ]
  },
  {
   "cell_type": "markdown",
   "metadata": {},
   "source": [
    "## Note:\n",
    "- The most significant bit act as sign bit.0 value represents +ve number where as 1 represents -ve value.\n",
    "- Positive numbers will be represented directly in the memory where as -ve numbers will be represented indirectly in 2's complement form"
   ]
  },
  {
   "cell_type": "markdown",
   "metadata": {},
   "source": [
    "### Shift Operators:"
   ]
  },
  {
   "cell_type": "code",
   "execution_count": null,
   "metadata": {},
   "outputs": [],
   "source": [
    "- << left shift operator\n",
    "- >> right shift operator"
   ]
  },
  {
   "cell_type": "markdown",
   "metadata": {},
   "source": [
    "### << left shift operator:"
   ]
  },
  {
   "cell_type": "code",
   "execution_count": 22,
   "metadata": {},
   "outputs": [
    {
     "name": "stdout",
     "output_type": "stream",
     "text": [
      "40\n"
     ]
    }
   ],
   "source": [
    "print(10<<2)"
   ]
  },
  {
   "cell_type": "code",
   "execution_count": null,
   "metadata": {},
   "outputs": [],
   "source": [
    "#Explanation\n",
    "(10<<2)\n",
    "0000000........0001010==>from msb two bits gone and in lsb create two vacant cells these two cells fill with two zeros then\n",
    "  00000........000101000"
   ]
  },
  {
   "cell_type": "code",
   "execution_count": 4,
   "metadata": {},
   "outputs": [
    {
     "name": "stdout",
     "output_type": "stream",
     "text": [
      "4\n"
     ]
    }
   ],
   "source": [
    "print(True<<2)"
   ]
  },
  {
   "cell_type": "markdown",
   "metadata": {},
   "source": [
    "### >> right shift operator"
   ]
  },
  {
   "cell_type": "code",
   "execution_count": 1,
   "metadata": {},
   "outputs": [
    {
     "name": "stdout",
     "output_type": "stream",
     "text": [
      "2\n"
     ]
    }
   ],
   "source": [
    "print(10>>2)"
   ]
  },
  {
   "cell_type": "code",
   "execution_count": null,
   "metadata": {},
   "outputs": [],
   "source": [
    "#Explanation\n",
    "- Left hand side vacant cells filled with sign bit( 0 for +ve  and 1 for -ve)\n",
    "(10>>2)\n",
    "  000000000...........1010\n",
    "00000000000...........10====>2\n",
    " "
   ]
  },
  {
   "cell_type": "code",
   "execution_count": 3,
   "metadata": {},
   "outputs": [
    {
     "name": "stdout",
     "output_type": "stream",
     "text": [
      "-3\n"
     ]
    }
   ],
   "source": [
    "print(-10>>2)"
   ]
  },
  {
   "cell_type": "code",
   "execution_count": 5,
   "metadata": {},
   "outputs": [
    {
     "name": "stdout",
     "output_type": "stream",
     "text": [
      "0\n"
     ]
    }
   ],
   "source": [
    "print(True >>2)"
   ]
  },
  {
   "cell_type": "markdown",
   "metadata": {},
   "source": [
    "# 4.Assignment Operators\n",
    "- We can use assignment operator to assign value to the variable."
   ]
  },
  {
   "cell_type": "code",
   "execution_count": 8,
   "metadata": {},
   "outputs": [
    {
     "name": "stdout",
     "output_type": "stream",
     "text": [
      "10\n",
      "10 20 30 40\n"
     ]
    }
   ],
   "source": [
    "x=10\n",
    "print(x)\n",
    "a,b,c,d=10,20,30,40\n",
    "print(a,b,c,d)"
   ]
  },
  {
   "cell_type": "code",
   "execution_count": 9,
   "metadata": {},
   "outputs": [
    {
     "ename": "ValueError",
     "evalue": "not enough values to unpack (expected 4, got 3)",
     "output_type": "error",
     "traceback": [
      "\u001b[0;31m---------------------------------------------------------------------------\u001b[0m",
      "\u001b[0;31mValueError\u001b[0m                                Traceback (most recent call last)",
      "\u001b[0;32m<ipython-input-9-801bab3ab08b>\u001b[0m in \u001b[0;36m<module>\u001b[0;34m()\u001b[0m\n\u001b[0;32m----> 1\u001b[0;31m \u001b[0ma\u001b[0m\u001b[0;34m,\u001b[0m\u001b[0mb\u001b[0m\u001b[0;34m,\u001b[0m\u001b[0mc\u001b[0m\u001b[0;34m,\u001b[0m\u001b[0md\u001b[0m\u001b[0;34m=\u001b[0m\u001b[0;36m10\u001b[0m\u001b[0;34m,\u001b[0m\u001b[0;36m20\u001b[0m\u001b[0;34m,\u001b[0m\u001b[0;36m30\u001b[0m\u001b[0;34m\u001b[0m\u001b[0;34m\u001b[0m\u001b[0m\n\u001b[0m\u001b[1;32m      2\u001b[0m \u001b[0mprint\u001b[0m\u001b[0;34m(\u001b[0m\u001b[0ma\u001b[0m\u001b[0;34m,\u001b[0m\u001b[0mb\u001b[0m\u001b[0;34m,\u001b[0m\u001b[0mc\u001b[0m\u001b[0;34m,\u001b[0m\u001b[0md\u001b[0m\u001b[0;34m)\u001b[0m\u001b[0;34m\u001b[0m\u001b[0;34m\u001b[0m\u001b[0m\n",
      "\u001b[0;31mValueError\u001b[0m: not enough values to unpack (expected 4, got 3)"
     ]
    }
   ],
   "source": [
    "#The number of variables and value not matched\n",
    "a,b,c,d=10,20,30\n",
    "print(a,b,c,d)"
   ]
  },
  {
   "cell_type": "markdown",
   "metadata": {},
   "source": [
    "- We can combine assignment operator with some other operator to form compound assignment operator.\n",
    "- The following is the list of all possible compound assignment operators in python.\n",
    " - +=\n",
    " - -=\n",
    " - *=\n",
    " - /=\n",
    " - %=\n",
    " - //=\n",
    " - **=\n",
    " - &=\n",
    " - |=\n",
    " - ^=\n",
    " "
   ]
  },
  {
   "cell_type": "code",
   "execution_count": 10,
   "metadata": {},
   "outputs": [
    {
     "name": "stdout",
     "output_type": "stream",
     "text": [
      "110\n"
     ]
    }
   ],
   "source": [
    "x=100\n",
    "x+=10#x=x+10\n",
    "print(x)"
   ]
  },
  {
   "cell_type": "code",
   "execution_count": 20,
   "metadata": {},
   "outputs": [
    {
     "name": "stdout",
     "output_type": "stream",
     "text": [
      "4\n"
     ]
    }
   ],
   "source": [
    "a=4\n",
    "a&=5#a=a&5\n",
    "print(a)"
   ]
  },
  {
   "cell_type": "code",
   "execution_count": 19,
   "metadata": {},
   "outputs": [
    {
     "ename": "SyntaxError",
     "evalue": "invalid syntax (<ipython-input-19-a69596b613cf>, line 4)",
     "output_type": "error",
     "traceback": [
      "\u001b[0;36m  File \u001b[0;32m\"<ipython-input-19-a69596b613cf>\"\u001b[0;36m, line \u001b[0;32m4\u001b[0m\n\u001b[0;31m    print(x++)\u001b[0m\n\u001b[0m             ^\u001b[0m\n\u001b[0;31mSyntaxError\u001b[0m\u001b[0;31m:\u001b[0m invalid syntax\n"
     ]
    }
   ],
   "source": [
    "#increment and decrement operators are not available in python..by mistake if we are trying to use it will give error\n",
    "x=100\n",
    "print(++x)#it treated as +(+x)\n",
    "print(x++)"
   ]
  },
  {
   "cell_type": "code",
   "execution_count": 5,
   "metadata": {},
   "outputs": [
    {
     "name": "stdout",
     "output_type": "stream",
     "text": [
      "100\n"
     ]
    }
   ],
   "source": [
    "x=100\n",
    "print(++x)#it treated as +(+x)\n",
    "#print(x++)"
   ]
  },
  {
   "cell_type": "code",
   "execution_count": 16,
   "metadata": {},
   "outputs": [
    {
     "name": "stdout",
     "output_type": "stream",
     "text": [
      "100\n"
     ]
    }
   ],
   "source": [
    "x=100\n",
    "print(--x)# -(-x)"
   ]
  },
  {
   "cell_type": "code",
   "execution_count": 2,
   "metadata": {},
   "outputs": [
    {
     "name": "stdout",
     "output_type": "stream",
     "text": [
      "-100\n"
     ]
    }
   ],
   "source": [
    "x=100\n",
    "print(---x)"
   ]
  },
  {
   "cell_type": "markdown",
   "metadata": {},
   "source": [
    "### Ternary Operator:\n",
    "**Syntax:**\n",
    "- x=firstvalue if condition else secondvalue\n",
    "- if condition is True then firstvalue will be considered else secondvalue will be considered."
   ]
  },
  {
   "cell_type": "code",
   "execution_count": 22,
   "metadata": {},
   "outputs": [
    {
     "name": "stdout",
     "output_type": "stream",
     "text": [
      "30\n"
     ]
    }
   ],
   "source": [
    "x=30 if 10<20 else 40\n",
    "print(x)"
   ]
  },
  {
   "cell_type": "code",
   "execution_count": 23,
   "metadata": {},
   "outputs": [
    {
     "name": "stdout",
     "output_type": "stream",
     "text": [
      "40\n"
     ]
    }
   ],
   "source": [
    "a,b=10,20\n",
    "x=30 if a>b else 40\n",
    "print(x)"
   ]
  },
  {
   "cell_type": "code",
   "execution_count": 7,
   "metadata": {},
   "outputs": [
    {
     "name": "stdout",
     "output_type": "stream",
     "text": [
      "Enter a value:121\n",
      "Enter b value12\n",
      "12\n"
     ]
    }
   ],
   "source": [
    "#Read two variables from the keyboard and print minimum value\n",
    "a=int(input(\"Enter a value:\"))\n",
    "b=int(input(\"Enter b value\"))\n",
    "min=a if a<b else b\n",
    "print(min)"
   ]
  },
  {
   "cell_type": "markdown",
   "metadata": {},
   "source": [
    "- Nesting of ternary operator is possible"
   ]
  },
  {
   "cell_type": "code",
   "execution_count": 1,
   "metadata": {},
   "outputs": [
    {
     "name": "stdout",
     "output_type": "stream",
     "text": [
      "70\n"
     ]
    }
   ],
   "source": [
    "x=10 if 20>30 else 40 if 50>60 else 70\n",
    "print(x)"
   ]
  },
  {
   "cell_type": "code",
   "execution_count": 2,
   "metadata": {},
   "outputs": [
    {
     "name": "stdout",
     "output_type": "stream",
     "text": [
      "Enter a value:20\n",
      "Enter b value10\n",
      "Enter c value:12\n",
      "20\n"
     ]
    }
   ],
   "source": [
    "#Read three variables from the keyboard and print maximum value\n",
    "x=int(input(\"Enter a value:\"))\n",
    "y=int(input(\"Enter b value\"))\n",
    "z=int(input(\"Enter c value:\"))\n",
    "max=x if x>y and x>z else y if y>z else z\n",
    "print(max)"
   ]
  },
  {
   "cell_type": "code",
   "execution_count": 3,
   "metadata": {},
   "outputs": [
    {
     "name": "stdout",
     "output_type": "stream",
     "text": [
      "Enter a value:10\n",
      "Enter b value20\n",
      "first number is samller than second number\n"
     ]
    }
   ],
   "source": [
    "x=int(input(\"Enter a value:\"))\n",
    "y=int(input(\"Enter b value\"))\n",
    "print(\"Both numbers are equal\") if x==y else print(\"First number is greater than second number\") if x>y else print(\"first number is samller than second number\")"
   ]
  },
  {
   "cell_type": "markdown",
   "metadata": {},
   "source": [
    "## Special Operators"
   ]
  },
  {
   "cell_type": "markdown",
   "metadata": {},
   "source": [
    "### 1.Identity Operator\n",
    "- We can use identity operators for address comparision\n",
    "- two identity operators are available\n",
    "  - is:r1 is r2 returns True if both r1 and r2 are pointing to the same object\n",
    "  - is not:r1 is not r2 returns True if both r1 are r2 are not pointing to the same object"
   ]
  },
  {
   "cell_type": "code",
   "execution_count": 11,
   "metadata": {},
   "outputs": [
    {
     "name": "stdout",
     "output_type": "stream",
     "text": [
      "True\n",
      "False\n"
     ]
    }
   ],
   "source": [
    "a=10\n",
    "b=10\n",
    "print(a is b)\n",
    "print(a is not b)"
   ]
  },
  {
   "cell_type": "code",
   "execution_count": 12,
   "metadata": {},
   "outputs": [
    {
     "name": "stdout",
     "output_type": "stream",
     "text": [
      "False\n",
      "True\n"
     ]
    }
   ],
   "source": [
    "a=10\n",
    "b=20\n",
    "print(a is b)\n",
    "print(a is not b)"
   ]
  },
  {
   "cell_type": "code",
   "execution_count": 14,
   "metadata": {},
   "outputs": [
    {
     "name": "stdout",
     "output_type": "stream",
     "text": [
      "139816235613520\n",
      "139816235613520\n",
      "True\n",
      "False\n"
     ]
    }
   ],
   "source": [
    "a=\"nikki\"\n",
    "b=\"nikki\"\n",
    "print(id(a))\n",
    "print(id(b))\n",
    "print(a is b)\n",
    "print(a is not b)"
   ]
  },
  {
   "cell_type": "code",
   "execution_count": 5,
   "metadata": {},
   "outputs": [
    {
     "name": "stdout",
     "output_type": "stream",
     "text": [
      "139920532281416\n",
      "139920532281288\n",
      "False\n",
      "True\n",
      "True\n",
      "139920532281416\n",
      "139920532281288\n"
     ]
    }
   ],
   "source": [
    "l1=[10,20,30,\"nimbu\"]\n",
    "l2=[10,20,30,\"nimbu\"]\n",
    "print(id(l1))\n",
    "print(id(l2))\n",
    "print(l1 is l2)#check the address comparision\n",
    "print(l1 is not l2)\n",
    "print(l1==l2)#check the content comparision\n",
    "l1.append(40)\n",
    "l2.append(40)\n",
    "print(id(l1))\n",
    "print(id(l2))"
   ]
  },
  {
   "cell_type": "code",
   "execution_count": 6,
   "metadata": {},
   "outputs": [
    {
     "name": "stdout",
     "output_type": "stream",
     "text": [
      "False\n"
     ]
    }
   ],
   "source": [
    "l=range(10)\n",
    "l1=range(10)\n",
    "print(l is l1)"
   ]
  },
  {
   "cell_type": "code",
   "execution_count": 8,
   "metadata": {},
   "outputs": [
    {
     "name": "stdout",
     "output_type": "stream",
     "text": [
      "10915744\n",
      "10916064\n",
      "10915744\n",
      "10916064\n"
     ]
    }
   ],
   "source": [
    "l3=[40,50,60,\"harish\"]\n",
    "l4=[40,50,60,\"harish\"]\n",
    "print(id(l3[0]))\n",
    "print(id(l3[1]))\n",
    "print(id(l4[0]))\n",
    "print(id(l4[1]))"
   ]
  },
  {
   "cell_type": "markdown",
   "metadata": {},
   "source": [
    "## Note:\n",
    "- We can use is operator for address comparision where as == operator for content comparision."
   ]
  },
  {
   "cell_type": "markdown",
   "metadata": {},
   "source": [
    "### 2.Membership Operator\n",
    "- We can use Membership operators to check whether the given object present in the given collection/Sequence.(It may be string List,set,tuple or dict).\n",
    "    - in :returns True if the given object present in the specified collection\n",
    "    - not in: returns True if the given object not present in the specified collection"
   ]
  },
  {
   "cell_type": "code",
   "execution_count": 2,
   "metadata": {},
   "outputs": [
    {
     "name": "stdout",
     "output_type": "stream",
     "text": [
      "True\n",
      "False\n",
      "True\n"
     ]
    }
   ],
   "source": [
    "l=[10,20,30]\n",
    "print(10 in l)\n",
    "print(50 in l)\n",
    "print(70 not in l)"
   ]
  },
  {
   "cell_type": "code",
   "execution_count": 9,
   "metadata": {},
   "outputs": [
    {
     "name": "stdout",
     "output_type": "stream",
     "text": [
      "True\n",
      "True\n",
      "True\n",
      "True\n"
     ]
    }
   ],
   "source": [
    "s=\"Hello learning python is very very easy\"\n",
    "print(\"l\" in s)\n",
    "print(\"z\" not in s)\n",
    "print(\" \" in s)\n",
    "print(\"hello\" in s or 10 in l)"
   ]
  },
  {
   "cell_type": "markdown",
   "metadata": {},
   "source": [
    "### Operator precedence\n",
    "- If multiple operators present then which operator will be evaluated first is decided by operator prcedence.\n"
   ]
  },
  {
   "cell_type": "markdown",
   "metadata": {},
   "source": [
    "- The following list describes operator precedence in python.\n",
    "    - ()  ==>Parenthesis\n",
    "    - **  ==> exponential operator\n",
    "    - ~,- ==>Bitwise complement operator,unary minus operator\n",
    "    - *,/,%,// ==> multiplication,division,modulo,floor division\n",
    "    - +,- ==> add,sub\n",
    "    - <<,>> ==>left and right shift\n",
    "    - & ==> Bitwise And\n",
    "    - ^ ==> Bitwise X-OR\n",
    "    - | ==> Bitwise OR\n",
    "    - >,>=,<,<=,==,!= ==> Relational or comparision operator\n",
    "    - =,+=,-=,*= ==> Assignment operator\n",
    "    - is,is not  ==> Identity operators\n",
    "    - in,not in  ==> Membership operator\n",
    "    - not ==> Logical not\n",
    "    - and ==> Logical and\n",
    "    - or  ==> Logical or"
   ]
  },
  {
   "cell_type": "code",
   "execution_count": 16,
   "metadata": {},
   "outputs": [
    {
     "name": "stdout",
     "output_type": "stream",
     "text": [
      "100.0\n",
      "100.0\n",
      "70.0\n"
     ]
    }
   ],
   "source": [
    "a=30\n",
    "b=20\n",
    "c=10\n",
    "d=5\n",
    "print((a+b)*c/d)\n",
    "print((a+b)*(c/d))\n",
    "print((a+(b*c)/d))"
   ]
  },
  {
   "cell_type": "code",
   "execution_count": null,
   "metadata": {},
   "outputs": [],
   "source": []
  },
  {
   "cell_type": "code",
   "execution_count": null,
   "metadata": {},
   "outputs": [],
   "source": []
  },
  {
   "cell_type": "code",
   "execution_count": null,
   "metadata": {},
   "outputs": [],
   "source": []
  }
 ],
 "metadata": {
  "kernelspec": {
   "display_name": "Python 3",
   "language": "python",
   "name": "python3"
  },
  "language_info": {
   "codemirror_mode": {
    "name": "ipython",
    "version": 3
   },
   "file_extension": ".py",
   "mimetype": "text/x-python",
   "name": "python",
   "nbconvert_exporter": "python",
   "pygments_lexer": "ipython3",
   "version": "3.6.9"
  }
 },
 "nbformat": 4,
 "nbformat_minor": 2
}
