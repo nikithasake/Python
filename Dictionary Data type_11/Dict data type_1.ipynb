{
 "cells": [
  {
   "cell_type": "markdown",
   "metadata": {},
   "source": [
    "## Imp\n",
    "- List,Tuple,Set===>Only to hold individual Objects\n",
    "- Dict====>Key-value pairs<br>\n",
    " - **eg**:rollno-name and mobile number-address"
   ]
  },
  {
   "cell_type": "markdown",
   "metadata": {},
   "source": [
    "# Dictionary Data Structure\n",
    "- If we want to represent a grp of objects as key-value pairs then we should go for Dictionary.<br>\n",
    "**Eg**:<br>\n",
    "rollno----name<br>\n",
    "phno-----address<br>\n",
    "ipaddress----domain name<br>\n",
    "- Duplicates keys are not allowed but values can be duplicated.\n",
    "- Heterogenous objects are allowed for both keys and values.\n",
    "- insertion order is not preserved\n",
    "- Dictionaries are mutable\n",
    "- Dictionaries are Dynamic \n",
    "- indexing and slicing concepts are not applicable."
   ]
  },
  {
   "cell_type": "markdown",
   "metadata": {},
   "source": [
    "## How to create Dictionary"
   ]
  },
  {
   "cell_type": "markdown",
   "metadata": {},
   "source": [
    "- To create empty dictionary.we can use two ways"
   ]
  },
  {
   "cell_type": "code",
   "execution_count": 1,
   "metadata": {},
   "outputs": [
    {
     "name": "stdout",
     "output_type": "stream",
     "text": [
      "<class 'dict'>\n"
     ]
    }
   ],
   "source": [
    "d={}\n",
    "print(type(d))"
   ]
  },
  {
   "cell_type": "code",
   "execution_count": 3,
   "metadata": {},
   "outputs": [
    {
     "name": "stdout",
     "output_type": "stream",
     "text": [
      "<class 'dict'>\n"
     ]
    }
   ],
   "source": [
    "d=dict()\n",
    "print(type(d))"
   ]
  },
  {
   "cell_type": "markdown",
   "metadata": {},
   "source": [
    "- To add entries"
   ]
  },
  {
   "cell_type": "code",
   "execution_count": 4,
   "metadata": {},
   "outputs": [
    {
     "name": "stdout",
     "output_type": "stream",
     "text": [
      "{100: 'Nimbu', 200: 'Harish', 'nikki': 'Nani'}\n"
     ]
    }
   ],
   "source": [
    "d[100]=\"Nimbu\"\n",
    "d[200]=\"Harish\"\n",
    "d[\"nikki\"]=\"Nani\"\n",
    "print(d)"
   ]
  },
  {
   "cell_type": "markdown",
   "metadata": {},
   "source": [
    "- If we know data already then we create dictionary as follows"
   ]
  },
  {
   "cell_type": "code",
   "execution_count": 6,
   "metadata": {},
   "outputs": [
    {
     "name": "stdout",
     "output_type": "stream",
     "text": [
      "{300: 'Bhagya', 400: 'saru', 500: 'manasa', 600: 'gayi'}\n"
     ]
    }
   ],
   "source": [
    "d1={300:\"Bhagya\",400:\"saru\",500:\"manasa\",600:\"gayi\"}\n",
    "print(d1)"
   ]
  },
  {
   "cell_type": "markdown",
   "metadata": {},
   "source": [
    "## How to access data from the dictionary\n",
    "- We can access data by using Keys."
   ]
  },
  {
   "cell_type": "code",
   "execution_count": 7,
   "metadata": {},
   "outputs": [
    {
     "name": "stdout",
     "output_type": "stream",
     "text": [
      "Bhagya\n"
     ]
    }
   ],
   "source": [
    "d1={300:\"Bhagya\",400:\"saru\",500:\"manasa\",600:\"gayi\"}\n",
    "print(d1[300])"
   ]
  },
  {
   "cell_type": "markdown",
   "metadata": {},
   "source": [
    "- If the specified key is not available then we will get KeyError."
   ]
  },
  {
   "cell_type": "code",
   "execution_count": 9,
   "metadata": {},
   "outputs": [
    {
     "ename": "KeyError",
     "evalue": "700",
     "output_type": "error",
     "traceback": [
      "\u001b[0;31m---------------------------------------------------------------------------\u001b[0m",
      "\u001b[0;31mKeyError\u001b[0m                                  Traceback (most recent call last)",
      "\u001b[0;32m<ipython-input-9-83238a4c3992>\u001b[0m in \u001b[0;36m<module>\u001b[0;34m()\u001b[0m\n\u001b[0;32m----> 1\u001b[0;31m \u001b[0mprint\u001b[0m\u001b[0;34m(\u001b[0m\u001b[0md1\u001b[0m\u001b[0;34m[\u001b[0m\u001b[0;36m700\u001b[0m\u001b[0;34m]\u001b[0m\u001b[0;34m)\u001b[0m\u001b[0;34m\u001b[0m\u001b[0;34m\u001b[0m\u001b[0m\n\u001b[0m",
      "\u001b[0;31mKeyError\u001b[0m: 700"
     ]
    }
   ],
   "source": [
    "print(d1[700])"
   ]
  },
  {
   "cell_type": "markdown",
   "metadata": {},
   "source": [
    "- We can prevent this by checking whether key is already available or not by using has_key() function or by using in operator.\n",
    "- d.has_key(300)==returns 1 if key is available otherwise returns 0\n",
    "- But has_key() is available only in python 2 but not in python 3.Hence compulsory we have to use in operator."
   ]
  },
  {
   "cell_type": "code",
   "execution_count": 14,
   "metadata": {},
   "outputs": [
    {
     "name": "stdout",
     "output_type": "stream",
     "text": [
      "Bhagya\n"
     ]
    }
   ],
   "source": [
    "if 300 in d1:\n",
    "    print(d1[300])"
   ]
  },
  {
   "cell_type": "code",
   "execution_count": 18,
   "metadata": {},
   "outputs": [
    {
     "name": "stdout",
     "output_type": "stream",
     "text": [
      "Enter no.of students:3\n",
      "Enter name of the student:nimbu\n",
      "Enter marks of the student:30\n",
      "Enter name of the student:nani\n",
      "Enter marks of the student:40\n",
      "Enter name of the student:bhagu\n",
      "Enter marks of the student:50\n",
      "Name of the students \t % of marks\n",
      "\t nimbu \t\t 30\n",
      "\t nani \t\t 40\n",
      "\t bhagu \t\t 50\n"
     ]
    }
   ],
   "source": [
    "#Wap to enter name and % marks in a dictionary and display info on the screen\n",
    "rec={}\n",
    "n=int(input(\"Enter no.of students:\"))\n",
    "i=1\n",
    "while i<=n:\n",
    "    name=input(\"Enter name of the student:\")\n",
    "    marks=input(\"Enter marks of the student:\")\n",
    "    rec[name]=marks\n",
    "    i=i+1\n",
    "print(\"Name of the students\",\"\\t\",\"% of marks\")\n",
    "for x in rec:\n",
    "    print(\"\\t\",x,\"\\t\\t\",rec[x])"
   ]
  },
  {
   "cell_type": "markdown",
   "metadata": {},
   "source": [
    "## How to update dictionaries\n",
    "**Syntax**\n",
    "- d[key]=value\n",
    "    - if key is not available then a new entry will be added to the dictionary with the specified key-value pair.\n",
    "    - If key is already available then old value will be replaced with new value."
   ]
  },
  {
   "cell_type": "code",
   "execution_count": 20,
   "metadata": {},
   "outputs": [
    {
     "name": "stdout",
     "output_type": "stream",
     "text": [
      "{300: 'Bhagya', 400: 'saru', 500: 'manasa', 600: 'gayi', 700: 'nimbu'}\n",
      "{300: 'Bhagya', 400: 'saru', 500: 'manasa', 600: 'nikki', 700: 'nimbu'}\n"
     ]
    }
   ],
   "source": [
    "d1={300:\"Bhagya\",400:\"saru\",500:\"manasa\",600:\"gayi\"}\n",
    "d1[700]=\"nimbu\"\n",
    "print(d1)\n",
    "d1[600]=\"nikki\"\n",
    "print(d1)"
   ]
  },
  {
   "cell_type": "markdown",
   "metadata": {},
   "source": [
    "## How to delete elements from Dictionary"
   ]
  },
  {
   "cell_type": "markdown",
   "metadata": {},
   "source": [
    "### del d[key]\n",
    "- If deletes entry associated with the specified key\n",
    "- If the key is not available then we will get KeyError"
   ]
  },
  {
   "cell_type": "code",
   "execution_count": 21,
   "metadata": {},
   "outputs": [
    {
     "name": "stdout",
     "output_type": "stream",
     "text": [
      "{300: 'Bhagya', 500: 'manasa', 600: 'gayi'}\n"
     ]
    }
   ],
   "source": [
    "d1={300:\"Bhagya\",400:\"saru\",500:\"manasa\",600:\"gayi\"}\n",
    "del d1[400]\n",
    "print(d1)"
   ]
  },
  {
   "cell_type": "code",
   "execution_count": 22,
   "metadata": {},
   "outputs": [
    {
     "ename": "KeyError",
     "evalue": "700",
     "output_type": "error",
     "traceback": [
      "\u001b[0;31m---------------------------------------------------------------------------\u001b[0m",
      "\u001b[0;31mKeyError\u001b[0m                                  Traceback (most recent call last)",
      "\u001b[0;32m<ipython-input-22-c32e348274e8>\u001b[0m in \u001b[0;36m<module>\u001b[0;34m()\u001b[0m\n\u001b[0;32m----> 1\u001b[0;31m \u001b[0;32mdel\u001b[0m \u001b[0md1\u001b[0m\u001b[0;34m[\u001b[0m\u001b[0;36m700\u001b[0m\u001b[0;34m]\u001b[0m\u001b[0;34m\u001b[0m\u001b[0;34m\u001b[0m\u001b[0m\n\u001b[0m",
      "\u001b[0;31mKeyError\u001b[0m: 700"
     ]
    }
   ],
   "source": [
    "del d1[700]"
   ]
  },
  {
   "cell_type": "markdown",
   "metadata": {},
   "source": [
    "## d.clear() \n",
    "- To remove all entries from the dictionary."
   ]
  },
  {
   "cell_type": "code",
   "execution_count": 32,
   "metadata": {},
   "outputs": [
    {
     "name": "stdout",
     "output_type": "stream",
     "text": [
      "{}\n",
      "{777: 'Harish'}\n"
     ]
    }
   ],
   "source": [
    "d1={300:\"Bhagya\",400:\"saru\",500:\"manasa\",600:\"gayi\"}\n",
    "d1.clear()\n",
    "print(d1)\n",
    "d1[777]=\"Harish\"\n",
    "print(d1)"
   ]
  },
  {
   "cell_type": "markdown",
   "metadata": {},
   "source": [
    "## del d\n",
    "- To delete total dictionary.Now we cannot access d."
   ]
  },
  {
   "cell_type": "code",
   "execution_count": 28,
   "metadata": {},
   "outputs": [
    {
     "ename": "NameError",
     "evalue": "name 'd1' is not defined",
     "output_type": "error",
     "traceback": [
      "\u001b[0;31m---------------------------------------------------------------------------\u001b[0m",
      "\u001b[0;31mNameError\u001b[0m                                 Traceback (most recent call last)",
      "\u001b[0;32m<ipython-input-28-6aa146703c5e>\u001b[0m in \u001b[0;36m<module>\u001b[0;34m()\u001b[0m\n\u001b[1;32m      1\u001b[0m \u001b[0md1\u001b[0m\u001b[0;34m=\u001b[0m\u001b[0;34m{\u001b[0m\u001b[0;36m300\u001b[0m\u001b[0;34m:\u001b[0m\u001b[0;34m\"Bhagya\"\u001b[0m\u001b[0;34m,\u001b[0m\u001b[0;36m400\u001b[0m\u001b[0;34m:\u001b[0m\u001b[0;34m\"saru\"\u001b[0m\u001b[0;34m,\u001b[0m\u001b[0;36m500\u001b[0m\u001b[0;34m:\u001b[0m\u001b[0;34m\"manasa\"\u001b[0m\u001b[0;34m,\u001b[0m\u001b[0;36m600\u001b[0m\u001b[0;34m:\u001b[0m\u001b[0;34m\"gayi\"\u001b[0m\u001b[0;34m}\u001b[0m\u001b[0;34m\u001b[0m\u001b[0;34m\u001b[0m\u001b[0m\n\u001b[1;32m      2\u001b[0m \u001b[0;32mdel\u001b[0m \u001b[0md1\u001b[0m\u001b[0;34m\u001b[0m\u001b[0;34m\u001b[0m\u001b[0m\n\u001b[0;32m----> 3\u001b[0;31m \u001b[0mprint\u001b[0m\u001b[0;34m(\u001b[0m\u001b[0md1\u001b[0m\u001b[0;34m)\u001b[0m\u001b[0;34m\u001b[0m\u001b[0;34m\u001b[0m\u001b[0m\n\u001b[0m",
      "\u001b[0;31mNameError\u001b[0m: name 'd1' is not defined"
     ]
    }
   ],
   "source": [
    "d1={300:\"Bhagya\",400:\"saru\",500:\"manasa\",600:\"gayi\"}\n",
    "del d1\n",
    "print(d1)"
   ]
  },
  {
   "cell_type": "code",
   "execution_count": 33,
   "metadata": {},
   "outputs": [
    {
     "ename": "SyntaxError",
     "evalue": "can't delete function call (<ipython-input-33-f4b68bb22dbe>, line 2)",
     "output_type": "error",
     "traceback": [
      "\u001b[0;36m  File \u001b[0;32m\"<ipython-input-33-f4b68bb22dbe>\"\u001b[0;36m, line \u001b[0;32m2\u001b[0m\n\u001b[0;31m    del d1.keys()\u001b[0m\n\u001b[0m       ^\u001b[0m\n\u001b[0;31mSyntaxError\u001b[0m\u001b[0;31m:\u001b[0m can't delete function call\n"
     ]
    }
   ],
   "source": [
    "d1={300:\"Bhagya\",400:\"saru\",500:\"manasa\",600:\"gayi\"}\n",
    "del d1.keys()\n",
    "print(d1)"
   ]
  },
  {
   "cell_type": "markdown",
   "metadata": {},
   "source": [
    "## How to specify multiple values for the single key.\n",
    "**Eg**:100:durga,ravi,shiva\n",
    "- In dictionary  we can specify one key for one value.\n",
    "- The value may contain multiple values.These multiple value can be as list,tuple,set etc."
   ]
  },
  {
   "cell_type": "code",
   "execution_count": 36,
   "metadata": {},
   "outputs": [
    {
     "name": "stdout",
     "output_type": "stream",
     "text": [
      "{100: ['durga', 'ravi', 'shiva']}\n",
      "['durga', 'ravi', 'shiva']\n"
     ]
    }
   ],
   "source": [
    "l=[\"durga\",\"ravi\",\"shiva\"]\n",
    "d={100:l}\n",
    "print(d)\n",
    "print(d[100])"
   ]
  },
  {
   "cell_type": "markdown",
   "metadata": {},
   "source": [
    "## Difference b/w d.clear() and del d\n",
    "- d.clear()===ALl key values are removed still we can access d\n",
    "- del d====>We cannot access d...bcse d is eligible for Garbage Collection."
   ]
  },
  {
   "cell_type": "code",
   "execution_count": null,
   "metadata": {},
   "outputs": [],
   "source": []
  },
  {
   "cell_type": "code",
   "execution_count": null,
   "metadata": {},
   "outputs": [],
   "source": []
  }
 ],
 "metadata": {
  "kernelspec": {
   "display_name": "Python 3",
   "language": "python",
   "name": "python3"
  },
  "language_info": {
   "codemirror_mode": {
    "name": "ipython",
    "version": 3
   },
   "file_extension": ".py",
   "mimetype": "text/x-python",
   "name": "python",
   "nbconvert_exporter": "python",
   "pygments_lexer": "ipython3",
   "version": "3.6.9"
  }
 },
 "nbformat": 4,
 "nbformat_minor": 2
}
