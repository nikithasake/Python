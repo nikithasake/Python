{
 "cells": [
  {
   "cell_type": "code",
   "execution_count": 1,
   "metadata": {},
   "outputs": [
    {
     "name": "stdout",
     "output_type": "stream",
     "text": [
      "Enter dictionary:{\"A\":100,\"B\":200}\n",
      "Sum: 300\n"
     ]
    }
   ],
   "source": [
    "#Wap to take dictionary from the keyboard and print the sum of values?\n",
    "d=eval(input(\"Enter dictionary:\"))\n",
    "s=sum(d.values())\n",
    "print(\"Sum:\",s)"
   ]
  },
  {
   "cell_type": "code",
   "execution_count": 2,
   "metadata": {},
   "outputs": [
    {
     "name": "stdout",
     "output_type": "stream",
     "text": [
      "60\n"
     ]
    }
   ],
   "source": [
    "#for list al1so sum() is applicable\n",
    "l=[10,20,30]\n",
    "print(sum(l))"
   ]
  },
  {
   "cell_type": "code",
   "execution_count": 3,
   "metadata": {},
   "outputs": [
    {
     "name": "stdout",
     "output_type": "stream",
     "text": [
      "60\n"
     ]
    }
   ],
   "source": [
    "#for tuple also sum() is applicable\n",
    "l=(10,20,30)\n",
    "print(sum(l))"
   ]
  },
  {
   "cell_type": "code",
   "execution_count": 4,
   "metadata": {},
   "outputs": [
    {
     "name": "stdout",
     "output_type": "stream",
     "text": [
      "60\n"
     ]
    }
   ],
   "source": [
    "#for set also sum() is applicable\n",
    "l={10,20,30}\n",
    "print(sum(l))"
   ]
  },
  {
   "cell_type": "code",
   "execution_count": 3,
   "metadata": {},
   "outputs": [
    {
     "name": "stdout",
     "output_type": "stream",
     "text": [
      "Enter any word:nikitha\n",
      "a occured 1 times\n",
      "h occured 1 times\n",
      "i occured 2 times\n",
      "k occured 1 times\n",
      "n occured 1 times\n",
      "t occured 1 times\n"
     ]
    }
   ],
   "source": [
    "#Wap to find number of occurrence of each letter present in the given string?\n",
    "word=input(\"Enter any word:\")\n",
    "d={}\n",
    "for x in word:\n",
    "    d[x]=d.get(x,0)+1\n",
    "for k,v in sorted(d.items()):\n",
    "    print(\"{} occured {} times\".format(k,v))"
   ]
  },
  {
   "cell_type": "code",
   "execution_count": 5,
   "metadata": {},
   "outputs": [
    {
     "name": "stdout",
     "output_type": "stream",
     "text": [
      "Enter any word:mississippi\n",
      "i occured 4 times\n"
     ]
    }
   ],
   "source": [
    "#Write a program to find number of occurrences of each letter present in the given string?\n",
    "word=input(\"Enter any word:\")\n",
    "vowels={'a','e','i','o','u'}\n",
    "d={}\n",
    "for x in word:\n",
    "    if x in vowels:\n",
    "        d[x]=d.get(x,0)+1\n",
    "for k,v in sorted(d.items()):\n",
    "    print(\"{} occured {} times\".format(k,v))"
   ]
  },
  {
   "cell_type": "code",
   "execution_count": 1,
   "metadata": {},
   "outputs": [
    {
     "name": "stdout",
     "output_type": "stream",
     "text": [
      "Enter the number of students:3\n",
      "Enter student name:Nikitha\n",
      "Enter student marks:30\n",
      "Enter student name:Nani\n",
      "Enter student marks:40\n",
      "Enter student name:Nimbu\n",
      "Enter student marks:50\n",
      "Enter student name to get marks:Nani\n",
      "The marks of Nani:40\n",
      "Do you want to find another student marks[yes|No]:Yes\n",
      "Enter student name to get marks:Nimbu\n",
      "The marks of Nimbu:50\n",
      "Do you want to find another student marks[yes|No]:yes\n",
      "Enter student name to get marks:Nikitha\n",
      "The marks of Nikitha:30\n",
      "Do you want to find another student marks[yes|No]:yes\n",
      "Enter student name to get marks:NIMBU\n",
      "Student not found\n",
      "Do you want to find another student marks[yes|No]:No\n",
      "Thanks for using our application\n"
     ]
    }
   ],
   "source": [
    "#Write a program to accept student name and marks from the keyboard and creates a dictionary. Also display student marks by taking student name as input?\n",
    "n=int(input(\"Enter the number of students:\"))\n",
    "d={}\n",
    "for x in range(n):\n",
    "    name=input(\"Enter student name:\")\n",
    "    marks=int(input(\"Enter student marks:\"))\n",
    "    d[name]=marks\n",
    "while True:\n",
    "    name=input(\"Enter student name to get marks:\")\n",
    "    marks=d.get(name,-1)\n",
    "    if marks==-1:\n",
    "        print(\"Student not found\")\n",
    "    else:\n",
    "        print(\"The marks of {}:{}\".format(name,marks))\n",
    "    option=input(\"Do you want to find another student marks[yes|No]:\")\n",
    "    if option==\"No\":\n",
    "        break\n",
    "print(\"Thanks for using our application\")"
   ]
  },
  {
   "cell_type": "markdown",
   "metadata": {},
   "source": [
    "- If you want to store data within the application..some object must be required that object is ntg but collection object(List,tuple,set,dict).(RAM memory)\n",
    "- If we want store huge data then go for files concept.\n",
    "- If we want store  very huge data then go for Database concept.\n",
    "- If we want store very very huge data then go for Bigdata and Hadoop concept."
   ]
  },
  {
   "cell_type": "markdown",
   "metadata": {},
   "source": [
    "## Dictionary Comprehension\n",
    "- Comprehension concept applicable for dictionaries also."
   ]
  },
  {
   "cell_type": "code",
   "execution_count": 3,
   "metadata": {},
   "outputs": [
    {
     "name": "stdout",
     "output_type": "stream",
     "text": [
      "{1: 1, 2: 4, 3: 9, 4: 16, 5: 25}\n",
      "<class 'dict'>\n"
     ]
    }
   ],
   "source": [
    "s={x:x*x for x in range(1,6)}\n",
    "print(s)\n",
    "print(type(s))"
   ]
  },
  {
   "cell_type": "code",
   "execution_count": null,
   "metadata": {},
   "outputs": [],
   "source": []
  },
  {
   "cell_type": "code",
   "execution_count": null,
   "metadata": {},
   "outputs": [],
   "source": []
  }
 ],
 "metadata": {
  "kernelspec": {
   "display_name": "Python 3",
   "language": "python",
   "name": "python3"
  },
  "language_info": {
   "codemirror_mode": {
    "name": "ipython",
    "version": 3
   },
   "file_extension": ".py",
   "mimetype": "text/x-python",
   "name": "python",
   "nbconvert_exporter": "python",
   "pygments_lexer": "ipython3",
   "version": "3.6.9"
  }
 },
 "nbformat": 4,
 "nbformat_minor": 2
}
