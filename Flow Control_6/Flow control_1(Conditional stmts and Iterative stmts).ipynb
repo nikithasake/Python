{
 "cells": [
  {
   "cell_type": "markdown",
   "metadata": {},
   "source": [
    "# Flow Control\n",
    "- At runtime in which order the statements are going to be  executed is decided by flow control.\n",
    "- Flow control statements are divided into 3 types\n",
    "    1. Conditional/selection Statements\n",
    "        - if\n",
    "        - if-else\n",
    "        - if-elif-else\n",
    "    2. Transfer Statements\n",
    "        - break\n",
    "        - continue\n",
    "        - pass\n",
    "    3. Iterative Statements\n",
    "        - for\n",
    "        - while"
   ]
  },
  {
   "cell_type": "markdown",
   "metadata": {},
   "source": [
    "## 1.Conditional/selection Statements"
   ]
  },
  {
   "cell_type": "markdown",
   "metadata": {},
   "source": [
    "## If\n",
    "- Among multiple available options select only one option and executed that.\n",
    "- **Syntax**:\n",
    " - if condition: statement\n",
    "   \n",
    "         or\n",
    "          \n",
    " - if condition:\n",
    "         statement-1\n",
    "         statement-2\n",
    "         statement-3\n",
    "- If condition is true then statements will be executed."
   ]
  },
  {
   "cell_type": "code",
   "execution_count": 4,
   "metadata": {},
   "outputs": [
    {
     "name": "stdout",
     "output_type": "stream",
     "text": [
      "Enter name:Nikki\n",
      "Hello Nikki Gud mrng\n",
      "How are you\n"
     ]
    }
   ],
   "source": [
    "#indentation\n",
    "name=input(\"Enter name:\")\n",
    "if name==\"Nikki\":\n",
    "    print(\"Hello Nikki Gud mrng\")\n",
    "print(\"How are you\")# whether name is Nikki or other this stmt will execute"
   ]
  },
  {
   "cell_type": "markdown",
   "metadata": {},
   "source": [
    "## If-else:\n",
    "- **Syntax**:\n",
    "  - if condition:\n",
    "      Action-1\n",
    "    else:\n",
    "      Action-2\n",
    "- if condition is true then Action-1 will be executed otherwise Action-2 will be executed."
   ]
  },
  {
   "cell_type": "code",
   "execution_count": 7,
   "metadata": {},
   "outputs": [
    {
     "name": "stdout",
     "output_type": "stream",
     "text": [
      "Enter name:Nimbu\n",
      "Hello guest gud mrng\n",
      "How are you\n"
     ]
    }
   ],
   "source": [
    "name=input(\"Enter name:\")\n",
    "if name==\"Nikki\":\n",
    "    print(\"Hello Nikki Gud mrng\")\n",
    "else:\n",
    "    print(\"Hello guest gud mrng\")\n",
    "print(\"How are you\")"
   ]
  },
  {
   "cell_type": "markdown",
   "metadata": {},
   "source": [
    "- else part is optional"
   ]
  },
  {
   "cell_type": "markdown",
   "metadata": {},
   "source": [
    "## If-elif-else\n",
    "- **Syntax**\n",
    "- if condition1:\n",
    "    Action-1\n",
    "  elif condition2:\n",
    "      Action-2\n",
    "  elif condition3:\n",
    "      Action-3\n",
    "  else:\n",
    "      Default Action\n",
    "- Based on condition the corresponding action will be executed."
   ]
  },
  {
   "cell_type": "code",
   "execution_count": 14,
   "metadata": {},
   "outputs": [
    {
     "name": "stdout",
     "output_type": "stream",
     "text": [
      "Enter Your fav band:KO\n",
      "It is too light\n"
     ]
    }
   ],
   "source": [
    "brand=input(\"Enter Your fav band:\")\n",
    "if brand==\"RC\":\n",
    "    print(\"It is children brand\")\n",
    "elif brand==\"KF\":\n",
    "    print(\"It is not children brand\")\n",
    "elif brand==\"KO\":\n",
    "    print(\"It is too light\")\n",
    "elif brand==\"FO\":\n",
    "    print(\"Buy one get one free\")\n",
    "else:\n",
    "    print(\"Others brands are not recommended\")"
   ]
  },
  {
   "cell_type": "markdown",
   "metadata": {},
   "source": [
    "## Note:\n",
    "- else part is always optional\n",
    "- Hence the following are various possible syntaxes.\n",
    " - if\n",
    " - if-else\n",
    " - if-elif-else\n",
    " - if-elif\n",
    "- There is no switch stmt in python"
   ]
  },
  {
   "cell_type": "code",
   "execution_count": 5,
   "metadata": {},
   "outputs": [
    {
     "name": "stdout",
     "output_type": "stream",
     "text": [
      "Enter n1 value:-100\n",
      "Enter n2 value:-200\n",
      "n1 is bigger than n2: -100\n"
     ]
    }
   ],
   "source": [
    "#Wap to find biggest of given 2 numbers from the command prompt\n",
    "n1=eval(input(\"Enter n1 value:\"))\n",
    "n2=eval(input(\"Enter n2 value:\"))\n",
    "if n1>n2:\n",
    "    print(\"n1 is bigger than n2:\",n1)\n",
    "else:\n",
    "    print(\"n1 is smaller than n2:\",n2)"
   ]
  },
  {
   "cell_type": "code",
   "execution_count": 17,
   "metadata": {},
   "outputs": [
    {
     "name": "stdout",
     "output_type": "stream",
     "text": [
      "Enter n1 value:4\n",
      "Enter n2 value:7\n",
      "Enter n3 value:2\n",
      "n2 is bigger than n1 and n3: 7\n"
     ]
    }
   ],
   "source": [
    "#Wap to find biggest of given 3 numbers from the command prompt\n",
    "#we can pass the int/float/string arguments to input()\n",
    "n1=eval(input(\"Enter n1 value:\"))\n",
    "n2=eval(input(\"Enter n2 value:\"))\n",
    "n3=eval(input(\"Enter n3 value:\"))\n",
    "if n1>n2 and n1>n3:\n",
    "    print(\"n1 is bigger than n2 and n3:\",n1)\n",
    "elif n2>n3:# dont use else if\n",
    "    print(\"n2 is bigger than n1 and n3:\",n2)\n",
    "else:\n",
    "    print(\"n3 is bigger than n1 and n2:\",n3)"
   ]
  },
  {
   "cell_type": "code",
   "execution_count": 2,
   "metadata": {},
   "outputs": [
    {
     "name": "stdout",
     "output_type": "stream",
     "text": [
      "Enter a value78\n",
      "The value lies in b/w 1 and 100: 78\n"
     ]
    }
   ],
   "source": [
    "#Wap to check whether the given number is in b/w 1 and 100\n",
    "n1=int(input(\"Enter a value\"))\n",
    "if n1>=1 and n1<=100:\n",
    "    print(\"The value lies in b/w 1 and 100:\",n1)\n",
    "else:\n",
    "    print(\"The value not lies in b/w 1 and 100:\",n1)"
   ]
  },
  {
   "cell_type": "code",
   "execution_count": 7,
   "metadata": {},
   "outputs": [
    {
     "name": "stdout",
     "output_type": "stream",
     "text": [
      "Enter a value5\n",
      "The value lies in b/w 1 and 100: 5\n"
     ]
    }
   ],
   "source": [
    "#Wap to check whether the given number is in b/w 1 and 100\n",
    "n1=int(input(\"Enter a value\"))\n",
    "if 1<=n1<=100:\n",
    "    print(\"The value lies in b/w 1 and 100:\",n1)\n",
    "else:\n",
    "    print(\"The value not lies in b/w 1 and 100:\",n1)"
   ]
  },
  {
   "cell_type": "code",
   "execution_count": 12,
   "metadata": {},
   "outputs": [
    {
     "name": "stdout",
     "output_type": "stream",
     "text": [
      "Enter a digit:8\n",
      "EIGHT\n"
     ]
    }
   ],
   "source": [
    "#wap to take a single digit number from the keyboard and print its value in eng word\n",
    "n1=eval(input(\"Enter a digit:\"))\n",
    "if n1==0:\n",
    "    print(\"ZERO\")\n",
    "elif n1==1:\n",
    "    print(\"ONE\")\n",
    "elif n1==2:\n",
    "    print(\"TWO\")\n",
    "elif n1==3:\n",
    "    print(\"THREE\")\n",
    "elif n1==4:\n",
    "    print(\"FOUR\")\n",
    "elif n1==5:\n",
    "    print(\"FIVE\")\n",
    "elif n1==6:\n",
    "    print(\"SIX\")\n",
    "elif n1==7:\n",
    "    print(\"SEVEN\")\n",
    "elif n1==8:\n",
    "    print(\"EIGHT\")\n",
    "elif n1==9:\n",
    "    print(\"NINE\")\n",
    "else:\n",
    "    print(\"pls enter digit only\")"
   ]
  },
  {
   "cell_type": "markdown",
   "metadata": {},
   "source": [
    "# 2.Iterative Statements\n",
    "- If we want to execute a grp of stmts multiple times then we should go for iterative stmts.\n",
    "-  python supports 2 types of iterative statements.\n",
    "   1. for loop\n",
    "   2. while loop"
   ]
  },
  {
   "cell_type": "markdown",
   "metadata": {},
   "source": [
    "## 1. for loop\n",
    "- if we want to execute some action for every element present in some sequence(it may be string or collection)then we should go for for loop.\n",
    "**Syntax**:\n",
    "- for eachelement in sequence:\n",
    "      do some action/ body\n",
    "- where sequence can be strings or any collection.\n",
    "- Body will be executed for every element present in the sequence."
   ]
  },
  {
   "cell_type": "code",
   "execution_count": 15,
   "metadata": {},
   "outputs": [
    {
     "name": "stdout",
     "output_type": "stream",
     "text": [
      "N\n",
      "e\n",
      "e\n",
      "l\n",
      "u\n"
     ]
    }
   ],
   "source": [
    "# To print characters present in the given string\n",
    "s=\"Neelu\"\n",
    "for x in s:\n",
    "    print(x)"
   ]
  },
  {
   "cell_type": "code",
   "execution_count": 20,
   "metadata": {},
   "outputs": [
    {
     "name": "stdout",
     "output_type": "stream",
     "text": [
      "N\n",
      "e\n",
      "e\n",
      "l\n",
      "u\n",
      "The number of characters: 5\n",
      "The number of characters: 5\n"
     ]
    }
   ],
   "source": [
    "# To print characters present in the given string and find the length\n",
    "s=\"Neelu\"\n",
    "c=0\n",
    "for x in s:\n",
    "    c+=1\n",
    "    print(x)\n",
    "print(\"The number of characters:\",c)\n",
    "print(\"The number of characters:\",len(s))"
   ]
  },
  {
   "cell_type": "code",
   "execution_count": 27,
   "metadata": {},
   "outputs": [
    {
     "name": "stdout",
     "output_type": "stream",
     "text": [
      "Enter some string:\"nikki\"\n",
      "The character present at 0 index is n\n",
      "The character present at 1 index is i\n",
      "The character present at 2 index is k\n",
      "The character present at 3 index is k\n",
      "The character present at 4 index is i\n"
     ]
    }
   ],
   "source": [
    "#To print characters present in string index wise\n",
    "s=eval(input(\"Enter some string:\"))\n",
    "i=0\n",
    "for x in s:\n",
    "    print(\"The character present at\",i,\"index is\",x)\n",
    "    i+=1"
   ]
  },
  {
   "cell_type": "code",
   "execution_count": 33,
   "metadata": {},
   "outputs": [
    {
     "name": "stdout",
     "output_type": "stream",
     "text": [
      "Enter some string:\"nikki\"\n",
      "The character present at 1 index is i\n",
      "The character present at 2 index is k\n",
      "The character present at 3 index is k\n",
      "The character present at 4 index is i\n"
     ]
    }
   ],
   "source": [
    "s=eval(input(\"Enter some string:\"))\n",
    "i=0\n",
    "for x in s:\n",
    "    if i!=0:\n",
    "        print(\"The character present at\",i,\"index is\",x)\n",
    "    i+=1"
   ]
  },
  {
   "cell_type": "code",
   "execution_count": 29,
   "metadata": {},
   "outputs": [
    {
     "name": "stdout",
     "output_type": "stream",
     "text": [
      "Hello\n",
      "Hello\n",
      "Hello\n",
      "Hello\n",
      "Hello\n"
     ]
    }
   ],
   "source": [
    "#To print Hello 10 times\n",
    "for x in range(5):\n",
    "    print(\"Hello\")"
   ]
  },
  {
   "cell_type": "code",
   "execution_count": 34,
   "metadata": {},
   "outputs": [
    {
     "name": "stdout",
     "output_type": "stream",
     "text": [
      "0\n",
      "1\n",
      "2\n",
      "3\n",
      "4\n",
      "5\n",
      "6\n",
      "7\n",
      "8\n",
      "9\n",
      "10\n"
     ]
    }
   ],
   "source": [
    "#To display numbers from 0 to 10\n",
    "for x in range(11):\n",
    "    print(x)"
   ]
  },
  {
   "cell_type": "code",
   "execution_count": 35,
   "metadata": {},
   "outputs": [
    {
     "name": "stdout",
     "output_type": "stream",
     "text": [
      "1\n",
      "3\n",
      "5\n",
      "7\n",
      "9\n",
      "11\n",
      "13\n",
      "15\n",
      "17\n",
      "19\n"
     ]
    }
   ],
   "source": [
    "# To display ood numbers from 0 to 20\n",
    "for x in range(21):\n",
    "    if x%2!=0:\n",
    "        print(x)"
   ]
  },
  {
   "cell_type": "code",
   "execution_count": 37,
   "metadata": {},
   "outputs": [
    {
     "name": "stdout",
     "output_type": "stream",
     "text": [
      "1\n",
      "3\n",
      "5\n",
      "7\n",
      "9\n",
      "11\n",
      "13\n",
      "15\n",
      "17\n",
      "19\n"
     ]
    }
   ],
   "source": [
    "# To display ood numbers from 0 to 20\n",
    "for x in range(1,21,2):\n",
    "    print(x)"
   ]
  },
  {
   "cell_type": "code",
   "execution_count": 38,
   "metadata": {},
   "outputs": [
    {
     "name": "stdout",
     "output_type": "stream",
     "text": [
      "0\n",
      "2\n",
      "4\n",
      "6\n",
      "8\n",
      "10\n",
      "12\n",
      "14\n",
      "16\n",
      "18\n",
      "20\n"
     ]
    }
   ],
   "source": [
    "# To display even numbers from 0 to 20\n",
    "for x in range(0,21,2):\n",
    "    print(x)"
   ]
  },
  {
   "cell_type": "code",
   "execution_count": 36,
   "metadata": {},
   "outputs": [
    {
     "name": "stdout",
     "output_type": "stream",
     "text": [
      "10\n",
      "9\n",
      "8\n",
      "7\n",
      "6\n",
      "5\n",
      "4\n",
      "3\n",
      "2\n",
      "1\n"
     ]
    }
   ],
   "source": [
    "# To display numbers from 10 to 1 in desending order\n",
    "for x in range(10,0,-1):\n",
    "    print(x)"
   ]
  },
  {
   "cell_type": "code",
   "execution_count": 39,
   "metadata": {},
   "outputs": [
    {
     "name": "stdout",
     "output_type": "stream",
     "text": [
      "Enter a list:[10,20,60]\n",
      "The sum: 90\n"
     ]
    }
   ],
   "source": [
    "# To print sum of numbers presents inside the list\n",
    "list=eval(input(\"Enter a list:\"))\n",
    "sum=0\n",
    "for x in list:\n",
    "    sum+=x\n",
    "print(\"The sum:\",sum)"
   ]
  },
  {
   "cell_type": "markdown",
   "metadata": {},
   "source": [
    "## 2.While loop\n",
    "- If we want to execute a grp of stmts iteratively until some condition false,then we should go for while loop.<br>\n",
    "**Syntax**:\n",
    "- while condition:\n",
    "      body"
   ]
  },
  {
   "cell_type": "code",
   "execution_count": 1,
   "metadata": {},
   "outputs": [
    {
     "name": "stdout",
     "output_type": "stream",
     "text": [
      "1\n",
      "2\n",
      "3\n",
      "4\n",
      "5\n",
      "6\n",
      "7\n",
      "8\n",
      "9\n",
      "10\n"
     ]
    }
   ],
   "source": [
    "# To print numbers from 1 to 10 by using while loop\n",
    "x=1\n",
    "while x<=10:\n",
    "    print(x)\n",
    "    x+=1"
   ]
  },
  {
   "cell_type": "code",
   "execution_count": 6,
   "metadata": {},
   "outputs": [
    {
     "name": "stdout",
     "output_type": "stream",
     "text": [
      "Enter number:10\n",
      "Sum of first 10 numbers is: 55\n"
     ]
    }
   ],
   "source": [
    "#To dispaly the sum of first n numbers\n",
    "n=eval(input(\"Enter number:\"))\n",
    "s=0\n",
    "i=1\n",
    "while i<=n:\n",
    "    s=s+i\n",
    "    i=i+1\n",
    "print(\"Sum of first\",n,\"numbers is:\",s)"
   ]
  },
  {
   "cell_type": "code",
   "execution_count": 7,
   "metadata": {},
   "outputs": [
    {
     "name": "stdout",
     "output_type": "stream",
     "text": [
      "Enter number:10\n",
      "55\n"
     ]
    }
   ],
   "source": [
    "#To dispaly the sum of first n numbers using for loop\n",
    "n=eval(input(\"Enter number:\"))\n",
    "s=0\n",
    "for i in range(1,n+1):\n",
    "    s+=i\n",
    "print(s)"
   ]
  },
  {
   "cell_type": "code",
   "execution_count": 9,
   "metadata": {},
   "outputs": [
    {
     "name": "stdout",
     "output_type": "stream",
     "text": [
      "Enter name:nimbu\n",
      "Enter name:harish\n",
      "Enter name:Nikki\n",
      "Thanks for confirmation\n"
     ]
    }
   ],
   "source": [
    "#Wap to prompt user to enter some name until entering Nikki\n",
    "name=\"\"\n",
    "while name!=\"Nikki\":\n",
    "    name=input(\"Enter name:\")\n",
    "print(\"Thanks for confirmation\")"
   ]
  },
  {
   "cell_type": "code",
   "execution_count": 6,
   "metadata": {},
   "outputs": [
    {
     "name": "stdout",
     "output_type": "stream",
     "text": [
      "Enter name:Nikki\n",
      "Enter pswd:dimbaka\n",
      "Enter name:Nimbu\n",
      "Enter pswd:python\n",
      "Enter name:Nimbu\n",
      "Enter pswd:dimbaka\n",
      "Thanks for confirmation\n"
     ]
    }
   ],
   "source": [
    "name=\"\"\n",
    "pswd=\"\"\n",
    "while (name!=\"Nimbu\") or (pswd!=\"dimbaka\"):\n",
    "    name=input(\"Enter name:\")\n",
    "    pswd=input(\"Enter pswd:\")\n",
    "print(\"Thanks for confirmation\")"
   ]
  },
  {
   "cell_type": "code",
   "execution_count": null,
   "metadata": {},
   "outputs": [],
   "source": [
    "- if we know no.of iteration in advance ====> for loop\n",
    "- if we dont know no.of iteration in advance ====> while lopp"
   ]
  },
  {
   "cell_type": "markdown",
   "metadata": {},
   "source": [
    "## infinite loops"
   ]
  },
  {
   "cell_type": "code",
   "execution_count": null,
   "metadata": {},
   "outputs": [],
   "source": [
    "i=0\n",
    "while True:\n",
    "    i+=1\n",
    "    print(\"Hello\")\n",
    "#o/p:Hello.........."
   ]
  },
  {
   "cell_type": "markdown",
   "metadata": {},
   "source": [
    "## Nested loops\n",
    "- Sometimes we can take a loop inside another loop,which are also known as nested loops."
   ]
  },
  {
   "cell_type": "code",
   "execution_count": 1,
   "metadata": {},
   "outputs": [
    {
     "name": "stdout",
     "output_type": "stream",
     "text": [
      "i=0 and j=0\n",
      "i=0 and j=1\n",
      "i=0 and j=2\n",
      "i=0 and j=3\n",
      "i=1 and j=0\n",
      "i=1 and j=1\n",
      "i=1 and j=2\n",
      "i=1 and j=3\n",
      "i=2 and j=0\n",
      "i=2 and j=1\n",
      "i=2 and j=2\n",
      "i=2 and j=3\n",
      "i=3 and j=0\n",
      "i=3 and j=1\n",
      "i=3 and j=2\n",
      "i=3 and j=3\n"
     ]
    }
   ],
   "source": [
    "for i in range(4):\n",
    "    for j in range(4):\n",
    "        print(\"i={} and j={}\".format(i,j))"
   ]
  },
  {
   "cell_type": "code",
   "execution_count": 3,
   "metadata": {},
   "outputs": [
    {
     "name": "stdout",
     "output_type": "stream",
     "text": [
      "Enter number of rows:5\n",
      "*\n",
      "**\n",
      "***\n",
      "****\n",
      "*****\n"
     ]
    }
   ],
   "source": [
    "#wap to dispaly *'s in Right angled triangled form\n",
    "n=int(input(\"Enter number of rows:\"))\n",
    "for i in range(1,n+1):# 1 to n # i represents row number\n",
    "    for j in range(1,i+1):# j represents column number\n",
    "        print(\"*\",end=\"\")\n",
    "    print()"
   ]
  },
  {
   "cell_type": "code",
   "execution_count": 4,
   "metadata": {},
   "outputs": [
    {
     "name": "stdout",
     "output_type": "stream",
     "text": [
      "Enter number of rows:5\n",
      "*\n",
      "**\n",
      "***\n",
      "****\n",
      "*****\n"
     ]
    }
   ],
   "source": [
    "#wap to dispaly *'s in Right angled triangled form\n",
    "n=int(input(\"Enter number of rows:\"))\n",
    "for i in range(1,n+1):# 1 to n # i represents row number\n",
    "    for j in range(i):# j represents column number\n",
    "        print(\"*\",end=\"\")\n",
    "    print()"
   ]
  },
  {
   "cell_type": "code",
   "execution_count": 7,
   "metadata": {},
   "outputs": [
    {
     "name": "stdout",
     "output_type": "stream",
     "text": [
      "Enter no.of rows4\n",
      "****\n",
      "****\n",
      "****\n",
      "****\n"
     ]
    }
   ],
   "source": [
    "n=int(input(\"Enter no.of rows\"))\n",
    "for i in range(n):\n",
    "    for j in range(n):\n",
    "        print(\"*\",end=\"\")\n",
    "    print()"
   ]
  },
  {
   "cell_type": "code",
   "execution_count": 10,
   "metadata": {},
   "outputs": [
    {
     "name": "stdout",
     "output_type": "stream",
     "text": [
      "Enter no.of rows3\n",
      "***\n",
      "***\n",
      "***\n",
      "\n"
     ]
    }
   ],
   "source": [
    "n=int(input(\"Enter no.of rows\"))\n",
    "for i in range(n):\n",
    "    print(\"*\"*n)\n",
    "print()"
   ]
  }
 ],
 "metadata": {
  "kernelspec": {
   "display_name": "Python 3",
   "language": "python",
   "name": "python3"
  },
  "language_info": {
   "codemirror_mode": {
    "name": "ipython",
    "version": 3
   },
   "file_extension": ".py",
   "mimetype": "text/x-python",
   "name": "python",
   "nbconvert_exporter": "python",
   "pygments_lexer": "ipython3",
   "version": "3.6.9"
  }
 },
 "nbformat": 4,
 "nbformat_minor": 2
}
