{
 "cells": [
  {
   "cell_type": "markdown",
   "metadata": {},
   "source": [
    "## else block with try-except-finally:\n",
    "- **if-else**:if condition is false then only else will be executed.\n",
    "- **for-else**:if loop executed without break then only else will be executed.\n",
    "- **while-else**:if loop executed without break then only else will be executed.\n",
    "- if there is no exception in try block then only else block will be executed.\n",
    "- There is no chance of executing both except and else simultaneously..\n",
    "- if we want to take else block,compulsory except block should be there i.e. else without except block is always invalid....Syntax Error:inavlid syntax.\n",
    "### adv:\n",
    "- redabilty of code will be improved"
   ]
  },
  {
   "cell_type": "code",
   "execution_count": null,
   "metadata": {},
   "outputs": [],
   "source": [
    "try:\n",
    "    risky code\n",
    "except:\n",
    "    will be executed if exception in try\n",
    "else:\n",
    "    will be executed if no exception in try\n",
    "finally:\n",
    "    will be executed whether exception raised or not raised and handled or not handled."
   ]
  },
  {
   "cell_type": "code",
   "execution_count": 1,
   "metadata": {},
   "outputs": [
    {
     "name": "stdout",
     "output_type": "stream",
     "text": [
      "try\n",
      "except\n",
      "finally\n"
     ]
    }
   ],
   "source": [
    "try:\n",
    "    print(\"try\")\n",
    "    print(10/0)\n",
    "except:\n",
    "    print(\"except\")\n",
    "else:\n",
    "    print(\"else\")\n",
    "finally:\n",
    "    print(\"finally\")"
   ]
  },
  {
   "cell_type": "code",
   "execution_count": 2,
   "metadata": {},
   "outputs": [
    {
     "name": "stdout",
     "output_type": "stream",
     "text": [
      "try\n",
      "else\n",
      "finally\n"
     ]
    }
   ],
   "source": [
    "try:\n",
    "    print(\"try\")\n",
    "except:\n",
    "    print(\"except\")\n",
    "else:\n",
    "    print(\"else\")\n",
    "finally:\n",
    "    print(\"finally\")"
   ]
  },
  {
   "cell_type": "code",
   "execution_count": 2,
   "metadata": {},
   "outputs": [
    {
     "name": "stdout",
     "output_type": "stream",
     "text": [
      "try\n",
      "else\n",
      "finally\n"
     ]
    }
   ],
   "source": [
    "try:\n",
    "    print(\"try\")\n",
    "except:\n",
    "    print(\"execpt\")\n",
    "else:\n",
    "    print(\"else\")\n",
    "finally:\n",
    "    print(\"finally\")"
   ]
  },
  {
   "cell_type": "code",
   "execution_count": 7,
   "metadata": {},
   "outputs": [
    {
     "name": "stdout",
     "output_type": "stream",
     "text": [
      "try\n",
      "execpt\n",
      "finally\n"
     ]
    }
   ],
   "source": [
    "try:\n",
    "    print(\"try\")\n",
    "    print(10/0)\n",
    "except:\n",
    "    print(\"execpt\")\n",
    "else:\n",
    "    print(\"else\")\n",
    "finally:\n",
    "    print(\"finally\")"
   ]
  },
  {
   "cell_type": "code",
   "execution_count": 9,
   "metadata": {},
   "outputs": [
    {
     "ename": "SyntaxError",
     "evalue": "invalid syntax (<ipython-input-9-b07a1eb8f217>, line 4)",
     "output_type": "error",
     "traceback": [
      "\u001b[0;36m  File \u001b[0;32m\"<ipython-input-9-b07a1eb8f217>\"\u001b[0;36m, line \u001b[0;32m4\u001b[0m\n\u001b[0;31m    else:\u001b[0m\n\u001b[0m       ^\u001b[0m\n\u001b[0;31mSyntaxError\u001b[0m\u001b[0;31m:\u001b[0m invalid syntax\n"
     ]
    }
   ],
   "source": [
    "#if  u are using else block compulsory we should have except block..otherwise we will get syntax error\n",
    "try:\n",
    "    print(\"try\")\n",
    "else:\n",
    "    print(\"else\")\n",
    "finally:\n",
    "    print(\"finally\")"
   ]
  },
  {
   "cell_type": "code",
   "execution_count": 17,
   "metadata": {},
   "outputs": [
    {
     "name": "stdout",
     "output_type": "stream",
     "text": [
      "file opened successfully\n",
      "The content of the file:\n",
      "******************************\n",
      "sunny\n",
      "bunny\n",
      "vinny\n",
      "chinny\n",
      "\n",
      "******************************\n"
     ]
    }
   ],
   "source": [
    "#where else block useful in real life example\n",
    "f=None\n",
    "try:\n",
    "    f=open('abc.txt','r')\n",
    "except:\n",
    "    print(\"some problem while locating/opening file\")\n",
    "else:\n",
    "    print(\"file opened successfully\")\n",
    "    print(\"The content of the file:\")\n",
    "    print(\"*\"*30)\n",
    "    print(f.read())\n",
    "    print(\"*\"*30)\n",
    "finally:\n",
    "    if f is not None:#f is pointing file object only\n",
    "        f.close()"
   ]
  },
  {
   "cell_type": "code",
   "execution_count": null,
   "metadata": {},
   "outputs": [],
   "source": []
  },
  {
   "cell_type": "code",
   "execution_count": null,
   "metadata": {},
   "outputs": [],
   "source": []
  }
 ],
 "metadata": {
  "kernelspec": {
   "display_name": "Python 3",
   "language": "python",
   "name": "python3"
  },
  "language_info": {
   "codemirror_mode": {
    "name": "ipython",
    "version": 3
   },
   "file_extension": ".py",
   "mimetype": "text/x-python",
   "name": "python",
   "nbconvert_exporter": "python",
   "pygments_lexer": "ipython3",
   "version": "3.6.9"
  }
 },
 "nbformat": 4,
 "nbformat_minor": 2
}
