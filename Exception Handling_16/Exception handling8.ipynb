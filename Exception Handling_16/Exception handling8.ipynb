{
 "cells": [
  {
   "cell_type": "markdown",
   "metadata": {},
   "source": [
    "## Types of Exceptions:\n",
    "1. Predefined Exceptions/In built exceptions\n",
    "2. User Defined Exceptions/Customized exception"
   ]
  },
  {
   "cell_type": "markdown",
   "metadata": {},
   "source": [
    "### 1. Predefined Exceptions/In built exceptions\n",
    "- The exception which are raised automatically by python whenever a particular event occurs,are called predefined exceptions"
   ]
  },
  {
   "cell_type": "code",
   "execution_count": 1,
   "metadata": {},
   "outputs": [
    {
     "ename": "ZeroDivisionError",
     "evalue": "division by zero",
     "output_type": "error",
     "traceback": [
      "\u001b[0;31m---------------------------------------------------------------------------\u001b[0m",
      "\u001b[0;31mZeroDivisionError\u001b[0m                         Traceback (most recent call last)",
      "\u001b[0;32m<ipython-input-1-c99e74697b50>\u001b[0m in \u001b[0;36m<module>\u001b[0;34m()\u001b[0m\n\u001b[1;32m      1\u001b[0m \u001b[0;31m#Ex of predefined Exception\u001b[0m\u001b[0;34m\u001b[0m\u001b[0;34m\u001b[0m\u001b[0;34m\u001b[0m\u001b[0m\n\u001b[0;32m----> 2\u001b[0;31m \u001b[0mprint\u001b[0m\u001b[0;34m(\u001b[0m\u001b[0;36m10\u001b[0m\u001b[0;34m/\u001b[0m\u001b[0;36m0\u001b[0m\u001b[0;34m)\u001b[0m\u001b[0;34m\u001b[0m\u001b[0;34m\u001b[0m\u001b[0m\n\u001b[0m",
      "\u001b[0;31mZeroDivisionError\u001b[0m: division by zero"
     ]
    }
   ],
   "source": [
    "#Ex of predefined Exception\n",
    "#Whenever we are trying to perform Division by Zero..automatically python will raise ZeroDivisonError\n",
    "print(10/0)"
   ]
  },
  {
   "cell_type": "code",
   "execution_count": 6,
   "metadata": {},
   "outputs": [
    {
     "ename": "ValueError",
     "evalue": "invalid literal for int() with base 10: 'ten'",
     "output_type": "error",
     "traceback": [
      "\u001b[0;31m---------------------------------------------------------------------------\u001b[0m",
      "\u001b[0;31mValueError\u001b[0m                                Traceback (most recent call last)",
      "\u001b[0;32m<ipython-input-6-6b4f49d4b188>\u001b[0m in \u001b[0;36m<module>\u001b[0;34m()\u001b[0m\n\u001b[1;32m      1\u001b[0m \u001b[0;31m#Ex\u001b[0m\u001b[0;34m\u001b[0m\u001b[0;34m\u001b[0m\u001b[0;34m\u001b[0m\u001b[0m\n\u001b[0;32m----> 2\u001b[0;31m \u001b[0mx\u001b[0m\u001b[0;34m=\u001b[0m\u001b[0mint\u001b[0m\u001b[0;34m(\u001b[0m\u001b[0;34m'ten'\u001b[0m\u001b[0;34m)\u001b[0m\u001b[0;34m\u001b[0m\u001b[0;34m\u001b[0m\u001b[0m\n\u001b[0m",
      "\u001b[0;31mValueError\u001b[0m: invalid literal for int() with base 10: 'ten'"
     ]
    }
   ],
   "source": [
    "# Whenever we are trying to convert input value to int type and if input value is not int value then python will raise ValueError automatically\n",
    "x=int('ten')"
   ]
  },
  {
   "cell_type": "markdown",
   "metadata": {},
   "source": [
    "### 2. User Defined Exceptions/Customized exception/Programatic Exceptions\n",
    "- Sometime we have to define and raise exceptions explicitly to indicate that something goes wrong,such type of exceptions are called User Defined Exceptions or Customized Exceptions.\n",
    "- Programmer is responsible to define these exception and python not having any idea about these..Hence we have to raise explicitly based on our requirement by using \"raise\" keyword.<br>\n",
    "**Eg**<br>\n",
    "1 .InsufficientFundsException <br>\n",
    "2 .InvalidInputException<br>\n",
    "3 .TooYoungException<br>\n",
    "4 .TooOldException<br>"
   ]
  },
  {
   "cell_type": "code",
   "execution_count": 11,
   "metadata": {
    "collapsed": true
   },
   "outputs": [
    {
     "ename": "SyntaxError",
     "evalue": "invalid syntax (<ipython-input-11-f015e06bd5a9>, line 1)",
     "output_type": "error",
     "traceback": [
      "\u001b[0;36m  File \u001b[0;32m\"<ipython-input-11-f015e06bd5a9>\"\u001b[0;36m, line \u001b[0;32m1\u001b[0m\n\u001b[0;31m    **eg:**bank application\u001b[0m\n\u001b[0m     ^\u001b[0m\n\u001b[0;31mSyntaxError\u001b[0m\u001b[0;31m:\u001b[0m invalid syntax\n"
     ]
    }
   ],
   "source": [
    "**eg:**bank application\n",
    "def withdraw(amount):\n",
    "    if amount>=balance:\n",
    "        raise InsufficientFundsException()\n",
    "    else:\n",
    "        process request\n",
    "**eg**mobile recharge application\n",
    "scratch:12bgeh456\n",
    "we are thinking 12bgeh455 is also a number to recharged...then we are entering like this\n",
    "numbers it will show warning\n",
    "def recharge(pin):\n",
    "    if pin is not valid:\n",
    "        raise InvalidPinException()"
   ]
  },
  {
   "cell_type": "markdown",
   "metadata": {},
   "source": [
    "## How to Define and Raise Customized Exceptions:\n",
    "- Every exception in Python is a class and it should be child class of BaseException(either directly or indirectly)\n",
    "           BaseException\n",
    "                /\n",
    "            Exception\n",
    "               /\\\n",
    " ArithmeticError TooyoungException(user defined exception)"
   ]
  },
  {
   "cell_type": "code",
   "execution_count": 1,
   "metadata": {},
   "outputs": [
    {
     "ename": "TooYoungException",
     "evalue": "plz wait some more time",
     "output_type": "error",
     "traceback": [
      "\u001b[0;31m---------------------------------------------------------------------------\u001b[0m",
      "\u001b[0;31mTooYoungException\u001b[0m                         Traceback (most recent call last)",
      "\u001b[0;32m<ipython-input-1-af50ad0529cd>\u001b[0m in \u001b[0;36m<module>\u001b[0;34m()\u001b[0m\n\u001b[1;32m      3\u001b[0m     \u001b[0;32mdef\u001b[0m \u001b[0m__init__\u001b[0m\u001b[0;34m(\u001b[0m\u001b[0mself\u001b[0m\u001b[0;34m,\u001b[0m\u001b[0mmsg\u001b[0m\u001b[0;34m)\u001b[0m\u001b[0;34m:\u001b[0m\u001b[0;31m#description is argument to constructor\u001b[0m\u001b[0;34m\u001b[0m\u001b[0;34m\u001b[0m\u001b[0m\n\u001b[1;32m      4\u001b[0m         \u001b[0mself\u001b[0m\u001b[0;34m.\u001b[0m\u001b[0mmsg\u001b[0m\u001b[0;34m=\u001b[0m\u001b[0mmsg\u001b[0m\u001b[0;34m\u001b[0m\u001b[0;34m\u001b[0m\u001b[0m\n\u001b[0;32m----> 5\u001b[0;31m \u001b[0;32mraise\u001b[0m \u001b[0mTooYoungException\u001b[0m\u001b[0;34m(\u001b[0m\u001b[0;34m'plz wait some more time'\u001b[0m\u001b[0;34m)\u001b[0m\u001b[0;31m#raise our own exception\u001b[0m\u001b[0;34m\u001b[0m\u001b[0;34m\u001b[0m\u001b[0m\n\u001b[0m",
      "\u001b[0;31mTooYoungException\u001b[0m: plz wait some more time"
     ]
    }
   ],
   "source": [
    "#if you dont want any description we need not to write constructor\n",
    "class TooYoungException(Exception):#define our own exception\n",
    "    def __init__(self,msg):#description is argument to constructor\n",
    "        self.msg=msg\n",
    "raise TooYoungException('plz wait some more time')#raise our own exception"
   ]
  },
  {
   "cell_type": "code",
   "execution_count": 2,
   "metadata": {},
   "outputs": [
    {
     "name": "stdout",
     "output_type": "stream",
     "text": [
      "Enter age:10\n"
     ]
    },
    {
     "ename": "TooOldException",
     "evalue": "your age already crossed marriage age,no chance of getting marriage",
     "output_type": "error",
     "traceback": [
      "\u001b[0;31m---------------------------------------------------------------------------\u001b[0m",
      "\u001b[0;31mTooOldException\u001b[0m                           Traceback (most recent call last)",
      "\u001b[0;32m<ipython-input-2-5cf66c040be1>\u001b[0m in \u001b[0;36m<module>\u001b[0;34m()\u001b[0m\n\u001b[1;32m     10\u001b[0m     \u001b[0;32mraise\u001b[0m \u001b[0mTooYoungException\u001b[0m\u001b[0;34m(\u001b[0m\u001b[0;34m'pls wait some more time,definitely u will get best match'\u001b[0m\u001b[0;34m)\u001b[0m\u001b[0;34m\u001b[0m\u001b[0;34m\u001b[0m\u001b[0m\n\u001b[1;32m     11\u001b[0m \u001b[0;32melif\u001b[0m \u001b[0mage\u001b[0m\u001b[0;34m<\u001b[0m\u001b[0;36m18\u001b[0m\u001b[0;34m:\u001b[0m\u001b[0;34m\u001b[0m\u001b[0;34m\u001b[0m\u001b[0m\n\u001b[0;32m---> 12\u001b[0;31m     \u001b[0;32mraise\u001b[0m \u001b[0mTooOldException\u001b[0m\u001b[0;34m(\u001b[0m\u001b[0;34m'your age already crossed marriage age,no chance of getting marriage'\u001b[0m\u001b[0;34m)\u001b[0m\u001b[0;34m\u001b[0m\u001b[0;34m\u001b[0m\u001b[0m\n\u001b[0m\u001b[1;32m     13\u001b[0m \u001b[0;32melse\u001b[0m\u001b[0;34m:\u001b[0m\u001b[0;34m\u001b[0m\u001b[0;34m\u001b[0m\u001b[0m\n\u001b[1;32m     14\u001b[0m     \u001b[0mprint\u001b[0m\u001b[0;34m(\u001b[0m\u001b[0;34m\"u will get match details soon by email\"\u001b[0m\u001b[0;34m)\u001b[0m\u001b[0;34m\u001b[0m\u001b[0;34m\u001b[0m\u001b[0m\n",
      "\u001b[0;31mTooOldException\u001b[0m: your age already crossed marriage age,no chance of getting marriage"
     ]
    }
   ],
   "source": [
    "#\n",
    "class TooYoungException(Exception):\n",
    "    def __init__(self,arg):\n",
    "        self.msg=arg#msg is predefined variable\n",
    "class TooOldException(Exception):\n",
    "    def __init__(self,arg):\n",
    "        self.msg=arg\n",
    "age=int(input(\"Enter age:\"))\n",
    "if age>60:\n",
    "    raise TooYoungException('pls wait some more time,definitely u will get best match')\n",
    "elif age<18:\n",
    "    raise TooOldException('your age already crossed marriage age,no chance of getting marriage')\n",
    "else:\n",
    "    print(\"u will get match details soon by email\")"
   ]
  },
  {
   "cell_type": "code",
   "execution_count": 3,
   "metadata": {},
   "outputs": [
    {
     "name": "stdout",
     "output_type": "stream",
     "text": [
      "Enter age:25\n",
      "u will get match details soon by email\n"
     ]
    }
   ],
   "source": [
    "class TooYoungException(Exception):\n",
    "    def __init__(self,arg):\n",
    "        self.msg=arg#msg is predefined variable\n",
    "class TooOldException(Exception):\n",
    "    def __init__(self,arg):\n",
    "        self.msg=arg\n",
    "age=int(input(\"Enter age:\"))\n",
    "if age>60:\n",
    "    raise TooYoungException('pls wait some more time,definitely u will get best match')\n",
    "elif age<18:\n",
    "    raise TooOldException('your age already crossed marriage age,no chance of getting marriage')\n",
    "else:\n",
    "    print(\"u will get match details soon by email\")"
   ]
  },
  {
   "cell_type": "code",
   "execution_count": 4,
   "metadata": {},
   "outputs": [
    {
     "name": "stdout",
     "output_type": "stream",
     "text": [
      "Enter age:67\n"
     ]
    },
    {
     "ename": "TooYoungException",
     "evalue": "pls wait some more time,definitely u will get best match",
     "output_type": "error",
     "traceback": [
      "\u001b[0;31m---------------------------------------------------------------------------\u001b[0m",
      "\u001b[0;31mTooYoungException\u001b[0m                         Traceback (most recent call last)",
      "\u001b[0;32m<ipython-input-4-36615dfa845e>\u001b[0m in \u001b[0;36m<module>\u001b[0;34m()\u001b[0m\n\u001b[1;32m      7\u001b[0m \u001b[0mage\u001b[0m\u001b[0;34m=\u001b[0m\u001b[0mint\u001b[0m\u001b[0;34m(\u001b[0m\u001b[0minput\u001b[0m\u001b[0;34m(\u001b[0m\u001b[0;34m\"Enter age:\"\u001b[0m\u001b[0;34m)\u001b[0m\u001b[0;34m)\u001b[0m\u001b[0;34m\u001b[0m\u001b[0;34m\u001b[0m\u001b[0m\n\u001b[1;32m      8\u001b[0m \u001b[0;32mif\u001b[0m \u001b[0mage\u001b[0m\u001b[0;34m>\u001b[0m\u001b[0;36m60\u001b[0m\u001b[0;34m:\u001b[0m\u001b[0;34m\u001b[0m\u001b[0;34m\u001b[0m\u001b[0m\n\u001b[0;32m----> 9\u001b[0;31m     \u001b[0;32mraise\u001b[0m \u001b[0mTooYoungException\u001b[0m\u001b[0;34m(\u001b[0m\u001b[0;34m'pls wait some more time,definitely u will get best match'\u001b[0m\u001b[0;34m)\u001b[0m\u001b[0;34m\u001b[0m\u001b[0;34m\u001b[0m\u001b[0m\n\u001b[0m\u001b[1;32m     10\u001b[0m \u001b[0;32melif\u001b[0m \u001b[0mage\u001b[0m\u001b[0;34m<\u001b[0m\u001b[0;36m18\u001b[0m\u001b[0;34m:\u001b[0m\u001b[0;34m\u001b[0m\u001b[0;34m\u001b[0m\u001b[0m\n\u001b[1;32m     11\u001b[0m     \u001b[0;32mraise\u001b[0m \u001b[0mTooOldException\u001b[0m\u001b[0;34m(\u001b[0m\u001b[0;34m'your age already crossed marriage age,no chance of getting marriage'\u001b[0m\u001b[0;34m)\u001b[0m\u001b[0;34m\u001b[0m\u001b[0;34m\u001b[0m\u001b[0m\n",
      "\u001b[0;31mTooYoungException\u001b[0m: pls wait some more time,definitely u will get best match"
     ]
    }
   ],
   "source": [
    "class TooYoungException(Exception):\n",
    "    def __init__(self,arg):\n",
    "        self.msg=arg#msg is predefined variable\n",
    "class TooOldException(Exception):\n",
    "    def __init__(self,arg):\n",
    "        self.msg=arg\n",
    "age=int(input(\"Enter age:\"))\n",
    "if age>60:\n",
    "    raise TooYoungException('pls wait some more time,definitely u will get best match')\n",
    "elif age<18:\n",
    "    raise TooOldException('your age already crossed marriage age,no chance of getting marriage')\n",
    "else:\n",
    "    print(\"u will get match details soon by email\")"
   ]
  },
  {
   "cell_type": "code",
   "execution_count": null,
   "metadata": {},
   "outputs": [],
   "source": []
  }
 ],
 "metadata": {
  "kernelspec": {
   "display_name": "Python 3",
   "language": "python",
   "name": "python3"
  },
  "language_info": {
   "codemirror_mode": {
    "name": "ipython",
    "version": 3
   },
   "file_extension": ".py",
   "mimetype": "text/x-python",
   "name": "python",
   "nbconvert_exporter": "python",
   "pygments_lexer": "ipython3",
   "version": "3.6.9"
  }
 },
 "nbformat": 4,
 "nbformat_minor": 2
}
