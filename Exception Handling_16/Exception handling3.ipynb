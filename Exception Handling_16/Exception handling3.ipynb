{
 "cells": [
  {
   "cell_type": "markdown",
   "metadata": {},
   "source": [
    "## Default except block:\n",
    "- We can use default except block to handle any type of exceptions."
   ]
  },
  {
   "cell_type": "code",
   "execution_count": 1,
   "metadata": {},
   "outputs": [
    {
     "name": "stdout",
     "output_type": "stream",
     "text": [
      "Enter first number:10\n",
      "Enter second number:ten\n",
      "Default block:pls provide int value\n"
     ]
    }
   ],
   "source": [
    "#\n",
    "try:\n",
    "    x=int(input(\"Enter first number:\"))\n",
    "    y=int(input(\"Enter second number:\"))\n",
    "    print(\"the result:\",x/y)\n",
    "except ZeroDivisionError:\n",
    "    print(\"ZeroDivisionError:divide by zero\")\n",
    "except:\n",
    "    print(\"Default block:pls provide int value\")\n",
    "    "
   ]
  },
  {
   "cell_type": "code",
   "execution_count": 5,
   "metadata": {},
   "outputs": [
    {
     "name": "stdout",
     "output_type": "stream",
     "text": [
      "Enter first number:10\n",
      "Enter second number:0\n",
      "Default block:pls provide int value\n"
     ]
    }
   ],
   "source": [
    "#\n",
    "try:\n",
    "    x=int(input(\"Enter first number:\"))\n",
    "    y=int(input(\"Enter second number:\"))\n",
    "    print(\"the result:\",x/y)\n",
    "except:\n",
    "    print(\"Default block:pls provide int value\")"
   ]
  },
  {
   "cell_type": "markdown",
   "metadata": {},
   "source": [
    "\n",
    "- If try with multiple except default blocks available then default except block should be is last ,otherwise we will get SyntaxError.<br>\n",
    "- This restriction is applicable only for default except block but not for normal except blocks.i.e.normal except blocks can be in any order."
   ]
  },
  {
   "cell_type": "code",
   "execution_count": 2,
   "metadata": {},
   "outputs": [
    {
     "ename": "SyntaxError",
     "evalue": "default 'except:' must be last (<ipython-input-2-aa4cb9e0bb05>, line 5)",
     "output_type": "error",
     "traceback": [
      "\u001b[0;36m  File \u001b[0;32m\"<ipython-input-2-aa4cb9e0bb05>\"\u001b[0;36m, line \u001b[0;32m5\u001b[0m\n\u001b[0;31m    print(\"the result:\",x/y)\u001b[0m\n\u001b[0m                         ^\u001b[0m\n\u001b[0;31mSyntaxError\u001b[0m\u001b[0;31m:\u001b[0m default 'except:' must be last\n"
     ]
    }
   ],
   "source": [
    "#\n",
    "try:\n",
    "    x=int(input(\"Enter first number:\"))\n",
    "    y=int(input(\"Enter second number:\"))\n",
    "    print(\"the result:\",x/y)\n",
    "except:\n",
    "    print(\"Default block:pls provide int value\")\n",
    "except ZeroDivisionError:\n",
    "    print(\"ZeroDivisionError:divide by zero\")"
   ]
  },
  {
   "cell_type": "markdown",
   "metadata": {},
   "source": [
    "### various possible combinations of except blocks:"
   ]
  },
  {
   "cell_type": "markdown",
   "metadata": {},
   "source": [
    "The following are various possible combinations of except blocks<br>\n",
    "1.except ZeroDivisionError:#parenthesis is optional<br>\n",
    "1.except (ZeroDivisionError):<br>\n",
    "2 except ZeroDivisionError as msg:#parenthesis is optional<br>\n",
    "2.except (ZeroDivisionError) as msg:<br>\n",
    "3.except (ZeroDivisionError,ValueError) :#parenthesis is mandatory if it handles multiple exceptions <br>\n",
    "3.except (ZeroDivisionError,ValueError) as msg:<br>\n",
    "4.except:"
   ]
  },
  {
   "cell_type": "markdown",
   "metadata": {},
   "source": [
    "- if exception block is defined for only one exception then parenthesis are optional.if multiple exceptions are there then parenthesis is mandatory.\n",
    "- if we use parenthesis,then 'as' must be outside of parenthesis only."
   ]
  },
  {
   "cell_type": "markdown",
   "metadata": {},
   "source": [
    "**invald combinations**\n",
    "- except (ZeroDivisionError as msg):\n",
    "- except ZeroDivisionError,ValueError:\n",
    "- except (ZeroDivisionError,ValueError as msg):"
   ]
  },
  {
   "cell_type": "code",
   "execution_count": null,
   "metadata": {},
   "outputs": [],
   "source": []
  }
 ],
 "metadata": {
  "kernelspec": {
   "display_name": "Python 3",
   "language": "python",
   "name": "python3"
  },
  "language_info": {
   "codemirror_mode": {
    "name": "ipython",
    "version": 3
   },
   "file_extension": ".py",
   "mimetype": "text/x-python",
   "name": "python",
   "nbconvert_exporter": "python",
   "pygments_lexer": "ipython3",
   "version": "3.6.9"
  }
 },
 "nbformat": 4,
 "nbformat_minor": 2
}
