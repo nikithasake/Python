{
 "cells": [
  {
   "cell_type": "code",
   "execution_count": null,
   "id": "6a981f9a",
   "metadata": {},
   "outputs": [],
   "source": [
    "##### myown"
   ]
  },
  {
   "cell_type": "code",
   "execution_count": 3,
   "id": "0b452fe9",
   "metadata": {},
   "outputs": [
    {
     "name": "stdout",
     "output_type": "stream",
     "text": [
      "Enter string1:katamaiah\n",
      "Enter string2:satmaiaha\n",
      "not anagram\n"
     ]
    }
   ],
   "source": [
    "#Anagram\n",
    "s=input(\"Enter string1:\")\n",
    "s1=input(\"Enter string2:\")\n",
    "if sorted(s)==sorted(s1):\n",
    "    print(\"anagram\")\n",
    "else:\n",
    "    print(\"not anagram\")"
   ]
  },
  {
   "cell_type": "code",
   "execution_count": 2,
   "id": "670f753f",
   "metadata": {
    "scrolled": true
   },
   "outputs": [
    {
     "name": "stdout",
     "output_type": "stream",
     "text": [
      "5 1\n",
      "<class 'int'>\n",
      "1 3 5 6\n",
      "<class 'list'>\n",
      "<class 'set'>\n",
      "1\n"
     ]
    }
   ],
   "source": [
    "def pairs(k, arr):\n",
    "    arr = set(arr)\n",
    "    print(type(arr))\n",
    "    return sum(1 for i in arr if i+k in arr)\n",
    "n,k = map(int,input().split())\n",
    "print(type(k))\n",
    "arr = list(map(int,input().split()))\n",
    "print(type(arr))\n",
    "print(pairs(k, arr))"
   ]
  },
  {
   "cell_type": "code",
   "execution_count": 4,
   "id": "aba29770",
   "metadata": {},
   "outputs": [
    {
     "name": "stdout",
     "output_type": "stream",
     "text": [
      "1 2 3\n",
      "[1, 2, 3]\n",
      "1\n",
      "2\n",
      "3\n"
     ]
    }
   ],
   "source": [
    "l = list(map(int,input().split()))\n",
    "print(l)\n",
    "for item in l: \n",
    "    print(item)"
   ]
  },
  {
   "cell_type": "code",
   "execution_count": 4,
   "id": "8a5edbd0",
   "metadata": {},
   "outputs": [
    {
     "name": "stdout",
     "output_type": "stream",
     "text": [
      "Enter number:3\n",
      "2\n",
      "4\n"
     ]
    }
   ],
   "source": [
    "#even and odd sum\n",
    "s=int(input(\"Enter number:\"))\n",
    "s1=0\n",
    "s2=0\n",
    "for x in range(s+1):\n",
    "    if x%2==0:\n",
    "        s1=s1+x\n",
    "    else:\n",
    "        s2=s2+x\n",
    "print(s1)\n",
    "print(s2)"
   ]
  },
  {
   "cell_type": "code",
   "execution_count": 5,
   "id": "d06cbabc",
   "metadata": {},
   "outputs": [
    {
     "name": "stdout",
     "output_type": "stream",
     "text": [
      "ENter4\n",
      "yes: 20\n"
     ]
    }
   ],
   "source": [
    "def even(n):\n",
    "    c=0\n",
    "    i=1\n",
    "    s1=0\n",
    "    while c<n:\n",
    "        if i%2==0:\n",
    "            c=c+1\n",
    "            s1=s1+i\n",
    "        i=i+1\n",
    "    return s1\n",
    "n=int(input(\"ENter\"))\n",
    "k=even(n)\n",
    "print(\"yes:\",k)"
   ]
  },
  {
   "cell_type": "code",
   "execution_count": 2,
   "id": "e40129bf",
   "metadata": {},
   "outputs": [
    {
     "name": "stdout",
     "output_type": "stream",
     "text": [
      "6\n",
      "87 103 229 41 8 86\n",
      "3 19 2 1 2\n",
      "7 -21 30 0 -4 -3\n",
      "261 458\n"
     ]
    }
   ],
   "source": [
    "items=int(input())\n",
    "price_list=list(map(int,input().strip().split()))\n",
    "distance_list=list(map(int,input().strip().split()))\n",
    "sku_list=list(map(int,input().strip().split()))\n",
    "result=[]\n",
    "for i in range(0,len(sku_list)):\n",
    "    if sku_list[i]>0:\n",
    "        result.append(price_list[i]*distance_list[i])\n",
    "print(\" \".join(str(item) for item in result))"
   ]
  },
  {
   "cell_type": "code",
   "execution_count": null,
   "id": "98ea1579",
   "metadata": {},
   "outputs": [],
   "source": [
    "import math\n",
    "x1,y1,r1,x2,y2,r2=map(int,input().split())\n",
    "d=math.sqrt((x2-x1)*(x2-x1)+(y2-y1)*(y2-y1))\n",
    "if r2<r1:\n",
    "    temp=r1\n",
    "    r1=r2\n",
    "    r2=temp\n",
    "part1=r1*r1*math.acos((d*d+r1*r1-r2*r2)/(2*d*r1))\n",
    "part2=r2*r2*math.acos((d*d+r2*r2-r1*r1)/(2*d*r1))\n",
    "part3=0.5*math.sqrt((-d+r1+r2)*(d+r1-r2)*(d-r1*r2)*(d*r1*r2))\n",
    "intersect=part1*part2*part3\n",
    "print(intersect)"
   ]
  },
  {
   "cell_type": "code",
   "execution_count": 6,
   "id": "88286100",
   "metadata": {},
   "outputs": [
    {
     "name": "stdout",
     "output_type": "stream",
     "text": [
      "32\n",
      "4\n",
      "1\n",
      "3\n",
      "10\n",
      "8\n"
     ]
    }
   ],
   "source": [
    "n = int(input())\n",
    "m1=int(input())\n",
    "p1 = int(input())\n",
    "m2 = int(input())\n",
    "p2 = int(input())\n",
    "\n",
    "min_cost = -1\n",
    "i = 0\n",
    "while m1 * i <= n:\n",
    "    count2 = n - i*m1\n",
    "    if count2%m2 == 0:\n",
    "            cost = int(p1 * i + p2 * (count2/m2))\n",
    "            if cost < min_cost or min_cost == -1:\n",
    "                min_cost = cost\n",
    "    i += 1\n",
    "\n",
    "if min_cost != -1:\n",
    "        print(min_cost);\n",
    "else:\n",
    "        print(\"Invalid inputs\");\n"
   ]
  },
  {
   "cell_type": "code",
   "execution_count": 14,
   "id": "2fcfafc1",
   "metadata": {},
   "outputs": [
    {
     "name": "stdout",
     "output_type": "stream",
     "text": [
      "5\n",
      "11010\n",
      "count: 1\n",
      "count: 2\n",
      "count..: 0\n",
      "count: 1\n",
      "count..: 0\n",
      "2\n"
     ]
    }
   ],
   "source": [
    "size=int(input())\n",
    "max=0\n",
    "count=0\n",
    "flag=0\n",
    "str=input()\n",
    "arr=list(str)\n",
    "\n",
    "for i in range(0,size):\n",
    "    if arr[i]=='1':\n",
    "        count=count+1;\n",
    "        print(\"count:\",count)\n",
    "        flag=1;\n",
    "    elif(arr[i]=='0' and flag==1):\n",
    "        count=0\n",
    "        print(\"count..:\",count)\n",
    "        flag=0\n",
    "    if count>max:\n",
    "        max=count\n",
    "print(max)"
   ]
  },
  {
   "cell_type": "code",
   "execution_count": 10,
   "id": "ffffec38",
   "metadata": {},
   "outputs": [
    {
     "name": "stdout",
     "output_type": "stream",
     "text": [
      "3467\n",
      "['3', '4', '6', '7']\n"
     ]
    }
   ],
   "source": [
    "str=input()\n",
    "arr=list(str)\n",
    "print(arr)"
   ]
  },
  {
   "cell_type": "code",
   "execution_count": 19,
   "id": "9b33fb11",
   "metadata": {},
   "outputs": [
    {
     "name": "stdout",
     "output_type": "stream",
     "text": [
      "3\n",
      "1 2 3\n",
      "4 5 6\n",
      "7 8 9\n",
      "[[1, 2, 3], [4, 5, 6], [7, 8, 9]]\n",
      "m1: 1 m1: 2 m1: 3 m2: 6 m2: 9 matrix: 8 matrix: 7 4 m1: 5 "
     ]
    }
   ],
   "source": [
    "n= int(input())\n",
    "m = []\n",
    "for i in range(n):\n",
    "    m.append(list(map(int, input().split())))\n",
    "print(m)\n",
    "rounds = n//2+n%2\n",
    "for i in range(rounds):\n",
    "    \n",
    "    for j in range(i,n-i):\n",
    "        print(\"m1:\",m[i][j], end=' ')\n",
    "    for j in range(i+1, n-i):\n",
    "        print(\"m2:\",m[j][n-1-i], end=' ')\n",
    "    for j in reversed(range(i, n-1-i)):\n",
    "        print(\"matrix:\",m[n-1-i][j], end=' ')\n",
    "    for j in reversed(range(i+1, n-1-i)):\n",
    "        print(m[j][i], end=\" \")"
   ]
  },
  {
   "cell_type": "code",
   "execution_count": 4,
   "id": "b665ae5c",
   "metadata": {},
   "outputs": [
    {
     "name": "stdout",
     "output_type": "stream",
     "text": [
      "True\n"
     ]
    }
   ],
   "source": [
    "#Program to check whether given matrix is Toeplitz Matrix or not in Python\n",
    "class Solution:\n",
    "    def solve(self, matrix):\n",
    "        for i in range(len(matrix)-1):\n",
    "             for j in range(len(matrix[0])-1):\n",
    "                if matrix[i][j]!=matrix[i+1][j+1]:\n",
    "                    return False\n",
    "        return True\n",
    "ob = Solution()\n",
    "matrix = [ [7, 2, 6], [3, 7, 2], [5, 3, 7]]\n",
    "print(ob.solve(matrix))"
   ]
  },
  {
   "cell_type": "code",
   "execution_count": 23,
   "id": "e30abc15",
   "metadata": {},
   "outputs": [
    {
     "name": "stdout",
     "output_type": "stream",
     "text": [
      "[5, 11, 12, 14, 31, 65, 89]\n",
      "[89, 31, 12, 5]\n",
      "[89, 31, 12, 5, 11, 14, 65]\n"
     ]
    }
   ],
   "source": [
    "#Program to print an array in Pendulum Arrangement\n",
    "lst = [ 11 ,12, 31 ,14,5,89,65]\n",
    "def pendulum(lst):\n",
    "    srt = sorted(lst)\n",
    "    print(srt)\n",
    "    print(list(reversed(srt[0::2])))\n",
    "    return list(reversed(srt[0::2])) + srt[1::2]\n",
    "ret = pendulum(lst)\n",
    "print(ret)"
   ]
  },
  {
   "cell_type": "code",
   "execution_count": 18,
   "id": "ba35f795",
   "metadata": {},
   "outputs": [
    {
     "name": "stdout",
     "output_type": "stream",
     "text": [
      "Enter string:nikitha\n",
      "n k t h a "
     ]
    }
   ],
   "source": [
    "#Python program to find nonrepeating characters in a string\n",
    "str=input(\"Enter string:\")\n",
    "for i in str:\n",
    "    c=0\n",
    "    for j in str:\n",
    "        if i==j:\n",
    "            c=c+1\n",
    "        if c>1:\n",
    "            break\n",
    "    if c==1:\n",
    "        print(i,end=\" \")"
   ]
  },
  {
   "cell_type": "code",
   "execution_count": 39,
   "id": "f450dbad",
   "metadata": {},
   "outputs": [
    {
     "name": "stdout",
     "output_type": "stream",
     "text": [
      "<zip object at 0x7f43127e8c80>\n",
      "(1, 4, 7) (2, 5, 8) (3, 6, 9) \n",
      "7 4 1\n",
      "8 5 2\n",
      "9 6 3\n"
     ]
    }
   ],
   "source": [
    "#Matrix rotation by 90 degrees - clockwise\n",
    "matrix = [[1, 2, 3],\n",
    "          [4, 5, 6],\n",
    "          [7, 8, 9]]\n",
    "a=zip(*matrix)\n",
    "print(a)\n",
    "for i in a:\n",
    "    print(i,end=\" \")\n",
    "rotated = [list(reversed(col)) for col in zip(*matrix)]\n",
    "print()\n",
    "for row in rotated:\n",
    "    print(*row)"
   ]
  },
  {
   "cell_type": "code",
   "execution_count": 70,
   "id": "895ac1e7",
   "metadata": {},
   "outputs": [
    {
     "name": "stdout",
     "output_type": "stream",
     "text": [
      "1 2 3 6 9 8 7 4 5 "
     ]
    }
   ],
   "source": [
    "#Print a matrix in spiral order\n",
    "def spiral(mat):\n",
    "    while mat:\n",
    "        for x in mat.pop(0):\n",
    "            print(x,end=\" \")\n",
    "        for v in mat:\n",
    "            print(v.pop(),end=\" \")\n",
    "        if mat:\n",
    "            for x in mat.pop()[::-1]:\n",
    "                print(x,end=\" \")\n",
    "        for v in mat:\n",
    "            print(v.pop(0),end=\" \")\n",
    "mat= [[1, 2, 3], \n",
    "         [4, 5, 6], \n",
    "         [7, 8, 9]];\n",
    "l=spiral(mat)"
   ]
  },
  {
   "cell_type": "code",
   "execution_count": 27,
   "id": "8d6f9492",
   "metadata": {},
   "outputs": [
    {
     "name": "stdout",
     "output_type": "stream",
     "text": [
      "((1, 4, 7), (2, 5, 8), (3, 6, 9))\n"
     ]
    }
   ],
   "source": [
    "#Transpose\n",
    "a = [[1,2,3],[4,5,6],[7,8,9]]\n",
    "output = tuple(zip(*a))\n",
    "print(output)"
   ]
  },
  {
   "cell_type": "code",
   "execution_count": 35,
   "id": "1ee7318f",
   "metadata": {},
   "outputs": [
    {
     "data": {
      "text/plain": [
       "[[1, 4, 7], [2, 5, 8], [3, 6, 9]]"
      ]
     },
     "execution_count": 35,
     "metadata": {},
     "output_type": "execute_result"
    }
   ],
   "source": [
    "#Transpose\n",
    "def transpose(A):\n",
    "    res = []\n",
    "    for col in range(len(A[0])):\n",
    "        tmp = []\n",
    "        for row in range(len(A)):\n",
    "            tmp.append(A[row][col])\n",
    "        res.append(tmp)\n",
    "    return res\n",
    "a = [[1,2,3],[4,5,6],[7,8,9]]\n",
    "transpose(a)"
   ]
  },
  {
   "cell_type": "code",
   "execution_count": 71,
   "id": "3a6b7514",
   "metadata": {},
   "outputs": [
    {
     "name": "stdout",
     "output_type": "stream",
     "text": [
      "[1, 2, 3]\n",
      "[4, 5, 6]\n",
      "[7, 8, 9]\n",
      "\n",
      "\n",
      "1 4 7\n",
      "2 5 8\n",
      "3 6 9\n"
     ]
    }
   ],
   "source": [
    "#Transpose\n",
    "m = [[1,2,3],[4,5,6],[7,8,9]]\n",
    "for row in m :\n",
    "    print(row)\n",
    "rez = [[m[j][i] for j in range(len(m))] for i in range(len(m[0]))]\n",
    "print(\"\\n\")\n",
    "for row in rez:\n",
    "    print(*row)"
   ]
  },
  {
   "cell_type": "code",
   "execution_count": 2,
   "id": "be463c7a",
   "metadata": {},
   "outputs": [
    {
     "name": "stdout",
     "output_type": "stream",
     "text": [
      "[114, 160, 60, 27]\n",
      "[74, 97, 73, 14]\n",
      "[119, 157, 112, 23]\n"
     ]
    }
   ],
   "source": [
    "# Program to multiply two matrices using nested loops\n",
    "# 3x3 matrix\n",
    "X = [[12,7,3],\n",
    "    [4 ,5,6],\n",
    "    [7 ,8,9]]\n",
    "# 3x4 matrix\n",
    "Y = [[5,8,1,2],\n",
    "    [6,7,3,0],\n",
    "    [4,5,9,1]]\n",
    "# result is 3x4\n",
    "result = [[0,0,0,0],\n",
    "         [0,0,0,0],\n",
    "         [0,0,0,0]]\n",
    "\n",
    "# iterate through rows of X\n",
    "for i in range(len(X)):\n",
    "   # iterate through columns of Y\n",
    "   for j in range(len(Y[0])):\n",
    "       # iterate through rows of Y\n",
    "       for k in range(len(Y)):\n",
    "           result[i][j] += X[i][k] * Y[k][j]\n",
    "for r in result:\n",
    "   print(r)"
   ]
  },
  {
   "cell_type": "code",
   "execution_count": 6,
   "id": "4c8999f9",
   "metadata": {},
   "outputs": [
    {
     "name": "stdout",
     "output_type": "stream",
     "text": [
      "Enter a word = nikitha\n",
      "{'k', 'h', 'a', 't', 'i', 'n'}\n",
      "i : 2 "
     ]
    }
   ],
   "source": [
    " #finding duplicate character in string\n",
    "def find_duplicate():\n",
    "    x = input(\"Enter a word = \")\n",
    "    print(set(x))\n",
    "    for char in set(x):\n",
    "        counts = x.count(char)\n",
    "        while counts > 1:\n",
    "            print(char, \":\", counts, end=' ')\n",
    "            break\n",
    "find_duplicate()"
   ]
  },
  {
   "cell_type": "code",
   "execution_count": 7,
   "id": "8550018f",
   "metadata": {},
   "outputs": [
    {
     "name": "stdout",
     "output_type": "stream",
     "text": [
      "Enter any word:nikitha\n",
      "a occured 1 times\n",
      "h occured 1 times\n",
      "i occured 2 times\n",
      "k occured 1 times\n",
      "n occured 1 times\n",
      "t occured 1 times\n"
     ]
    }
   ],
   "source": [
    "#Wap to find number of occurrence of each letter present in the given string?\n",
    "word=input(\"Enter any word:\")\n",
    "d={}\n",
    "for x in word:\n",
    "    d[x]=d.get(x,0)+1\n",
    "for k,v in sorted(d.items()):\n",
    "    print(\"{} occured {} times\".format(k,v))"
   ]
  },
  {
   "cell_type": "code",
   "execution_count": 8,
   "id": "97d9bbbb",
   "metadata": {},
   "outputs": [
    {
     "name": "stdout",
     "output_type": "stream",
     "text": [
      "Enter any word:nikithaa\n",
      "{'n': 1, 'i': 2, 'k': 1, 't': 1, 'h': 1, 'a': 2}\n"
     ]
    }
   ],
   "source": [
    "word=input(\"Enter any word:\")\n",
    "d={}\n",
    "for x in word:\n",
    "    if x not in d.keys():\n",
    "        d[x]=1\n",
    "    else:\n",
    "        d[x]=d[x]+1\n",
    "print(d)"
   ]
  },
  {
   "cell_type": "code",
   "execution_count": 4,
   "id": "22abc469",
   "metadata": {},
   "outputs": [
    {
     "name": "stdout",
     "output_type": "stream",
     "text": [
      "HELLOHELLO\n",
      "LOHEL\n",
      "Given Strings are rotations of each other.\n"
     ]
    }
   ],
   "source": [
    "#check if strings are rotations of each other or not in python\n",
    "def checkRotation(s1, s2): \n",
    "    temp = '' \n",
    "    # Check if lengths of two strings are equal or not \n",
    "    if len(s1) != len(s2): \n",
    "        return False\n",
    "    # storing concatenated string \n",
    "    temp = s1 + s1 \n",
    "    print(temp)\n",
    "    if s2 in temp: \n",
    "        print(s2)\n",
    "        return True #returning true if 2nd string is present in concatenated string\n",
    "    else: \n",
    "        return False\n",
    "  \n",
    "# Driver program to test the above function \n",
    "string1 = \"HELLO\"\n",
    "string2 = \"LOHEL\"\n",
    "  \n",
    "if checkRotation(string1, string2): \n",
    "    print(\"Given Strings are rotations of each other.\")\n",
    "else: \n",
    "    print(\"Given Strings are not rotations of each other.\")"
   ]
  },
  {
   "cell_type": "code",
   "execution_count": 11,
   "id": "4c9cb386",
   "metadata": {},
   "outputs": [
    {
     "name": "stdout",
     "output_type": "stream",
     "text": [
      "12345\n",
      "15\n"
     ]
    }
   ],
   "source": [
    "#Python program sum of digits in number.\n",
    "def getSum(n):\n",
    "    sum = 0\n",
    "    for digit in str(n):\n",
    "        sum += int(digit)\n",
    "    return sum\n",
    "n = 12345\n",
    "print(getSum(n))"
   ]
  },
  {
   "cell_type": "code",
   "execution_count": null,
   "id": "9f274714",
   "metadata": {},
   "outputs": [],
   "source": []
  },
  {
   "cell_type": "code",
   "execution_count": null,
   "id": "53253128",
   "metadata": {},
   "outputs": [],
   "source": []
  },
  {
   "cell_type": "code",
   "execution_count": null,
   "id": "98b37ad8",
   "metadata": {},
   "outputs": [],
   "source": []
  }
 ],
 "metadata": {
  "kernelspec": {
   "display_name": "Python 3 (ipykernel)",
   "language": "python",
   "name": "python3"
  },
  "language_info": {
   "codemirror_mode": {
    "name": "ipython",
    "version": 3
   },
   "file_extension": ".py",
   "mimetype": "text/x-python",
   "name": "python",
   "nbconvert_exporter": "python",
   "pygments_lexer": "ipython3",
   "version": "3.9.5"
  }
 },
 "nbformat": 4,
 "nbformat_minor": 5
}
