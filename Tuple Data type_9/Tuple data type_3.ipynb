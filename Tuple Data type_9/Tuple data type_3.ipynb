{
 "cells": [
  {
   "cell_type": "markdown",
   "metadata": {},
   "source": [
    "## Tuple Comprehension\n",
    "- Tuple comprehension is not supported by python."
   ]
  },
  {
   "cell_type": "code",
   "execution_count": 2,
   "metadata": {},
   "outputs": [
    {
     "name": "stdout",
     "output_type": "stream",
     "text": [
      "[1, 4, 9, 16, 25, 36, 49, 64, 81, 100]\n"
     ]
    }
   ],
   "source": [
    "#list\n",
    "x=[x*x for x in range(1,11)]\n",
    "print(x)"
   ]
  },
  {
   "cell_type": "markdown",
   "metadata": {},
   "source": [
    "- Here we are not getting tuple object and we are getting generator object."
   ]
  },
  {
   "cell_type": "code",
   "execution_count": 6,
   "metadata": {},
   "outputs": [
    {
     "name": "stdout",
     "output_type": "stream",
     "text": [
      "<generator object <genexpr> at 0x7fc02df21780>\n",
      "<class 'generator'>\n",
      "1\n",
      "4\n",
      "9\n",
      "16\n",
      "25\n",
      "36\n",
      "49\n",
      "64\n",
      "81\n",
      "100\n"
     ]
    }
   ],
   "source": [
    "#even it will work but the result is not tuple..\n",
    "x=(x*x for x in range(1,11))\n",
    "print(x)\n",
    "print(type(x))\n",
    "for i in x:\n",
    "    print(i)"
   ]
  },
  {
   "cell_type": "code",
   "execution_count": 12,
   "metadata": {},
   "outputs": [
    {
     "name": "stdout",
     "output_type": "stream",
     "text": [
      "Enter tuple of Numbers:10,20,30\n",
      "sum: 60\n",
      "Avg: 20.0\n"
     ]
    }
   ],
   "source": [
    "#Wap to take a tuple of numbers from the keyboard and print its sum and avg\n",
    "t=eval(input(\"Enter tuple of Numbers:\"))\n",
    "s=0\n",
    "l=len(t)\n",
    "for i in t:\n",
    "    s=s+i\n",
    "print(\"sum:\",s)\n",
    "print(\"Avg:\",s/l)"
   ]
  },
  {
   "cell_type": "markdown",
   "metadata": {},
   "source": [
    "## Difference b/w List and Tuple\n",
    "- List and Tuples are exactly same except small difference: List objects are mutable where as Tuple objects are immutable.\n",
    "- In both cases insertion order is preserved,duplicate objects are allowed,heterogenous objects are allowed,index and slicing are supported."
   ]
  },
  {
   "cell_type": "markdown",
   "metadata": {},
   "source": [
    "### List\n",
    "- List is a group of comma seperated values within square brackets and square brackets are mandatory.<br>\n",
    "**Eg**:[10,20,30]\n",
    "- List objects are Mutable i.e Once we creates List objects we can perform any changes in that object.<br>\n",
    "**Eg**:l[1]=777\n",
    "- If the content is not fixed and keep on changing then we should go for List.\n",
    "- List objects can not used as keys for Dictionaries bcse keys should be Hashable and Immuatable."
   ]
  },
  {
   "cell_type": "markdown",
   "metadata": {},
   "source": [
    "### Tuple\n",
    "- Tuple is a group of comma seperated values within parenthesis and parenthesis are optional.<br>\n",
    "**Eg**:10,20,30<br>\n",
    "**Eg**:(10,20,30)<br>\n",
    "- Tuple objects are immutable i.e Once we creates Tuple objects we cannot perform any changes in that object.<br>\n",
    "**Eg**:l[1]=777==>ValueError:tuple object does not support item assignment.\n",
    "- If the content is  fixed and never changes then we should go for List.\n",
    "- Tuple objects can be used as keys for Dictionaries bcse keys should be Hashable and Immutable."
   ]
  },
  {
   "cell_type": "code",
   "execution_count": null,
   "metadata": {},
   "outputs": [],
   "source": []
  },
  {
   "cell_type": "code",
   "execution_count": null,
   "metadata": {},
   "outputs": [],
   "source": []
  },
  {
   "cell_type": "code",
   "execution_count": null,
   "metadata": {},
   "outputs": [],
   "source": []
  },
  {
   "cell_type": "code",
   "execution_count": null,
   "metadata": {},
   "outputs": [],
   "source": []
  }
 ],
 "metadata": {
  "kernelspec": {
   "display_name": "Python 3",
   "language": "python",
   "name": "python3"
  },
  "language_info": {
   "codemirror_mode": {
    "name": "ipython",
    "version": 3
   },
   "file_extension": ".py",
   "mimetype": "text/x-python",
   "name": "python",
   "nbconvert_exporter": "python",
   "pygments_lexer": "ipython3",
   "version": "3.6.9"
  }
 },
 "nbformat": 4,
 "nbformat_minor": 2
}
