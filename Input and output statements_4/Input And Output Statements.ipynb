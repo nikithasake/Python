{
 "cells": [
  {
   "cell_type": "markdown",
   "metadata": {},
   "source": [
    "# Input and Output Statements"
   ]
  },
  {
   "cell_type": "markdown",
   "metadata": {},
   "source": [
    "### Reading dynamic input from the keyboard\n",
    "## python2\n",
    "- In python2 the following 2 functions are available to read dynamic input from the keyboard<br>\n",
    "1 .raw_input()<br>\n",
    "2 .input()\n",
    "### 1.raw_input()<br>\n",
    "- This function always reads the data from the keyboard in the form of string.we have to convert that string type to our required type by using the corresponding type casting methods.<br>\n",
    "**eg**:<br>\n",
    "x=raw_input(\"Enter x value\")<br>\n",
    "print(type(x))===>It will always print str type only for any input type\n",
    "\n",
    "### 2.input()<br>\n",
    "- input() function can be used to read data directly in our required format.we are not required to perform type casting.<br>\n",
    "**eg**:<br>\n",
    "x=input(\"Enter x value:\")<br>\n",
    "type(x)"
   ]
  },
  {
   "cell_type": "markdown",
   "metadata": {},
   "source": [
    "## python3\n",
    "- In python3 we have only input() method and raw_input() method is not available.\n",
    "- python3 input() function behaviour exactly same as raw_input() method of python2.i.e every input value is treated as str type only.compulsory we should perform type casting.\n",
    "- raw_input() function of python2 is renamed as input() function in python3.\n"
   ]
  },
  {
   "cell_type": "code",
   "execution_count": 1,
   "metadata": {},
   "outputs": [
    {
     "name": "stdout",
     "output_type": "stream",
     "text": [
      "enter some number:10\n",
      "<class 'str'>\n",
      "enter some number:10.5\n",
      "<class 'str'>\n",
      "enter some number:True\n",
      "<class 'str'>\n",
      "enter some number:2+3j\n",
      "<class 'str'>\n"
     ]
    }
   ],
   "source": [
    "print(type(input(\"enter some number:\")))\n",
    "print(type(input(\"enter some number:\")))\n",
    "print(type(input(\"enter some number:\")))\n",
    "print(type(input(\"enter some number:\")))"
   ]
  },
  {
   "cell_type": "code",
   "execution_count": 6,
   "metadata": {},
   "outputs": [
    {
     "name": "stdout",
     "output_type": "stream",
     "text": [
      "Enter first number:3\n",
      "Enter second number:4\n",
      "sum: 7\n"
     ]
    }
   ],
   "source": [
    "# Write a program to read 2 numbers from the keyboard and print sum\n",
    "x=input(\"Enter first number:\")\n",
    "y=input(\"Enter second number:\")\n",
    "i=int(x)\n",
    "j=int(y)\n",
    "s=i+j\n",
    "print(\"sum:\",s)"
   ]
  },
  {
   "cell_type": "code",
   "execution_count": 4,
   "metadata": {},
   "outputs": [
    {
     "name": "stdout",
     "output_type": "stream",
     "text": [
      "Enter first number:12\n",
      "Enter first number:3\n",
      "Sum of two numbers: 15\n"
     ]
    }
   ],
   "source": [
    "#Type casting\n",
    "x=int(input(\"Enter first number:\"))\n",
    "y=int(input(\"Enter first number:\"))\n",
    "print(\"Sum of two numbers:\",x+y)"
   ]
  },
  {
   "cell_type": "code",
   "execution_count": 7,
   "metadata": {},
   "outputs": [
    {
     "name": "stdout",
     "output_type": "stream",
     "text": [
      "Enter first value:3\n",
      "Enter second number:2\n",
      "The sum: 5\n"
     ]
    }
   ],
   "source": [
    "print(\"The sum:\",int(input(\"Enter first value:\"))+int(input(\"Enter second number:\")))"
   ]
  },
  {
   "cell_type": "markdown",
   "metadata": {},
   "source": [
    "### python is dynamic, automatically type will be considered,we are not required to declare right?\n",
    "- x=10 in python..we are not required to declare type at declaration..based on provided value automatically type will be considered at declaration\n",
    "- int x=10 in java...we have to specify type explicitly...\n",
    "- But input() is internally implemented always going to considered as string type only..thats why we have to perform type casting.."
   ]
  },
  {
   "cell_type": "markdown",
   "metadata": {},
   "source": [
    "## What is the reason input() treated always as str type only?\n",
    "- In any programming lang most Commonly used type is str type.\n",
    "- Most commonly used type is default type that why str type is default function."
   ]
  },
  {
   "cell_type": "code",
   "execution_count": 4,
   "metadata": {},
   "outputs": [
    {
     "name": "stdout",
     "output_type": "stream",
     "text": [
      "Enter Employee number:123\n",
      "Enter Employee name:kk\n",
      "Enter Employee salary:40000\n",
      "Enter Employee address:233-44\n",
      "Employee married?[True|False]T\n",
      "Employee number: 123\n",
      "Employee name: kk\n",
      "Employee salary: 40000.0\n",
      "Employee address: 233-44\n",
      "Employee married: True\n"
     ]
    }
   ],
   "source": [
    "# Write a program to read Employee data from the keyboard and print that data.\n",
    "eno=int(input(\"Enter Employee number:\"))\n",
    "ename=input(\"Enter Employee name:\")\n",
    "esalary=float(input(\"Enter Employee salary:\"))\n",
    "eaddress=input(\"Enter Employee address:\")\n",
    "married=bool(input(\"Employee married?[True|False]\"))\n",
    "print(\"Employee number:\",eno)\n",
    "print(\"Employee name:\",ename)\n",
    "print(\"Employee salary:\",esalary)\n",
    "print(\"Employee address:\",eaddress)\n",
    "print(\"Employee married:\",married)"
   ]
  },
  {
   "cell_type": "code",
   "execution_count": 2,
   "metadata": {},
   "outputs": [
    {
     "name": "stdout",
     "output_type": "stream",
     "text": [
      "Enter 2 numbers:3 5\n",
      "sum: 8\n"
     ]
    }
   ],
   "source": [
    "# How to read multiple values from the keyboard in a single line\n",
    "a,b=[int(x) for x in input(\"Enter 2 numbers:\").split()]\n",
    "print(\"sum:\",a+b)"
   ]
  },
  {
   "cell_type": "markdown",
   "metadata": {},
   "source": [
    "#### Note:\n",
    "- split() function can take space as seperator by default.But we can pass anything as seperator."
   ]
  },
  {
   "cell_type": "code",
   "execution_count": 25,
   "metadata": {},
   "outputs": [
    {
     "name": "stdout",
     "output_type": "stream",
     "text": [
      "Enter 2 numbers:2.4,5.6\n",
      "sum: 8.0\n"
     ]
    }
   ],
   "source": [
    "# Write a program to read float numbers from the keyboard with , seperator and print their sum\n",
    "a,b=[float(x) for x in input(\"Enter 2 numbers:\").split(\",\")]\n",
    "print(\"sum:\",a+b)"
   ]
  },
  {
   "cell_type": "markdown",
   "metadata": {},
   "source": [
    "## eval()\n",
    "- eval function take a string and evaluate the result.\n",
    "- It is used to evaluates a python expressions.\n",
    "- internally it is considered type."
   ]
  },
  {
   "cell_type": "code",
   "execution_count": 32,
   "metadata": {},
   "outputs": [
    {
     "name": "stdout",
     "output_type": "stream",
     "text": [
      "60\n",
      "<class 'int'>\n"
     ]
    }
   ],
   "source": [
    "x=eval(\"10+20+30\")\n",
    "print(x)\n",
    "print(type(x))"
   ]
  },
  {
   "cell_type": "code",
   "execution_count": 34,
   "metadata": {},
   "outputs": [
    {
     "name": "stdout",
     "output_type": "stream",
     "text": [
      "Enter expression:10+2*3/4\n",
      "<class 'float'>\n",
      "11.5\n"
     ]
    }
   ],
   "source": [
    "y=eval(input(\"Enter expression:\"))\n",
    "print(type(y))\n",
    "print(y)"
   ]
  },
  {
   "cell_type": "markdown",
   "metadata": {},
   "source": [
    "- eval() can evaluate the input to list,tuple,set,etc based the provided input."
   ]
  },
  {
   "cell_type": "code",
   "execution_count": 39,
   "metadata": {},
   "outputs": [
    {
     "name": "stdout",
     "output_type": "stream",
     "text": [
      "Enter some data:[10,20,\"nimbu\"]\n",
      "<class 'list'>\n",
      "[10, 20, 'nimbu']\n"
     ]
    }
   ],
   "source": [
    "#Write a program to accept list from the keyboard on the display\n",
    "l=eval(input(\"Enter some data:\"))\n",
    "print(type(l))\n",
    "print(l)"
   ]
  },
  {
   "cell_type": "code",
   "execution_count": 40,
   "metadata": {},
   "outputs": [
    {
     "name": "stdout",
     "output_type": "stream",
     "text": [
      "Enter some data:(10,20,\"nikki\")\n",
      "<class 'tuple'>\n",
      "(10, 20, 'nikki')\n"
     ]
    }
   ],
   "source": [
    "#Ex\n",
    "l=eval(input(\"Enter some data:\"))\n",
    "print(type(l))\n",
    "print(l)"
   ]
  },
  {
   "cell_type": "code",
   "execution_count": 3,
   "metadata": {},
   "outputs": [
    {
     "name": "stdout",
     "output_type": "stream",
     "text": [
      "Enter 3 values:10:\"nikki\":(10,20)\n",
      "<class 'int'>\n",
      "<class 'str'>\n",
      "<class 'tuple'>\n"
     ]
    }
   ],
   "source": [
    "#Read multiple values with data type\n",
    "a,b,c=[eval(x) for x in input(\"Enter 3 values:\").split((\":\"))]\n",
    "print(type(a))\n",
    "print(type(b))\n",
    "print(type(c))"
   ]
  },
  {
   "cell_type": "code",
   "execution_count": 4,
   "metadata": {},
   "outputs": [
    {
     "name": "stdout",
     "output_type": "stream",
     "text": [
      "Enter 3 values:10520560\n"
     ]
    },
    {
     "ename": "TypeError",
     "evalue": "must be str or None, not int",
     "output_type": "error",
     "traceback": [
      "\u001b[0;31m---------------------------------------------------------------------------\u001b[0m",
      "\u001b[0;31mTypeError\u001b[0m                                 Traceback (most recent call last)",
      "\u001b[0;32m<ipython-input-4-ffff568b950e>\u001b[0m in \u001b[0;36m<module>\u001b[0;34m()\u001b[0m\n\u001b[0;32m----> 1\u001b[0;31m \u001b[0ma\u001b[0m\u001b[0;34m,\u001b[0m\u001b[0mb\u001b[0m\u001b[0;34m,\u001b[0m\u001b[0mc\u001b[0m\u001b[0;34m=\u001b[0m\u001b[0;34m[\u001b[0m\u001b[0meval\u001b[0m\u001b[0;34m(\u001b[0m\u001b[0mx\u001b[0m\u001b[0;34m)\u001b[0m \u001b[0;32mfor\u001b[0m \u001b[0mx\u001b[0m \u001b[0;32min\u001b[0m \u001b[0minput\u001b[0m\u001b[0;34m(\u001b[0m\u001b[0;34m\"Enter 3 values:\"\u001b[0m\u001b[0;34m)\u001b[0m\u001b[0;34m.\u001b[0m\u001b[0msplit\u001b[0m\u001b[0;34m(\u001b[0m\u001b[0;34m(\u001b[0m\u001b[0;36m5\u001b[0m\u001b[0;34m)\u001b[0m\u001b[0;34m)\u001b[0m\u001b[0;34m]\u001b[0m\u001b[0;34m\u001b[0m\u001b[0;34m\u001b[0m\u001b[0m\n\u001b[0m",
      "\u001b[0;31mTypeError\u001b[0m: must be str or None, not int"
     ]
    }
   ],
   "source": [
    "a,b,c=[eval(x) for x in input(\"Enter 3 values:\").split((5))]"
   ]
  },
  {
   "cell_type": "code",
   "execution_count": 3,
   "metadata": {},
   "outputs": [
    {
     "name": "stdout",
     "output_type": "stream",
     "text": [
      "Enter 3 values:10512516\n",
      "<class 'int'>\n",
      "<class 'int'>\n",
      "<class 'int'>\n"
     ]
    }
   ],
   "source": [
    "#\n",
    "a,b,c=[eval(x) for x in input(\"Enter 3 values:\").split((\"5\"))]\n",
    "print(type(a))\n",
    "print(type(b))\n",
    "print(type(c))"
   ]
  },
  {
   "cell_type": "code",
   "execution_count": null,
   "metadata": {},
   "outputs": [],
   "source": []
  }
 ],
 "metadata": {
  "kernelspec": {
   "display_name": "Python 3",
   "language": "python",
   "name": "python3"
  },
  "language_info": {
   "codemirror_mode": {
    "name": "ipython",
    "version": 3
   },
   "file_extension": ".py",
   "mimetype": "text/x-python",
   "name": "python",
   "nbconvert_exporter": "python",
   "pygments_lexer": "ipython3",
   "version": "3.6.9"
  }
 },
 "nbformat": 4,
 "nbformat_minor": 2
}
