{
 "cells": [
  {
   "cell_type": "markdown",
   "metadata": {},
   "source": [
    "# finally:\n",
    "- It is not recommended to maintain clean up code(Resource deallocating code or Resource Releasing code) inside try block bcse there is no guarantee for the execution of every stmt inside try block always.\n",
    "- It is not recommended to maintain clean up code inside except block,bcse if there is no exception then except block wont be executed.\n",
    "- Hence we required place to maintain clean up code which should be executed always irrespective of whether exception raised or not raised and whether exception handled or not handled.Such type of best place is ntg but finally block.\n",
    "- Hence the main purpose of finally block is to maintain clean up code.\n",
    "- The speciality of final block  will be executed always whether exception raised or not raised,whether exception handled or not handled."
   ]
  },
  {
   "cell_type": "markdown",
   "metadata": {},
   "source": [
    "### Case-1:\n",
    "- If there is no exception"
   ]
  },
  {
   "cell_type": "code",
   "execution_count": 1,
   "metadata": {},
   "outputs": [
    {
     "name": "stdout",
     "output_type": "stream",
     "text": [
      "try\n",
      "finally\n"
     ]
    }
   ],
   "source": [
    "try:\n",
    "    print(\"try\")\n",
    "except:\n",
    "    print(\"except\")\n",
    "finally:\n",
    "    print(\"finally\")"
   ]
  },
  {
   "cell_type": "markdown",
   "metadata": {},
   "source": [
    "### Case-2:\n",
    "- If there is an  exception raised but handled."
   ]
  },
  {
   "cell_type": "code",
   "execution_count": 2,
   "metadata": {},
   "outputs": [
    {
     "name": "stdout",
     "output_type": "stream",
     "text": [
      "try\n",
      "except\n",
      "finally\n"
     ]
    }
   ],
   "source": [
    "try:\n",
    "    print(\"try\")\n",
    "    print(10/0)\n",
    "except ZeroDivisionError:\n",
    "    print(\"except\")\n",
    "finally:\n",
    "    print(\"finally\")"
   ]
  },
  {
   "cell_type": "markdown",
   "metadata": {},
   "source": [
    "### Case-3:\n",
    "- If there is an  exception raised but not handled.\n",
    "- Abnormal termination"
   ]
  },
  {
   "cell_type": "code",
   "execution_count": 5,
   "metadata": {},
   "outputs": [
    {
     "name": "stdout",
     "output_type": "stream",
     "text": [
      "try\n",
      "finally\n"
     ]
    },
    {
     "ename": "ZeroDivisionError",
     "evalue": "division by zero",
     "output_type": "error",
     "traceback": [
      "\u001b[0;31m---------------------------------------------------------------------------\u001b[0m",
      "\u001b[0;31mZeroDivisionError\u001b[0m                         Traceback (most recent call last)",
      "\u001b[0;32m<ipython-input-5-f304967fa22a>\u001b[0m in \u001b[0;36m<module>\u001b[0;34m()\u001b[0m\n\u001b[1;32m      1\u001b[0m \u001b[0;32mtry\u001b[0m\u001b[0;34m:\u001b[0m\u001b[0;34m\u001b[0m\u001b[0;34m\u001b[0m\u001b[0m\n\u001b[1;32m      2\u001b[0m     \u001b[0mprint\u001b[0m\u001b[0;34m(\u001b[0m\u001b[0;34m\"try\"\u001b[0m\u001b[0;34m)\u001b[0m\u001b[0;34m\u001b[0m\u001b[0;34m\u001b[0m\u001b[0m\n\u001b[0;32m----> 3\u001b[0;31m     \u001b[0mprint\u001b[0m\u001b[0;34m(\u001b[0m\u001b[0;36m10\u001b[0m\u001b[0;34m/\u001b[0m\u001b[0;36m0\u001b[0m\u001b[0;34m)\u001b[0m\u001b[0;34m\u001b[0m\u001b[0;34m\u001b[0m\u001b[0m\n\u001b[0m\u001b[1;32m      4\u001b[0m \u001b[0;32mexcept\u001b[0m \u001b[0mValueError\u001b[0m\u001b[0;34m:\u001b[0m\u001b[0;34m\u001b[0m\u001b[0;34m\u001b[0m\u001b[0m\n\u001b[1;32m      5\u001b[0m     \u001b[0mprint\u001b[0m\u001b[0;34m(\u001b[0m\u001b[0;34m\"except\"\u001b[0m\u001b[0;34m)\u001b[0m\u001b[0;34m\u001b[0m\u001b[0;34m\u001b[0m\u001b[0m\n",
      "\u001b[0;31mZeroDivisionError\u001b[0m: division by zero"
     ]
    }
   ],
   "source": [
    "try:\n",
    "    print(\"try\")\n",
    "    print(10/0)\n",
    "except ValueError:\n",
    "    print(\"except\")\n",
    "finally:\n",
    "    print(\"finally\")"
   ]
  },
  {
   "cell_type": "markdown",
   "metadata": {},
   "source": [
    "#### where the finally block wont be executed?\n",
    "- whenever we are executing the program suddenly power gone backup facility is not there then finally block wont be executed.(me)\n",
    "- Whenever we are using os._exit(0) function then Python Virtual Machine itself will be shutdown.In this particular case finally won't be executed(interviwer)\n",
    "- Here zero represents status code..0 means normal termination,non-zero means abnormal termination..internally pvm use this status code.. whether zero or non-zero there is no difference in program result..0 is for internal purpose for pvm..usually we are taking 0.. instead of this we can any value<br>\n",
    "**eg**: os._exit(-1)<br>\n",
    "os._exit(1000)<br>\n",
    "-eg: boat example-sailor-passenger asked for help -passenger said i am afraid of water then sailor replied i will always support-passenger entered-in the middle slowly water enter into boat..sinking into water--even sailor cant do anything-passenger asked sailor u said you are support me but you are not doing anything now-then sailor replied if i am safe definitely i will support--myself i am sinking ---i cant do anything....<br>\n",
    "here sailor acts as pvm,passenger as finally block... \n"
   ]
  },
  {
   "cell_type": "code",
   "execution_count": null,
   "metadata": {},
   "outputs": [],
   "source": [
    "#\n",
    "import os\n",
    "try:\n",
    "    print(\"try\")\n",
    "    os._exit(0)\n",
    "except ValueError:\n",
    "    print(\"except\")\n",
    "finally:\n",
    "    print(\"finally\")\n",
    "#o/p:try"
   ]
  },
  {
   "cell_type": "markdown",
   "metadata": {},
   "source": [
    "## finally vs Destructor\n",
    "- finally block  meant for  maintaining cleanup code which are related to try block resources\n",
    "- Destructor meant for maintaining cleanup code which are realted to object ..<br>\n",
    "                          (or)\n",
    "- finally block meant for cleanup activities related to try block.i.e.whatever resources we opened as the part of try block will be closed inside finally block.\n",
    "- Destructor meant for cleanup activities related to object.what ever resources associated with the object should be deallocated inside destructor,which will be executed before destroying object."
   ]
  },
  {
   "cell_type": "markdown",
   "metadata": {},
   "source": [
    "## Control flow in try-except-finally"
   ]
  },
  {
   "cell_type": "code",
   "execution_count": null,
   "metadata": {},
   "outputs": [],
   "source": [
    "try:\n",
    "    stmt-1\n",
    "    stmt-2\n",
    "    stmt-3\n",
    "except XYZ:\n",
    "    stmt-4\n",
    "finally:\n",
    "    stmt-5\n",
    "stmt-6"
   ]
  },
  {
   "cell_type": "markdown",
   "metadata": {},
   "source": [
    "- Case 1: If there is no exception\n",
    "  - 1,2,3,5,6 Normal Termination\n",
    "- Case 2: If an exception is raised at stmt-2 and matched except block is avalilable\n",
    "  - 1,4,5,6 Normal Termination\n",
    "- Case 3: If an exception is raised at stmt-2 and matched except block is not avalilable\n",
    "  - 1,5  Abnormal Termination\n",
    "- Case 4: If an exception is raised at stmt-4 then it is always abnormal termination but before that finally block will be executed.\n",
    "- Case 5: If an exception is raised at stmt-5 or stmt-6 then it is always abnormal termination."
   ]
  },
  {
   "cell_type": "markdown",
   "metadata": {},
   "source": [
    "### Nested try-except-finally blocks:\n",
    "- We can take try-except-finally blocks inside try or except or finally blocks.i.e nesting of try-except-finally is possible.\n",
    "- General Risky code we have to take inside outer try block and too much risky code we have to take inside inner try block.Inside inner try block if an exception raised then inner except block is responsible to handle.if it is unable to handle then outer except block is responsible to handle.<br>\n",
    "**Eg**:we are travelling on the road by car(risky)..there are some areas we are seeing board like accident prone area(too much risky)... take a special care...<br>"
   ]
  },
  {
   "cell_type": "markdown",
   "metadata": {},
   "source": [
    "what is the need of try inside of try block?<br>\n",
    "try:<br>\n",
    "    use oracle db<br>\n",
    "except:<br>\n",
    "    use mysql db<br>\n",
    "is it compulsory mysql works properly...?<br>\n",
    "now inside except we can use try block\n",
    "\n",
    "try:<br>\n",
    "    use oracle db <br>\n",
    "except:<br>\n",
    "        try:<br>\n",
    "            use mysql db<br>\n",
    "         except:<br>\n",
    "             use postcoresql\n"
   ]
  },
  {
   "cell_type": "code",
   "execution_count": 1,
   "metadata": {},
   "outputs": [
    {
     "name": "stdout",
     "output_type": "stream",
     "text": [
      "outer try block\n",
      "inner try block\n",
      "inner finally block\n",
      "outer finally block\n"
     ]
    }
   ],
   "source": [
    "#\n",
    "try: \n",
    "    print(\"outer try block\")\n",
    "    try:\n",
    "        print(\"inner try block\")\n",
    "    except ZeroDivisionError:\n",
    "        print(\"inner except block\")\n",
    "    finally:\n",
    "        print(\"inner finally block\")\n",
    "except:\n",
    "    print(\"outer except block\")\n",
    "finally:\n",
    "    print(\"outer finally block\")\n"
   ]
  },
  {
   "cell_type": "code",
   "execution_count": 11,
   "metadata": {},
   "outputs": [
    {
     "name": "stdout",
     "output_type": "stream",
     "text": [
      "outer try block\n",
      "inner try block\n",
      "inner except block\n",
      "inner finally block\n",
      "outer finally block\n"
     ]
    }
   ],
   "source": [
    "try: \n",
    "    print(\"outer try block\")\n",
    "    try:\n",
    "        print(\"inner try block\")\n",
    "        print(10/0)\n",
    "    except ZeroDivisionError:\n",
    "        print(\"inner except block\")\n",
    "    finally:\n",
    "        print(\"inner finally block\")\n",
    "except:\n",
    "    print(\"outer except block\")\n",
    "finally:\n",
    "    print(\"outer finally block\")"
   ]
  },
  {
   "cell_type": "code",
   "execution_count": 12,
   "metadata": {},
   "outputs": [
    {
     "name": "stdout",
     "output_type": "stream",
     "text": [
      "outer try block\n",
      "inner try block\n",
      "inner finally block\n",
      "outer except block\n",
      "outer finally block\n"
     ]
    }
   ],
   "source": [
    "try: \n",
    "    print(\"outer try block\")\n",
    "    try:\n",
    "        print(\"inner try block\")\n",
    "        print(10/0)\n",
    "    except ValueError:\n",
    "        print(\"inner except block\")\n",
    "    finally:\n",
    "        print(\"inner finally block\")\n",
    "except:\n",
    "    print(\"outer except block\")\n",
    "finally:\n",
    "    print(\"outer finally block\")\n"
   ]
  },
  {
   "cell_type": "code",
   "execution_count": 14,
   "metadata": {},
   "outputs": [
    {
     "name": "stdout",
     "output_type": "stream",
     "text": [
      "outer try block\n",
      "outer except block\n",
      "outer finally block\n"
     ]
    }
   ],
   "source": [
    "#here inner finally block wont be executed bcse of the control didn't entered in the try so we need not close...\n",
    "try: \n",
    "    print(\"outer try block\")\n",
    "    print(10/0)\n",
    "    try:\n",
    "        print(\"inner try block\")\n",
    "    except ZeroDivisionError:\n",
    "        print(\"inner except block\")\n",
    "    finally:\n",
    "        print(\"inner finally block\")\n",
    "except:\n",
    "    print(\"outer except block\")\n",
    "finally:\n",
    "    print(\"outer finally block\")\n"
   ]
  },
  {
   "cell_type": "markdown",
   "metadata": {},
   "source": [
    "- if the control not entered in the try block,then corresponding finally block wont be executed<br>\n",
    "- once control entered in the try block,compulsory the corresponding finally block will be executed.."
   ]
  },
  {
   "cell_type": "markdown",
   "metadata": {},
   "source": [
    "## Control flow in nested try-except-finally"
   ]
  },
  {
   "cell_type": "code",
   "execution_count": null,
   "metadata": {},
   "outputs": [],
   "source": [
    "try:\n",
    "    stmt-1\n",
    "    stmt-2\n",
    "    stmt-3\n",
    "    try:\n",
    "        stmt-4\n",
    "        stmt-5\n",
    "        stmt-6\n",
    "    except XXX:\n",
    "        stmt-7\n",
    "    finally:\n",
    "        stmt-8\n",
    "    stmt-9\n",
    "except YYY:\n",
    "    stmt-10\n",
    "finally:\n",
    "    stmt-11\n",
    "stmt-12"
   ]
  },
  {
   "cell_type": "markdown",
   "metadata": {},
   "source": [
    "- Case 1:If there is no exception\n",
    "   - 1,2,3,4,5,6,8,9,11,12\n",
    "- Case 2:If an exception raised at stmt-2 and the corresponding except block matched.\n",
    "   - 1,10,11,12 Normal Termination\n",
    "- Case 3:If an exception raised at stmt-2 and the corresponding except block not matched\n",
    "   - 1,11 Abnormal Termination\n",
    "- Case 4:If an exception raised at stmt-5 and inner except block matched \n",
    "   - 1,2,3,4,7,8,9,11,12 Normal Termination\n",
    "- Case 5:If an exception raised at stmt-5 and  inner except block  not matched but outer except block matched.\n",
    "  - 1,2,3,4,8,10,11,12 Normal Termination\n",
    "- Case 6:If an exception raised at stmt-5 and both inner and outer except blocks  are not matched.\n",
    "   - 1,2,3,4,8,11 Abnormal Termination\n",
    "- Case 7:If an exception raised at stmt-7 and corresponding except block matched \n",
    "   - 1,2,3,,,,8,10,11,12 Normal Termination.\n",
    "- Case 8:If an exception raised at stmt-7 and corresponding except block not matched \n",
    "   - 1,2,3,,,,8,11  Abnormal Termination.\n",
    "- Case 9:If an exception raised at stmt-8 and corresponding except block matched.\n",
    "   - 1,2,3,,,,,10,11,12 Normal Termination\n",
    "- Case 10:If an exception raised at stmt-8 and corresponding except block not matched.\n",
    "   - 1,2,3,,,,,11 Abnormal Termination\n",
    "- Case 11:If an exception raised at stmt-9 and corresponding except block matched.\n",
    "   - 1,2,3,,,,,8,10,11,12 Normal Termination\n",
    "- Case 12:If an exception raised at stmt-9 and corresponding except block not matched.\n",
    "   - 1,2,3,,,,,8,11 Abnormal Termination\n",
    "- Case 13:If an exception raised at stmt-10 then it is always abnormal termination but before abnormal termination finally block(stmt-11) will be executed\n",
    "- Case 14:If an exception raised at stmt-11 or stmt-12 then it is always abnormal termination."
   ]
  },
  {
   "cell_type": "markdown",
   "metadata": {},
   "source": [
    "## Note:\n",
    "- If the control entered into try block then compulsory finally block will be executed.If the control not entered into try block then finally block wont be executed."
   ]
  },
  {
   "cell_type": "code",
   "execution_count": null,
   "metadata": {},
   "outputs": [],
   "source": []
  }
 ],
 "metadata": {
  "kernelspec": {
   "display_name": "Python 3",
   "language": "python",
   "name": "python3"
  },
  "language_info": {
   "codemirror_mode": {
    "name": "ipython",
    "version": 3
   },
   "file_extension": ".py",
   "mimetype": "text/x-python",
   "name": "python",
   "nbconvert_exporter": "python",
   "pygments_lexer": "ipython3",
   "version": "3.6.9"
  }
 },
 "nbformat": 4,
 "nbformat_minor": 2
}
