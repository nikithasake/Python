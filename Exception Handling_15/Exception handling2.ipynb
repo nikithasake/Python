{
 "cells": [
  {
   "cell_type": "markdown",
   "metadata": {},
   "source": [
    "## How to print exception information:"
   ]
  },
  {
   "cell_type": "code",
   "execution_count": 13,
   "metadata": {},
   "outputs": [
    {
     "name": "stdout",
     "output_type": "stream",
     "text": [
      "The type of exception: <class 'ZeroDivisionError'>\n",
      "The type of exception: division by zero\n",
      "The type of exception: <class 'ZeroDivisionError'>\n",
      "exception class name: ZeroDivisionError\n",
      "The Description of execution: division by zero\n"
     ]
    }
   ],
   "source": [
    "try:\n",
    "    print(10/0)\n",
    "except ZeroDivisionError as msg:#msg is reference to exception obj\n",
    "    print(\"The type of exception:\",type(msg))\n",
    "    print(\"The type of exception:\",msg)\n",
    "    print(\"The type of exception:\",msg.__class__)\n",
    "    print(\"exception class name:\",msg.__class__.__name__)\n",
    "    print(\"The Description of execution:\",msg)"
   ]
  },
  {
   "cell_type": "code",
   "execution_count": 16,
   "metadata": {},
   "outputs": [
    {
     "name": "stdout",
     "output_type": "stream",
     "text": [
      "Enter first number:10\n",
      "Enter second number:ten\n",
      "the type of exception: <class 'ValueError'>\n",
      "The type of exception: <class 'ValueError'>\n",
      "exception class name: ValueError\n",
      "The Description of execution: invalid literal for int() with base 10: 'ten'\n"
     ]
    }
   ],
   "source": [
    "#eg:\n",
    "try:\n",
    "    x=int(input(\"Enter first number:\"))\n",
    "    y=int(input(\"Enter second number:\"))\n",
    "    print(\"result:\",x/y)\n",
    "except BaseException as msg:\n",
    "    print(\"the type of exception:\",type(msg))\n",
    "    print(\"The type of exception:\",msg.__class__)\n",
    "    print(\"exception class name:\",msg.__class__.__name__)#name of exception\n",
    "    print(\"The Description of execution:\",msg)"
   ]
  },
  {
   "cell_type": "markdown",
   "metadata": {},
   "source": [
    "### try with multiple except blocks:\n",
    "- The way of handling exception is varied from exception to exception.Hence for every exception type a seperate except block we have to provide i.e try with multiple except block is possible and recommended to use.\n",
    "- If try with multiple except blocks available then based on raised exception the corresponding except block will be executed.<br>\n",
    "- If try with multiple except blocks available then the order of these except blocks is important .Python interpreter will always consider from top to bottom until matched except block identified."
   ]
  },
  {
   "cell_type": "code",
   "execution_count": 4,
   "metadata": {},
   "outputs": [
    {
     "name": "stdout",
     "output_type": "stream",
     "text": [
      "Enter First Number: 10\n",
      "Enter Second Number: five\n",
      "please provide int value only\n"
     ]
    }
   ],
   "source": [
    "#\n",
    "try:\n",
    "    x=int(input(\"Enter First Number: \"))\n",
    "    y=int(input(\"Enter Second Number: \"))\n",
    "    print(x/y)\n",
    "except ZeroDivisionError :\n",
    "    print(\"Can't Divide with Zero\")\n",
    "except ValueError:\n",
    "    print(\"please provide int value only\")"
   ]
  },
  {
   "cell_type": "code",
   "execution_count": 5,
   "metadata": {},
   "outputs": [
    {
     "name": "stdout",
     "output_type": "stream",
     "text": [
      "ZeroDivisionError\n"
     ]
    }
   ],
   "source": [
    "#\n",
    "try:\n",
    "     print(10/0)\n",
    "except ZeroDivisionError :\n",
    "    print(\"ZeroDivisionError\")\n",
    "except ArithmeticError:\n",
    "    print(\"Arithmetic Error\")"
   ]
  },
  {
   "cell_type": "code",
   "execution_count": 6,
   "metadata": {},
   "outputs": [
    {
     "name": "stdout",
     "output_type": "stream",
     "text": [
      "Arithmetic Error\n"
     ]
    }
   ],
   "source": [
    "try:\n",
    "     print(10/0)\n",
    "except ArithmeticError:#it is parent of ZeroDivisionError so it handles child also\n",
    "    print(\"Arithmetic Error\")\n",
    "except ZeroDivisionError :\n",
    "    print(\"ZeroDivisionError\")"
   ]
  },
  {
   "cell_type": "markdown",
   "metadata": {},
   "source": [
    "## Single except block that can handle multiple exceptions:\n",
    "- if handling code is same for multiple exceptions instead of taking different except block,we can  take single except block that can handle all those exceptions..<br>\n",
    "except(Exception1,Exception2,.....) or <br>\n",
    "except(Exception1,Exception2,......) as msg:<br>\n",
    "- parenthesis are mandatory and this group of exceptions internally considered as tuple."
   ]
  },
  {
   "cell_type": "code",
   "execution_count": 4,
   "metadata": {},
   "outputs": [
    {
     "name": "stdout",
     "output_type": "stream",
     "text": [
      "Enter first number:10\n",
      "Enter second number0\n",
      "Raised Exception ZeroDivisionError\n",
      "Description of Exception: division by zero\n",
      "pls provide valid input only: division by zero\n"
     ]
    }
   ],
   "source": [
    "try:\n",
    "    x=int(input(\"Enter first number:\"))\n",
    "    y=int(input(\"Enter second number\"))\n",
    "    print(x/y)\n",
    "except (ZeroDivisionError, ValueError) as msg:\n",
    "    print(\"Raised Exception\",msg.__class__.__name__)\n",
    "    print(\"Description of Exception:\",msg)\n",
    "    print(\"pls provide valid input only:\",msg)"
   ]
  },
  {
   "cell_type": "code",
   "execution_count": 1,
   "metadata": {},
   "outputs": [
    {
     "name": "stdout",
     "output_type": "stream",
     "text": [
      "Enter first number:10\n",
      "Enter second numbernikki\n",
      "Raised Exception ValueError\n",
      "Description of Exception: invalid literal for int() with base 10: 'nikki'\n",
      "pls provide valid input only: invalid literal for int() with base 10: 'nikki'\n"
     ]
    }
   ],
   "source": [
    "try:\n",
    "    x=int(input(\"Enter first number:\"))\n",
    "    y=int(input(\"Enter second number\"))\n",
    "    print(x/y)\n",
    "except (ZeroDivisionError, ValueError) as msg:\n",
    "    print(\"Raised Exception\",msg.__class__.__name__)\n",
    "    print(\"Description of Exception:\",msg)\n",
    "    print(\"pls provide valid input only:\",msg)"
   ]
  },
  {
   "cell_type": "code",
   "execution_count": null,
   "metadata": {},
   "outputs": [],
   "source": []
  }
 ],
 "metadata": {
  "kernelspec": {
   "display_name": "Python 3",
   "language": "python",
   "name": "python3"
  },
  "language_info": {
   "codemirror_mode": {
    "name": "ipython",
    "version": 3
   },
   "file_extension": ".py",
   "mimetype": "text/x-python",
   "name": "python",
   "nbconvert_exporter": "python",
   "pygments_lexer": "ipython3",
   "version": "3.6.9"
  }
 },
 "nbformat": 4,
 "nbformat_minor": 2
}
