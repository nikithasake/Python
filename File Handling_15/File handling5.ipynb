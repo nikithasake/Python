{
 "cells": [
  {
   "cell_type": "markdown",
   "metadata": {},
   "source": [
    "## How to get information about a File:\n",
    "- We can get statistics of a file like size, last accessed time,last modified time etc by using stat() function of os module.\n",
    "- stats = os.stat(\"abc.txt\")\n",
    "- The statistics of a file includes the following parameters:"
   ]
  },
  {
   "cell_type": "markdown",
   "metadata": {},
   "source": [
    "\n",
    "1. st_mode==>Protection Bits\n",
    "2. st_ino==>Inode number\n",
    "3. st_dev===>device\n",
    "4. st_nlink===>no of hard links\n",
    "5. st_uid===>user id of owner\n",
    "6. st_gid==>group id of owner\n",
    "7. st_size===>size of file in bytes\n",
    "8. st_atime==>last access time\n",
    "9. st_mtime==>last modification time\n",
    "10. st_ctime==> Time of Most recent meta data change."
   ]
  },
  {
   "cell_type": "markdown",
   "metadata": {},
   "source": [
    "# Note:\n",
    "- st_atime, st_mtime and st_ctime returns the time as number of milli seconds since Jan 1st 1970 ,12:00AM. By using datetime module fromtimestamp() function,we can get exact date and time.\n",
    "- 1st jan 1970 12:00AM\n",
    "        |\n",
    "        |---------->from this date to that date how many millisec are there.. it will return\n",
    "        |\n",
    "        |\n",
    "- 8 july 2021 17:58(at this it modified)\n",
    "- why this specific time( 1st jan 1970 12:00AM)?\n",
    "    - This standard time is know as **Epoche**\n",
    "    - usually computer era started from 1st jan 1970 12:00AM(computer time started)\n",
    "    - so python and java etc also follow this."
   ]
  },
  {
   "cell_type": "code",
   "execution_count": 5,
   "metadata": {},
   "outputs": [
    {
     "name": "stdout",
     "output_type": "stream",
     "text": [
      "os.stat_result(st_mode=33188, st_ino=29233484, st_dev=2049, st_nlink=1, st_uid=1000, st_gid=1000, st_size=0, st_atime=1625745976, st_mtime=1625390909, st_ctime=1625390909)\n"
     ]
    }
   ],
   "source": [
    "#To print all statistics of file abc.txt:\n",
    "import os\n",
    "stats1=os.stat('abc.txt')\n",
    "print(stats1)# the result in milli seconds"
   ]
  },
  {
   "cell_type": "code",
   "execution_count": 4,
   "metadata": {},
   "outputs": [
    {
     "name": "stdout",
     "output_type": "stream",
     "text": [
      "File Size in Bytes: 0\n",
      "File last Accessed time: 2021-07-08 17:36:16.040995\n",
      "File last Modified time: 2021-07-04 14:58:29.494621\n"
     ]
    }
   ],
   "source": [
    "#\n",
    "import os\n",
    "from datetime import *\n",
    "stats1=os.stat('abc.txt')\n",
    "print('File Size in Bytes:',(stats1.st_size))\n",
    "print('File last Accessed time:',datetime.fromtimestamp(stats1.st_atime))\n",
    "print('File last Modified time:',datetime.fromtimestamp(stats1.st_mtime))"
   ]
  },
  {
   "cell_type": "code",
   "execution_count": null,
   "metadata": {},
   "outputs": [],
   "source": []
  },
  {
   "cell_type": "code",
   "execution_count": null,
   "metadata": {},
   "outputs": [],
   "source": []
  }
 ],
 "metadata": {
  "kernelspec": {
   "display_name": "Python 3",
   "language": "python",
   "name": "python3"
  },
  "language_info": {
   "codemirror_mode": {
    "name": "ipython",
    "version": 3
   },
   "file_extension": ".py",
   "mimetype": "text/x-python",
   "name": "python",
   "nbconvert_exporter": "python",
   "pygments_lexer": "ipython3",
   "version": "3.9.6"
  }
 },
 "nbformat": 4,
 "nbformat_minor": 2
}
