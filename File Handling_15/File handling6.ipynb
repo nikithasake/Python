{
 "cells": [
  {
   "cell_type": "markdown",
   "metadata": {},
   "source": [
    "## Pickling and Unpickling of Objects\n",
    "- The process of writing state of an object(the values of instance variable) to the file is called pickling and the process of reading state of an object from the file is called unpickling.\n",
    "- pickle module contains dump() function to perform pickling.\n",
    "  - pickle.dump(object,file)\n",
    "- pickle module contains load() function to perform unpickling\n",
    "  - pickle.load(file)\n",
    "### Adv:\n",
    "- we can save objects permanentely in the file for future purpose."
   ]
  },
  {
   "cell_type": "code",
   "execution_count": 1,
   "metadata": {},
   "outputs": [
    {
     "name": "stdout",
     "output_type": "stream",
     "text": [
      "100 niki 1000 mumbai\n"
     ]
    }
   ],
   "source": [
    "class Employee:#tv plan\n",
    "    def __init__(self,eno,ename,esal,eaddr):\n",
    "        self.eno=eno\n",
    "        self.ename=ename#\n",
    "        self.esal=esal\n",
    "        self.eaddr=eaddr\n",
    "e=Employee(100,\"niki\",1000,\"mumbai\")#tv #e is remote\n",
    "print(e.eno,e.ename,e.esal,e.eaddr)"
   ]
  },
  {
   "cell_type": "code",
   "execution_count": 4,
   "metadata": {
    "scrolled": true
   },
   "outputs": [
    {
     "name": "stdout",
     "output_type": "stream",
     "text": [
      "pickling of Employee object completed\n",
      "printing Employee information after unpickling\n",
      "<__main__.Employee object at 0x7fefaa7bb400>\n",
      "100 \t niki \t 1000 \t mumbai\n",
      "<class '__main__.Employee'>\n",
      "100\n"
     ]
    }
   ],
   "source": [
    "# Writing and Reading State of object by using pickle Module:\n",
    "#by using constructor we can assign the values to object\n",
    "import pickle\n",
    "class Employee:\n",
    "    def __init__(self,eno,ename,esal,eaddr):#constructor #these are jst value whatever we are passing\n",
    "        self.eno=eno\n",
    "        self.ename=ename#instance variables(self.eno,self.ename,self.esal,self.eaddr)\n",
    "        self.esal=esal\n",
    "        self.eaddr=eaddr\n",
    "    def display(self):\n",
    "        print(self.eno,'\\t', self.ename,'\\t',self.esal,'\\t',self.eaddr)\n",
    "with open('emp.dat','wb') as f:\n",
    "   e=Employee(100,\"niki\",1000,\"mumbai\")\n",
    "   pickle.dump(e,f)#saving Employee object(e) into the file\n",
    "   print(\"pickling of Employee object completed\")\n",
    "with open('emp.dat','rb')as f:\n",
    "    obj=pickle.load(f)#obj is contain Employee object\n",
    "    print(\"printing Employee information after unpickling\")\n",
    "    print(obj)\n",
    "    obj.display()#when we call display() it will print employee class display() bcse obj is Employee type.\n",
    "    print(type(obj))#<class '__main__.Employee'>\n",
    "    print(obj.eno)"
   ]
  },
  {
   "cell_type": "code",
   "execution_count": null,
   "metadata": {},
   "outputs": [],
   "source": [
    "# Writing Multiple Employee Objects to the file:"
   ]
  },
  {
   "cell_type": "code",
   "execution_count": null,
   "metadata": {},
   "outputs": [],
   "source": [
    "#emp.py\n",
    "class Employee:\n",
    "    def __init__(self,eno,ename,esal,eaddr):\n",
    "        self.eno=eno\n",
    "        self.ename=ename\n",
    "        self.esal=esal\n",
    "        self.eaddr=eaddr\n",
    "    def display(self):\n",
    "        print(self.eno,'\\t', self.ename,'\\t',self.esal,'\\t',self.eaddr)"
   ]
  },
  {
   "cell_type": "code",
   "execution_count": null,
   "metadata": {},
   "outputs": [],
   "source": [
    "#pick.py\n",
    "import emp,pickle\n",
    "f=open(\"emp.dat\",\"wb\")\n",
    "n=int(input(\"Enter no.of employees:\"))\n",
    "for i in range(n):\n",
    "        eno=int(input(\"Enter employee number:\"))\n",
    "        ename=input(\"Enter employee name:\")\n",
    "        esal=float(input(\"Enter employee salary\"))\n",
    "        eaddr=input(\"Enter Employee Address:\")\n",
    "        e=emp.Employee(eno,ename,esal,eaddr)\n",
    "        pickle.dump(e,f)\n",
    "# o/p:Enter no.of employees:2\n",
    "# Enter employee number:100\n",
    "# Enter employee name:nikki\n",
    "# Enter employee salary10000\n",
    "# Enter Employee Address:hyf\n",
    "# Enter employee number:200\n",
    "# Enter employee name:nimbu\n",
    "# Enter employee salary:20000\n",
    "# Enter Employee Address:dmm"
   ]
  },
  {
   "cell_type": "code",
   "execution_count": null,
   "metadata": {},
   "outputs": [],
   "source": [
    "#unpick.py\n",
    "import pick,pickle\n",
    "f=open(\"emp.dat\",\"rb\")\n",
    "print(\"Employee Details:\")\n",
    "obj1=pickle.load(f)\n",
    "obj2=pickle.load(f)\n",
    "obj3=pickle.load(f)\n",
    "obj4=pickle.load(f)\n",
    "obj5=pickle.load(f)\n",
    "o/p:EOFError:ran out of input"
   ]
  },
  {
   "cell_type": "code",
   "execution_count": null,
   "metadata": {},
   "outputs": [],
   "source": [
    "#unpick.py\n",
    "import pick,pickle\n",
    "f=open(\"emp.dat\",\"rb\")\n",
    "print(\"Employee Details:\")\n",
    "While True:\n",
    "    try:\n",
    "        obj=pickle.load(f)\n",
    "        obj.display()\n",
    "        print()\n",
    "    except EOFError:\n",
    "        print(\"All employees completed\")\n",
    "        break\n",
    "f.close()\n",
    "# o/p:Employee Details\n",
    "#     100 nikki 10000 hyd\n",
    "#     200 nimbu 20000 dmm\n",
    "#     All employees completed"
   ]
  },
  {
   "cell_type": "code",
   "execution_count": null,
   "metadata": {},
   "outputs": [],
   "source": [
    "#unpick.py\n",
    "import pick,pickle\n",
    "f=open(\"emp.dat\",\"rb\")\n",
    "print(\"Employee Details:\")\n",
    "While True:\n",
    "    try:\n",
    "        obj=pickle.load(f)\n",
    "        if obj.eno==100:\n",
    "            obj.display()\n",
    "            break\n",
    "    except EOFError:\n",
    "        print(\"All employees completed\")\n",
    "        break\n",
    "f.close()\n",
    "# o/p:Employee Details\n",
    "#     100 nikki 10000 hyd"
   ]
  }
 ],
 "metadata": {
  "kernelspec": {
   "display_name": "Python 3",
   "language": "python",
   "name": "python3"
  },
  "language_info": {
   "codemirror_mode": {
    "name": "ipython",
    "version": 3
   },
   "file_extension": ".py",
   "mimetype": "text/x-python",
   "name": "python",
   "nbconvert_exporter": "python",
   "pygments_lexer": "ipython3",
   "version": "3.6.9"
  }
 },
 "nbformat": 4,
 "nbformat_minor": 2
}
