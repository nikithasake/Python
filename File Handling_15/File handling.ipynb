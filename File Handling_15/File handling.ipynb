{
 "cells": [
  {
   "cell_type": "markdown",
   "metadata": {},
   "source": [
    "# File Handling\n",
    "- very small amount of information: **files**\n",
    "     - 100 student mobile numbers\n",
    "- huge information :**Data base**\n",
    "     - like icici customer transactions information\n",
    "- very very huge data : **Big data**\n",
    "     - like videos in youtube\n",
    "     - facebook posts\n",
    "     - twitter tweets\n",
    "- Data stored in python object is temporary(like list,dictionary,set etc....)"
   ]
  },
  {
   "cell_type": "markdown",
   "metadata": {},
   "source": [
    "- As the part of programming requirement,we have to store our data permanently for future purpose.For this requirement we should go for files.\n",
    "- Files are very common permanent storage areas to store our data."
   ]
  },
  {
   "cell_type": "markdown",
   "metadata": {},
   "source": [
    "### Types of files\n",
    "- **Text files**:to store character data eg.abc.txt(python program)\n",
    "- **Binary files**:to store binary data like images,videos,audio files,zip files etc."
   ]
  },
  {
   "cell_type": "markdown",
   "metadata": {},
   "source": [
    "### Opening file\n",
    "- Before peforming any operation(like read or write) on the file,we have to open that file.For this we should use python inbuilt function open()\n",
    "- But at the time of open,we have to specify mode,which represents the purpose of opening file.\n",
    "- f=open(filename,mode)\n",
    "- The allowed values for mode are 7:\n",
    "    - r,w,a,r+,w+,a+,x\n",
    "    - r is default mode.\n",
    "    - These are applicable for text files.\n",
    "- These modes are suffixed with 'b' then these represents for binary files.\n",
    "   - rb,wb,ab,r+b,w+b,a+b,xb"
   ]
  },
  {
   "cell_type": "markdown",
   "metadata": {},
   "source": [
    "### closing file\n",
    "- f=close()"
   ]
  },
  {
   "cell_type": "markdown",
   "metadata": {},
   "source": [
    "### Various properties of File Object:\n",
    "- We can get various details related to that file by using its properties.\n",
    "- f.name--->name of the opened file #f is object...f.name is variable\n",
    "- f.mode---->in which mode file is opened \n",
    "- f.closed--->returns boolean value\n",
    "- f.readable()---->Retruns boolean value indicates that whether file is readable or not\n",
    "- f.writable()----> Returns boolean value indicates that whether file is writable or not.\n"
   ]
  },
  {
   "cell_type": "code",
   "execution_count": 4,
   "metadata": {},
   "outputs": [
    {
     "name": "stdout",
     "output_type": "stream",
     "text": [
      "name: abc.txt\n",
      "mode: w\n",
      "closed: False\n",
      "Is readable: False\n",
      "Is writable: True\n",
      "closed: True\n"
     ]
    }
   ],
   "source": [
    "f=open('abc.txt','w')\n",
    "print('name:',f.name)\n",
    "print('mode:',f.mode)\n",
    "print('closed:',f.closed)\n",
    "print('Is readable:',f.readable())\n",
    "print('Is writable:',f.writable())\n",
    "f.close()\n",
    "print('closed:',f.closed)"
   ]
  },
  {
   "cell_type": "code",
   "execution_count": 6,
   "metadata": {},
   "outputs": [
    {
     "name": "stdout",
     "output_type": "stream",
     "text": [
      "name: abc1.txt\n",
      "mode: r\n",
      "closed: False\n",
      "Is readable: True\n",
      "Is writable False\n",
      "closed: True\n"
     ]
    }
   ],
   "source": [
    "#Default mode is read\n",
    "f=open('abc1.txt')\n",
    "print('name:',f.name)\n",
    "print('mode:',f.mode)\n",
    "print('closed:',f.closed)\n",
    "print('Is readable:',f.readable())\n",
    "print('Is writable',f.writable())\n",
    "f.close()\n",
    "print('closed:',f.closed)"
   ]
  },
  {
   "cell_type": "code",
   "execution_count": 7,
   "metadata": {},
   "outputs": [
    {
     "name": "stdout",
     "output_type": "stream",
     "text": [
      "name: abc.txt\n",
      "mode: r+\n",
      "closed: False\n",
      "Is readable: True\n",
      "Is writable True\n",
      "closed: True\n"
     ]
    }
   ],
   "source": [
    "f=open('abc.txt','r+')\n",
    "print('name:',f.name)\n",
    "print('mode:',f.mode)\n",
    "print('closed:',f.closed)\n",
    "print('Is readable:',f.readable())\n",
    "print('Is writable',f.writable())\n",
    "f.close()\n",
    "print('closed:',f.closed)"
   ]
  },
  {
   "cell_type": "code",
   "execution_count": 8,
   "metadata": {},
   "outputs": [
    {
     "ename": "FileExistsError",
     "evalue": "[Errno 17] File exists: 'abc.txt'",
     "output_type": "error",
     "traceback": [
      "\u001b[0;31m---------------------------------------------------------------------------\u001b[0m",
      "\u001b[0;31mFileExistsError\u001b[0m                           Traceback (most recent call last)",
      "\u001b[0;32m<ipython-input-8-86373651dae4>\u001b[0m in \u001b[0;36m<module>\u001b[0;34m()\u001b[0m\n\u001b[1;32m      1\u001b[0m \u001b[0;31m# if the file is already exist in x mode then it will show fileExitsError\u001b[0m\u001b[0;34m\u001b[0m\u001b[0;34m\u001b[0m\u001b[0;34m\u001b[0m\u001b[0m\n\u001b[0;32m----> 2\u001b[0;31m \u001b[0mf\u001b[0m\u001b[0;34m=\u001b[0m\u001b[0mopen\u001b[0m\u001b[0;34m(\u001b[0m\u001b[0;34m'abc.txt'\u001b[0m\u001b[0;34m,\u001b[0m\u001b[0;34m'x'\u001b[0m\u001b[0;34m)\u001b[0m\u001b[0;34m\u001b[0m\u001b[0;34m\u001b[0m\u001b[0m\n\u001b[0m\u001b[1;32m      3\u001b[0m \u001b[0mprint\u001b[0m\u001b[0;34m(\u001b[0m\u001b[0;34m'name:'\u001b[0m\u001b[0;34m,\u001b[0m\u001b[0mf\u001b[0m\u001b[0;34m.\u001b[0m\u001b[0mname\u001b[0m\u001b[0;34m)\u001b[0m\u001b[0;34m\u001b[0m\u001b[0;34m\u001b[0m\u001b[0m\n\u001b[1;32m      4\u001b[0m \u001b[0mprint\u001b[0m\u001b[0;34m(\u001b[0m\u001b[0;34m'mode:'\u001b[0m\u001b[0;34m,\u001b[0m\u001b[0mf\u001b[0m\u001b[0;34m.\u001b[0m\u001b[0mmode\u001b[0m\u001b[0;34m)\u001b[0m\u001b[0;34m\u001b[0m\u001b[0;34m\u001b[0m\u001b[0m\n\u001b[1;32m      5\u001b[0m \u001b[0mprint\u001b[0m\u001b[0;34m(\u001b[0m\u001b[0;34m'closed:'\u001b[0m\u001b[0;34m,\u001b[0m\u001b[0mf\u001b[0m\u001b[0;34m.\u001b[0m\u001b[0mclosed\u001b[0m\u001b[0;34m)\u001b[0m\u001b[0;34m\u001b[0m\u001b[0;34m\u001b[0m\u001b[0m\n",
      "\u001b[0;31mFileExistsError\u001b[0m: [Errno 17] File exists: 'abc.txt'"
     ]
    }
   ],
   "source": [
    "# if the file is already exist in x mode then it will show fileExitsError \n",
    "f=open('abc.txt','x')\n",
    "print('name:',f.name)\n",
    "print('mode:',f.mode)\n",
    "print('closed:',f.closed)\n",
    "print('Is readable:',f.readable())\n",
    "print('Is writable',f.writable())\n",
    "f.close()\n",
    "print('closed:',f.closed)"
   ]
  },
  {
   "cell_type": "code",
   "execution_count": null,
   "metadata": {},
   "outputs": [],
   "source": []
  }
 ],
 "metadata": {
  "kernelspec": {
   "display_name": "Python 3",
   "language": "python",
   "name": "python3"
  },
  "language_info": {
   "codemirror_mode": {
    "name": "ipython",
    "version": 3
   },
   "file_extension": ".py",
   "mimetype": "text/x-python",
   "name": "python",
   "nbconvert_exporter": "python",
   "pygments_lexer": "ipython3",
   "version": "3.6.9"
  }
 },
 "nbformat": 4,
 "nbformat_minor": 2
}
